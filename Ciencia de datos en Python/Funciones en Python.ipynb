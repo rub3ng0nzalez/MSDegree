{
 "cells": [
  {
   "cell_type": "markdown",
   "metadata": {},
   "source": [
    "## Tarea\n",
    "Ruben Gonzalez   20003314\n",
    "**Funciones**: \n",
    "Tambien llamadas sub-rutinas, procedimientos o metodos en otros lenguajes, esta tarea consiste en investigar:\n",
    "* funciones en Python \n",
    "* parámetros posicionales \n",
    "* parámetros nombrados \n",
    "* retorno de múltiples valores\n",
    "* funciones como objetos y como parámetros de otras funciones\n",
    "* funciones anonimas o lambda\n",
    " "
   ]
  },
  {
   "cell_type": "markdown",
   "metadata": {},
   "source": [
    "### Funciones en Python\n",
    "La definición de una función en Python no difiere de la definición utilizada en otros lenguajes, sin embargo tiene ciertas particularidades muy propias de Python pero conceptualmente es lo mismo.\n",
    "\n",
    "Una función es una sub-rutina o bloque de código asociado a un nombre, puede recibir cero o \"n\" argumentos y siempre devuelve un valor. Las funciones pueden ser llamadas cuantas veces sean necesarias por lo que promueven la reutilización de código. "
   ]
  },
  {
   "cell_type": "markdown",
   "metadata": {},
   "source": [
    "La Sintaxis utilizada para declarar una función es la siguiente:\n",
    "\n",
    "###### def NOMBRE(LISTA_DE_PARAMETROS):\n",
    "######    \"\"\"DOCSTRING_DE_FUNCION\"\"\"\n",
    "######    SENTENCIAS\n",
    "######    RETURN [EXPRESION]\n",
    "    \n",
    "* NOMBRE, es el nombre de la función.\n",
    "* LISTA_DE_PARAMETROS, es la lista de parámetros que puede recibir una función.\n",
    "* DOCSTRING_DE_FUNCION, es la cadena de caracteres usada para documentar la función.\n",
    "* SENTENCIAS, es el bloque de sentencias en código fuente Python que realizar cierta operación dada.\n",
    "* RETURN, es la sentencia return en código Python.\n",
    "* EXPRESION, es la expresión o variable que devuelve la sentencia return."
   ]
  },
  {
   "cell_type": "code",
   "execution_count": 4,
   "metadata": {},
   "outputs": [],
   "source": [
    "def mifuncionSuma(a, b):\n",
    "    return a + b"
   ]
  },
  {
   "cell_type": "markdown",
   "metadata": {},
   "source": [
    "### Parámetros posicionales\n",
    "Se les llama parámetros posicionales cuando una función recibe por orden los parametros que se le registran. A continuación un ejemplo usando nuestra función definida:"
   ]
  },
  {
   "cell_type": "code",
   "execution_count": 5,
   "metadata": {},
   "outputs": [
    {
     "name": "stdout",
     "output_type": "stream",
     "text": [
      "9\n"
     ]
    }
   ],
   "source": [
    "print(mifuncionSuma(4,5))"
   ]
  },
  {
   "cell_type": "markdown",
   "metadata": {},
   "source": [
    "En este caso a toma el valor de 4 y b toma el valor de 5 pues esas son las posiciones que ocupan según la definición de la función."
   ]
  },
  {
   "cell_type": "markdown",
   "metadata": {},
   "source": [
    "#### Parámetros posicionales en funciones con argumentos indeterminados\n",
    "Cuando se tienen funciones con argumentos indeterminados se deben administrar internamente cada uno de estos valores utilizando una estructura de datos para iterar y utilizar estos argumentos. A continuación una función con este ejemplo:"
   ]
  },
  {
   "cell_type": "code",
   "execution_count": 25,
   "metadata": {},
   "outputs": [],
   "source": [
    "def mifuncionSumaIndeterminados(*args):\n",
    "    suma=0\n",
    "    for arg in args:\n",
    "        if type(arg) == int:\n",
    "            suma+=arg\n",
    "        elif type(arg) == list:\n",
    "            suma=sum(arg)\n",
    "    return suma"
   ]
  },
  {
   "cell_type": "code",
   "execution_count": 26,
   "metadata": {},
   "outputs": [
    {
     "data": {
      "text/plain": [
       "11"
      ]
     },
     "execution_count": 26,
     "metadata": {},
     "output_type": "execute_result"
    }
   ],
   "source": [
    "mifuncionSumaIndeterminados(4,5,2,[9,2])"
   ]
  },
  {
   "cell_type": "markdown",
   "metadata": {},
   "source": [
    "### Parámetros nombrados\n",
    "Se les llama parámetros nombrados cuando una función recibe sus parámetros asignando directamente el valor a cada uno de estos. Aqui lo importante es asignarle valores a todos los parametros de la función sin importar el orden. A continuación un ejemplo usando nuestra función definida:"
   ]
  },
  {
   "cell_type": "code",
   "execution_count": 6,
   "metadata": {},
   "outputs": [
    {
     "name": "stdout",
     "output_type": "stream",
     "text": [
      "5\n"
     ]
    }
   ],
   "source": [
    "print(mifuncionSuma(b=3,a=2))"
   ]
  },
  {
   "cell_type": "markdown",
   "metadata": {},
   "source": [
    "#### Parámetros nombrados en funciones con argumentos indeterminados\n",
    "Como se debe asignar textualmente qué valores debe tener qué parámetro, en un contexto indeterminado estos valores se deben gestionar mediante un diccionario siendo su llave el nombre del parámetro a registrar y su valor correspondería al valor que tendrá asignada esta llave. Cabe mencionar que los nombres de los parámetros no pueden repetirse. A continuación un ejemplo de esto:"
   ]
  },
  {
   "cell_type": "code",
   "execution_count": 27,
   "metadata": {},
   "outputs": [],
   "source": [
    "def funcionSumaNombradosIndeterminados(**args):\n",
    "    total={}\n",
    "    for arg in args:\n",
    "        total[arg]=mifuncionSumaIndeterminados(args[arg])\n",
    "    return total"
   ]
  },
  {
   "cell_type": "code",
   "execution_count": 28,
   "metadata": {},
   "outputs": [
    {
     "data": {
      "text/plain": [
       "{'i': 2, 'j': 9, 'p': 30}"
      ]
     },
     "execution_count": 28,
     "metadata": {},
     "output_type": "execute_result"
    }
   ],
   "source": [
    "funcionSumaNombradosIndeterminados(i=2,j=[5,4],p=[10,20])"
   ]
  },
  {
   "cell_type": "markdown",
   "metadata": {},
   "source": [
    "### Retorno de multiples valores\n",
    "Las funciones en Python son capaces de retornar multiples valores sparados por comas, a continuacion un ejemplo de esto:"
   ]
  },
  {
   "cell_type": "code",
   "execution_count": 29,
   "metadata": {},
   "outputs": [],
   "source": [
    "def ejemplo(a):\n",
    "    return a**2,a**3,\"Texto de ejemplo\""
   ]
  },
  {
   "cell_type": "code",
   "execution_count": 31,
   "metadata": {},
   "outputs": [
    {
     "data": {
      "text/plain": [
       "(16, 64, 'Texto de ejemplo')"
      ]
     },
     "execution_count": 31,
     "metadata": {},
     "output_type": "execute_result"
    }
   ],
   "source": [
    "ejemplo(4)"
   ]
  },
  {
   "cell_type": "markdown",
   "metadata": {},
   "source": [
    "### Funciones como objetos y como parametros de otras funciones\n",
    "Python suele manejar tambien las funciones como objetos, por lo tanto se pueden declarar funciones que utilicen como parametros otras funciones. A estas funciones se les llaman funciones de orden alto o Higher order functions. A continuacion un ejemplo del uso de estas funciones:"
   ]
  },
  {
   "cell_type": "code",
   "execution_count": 32,
   "metadata": {},
   "outputs": [],
   "source": [
    "def shout(text):  \n",
    "    return text.upper()  \n",
    "  \n",
    "def whisper(text):  \n",
    "    return text.lower()  \n",
    "  \n",
    "def greet(func):  \n",
    "    # storing the function in a variable  \n",
    "    greeting = func(\"Hi, I am created by a function passed as an argument.\")  \n",
    "    print(greeting) "
   ]
  },
  {
   "cell_type": "code",
   "execution_count": 33,
   "metadata": {},
   "outputs": [
    {
     "name": "stdout",
     "output_type": "stream",
     "text": [
      "HI, I AM CREATED BY A FUNCTION PASSED AS AN ARGUMENT.\n",
      "hi, i am created by a function passed as an argument.\n"
     ]
    }
   ],
   "source": [
    "greet(shout)  \n",
    "greet(whisper)"
   ]
  },
  {
   "cell_type": "markdown",
   "metadata": {},
   "source": [
    "### Funciones anonimas o lambda\n",
    "Una funcion anonima consiste en una funcion que no tiene nombre, es decir sin utilizar una definicion formal usando la palabra reservada def. Se usan este tipo de funciones cuando la funcion consiste unicamente en una sola expresion. De lo contrario seguiremos utilizando la declaracion formal con def. Para la creacion de este tipo de funciones utilizamos la palabra reservada lambda, a continuacion se ejemplifica esto primero creando la funcion con def y como esto es optimizado usando una funcion lambda."
   ]
  },
  {
   "cell_type": "code",
   "execution_count": 37,
   "metadata": {},
   "outputs": [
    {
     "name": "stdout",
     "output_type": "stream",
     "text": [
      "16\n",
      "400\n"
     ]
    }
   ],
   "source": [
    "#Utilizando una definicion formal de la funcion\n",
    "def cuadrado(numero):\n",
    "    return numero**2\n",
    "print(cuadrado(4))\n",
    "print(cuadrado(20))"
   ]
  },
  {
   "cell_type": "markdown",
   "metadata": {},
   "source": [
    "la sintaxis es la siguiente:\n",
    "\n",
    "< Variable > = lambda < Parametros > : < expresion que retorna la funcion >"
   ]
  },
  {
   "cell_type": "code",
   "execution_count": 39,
   "metadata": {},
   "outputs": [
    {
     "name": "stdout",
     "output_type": "stream",
     "text": [
      "16\n",
      "400\n"
     ]
    }
   ],
   "source": [
    "potencia2 = lambda numero: numero ** 2\n",
    "print(potencia2(4))\n",
    "print(potencia2(20))"
   ]
  },
  {
   "cell_type": "markdown",
   "metadata": {},
   "source": [
    "###  E-grafia:\n",
    "* https://entrenamiento-python-basico.readthedocs.io/es/latest/leccion5/funciones.html\n",
    "* https://www.geeksforgeeks.org/passing-function-as-an-argument-in-python/"
   ]
  },
  {
   "cell_type": "code",
   "execution_count": null,
   "metadata": {},
   "outputs": [],
   "source": []
  }
 ],
 "metadata": {
  "kernelspec": {
   "display_name": "Python 3",
   "language": "python",
   "name": "python3"
  },
  "language_info": {
   "codemirror_mode": {
    "name": "ipython",
    "version": 3
   },
   "file_extension": ".py",
   "mimetype": "text/x-python",
   "name": "python",
   "nbconvert_exporter": "python",
   "pygments_lexer": "ipython3",
   "version": "3.7.4"
  }
 },
 "nbformat": 4,
 "nbformat_minor": 2
}
