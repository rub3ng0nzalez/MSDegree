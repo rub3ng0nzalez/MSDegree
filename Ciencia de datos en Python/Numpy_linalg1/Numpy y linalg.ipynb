{
 "cells": [
  {
   "cell_type": "markdown",
   "metadata": {},
   "source": [
    "# NumPy y algebra lineal(parte 1) \n",
    "\n",
    "\n",
    "* Su nombre se deriva de Numeric Python\n",
    "* Es una libreria amplia:   user guide de casi 200 pagina, reference manual mas de 1500\n",
    "    * np. <tab> para ver opciones\n",
    "    * np.lookfor? , help(np.lookfor)\n",
    "    * np.lookfor(“cosine”)\n",
    "    * np.cos? , help(np.cos)\n",
    "* Paquete fundamental de computación científica en Python y báse para otros paquetes mas específicos y/o avanzados\n",
    "* Performance superior, parecido a lenguajes compilados con la facilidad de Python\n",
    "* ndarrays :  tipo básico de objeto, corresponde al tipo de objeto matemático conocido como Tensor\n",
    "    * Arreglos multidimensionales\n",
    "    * Mutables como las listas\n",
    "    * Podemos hacer indexing y slicing sobre ellos\n",
    "\n",
    "* Tipo de dato y tamaño fijado en creación lo cual le permite aplicar optimizaciones: El usar el mismo tipo y tamaño definido permite asegurar que todos los objetos utilizan el mismo tamaño de memoria y esto permite realizar muchas operaciones pre-compiladas de C. Esto permite realizar operaciones mucho mas efcientemente y con menos código que con listas.\n",
    "* Operaciones vectorizadas vs por ciclos como ventaja de numpy(simplicidad y eficiencia) **Nota**: Siempre usar vectorizacion en el curso y en la carrera.\n",
    "\n",
    "## ¿Por que estudiamos en ciencia de datos álgebra lineal?\n",
    "\n",
    "Algebra lineal es una bella rama de la matemáticas que tiene muchas aplicaciones en diversas áreas, en ciencias de la computación y ciencia de datos tiene también innumerables aplicaciones  pero existe un motivo por el cual se vuelve escencial :\n",
    "\n",
    "**Todo algoritmo, modelo matemático, estadístico ,  AI , etc trabaja con números y colecciones de estos**, aún los modelos para variables categóricas transforman de algún modo estas a una representación numérica, en ciencia de datos llamamos **embedding** al proceso de convertir datos no numéricos a representaciones numéricas y a las estructuras de datos resultantes(comunmente vectores) **embeddings** .\n",
    "\n",
    "Podemos pensar entonces que el algebra lineal y sus estructuras entonces nos proveen una **manera de representar y trabajar información en la computadora**\n",
    "\n",
    "<img src=\"https://upload.wikimedia.org/wikipedia/commons/thumb/4/45/Components_stress_tensor.svg/300px-Components_stress_tensor.svg.png\"/>\n",
    "\n",
    "### Ejemplos:\n",
    "\n",
    "* Computer Vision: imagenes son tensores\n",
    "* NLP: palabras son vectores.\n",
    "\n",
    "Algebra lineal por si solo es un campo amplio(algunas universidades dan 2 cursos de 1 semestre o mas del tema) y no podemos cubrir todo lo que nos gustaría en esta clase, pero existe gran variedad de recursos en internet y es un tema que agrega valor en tu carrera de data science, especialmente si tu interés principal es ML y AI. Por ejemplo:\n",
    "\n",
    "* Uno de los algoritmos mas famosos de ML: support VECTOR machine\n",
    "* Uno de los metodos mas populares de AI en la actualidad es \"deep learning\" que se basa en transformaciones lineales (multiplicación de matrices).\n",
    "* Los frameworks mas populares de ML tienen al algebra lineal como elemento base:\n",
    "    * TensorFlow incluso basa su nombre en la estructura básica: Tensor\n",
    "    * PyTorch: en Pytorch, la estructura de datos básica es precisamente el Tensor\n",
    "    \n",
    "\n",
    "### ¿NumPy mas que algebra lineal?\n",
    "\n",
    "Aun que NumPy se basa mucho y es muy útil para algebra lineal y estructuras de esta rama, también es útil para realizar otros tipos de operaciones numéricas y es la base  para otros paquetes mas específicos , por ejemplo podemos usar NumPy también para:\n",
    "\n",
    "* Numeros aleatorios: NumPy provee capacidades para trabajar con números aleatorios y colecciones de esto, por ejemplo generación de numeros aleatorios de muchas distribuciones de probabiliad(muestreo/sampleo) escencial en estadística y modelación y simulación.\n",
    "* Transormadas de Fourier\n",
    "* Scipy: paquete basado en Python que extiende muchas de sus capacidades con capacidades adicionales como:\n",
    "    * Integración y solución de ecuaciones diferenciales.\n",
    "    * Encontrar raices de funciones y optimización numérica.\n",
    "    * Algebra lineal adicional.\n",
    "    \n",
    "    \n",
    "    \n",
    "Para usar NumPy es necesario instalarlo, si usamos Anaconda debemos instalarlo en el ambiente deseado, en linea de comandos esto se gra facilmente con:\n",
    "\n",
    "**conda install numpy**"
   ]
  },
  {
   "cell_type": "markdown",
   "metadata": {},
   "source": [
    "# Instalar numpy desde el jupyter notebook en el ambiente actual de Anaconda\n",
    "# esto puede ser realizado de manera tradicional con linea de comandos o Anaconda Navigator\n",
    "import sys\n",
    "!conda install --yes --prefix {sys.prefix} numpy\n",
    "\n",
    "# ! ejecuta un comando del sistema desde el notebook, el comando ejecutado fue:\n",
    "print(\"Comando ejecutado:conda install --yes --prefix {\"+sys.prefix+\"} numpy\")"
   ]
  },
  {
   "cell_type": "markdown",
   "metadata": {},
   "source": [
    "Para poder utilizar numpy debemos importar el paquete, es casi un estandar de la industria importarlo bajo el alias **\"np\"**"
   ]
  },
  {
   "cell_type": "code",
   "execution_count": 6,
   "metadata": {},
   "outputs": [],
   "source": [
    "import numpy as np"
   ]
  },
  {
   "cell_type": "markdown",
   "metadata": {},
   "source": [
    "## Escalares y Vectores (Arreglos de una dimension): \n",
    "\n",
    "La pieza clave y fundamental para el algebra lineal es el **vector** (pero aun que el vector es la base, hay un objeto mas general que este como veremos mas adelante.).\n",
    "\n",
    "<img src=\"NumPy_algebra_lineal/Selección_999(2003).png\">\n",
    "\n",
    "<img src=\"NumPy_algebra_lineal/fisica_cs.png\">\n",
    "\n",
    "Matemáticamente el Tensor es la entidad mas general cuando hablamos de arreglos o colecciones de elementos y que comunmente representan coordenadas en un plano posiblemente multidimensional, por lo tanto al traducirlo a software científico un tensor es también la estructura mas general para trabajar ,y es la estructura de datos básica en la cual almacenaremos información, **NumPy logra esto a través del objeto ndarray**(tensorflow usa tf.Tensor, PyTorch usa  torch.Tensor).\n",
    "\n",
    "<img src=\"https://upload.wikimedia.org/wikipedia/commons/thumb/4/45/Components_stress_tensor.svg/300px-Components_stress_tensor.svg.png\"/>\n",
    "\n",
    "<img src=\"https://wikimedia.org/api/rest_v1/media/math/render/svg/4885fc71da8be5094bf42dd592882a4deb94ff90\">\n",
    "\n",
    "\n",
    "\n",
    "Ya que el tensor es el tipo general , los objetos con los que comunmente hemos trabajado como vectores y matrices deben ser un caso específico de tensores, por lo tanto podemos pensar que un tensor es: **una generalización de vectores y matrices que podemos conceptualizar o entender como una arreglo multidimensional**\n",
    "\n",
    "Si todos estos son tensores, debe haber una propiedad de los tensores que los distinga, esta propiedad es llamada **rango del tensor** y se define como el número de indices o coordenadas necesarias para referenciar a un elemento del tensor así tenemos:\n",
    "\n",
    "* Escalar: tensor de rango 0\n",
    "* Vector: tensores de rango 1\n",
    "\n",
    "Ilustración 1:\n",
    "\n",
    "<img src=\"https://cdn-images-1.medium.com/max/1600/1*pUr-9ctuGamgjSwoW_KU-A.png\">\n",
    "\n",
    "Ilustración 2:\n",
    "\n",
    "<img src=\"https://cdn-images-1.medium.com/max/2000/1*_D5ZvufDS38WkhK9rK32hQ.jpeg\">\n",
    "\n",
    "\n",
    "Podemos pensar en 2 representaciones básicas de un vector:\n",
    "* Gráfica: representando un punto en el espacio\n",
    "* Lista de números : representando las coordenadas ,o compoenentes de el punto en el espacio correspondiente.\n",
    "\n",
    "<img src=\"NumPy_algebra_lineal/3d_vec.png\">\n",
    "\n",
    "En DS nos interesa mayormente la segunda representación,pero en algunos casos resulta útil utilizar la primera para poder visualizar patrones en datos que estemos analizando.\n",
    "\n",
    "<img src=\"NumPy_algebra_lineal/patron_eliptico.png\">\n",
    "\n",
    "**Nota**:Algunas operaciones no estan definidas matemáticamente  , pero NumPy las provee ya que resultan útiles en programación aún si no existen en matemática, por ejemplo: \n",
    "* Sumar un escalar a un vector.\n",
    "* Multiplicar 2 vectores elemento por elemento."
   ]
  },
  {
   "cell_type": "markdown",
   "metadata": {},
   "source": [
    "### Rango y dimensión \n",
    "\n",
    "Como dijimos , ya que vectores y matrices son Tensores, necesitamos una característica que los distinga, esto es matemáticamente el **rango** del Tensor , en el mundo de NumPy obtenemos esto al usar la característica **ndim** sobre un Tensor dado.\n",
    "\n",
    "Si pensamos en la representación gráfica podemos pensar que el rango nos indica cuantos \"ejes\" posee el espacio sobre el que se define el tensor ,y necesitamos un número por cada eje para especificar cierto vector,  desde la perspectiva de la colección de números esto nos indica cuantos indices necesitamos para especificar o acceder cierto punto.\n",
    "\n",
    "La dimensión o forma del tensor nos indica cuantos elementos este puede almacenar distribuidas en cada uno de sus \"ejes\".\n",
    "\n",
    "Para vectores, el rango  es 1 , y la dimensión es cuantos elementos el vector posee. \n",
    "\n",
    "Resumen\n",
    "* ndim = entero indicando el rango de un tensor(cuantos ejes posee)\n",
    "* shape = tupla indicando la forma(cuantos elementos posee el tensor en cada uno de sus ejes )"
   ]
  },
  {
   "cell_type": "code",
   "execution_count": 2,
   "metadata": {},
   "outputs": [
    {
     "name": "stdout",
     "output_type": "stream",
     "text": [
      "1\n",
      "(6,)\n",
      "1\n"
     ]
    }
   ],
   "source": [
    "x = np.array([1,2,3,4,5,6])\n",
    "\n",
    "print(x.ndim)\n",
    "print(x.shape)\n",
    "print(len(x.shape)) #forma de obtener el rango del tensor a partir de su dimension"
   ]
  },
  {
   "cell_type": "markdown",
   "metadata": {},
   "source": [
    "Por el momento estamos interesados en vectores, pero vale la pena ver como ndim y shape varían para una matriz."
   ]
  },
  {
   "cell_type": "code",
   "execution_count": 3,
   "metadata": {},
   "outputs": [
    {
     "name": "stdout",
     "output_type": "stream",
     "text": [
      "2\n",
      "(2, 3)\n",
      "2\n"
     ]
    }
   ],
   "source": [
    "x = np.array([[1,2,3],\n",
    "              [4,5,6]])\n",
    "\n",
    "print(x.ndim)\n",
    "print(x.shape)\n",
    "print(len(x.shape))  #forma de obtener el rango del tensor a partir de su dimension"
   ]
  },
  {
   "cell_type": "markdown",
   "metadata": {},
   "source": [
    "Tanto ndim como shape pueden ser usadas en cualquier expresión valida, por ejemplo asignarlas a variables "
   ]
  },
  {
   "cell_type": "code",
   "execution_count": 4,
   "metadata": {},
   "outputs": [
    {
     "name": "stdout",
     "output_type": "stream",
     "text": [
      "Filas de x: 2\n",
      "Columnas de x: 3\n"
     ]
    }
   ],
   "source": [
    "forma_x = x.shape\n",
    "\n",
    "print(\"Filas de x:\",forma_x[0])\n",
    "print(\"Columnas de x:\",forma_x[1])"
   ]
  },
  {
   "cell_type": "markdown",
   "metadata": {},
   "source": [
    "### Constructores de vectores\n",
    "\n",
    "NumPy provee diversas formas para crear o construir vectores, por ejemplo:\n",
    "* np.linspace\n",
    "* np.array\n",
    "* np.arange\n",
    "* np.zeros\n",
    "* np.ones\n",
    "\n",
    "Existen otras pero estas son posiblemente las mas comunes. Puedes consultar las otras disponibles en: https://docs.scipy.org/doc/numpy/reference/routines.array-creation.html"
   ]
  },
  {
   "cell_type": "code",
   "execution_count": 5,
   "metadata": {},
   "outputs": [
    {
     "data": {
      "text/plain": [
       "array([0.        , 0.10204082, 0.20408163, 0.30612245, 0.40816327,\n",
       "       0.51020408, 0.6122449 , 0.71428571, 0.81632653, 0.91836735,\n",
       "       1.02040816, 1.12244898, 1.2244898 , 1.32653061, 1.42857143,\n",
       "       1.53061224, 1.63265306, 1.73469388, 1.83673469, 1.93877551,\n",
       "       2.04081633, 2.14285714, 2.24489796, 2.34693878, 2.44897959,\n",
       "       2.55102041, 2.65306122, 2.75510204, 2.85714286, 2.95918367,\n",
       "       3.06122449, 3.16326531, 3.26530612, 3.36734694, 3.46938776,\n",
       "       3.57142857, 3.67346939, 3.7755102 , 3.87755102, 3.97959184,\n",
       "       4.08163265, 4.18367347, 4.28571429, 4.3877551 , 4.48979592,\n",
       "       4.59183673, 4.69387755, 4.79591837, 4.89795918, 5.        ])"
      ]
     },
     "execution_count": 5,
     "metadata": {},
     "output_type": "execute_result"
    }
   ],
   "source": [
    "x = np.linspace(0,5,50,endpoint=True,retstep=False)\n",
    "\n",
    "x"
   ]
  },
  {
   "cell_type": "code",
   "execution_count": 6,
   "metadata": {},
   "outputs": [
    {
     "data": {
      "text/plain": [
       "array([0. , 0.1, 0.2, 0.3, 0.4, 0.5, 0.6, 0.7, 0.8, 0.9, 1. , 1.1, 1.2,\n",
       "       1.3, 1.4, 1.5, 1.6, 1.7, 1.8, 1.9, 2. , 2.1, 2.2, 2.3, 2.4, 2.5,\n",
       "       2.6, 2.7, 2.8, 2.9, 3. , 3.1, 3.2, 3.3, 3.4, 3.5, 3.6, 3.7, 3.8,\n",
       "       3.9, 4. , 4.1, 4.2, 4.3, 4.4, 4.5, 4.6, 4.7, 4.8, 4.9])"
      ]
     },
     "execution_count": 6,
     "metadata": {},
     "output_type": "execute_result"
    }
   ],
   "source": [
    "x = np.linspace(0,5,50,False,retstep=False)\n",
    "\n",
    "x"
   ]
  },
  {
   "cell_type": "code",
   "execution_count": 7,
   "metadata": {},
   "outputs": [
    {
     "name": "stdout",
     "output_type": "stream",
     "text": [
      "[0.         0.10204082 0.20408163 0.30612245 0.40816327 0.51020408\n",
      " 0.6122449  0.71428571 0.81632653 0.91836735 1.02040816 1.12244898\n",
      " 1.2244898  1.32653061 1.42857143 1.53061224 1.63265306 1.73469388\n",
      " 1.83673469 1.93877551 2.04081633 2.14285714 2.24489796 2.34693878\n",
      " 2.44897959 2.55102041 2.65306122 2.75510204 2.85714286 2.95918367\n",
      " 3.06122449 3.16326531 3.26530612 3.36734694 3.46938776 3.57142857\n",
      " 3.67346939 3.7755102  3.87755102 3.97959184 4.08163265 4.18367347\n",
      " 4.28571429 4.3877551  4.48979592 4.59183673 4.69387755 4.79591837\n",
      " 4.89795918 5.        ] 0.10204081632653061\n"
     ]
    }
   ],
   "source": [
    "xc,dx = np.linspace(0,5,50,endpoint=True,retstep=True)\n",
    "\n",
    "print(xc,dx)"
   ]
  },
  {
   "cell_type": "code",
   "execution_count": 8,
   "metadata": {},
   "outputs": [
    {
     "data": {
      "text/plain": [
       "array([0.  , 1.25, 2.5 , 3.75, 5.  ])"
      ]
     },
     "execution_count": 8,
     "metadata": {},
     "output_type": "execute_result"
    }
   ],
   "source": [
    "x = np.linspace(0,5,5,True)\n",
    "\n",
    "x"
   ]
  },
  {
   "cell_type": "markdown",
   "metadata": {},
   "source": [
    "**np.arange**\n",
    "Esta función es parecida a la función **range** que vimos en ciclos, pero genera un vector de NumPy que puede ser utilizdo en otras expresiones o ser asignado a variables para posterior uso.\n",
    "\n",
    "\n",
    "arange(start=0,stop,step = 1,dtype=None) \n",
    "\n",
    "Intenta determinar el tipo de datos a partir de los parametros pero se puede sobreescribir si lo especificamos con dtype"
   ]
  },
  {
   "cell_type": "code",
   "execution_count": 9,
   "metadata": {},
   "outputs": [
    {
     "data": {
      "text/plain": [
       "(array([1, 2, 3, 4, 5, 6, 7, 8, 9]),\n",
       " array([2.+0.j, 3.+0.j, 4.+0.j, 5.+0.j, 6.+0.j, 7.+0.j, 8.+0.j, 9.+0.j]))"
      ]
     },
     "execution_count": 9,
     "metadata": {},
     "output_type": "execute_result"
    }
   ],
   "source": [
    "yo = np.arange(1,10)\n",
    "yoc = np.arange(2,10,dtype = complex)\n",
    "\n",
    "yo,yoc"
   ]
  },
  {
   "cell_type": "markdown",
   "metadata": {},
   "source": [
    "En muchos casos es útil crear vectores inicializados con 0s o 1s ,o bien cuando no nos importa su valor inicial podemos especificar que sean creados  como vácios.\n",
    "\n",
    "Esto lo logramos con:\n",
    "* np.zeros\n",
    "* np.ones\n",
    "* np.empty"
   ]
  },
  {
   "cell_type": "code",
   "execution_count": 10,
   "metadata": {},
   "outputs": [
    {
     "data": {
      "text/plain": [
       "array([0., 0., 0., 0., 0.])"
      ]
     },
     "execution_count": 10,
     "metadata": {},
     "output_type": "execute_result"
    }
   ],
   "source": [
    "np.zeros(5)"
   ]
  },
  {
   "cell_type": "code",
   "execution_count": 11,
   "metadata": {},
   "outputs": [
    {
     "data": {
      "text/plain": [
       "array([1., 1., 1., 1., 1.])"
      ]
     },
     "execution_count": 11,
     "metadata": {},
     "output_type": "execute_result"
    }
   ],
   "source": [
    "np.ones(5)"
   ]
  },
  {
   "cell_type": "code",
   "execution_count": 12,
   "metadata": {},
   "outputs": [
    {
     "data": {
      "text/plain": [
       "array([1.25, 2.5 , 3.75, 5.  ])"
      ]
     },
     "execution_count": 12,
     "metadata": {},
     "output_type": "execute_result"
    }
   ],
   "source": [
    "np.empty(4)  # el valor varia, experimentemos cambiando el tipo con ndtype = <tipo>"
   ]
  },
  {
   "cell_type": "markdown",
   "metadata": {},
   "source": [
    "**Vectores a partir de datos existentes**\n",
    "Podemos también construir vectores  a partir de datos existentes(por ejempro listas de números, u otros vectores)  o bien especificar explicitamente con que valores queremos que un vector sea creado.\n",
    "\n",
    "Esto lo logramos basicamente con 2 funciones(nuevamente existen otras a explorar):\n",
    "\n",
    "* np.array\n",
    "* np.copy"
   ]
  },
  {
   "cell_type": "code",
   "execution_count": 13,
   "metadata": {},
   "outputs": [
    {
     "data": {
      "text/plain": [
       "array([2., 3., 4.])"
      ]
     },
     "execution_count": 13,
     "metadata": {},
     "output_type": "execute_result"
    }
   ],
   "source": [
    "lista = [2,3,4.0]\n",
    "\n",
    "x = np.array(lista)\n",
    "\n",
    "x"
   ]
  },
  {
   "cell_type": "code",
   "execution_count": 14,
   "metadata": {},
   "outputs": [
    {
     "data": {
      "text/plain": [
       "<Figure size 640x480 with 1 Axes>"
      ]
     },
     "metadata": {},
     "output_type": "display_data"
    }
   ],
   "source": [
    "import matplotlib.pyplot as plt\n",
    "\n",
    "a = np.array([1,2])\n",
    "plt.arrow(0,0,a[0],a[1],head_width=0.1, head_length=0.1)\n",
    "plt.xlim(-1,1.5)\n",
    "plt.ylim(-2,2.5)\n",
    "plt.show()"
   ]
  },
  {
   "cell_type": "code",
   "execution_count": 15,
   "metadata": {},
   "outputs": [
    {
     "name": "stdout",
     "output_type": "stream",
     "text": [
      "[1 2 3 4 5 6 7 8 9]\n"
     ]
    }
   ],
   "source": [
    "vector = np.array([1,2,3,4,5,6,7,8,9])\n",
    "\n",
    "print(vector)"
   ]
  },
  {
   "cell_type": "code",
   "execution_count": 16,
   "metadata": {},
   "outputs": [
    {
     "name": "stdout",
     "output_type": "stream",
     "text": [
      "[1 2 3 4 5 6 7 8 9]\n"
     ]
    }
   ],
   "source": [
    "nuevo_vector = vector.copy()\n",
    "\n",
    "print(nuevo_vector)"
   ]
  },
  {
   "cell_type": "markdown",
   "metadata": {},
   "source": [
    "El siguiente ejemplo crea una copia de un vector m cambiando(truncando) su tipo de dato a entero."
   ]
  },
  {
   "cell_type": "code",
   "execution_count": 17,
   "metadata": {},
   "outputs": [
    {
     "data": {
      "text/plain": [
       "(array([9. , 8.2, 7.4, 6.6, 5.8, 5. , 4.2, 3.4, 2.6, 1.8, 1. ]),\n",
       " array([9, 8, 7, 6, 5, 5, 4, 3, 2, 1, 1]))"
      ]
     },
     "execution_count": 17,
     "metadata": {},
     "output_type": "execute_result"
    }
   ],
   "source": [
    "m = np.linspace(9,1,11)\n",
    "\n",
    "m_int = np.array(m,dtype = int)\n",
    "\n",
    "m,m_int"
   ]
  },
  {
   "cell_type": "markdown",
   "metadata": {},
   "source": [
    "**Construir vector como otro vector**\n",
    "\n",
    "Existen algunas funiones que nos permiten crear vectores \"como\" otros vectores,es decir de la misma forma pero con posibles diferentes valores:\n"
   ]
  },
  {
   "cell_type": "code",
   "execution_count": 18,
   "metadata": {},
   "outputs": [
    {
     "name": "stdout",
     "output_type": "stream",
     "text": [
      "[1. 2. 3.]\n",
      "[0. 0. 0.]\n",
      "[1. 1. 1.]\n",
      "[1.64123117e-303 3.44304530e-085 3.32161119e-309]\n"
     ]
    }
   ],
   "source": [
    "x = np.linspace(1,3,3)\n",
    "\n",
    "ceros = np.zeros_like(x)\n",
    "unos = np.ones_like(x)\n",
    "vacio = np.empty_like(x)\n",
    "\n",
    "print(x)\n",
    "print(ceros)\n",
    "print(unos)\n",
    "print(vacio)"
   ]
  },
  {
   "cell_type": "markdown",
   "metadata": {},
   "source": [
    "En otros casos algunas funciones tambien devuelven un array  A de la misma forma de otro B pero con el resultado de aplicar alguna función a este, por ejemplo, el siguiente caso devuelve un nuevo vector con la forma de un vector \"x\" resultado de calcular el seno trigonoḿetrico sobre cada uno de sus elementos.:"
   ]
  },
  {
   "cell_type": "code",
   "execution_count": 19,
   "metadata": {},
   "outputs": [
    {
     "data": {
      "text/plain": [
       "array([0.84147098, 0.90929743, 0.14112001])"
      ]
     },
     "execution_count": 19,
     "metadata": {},
     "output_type": "execute_result"
    }
   ],
   "source": [
    "np.sin(x)"
   ]
  },
  {
   "cell_type": "markdown",
   "metadata": {},
   "source": [
    "Similar a la concatenación de listas (con +) podemos  concatenar 2 vectores y crear uno nuevo usando np.hstack((tupla))"
   ]
  },
  {
   "cell_type": "code",
   "execution_count": 20,
   "metadata": {},
   "outputs": [],
   "source": [
    "#?np.hstack"
   ]
  },
  {
   "cell_type": "code",
   "execution_count": 21,
   "metadata": {},
   "outputs": [
    {
     "data": {
      "text/plain": [
       "array([1, 2, 3, 2, 3, 4])"
      ]
     },
     "execution_count": 21,
     "metadata": {},
     "output_type": "execute_result"
    }
   ],
   "source": [
    "a = np.array((1,2,3))\n",
    "b = np.array((2,3,4))\n",
    "np.hstack((a,b))"
   ]
  },
  {
   "cell_type": "markdown",
   "metadata": {},
   "source": [
    "**ejercicio** : en data science y programación científica es común necesitar vectores con valores dentro de cierto intervalo, pero con sub-intervalos internos con diference espaciamiento ,por ejemplo:\n",
    "\n",
    "[0.  , 0.1 , 0.2 , 0.3 , 0.4 , 0.5 , 0.51, 0.52, 0.53, 0.54, 0.55,\n",
    "       0.56, 0.57, 0.58, 0.59, 0.6 , 0.7 , 0.8 , 0.9 , 1.  ]\n",
    "       \n",
    "El primer sub-intervalo incrementa de 0.1 en 0.1 , el segundo de 0.01 en 0.01 , y el tercero de 0.1 en 0.1 nuevamente.\n",
    "\n",
    "Usando unicamente NumPy crea un vector de este tipo con el nombre xs .\n",
    "\n",
    "**nota**: no es permitido usar ciclos, debe realizarse con operaciones \"vectorizadas\" de numpy"
   ]
  },
  {
   "cell_type": "code",
   "execution_count": 22,
   "metadata": {},
   "outputs": [],
   "source": [
    "# tu codigo aqui (~ 5 lineas de codigo):\n"
   ]
  },
  {
   "cell_type": "markdown",
   "metadata": {},
   "source": [
    "### Operaciones y Aritmetica Vectorial\n",
    "\n",
    "Utiliza los operadores aritmeticos ya conocidos +,-,*,/, %\n",
    "\n",
    "Las operaciones vectoriales básicas son:\n",
    "* Sumar 2 vectores.\n",
    "<img src=\"NumPy_algebra_lineal/suma_vec.png\">\n",
    "* Multiplicar 1 vector por un número: el efecto de esto es cambiar el tamaño del vector, es decir \"escalarlo\" y por eso en algebra lineal llamamos a un único número : **escalar**. El **span**,alcance o extención de un vector es el conjunto de todos los posibles vectores obtenidos por multiplicación escalar sobre este vector.\n",
    "<img src=\"NumPy_algebra_lineal/mult_vec.png\">\n",
    "\n",
    "<img src=\"NumPy_algebra_lineal/adicion_mult_escalar.png\">\n",
    "\n",
    "**Nota**:Algunas operaciones no estan definidas matemáticamente  , pero NumPy las provee ya que resultan útiles en programación aún si no existen en matemática, por ejemplo: \n",
    "\n",
    "* Multiplicar 2 vectores entre si\n",
    "* Sumar 1 vector con un escalar"
   ]
  },
  {
   "cell_type": "code",
   "execution_count": 23,
   "metadata": {},
   "outputs": [
    {
     "name": "stdout",
     "output_type": "stream",
     "text": [
      "[ 5 -4]\n"
     ]
    }
   ],
   "source": [
    "v = np.array([3,-5])\n",
    "w = np.array([2,1])\n",
    "\n",
    "c = v + w\n",
    "\n",
    "print(c)"
   ]
  },
  {
   "cell_type": "code",
   "execution_count": 24,
   "metadata": {},
   "outputs": [
    {
     "data": {
      "text/plain": [
       "array([  6, -10])"
      ]
     },
     "execution_count": 24,
     "metadata": {},
     "output_type": "execute_result"
    }
   ],
   "source": [
    "2*v"
   ]
  },
  {
   "cell_type": "code",
   "execution_count": 25,
   "metadata": {},
   "outputs": [
    {
     "data": {
      "text/plain": [
       "array([  6, -10])"
      ]
     },
     "execution_count": 25,
     "metadata": {},
     "output_type": "execute_result"
    }
   ],
   "source": [
    "np.array([2,2])*v"
   ]
  },
  {
   "cell_type": "code",
   "execution_count": 26,
   "metadata": {},
   "outputs": [
    {
     "name": "stdout",
     "output_type": "stream",
     "text": [
      "[ 1 -6]\n",
      "[ 6 -5]\n",
      "[ 1.5 -5. ]\n",
      "[1 0]\n"
     ]
    }
   ],
   "source": [
    "resta = v - w\n",
    "multiplicacion = v*w\n",
    "division = v/w\n",
    "div_mod = v%w\n",
    "\n",
    "print(resta)\n",
    "print(multiplicacion)\n",
    "print(division)\n",
    "print(div_mod)"
   ]
  },
  {
   "cell_type": "markdown",
   "metadata": {},
   "source": [
    "Los operadores +=,-=,*=,/=,%=  , también son validos en vectores con NumPy y son mas eficientes, por ejemplo:\n",
    "\n",
    "a+=b\n",
    "\n",
    "Es mas eficiente que\n",
    "\n",
    "a = a + b\n",
    "\n",
    "Por lo tanto se recomienda usarlos siempre que sea posible :"
   ]
  },
  {
   "cell_type": "code",
   "execution_count": 27,
   "metadata": {},
   "outputs": [
    {
     "data": {
      "text/plain": [
       "array([3, 5, 7])"
      ]
     },
     "execution_count": 27,
     "metadata": {},
     "output_type": "execute_result"
    }
   ],
   "source": [
    "a+=b\n",
    "a"
   ]
  },
  {
   "cell_type": "markdown",
   "metadata": {},
   "source": [
    "Python utiliza un mecanismo conocido como **\"broadcasting\"** para algunas operaciones cuando el tamaño de los operandos no coincide, por ejemplo el caso de una suma entre un vector y un escalar, broadcasting \"expande\" el escalar para que tenga la misma forma que el vector (replicando el valor escalar) y luego aplica la operacion **\"elementwise\"** (elemento a elemento)"
   ]
  },
  {
   "cell_type": "code",
   "execution_count": 28,
   "metadata": {},
   "outputs": [
    {
     "data": {
      "text/plain": [
       "array([5, 7, 9])"
      ]
     },
     "execution_count": 28,
     "metadata": {},
     "output_type": "execute_result"
    }
   ],
   "source": [
    "a + 2 #operación no definida matemáticamente pero posible con broadcasting"
   ]
  },
  {
   "cell_type": "code",
   "execution_count": 29,
   "metadata": {},
   "outputs": [
    {
     "data": {
      "text/plain": [
       "array([-2,  0,  2])"
      ]
     },
     "execution_count": 29,
     "metadata": {},
     "output_type": "execute_result"
    }
   ],
   "source": [
    "a -5 #operación no definida matemáticamente pero posible con broadcasting "
   ]
  },
  {
   "cell_type": "code",
   "execution_count": 30,
   "metadata": {},
   "outputs": [
    {
     "data": {
      "text/plain": [
       "array([ 9, 15, 21])"
      ]
     },
     "execution_count": 30,
     "metadata": {},
     "output_type": "execute_result"
    }
   ],
   "source": [
    "a * 3 # operación si definida matemáticamente esta \"escalando\" el vector en factor de 3"
   ]
  },
  {
   "cell_type": "code",
   "execution_count": 31,
   "metadata": {},
   "outputs": [
    {
     "data": {
      "text/plain": [
       "array([1.        , 1.66666667, 2.33333333])"
      ]
     },
     "execution_count": 31,
     "metadata": {},
     "output_type": "execute_result"
    }
   ],
   "source": [
    "# operacion no definida directamente pero ya que la division se reduce \n",
    "#a un producto por una fraccion, si esta definida a traves del \"escalado\"  dl vector en factor de 0.33333\n",
    "a / 3 "
   ]
  },
  {
   "cell_type": "markdown",
   "metadata": {},
   "source": [
    "**Ejemplo aplicado a DS** :  Suavizado de curvas a través de promedios de n-puntos(medias móviles):\n",
    "\n",
    "<img src=\"https://www.luisllamas.es/wp-content/uploads/2017/03/arduino-filtro-media-movil-ventana-5.png\">\n",
    "\n",
    "En el mundo la data comunmente posee \"ruido\" por lo cual muchas veces antes de hacer análisis o modelado se necesita \"suavizar\" las curvas para reducir este ruido, una técnica muy sencilla es  el suavizado por promedio de n-puntos(también llamado media móvil), esto significa que para cada punto Xn obtenemos una versión transformada(suavizada) que consiste en promediar n puntos cercanos a el, por ejemplo para n= 3 tenemos que:\n",
    "\n",
    "$$XS_{n}  =  \\frac{X_{n-1}+X_{n}+X_{n+1}}{3}$$"
   ]
  },
  {
   "cell_type": "code",
   "execution_count": 32,
   "metadata": {
    "scrolled": true
   },
   "outputs": [
    {
     "name": "stdout",
     "output_type": "stream",
     "text": [
      "[-0.06631568 -0.02032549 -0.04293624  0.02492556  0.07026874 -0.06266079\n",
      "  0.16109502  0.07676686  0.09366612 -0.02623648  0.05655339 -0.03048469\n",
      "  0.00316949 -0.06900322  0.29101333  0.15258482 -0.11767227  0.24804825\n",
      "  0.32807576 -0.05578056 -0.04863309  0.14658748  0.14353498  0.10605021\n",
      "  0.24171026  0.14508304  0.24834105 -0.08050562  0.16623224  0.18347564\n",
      "  0.38968526  0.06122476  0.11048121  0.17576626  0.28921456  0.14077769\n",
      "  0.34947891  0.16914555  0.14262393 -0.07900986  0.30000046  0.15909629\n",
      "  0.1974977   0.18562433  0.27264214  0.22799058  0.39638666  0.16995428\n",
      "  0.08109652  0.45968966  0.31975521  0.28291953  0.36653749  0.54389424\n",
      "  0.31630002  0.45139528  0.40905109  0.49084267  0.45813452  0.33661315\n",
      "  0.5125255   0.38765257  0.35830233  0.52789653  0.53305647  0.429233\n",
      "  0.28267679  0.21160847  0.44893748  0.48824159  0.33811253  0.30594982\n",
      "  0.37457859  0.29610745  0.4770593   0.27625925  0.39028551  0.58295046\n",
      "  0.46511214  0.39398973  0.54470775  0.40529152  0.34119759  0.42774681\n",
      "  0.59104703  0.42140551  0.60257316  0.60145855  0.66304933  0.58648401\n",
      "  0.57358249  0.52242873  0.70433998  0.67787507  0.56817314  0.65073428\n",
      "  0.54419258  0.66569055  0.63806678  0.63706906  0.55153502  0.58296645\n",
      "  0.61457508  0.78752277  0.56152307  0.56685593  0.33801166  0.75850158\n",
      "  0.48874809  0.56767589  0.4095952   0.67627775  0.53741117  0.84984736\n",
      "  0.54343128  0.73851515  0.72590542  0.58941924  0.65264547  0.68362297\n",
      "  0.83117398  0.95652186  0.61958032  0.71412559  0.67430521  0.70230769\n",
      "  0.52740615  0.69568425  0.69094465  0.64201127  0.6725317   0.53478081\n",
      "  0.75582985  0.7168053   0.76492908  0.60536042  0.8197847   0.84122634\n",
      "  0.78404985  0.8783179   0.9171914   0.85042328  0.90014179  0.68287158\n",
      "  0.72450351  0.86807384  0.81551437  0.79419014  0.90999213  0.92132602\n",
      "  0.88134995  0.75096448  0.74114531  0.96658726  0.86029995  0.84938812\n",
      "  1.09601095  0.94126608  0.65770283  0.94902861  0.82247304  0.8899488\n",
      "  0.84530081  0.89574121  0.92416845  0.81878981  0.77230863  0.88497341\n",
      "  1.00217437  0.78468743  0.65841354  1.07806931  0.85532136  0.96022569\n",
      "  0.89354659  0.87169274  0.76830696  0.94864051  0.91301837  0.81266097\n",
      "  1.08644194  0.78131979  0.97563126  0.83752321  0.94625313  0.91098602\n",
      "  1.21309256  0.90649752  1.00048853  0.93440236  0.91598056  0.9805712\n",
      "  0.96883738  0.90690078  0.97644214  1.09958239  0.98299877  0.77402521\n",
      "  0.88645855  1.05892861  0.92428895  0.91089769  0.78248375  1.04140901\n",
      "  1.128089    1.0115506   1.0367687   1.03566593  0.93346387  0.9919881\n",
      "  0.80914104  0.95600839  0.95042498  0.84838675  1.02498172  1.08999413\n",
      "  0.7758233   0.94796254  0.93808698  1.22319039  0.89447934  1.02854437\n",
      "  0.94363173  0.96511402  1.04792055  0.9589781   0.94622191  1.01639012\n",
      "  0.95554352  0.92948499  0.96316348  0.85881549  0.94486444  1.05227169\n",
      "  0.90580721  1.11293366  1.01406131  1.10514978  1.08832309  0.96229514\n",
      "  1.02738245  0.95034677  0.94369879  1.04478436  1.1622776   0.94196233\n",
      "  0.90986219  0.88836807  1.13296631  1.11046765  1.04439229  1.05390984\n",
      "  0.99485131  0.99883603  0.84297321  1.06668598  0.84447928  0.96369244\n",
      "  1.03094172  1.06772983  1.0814518   1.06439556  0.97415679  0.99691457\n",
      "  1.04632207  1.01682345  0.99404055  1.11181731  1.08389447  1.03689469\n",
      "  1.11749251  0.8919758   1.03781775  0.91876512  0.73793649  0.98067562\n",
      "  0.99607742  0.9121531   0.97950921  1.02238951  0.98774412  0.9621485\n",
      "  0.78257257  0.97450662  1.12746818  1.00519011  0.90071118  0.82658199\n",
      "  0.9019158   0.82105168  0.91821993  0.73614694  1.01997906  1.01658185\n",
      "  1.03536795  1.01552296  0.95731083  0.97584015  0.92499696  0.91760202\n",
      "  0.86881465  0.80403077  0.97699727  1.06861303  1.1203202   0.75214315\n",
      "  1.04014376  0.99676505  0.91799202  0.85583839  0.88631511  0.86752731\n",
      "  0.92020209  1.01808056  0.90797427  0.95432778  0.84957183  0.88282234\n",
      "  0.80466456  1.01210108  0.95605727  0.79515732  1.08512369  0.95096332\n",
      "  0.79948164  0.86888708  0.7909907   0.9548814   0.66522371  0.91356148\n",
      "  0.86534568  0.84601179  0.85048135  0.80316371  0.80430083  0.67286753\n",
      "  0.80514759  0.76525334  0.82389648  0.70772439  0.70695028  0.74082001\n",
      "  0.7982451   0.96239508  0.61229399  0.84050251  0.83345273  0.77040339\n",
      "  0.64633448  0.55577921  0.67116693  0.9847263   1.00746106  0.81486045\n",
      "  0.69021805  0.83632978  0.71917927  0.73505327  0.68597005  0.78185078\n",
      "  0.8004507   0.88827024  0.80837167  0.75918295  0.70819405  0.80986505\n",
      "  0.9134441   0.77328091  0.80530965  0.81352525  0.72291162  0.83908256\n",
      "  0.71186022  0.79136418  0.66921188  0.70961637  0.67734747  1.02207281\n",
      "  0.84386728  0.60249313  0.53843828  0.68972598  0.82447034  0.68445775\n",
      "  0.66873431  0.7658632   0.61562324  0.66117361  0.5838521   0.69102056\n",
      "  0.63614534  0.66305683  0.51590862  0.58055439  0.76079667  0.65485156\n",
      "  0.59319339  0.63944672  0.37360964  0.64853204  0.44107963  0.64152757\n",
      "  0.65563142  0.78904407  0.61088774  0.47665732  0.73168387  0.4299077\n",
      "  0.58957436  0.75517792  0.46954644  0.48363502  0.28294224  0.6902285\n",
      "  0.38121631  0.6464852   0.43519107  0.46987313  0.35607783  0.58073691\n",
      "  0.61217428  0.50747064  0.33281409  0.39977084  0.50471744  0.38241363\n",
      "  0.57636218  0.40186979  0.67729901  0.24581343  0.35357021  0.32290855\n",
      "  0.53886703  0.43548007  0.60246866  0.5037206   0.41449748  0.49310533\n",
      "  0.53282015  0.56479711  0.63389532  0.31281321  0.35366947  0.45170989\n",
      "  0.42086345  0.32170618  0.28726835  0.26347119  0.20485917  0.36853009\n",
      "  0.32774825  0.4218782   0.29677457  0.17970674  0.33653248  0.35670034\n",
      "  0.22663731  0.14357122  0.3353477   0.11328053  0.2633465   0.25837758\n",
      "  0.25533897  0.23129342  0.20869926  0.2235245   0.20319119  0.22097781\n",
      "  0.27024885  0.04449803  0.13721224  0.26812788  0.33041411 -0.03013806\n",
      "  0.25133313 -0.06807622  0.16159718  0.10928649  0.26124855 -0.09587012\n",
      "  0.2128801   0.07457129 -0.02874086  0.03690453  0.17129359  0.22199634\n",
      "  0.03323222  0.02609288  0.20006561  0.02098263  0.08911096 -0.050362\n",
      "  0.06634662  0.01870167  0.15732195 -0.12396714 -0.09139811  0.04948566\n",
      " -0.04740171  0.04558292 -0.12369964 -0.21336501 -0.14176318 -0.09725522\n",
      " -0.07296484 -0.10089007  0.11664143  0.00744994 -0.13625074 -0.29734285\n",
      " -0.11308178 -0.06669746 -0.12778048 -0.06276941 -0.03878822 -0.06907396\n",
      " -0.27249014 -0.14669063 -0.04933057 -0.03624814 -0.11221806 -0.06967887\n",
      " -0.13474452 -0.14924103 -0.24916798 -0.22025297 -0.09784592 -0.13561686\n",
      " -0.08167172 -0.25814508 -0.20624936 -0.22199269  0.02543104 -0.163157\n",
      " -0.2162421  -0.16270031 -0.26123832 -0.23542855 -0.09425518 -0.16684567\n",
      " -0.24006475 -0.27051848 -0.30634351 -0.48601815 -0.26478539 -0.33590416\n",
      " -0.23930685 -0.29792045 -0.57650497 -0.1523736  -0.26764613 -0.51911739\n",
      " -0.23916275 -0.30924686 -0.26888541 -0.43870676 -0.35822953 -0.37285365\n",
      " -0.21127917 -0.29347345 -0.49980607 -0.36633941 -0.40788929 -0.47789828\n",
      " -0.48599384 -0.35023965 -0.5209099  -0.37583422 -0.48162128 -0.32738719\n",
      " -0.47766692 -0.47546312 -0.65605425 -0.46393752 -0.37355484 -0.25938375\n",
      " -0.51202458 -0.54143904 -0.38686889 -0.42591623 -0.50127276 -0.52773914\n",
      " -0.580727   -0.51737349 -0.56121847 -0.45624966 -0.50192698 -0.62451319\n",
      " -0.48545741 -0.47853371 -0.63828001 -0.7314906  -0.51808898 -0.8308412\n",
      " -0.63920403 -0.56983817 -0.80471355 -0.54066799 -0.58086493 -0.65446872\n",
      " -0.52043896 -0.60102323 -0.66460016 -0.54522555 -0.64865272 -0.76090537\n",
      " -0.4800986  -0.49961548 -0.39600209 -0.6059234  -0.67413555 -0.59425055\n",
      " -0.58458523 -0.56225386 -0.64082876 -0.57772395 -0.58551581 -0.616695\n",
      " -0.51423557 -0.62519121 -0.66285744 -0.76502447 -0.88230332 -0.58339676\n",
      " -0.65888747 -0.83361915 -0.63847371 -0.71828122 -0.75607283 -0.73042504\n",
      " -0.74219214 -0.57131348 -0.91441145 -0.65739813 -0.9743123  -0.73242472\n",
      " -0.58572917 -0.72296997 -0.61202775 -0.83920424 -0.78794352 -0.65795803\n",
      " -0.79541792 -0.91071973 -0.8561689  -0.96831074 -0.93945376 -0.78716828\n",
      " -0.86659921 -0.70751934 -0.60629637 -0.7733684  -0.81222033 -0.80950445\n",
      " -0.81804572 -0.66715459 -0.71515916 -0.79645048 -0.75796234 -0.80194052\n",
      " -0.90261782 -0.94082837 -0.88062696 -0.75587184 -0.81808261 -0.90788471\n",
      " -1.16917487 -0.75862305 -0.8244557  -0.64702024 -1.10188412 -0.99863008\n",
      " -0.9824622  -0.7785662  -0.90503681 -0.68160627 -0.68139089 -0.81990308\n",
      " -0.92459514 -0.92080498 -0.89550993 -0.82776542 -0.72897084 -0.94235724\n",
      " -0.81709762 -0.98691488 -0.85087519 -0.76716201 -1.02131867 -1.05899229\n",
      " -0.81157723 -0.94247901 -0.9452433  -0.69013991 -0.98922903 -0.92962676\n",
      " -0.95358151 -1.03744603 -0.88321079 -0.91753819 -0.91358879 -0.91473842\n",
      " -1.01113018 -0.97970727 -0.81790875 -0.95470196 -0.90328291 -0.87989824\n",
      " -0.9603836  -0.94680584 -1.01632338 -1.10262363 -1.08147625 -0.95366302\n",
      " -0.99906589 -0.93675128 -0.85247461 -0.89373713 -1.06047198 -0.80370907\n",
      " -0.99145142 -0.92203464 -1.14352679 -0.85639459 -1.0060835  -0.93158574\n",
      " -1.00260712 -1.00536972 -1.18673145 -0.93333381 -0.92752618 -1.24061613\n",
      " -1.01368506 -1.04601167 -1.0850269  -1.08881817 -1.02818    -0.97747189\n",
      " -1.18853386 -1.0117327  -0.8127997  -0.93320992 -0.95864711 -0.95563053\n",
      " -0.93190006 -1.09398818 -1.00494217 -1.10664226 -1.00839814 -0.89938656\n",
      " -0.9383212  -0.97533366 -0.80115065 -1.09724922 -0.97269742 -1.0446646\n",
      " -1.15804893 -0.93597233 -1.0313341  -1.08798122 -0.97593976 -1.00325422\n",
      " -0.80302356 -0.84186896 -0.9820574  -1.20996779 -0.86274766 -0.90363813\n",
      " -1.00950438 -1.07807263 -0.94173747 -0.94658862 -0.95530796 -0.98776464\n",
      " -1.0172797  -0.92483951 -1.07233749 -0.90190691 -0.93214487 -0.9862889\n",
      " -0.77481853 -1.01284371 -0.95197652 -1.12997496 -1.09500132 -1.06768858\n",
      " -0.87910364 -1.05388402 -1.03143354 -0.82084791 -0.9814251  -0.96554551\n",
      " -0.99542613 -0.9626624  -0.92454637 -0.9518838  -1.08138504 -0.87575052\n",
      " -1.03311904 -0.95330424 -0.95745465 -0.92136382 -0.73552349 -0.85519273\n",
      " -1.04414199 -0.87264534 -0.79432461 -0.80239196 -1.11016887 -0.96902892\n",
      " -0.91631534 -0.87522519 -1.00789541 -0.997018   -0.9550905  -0.98356895\n",
      " -0.89176101 -1.00387188 -1.19275575 -0.86610022 -0.91752325 -0.78865394\n",
      " -0.95905401 -0.71908407 -0.84713399 -0.74903681 -0.86121541 -0.8169258\n",
      " -0.66734958 -0.80648592 -1.03604513 -0.91918315 -0.76231786 -0.73453143\n",
      " -0.82769114 -0.73300941 -0.80283221 -0.88237541 -0.82252    -0.7418771\n",
      " -0.8947245  -0.80234899 -0.95315999 -0.86989141 -0.85433096 -0.82106978\n",
      " -0.97207839 -0.89870024 -0.77048427 -0.74062767 -0.74166433 -0.76147217\n",
      " -0.75259533 -0.62937698 -1.04432044 -0.70310731 -0.92893672 -0.7818562\n",
      " -0.87829315 -0.73677293 -0.79070249 -0.76118971 -0.73287641 -0.8135704\n",
      " -0.7018401  -0.68596815 -0.90955238 -0.74924867 -0.82056052 -0.7600173\n",
      " -0.69626008 -0.60714215 -0.67133398 -0.65857779 -0.56327521 -0.88941091\n",
      " -0.87938973 -0.63832764 -0.6436416  -0.59769765 -0.79966097 -0.62554005\n",
      " -0.82469031 -0.78869094 -0.59996515 -0.62902762 -0.64931482 -0.83972569\n",
      " -0.63893177 -0.48178597 -0.84357688 -0.55905311 -0.60183901 -0.74714185\n",
      " -0.54949719 -0.43204838 -0.69461354 -0.48788838 -0.5671997  -0.51985624\n",
      " -0.69471514 -0.60777869 -0.47429812 -0.36052435 -0.52728109 -0.64579337\n",
      " -0.63704583 -0.44958756 -0.53851243 -0.35711531 -0.47189863 -0.4189218\n",
      " -0.54335247 -0.69987244 -0.60732147 -0.47864621 -0.38331028 -0.42997858\n",
      " -0.58095297 -0.48308919 -0.54546035 -0.5130616  -0.44721586 -0.24519393\n",
      " -0.53869449 -0.46566595 -0.72625435 -0.31171291 -0.43474992 -0.62460434\n",
      " -0.40165245 -0.54603133 -0.44653826 -0.44326904 -0.55686534 -0.52510731\n",
      " -0.48102658 -0.44931612 -0.34580126 -0.38923654 -0.38795049 -0.44909456\n",
      " -0.39827476 -0.25911252 -0.41151009 -0.31018268 -0.29681961 -0.22316057\n",
      " -0.04899025 -0.33841728 -0.2885087  -0.37993953 -0.29140737 -0.16995865\n",
      " -0.18427969 -0.2666912  -0.20597394 -0.29286304 -0.27957212 -0.13552918\n",
      " -0.25367954 -0.24438476 -0.17031484 -0.07612152 -0.2331178  -0.47096796\n",
      " -0.02612141 -0.18069901 -0.21917721 -0.08297011 -0.21649112 -0.26929506\n",
      " -0.10349888 -0.19025388 -0.06222727 -0.18164151 -0.20722933 -0.17435349\n",
      "  0.04823442 -0.08299131 -0.1296478  -0.14029279 -0.14359831 -0.11419617\n",
      " -0.0418122  -0.0848536  -0.05538337 -0.2105004   0.01037225 -0.04132072\n",
      " -0.07475503  0.0550591  -0.14645656 -0.08299612  0.02527312 -0.10060956\n",
      "  0.20166399 -0.23527897 -0.186286   -0.15266731]\n",
      "[-6.63156788e-02 -4.31924699e-02 -1.27787224e-02  1.74193549e-02\n",
      "  1.08445030e-02  5.62343219e-02  5.84003613e-02  1.10509332e-01\n",
      "  4.80654991e-02  4.13276765e-02 -5.59263713e-05  9.74606169e-03\n",
      " -3.21061402e-02  7.50598666e-02  1.24864979e-01  1.08641961e-01\n",
      "  9.43202666e-02  1.52817245e-01  1.73447815e-01  7.45540357e-02\n",
      "  1.40579436e-02  8.04964576e-02  1.32057559e-01  1.63765151e-01\n",
      "  1.64281171e-01  2.11711452e-01  1.04306160e-01  1.11355892e-01\n",
      "  8.97340866e-02  2.46464377e-01  2.11461883e-01  1.87130407e-01\n",
      "  1.15824074e-01  1.91820675e-01  2.01919503e-01  2.59823722e-01\n",
      "  2.19800719e-01  2.20416132e-01  7.75865414e-02  1.21204846e-01\n",
      "  1.26695631e-01  2.18864815e-01  1.80739438e-01  2.18588055e-01\n",
      "  2.28752350e-01  2.99006461e-01  2.64777174e-01  2.15812486e-01\n",
      "  2.36913486e-01  2.86847130e-01  3.54121466e-01  3.23070741e-01\n",
      "  3.97783751e-01  4.08910581e-01  4.37196513e-01  3.92248798e-01\n",
      "  4.50429683e-01  4.52676094e-01  4.28530112e-01  4.35757721e-01\n",
      "  4.12263739e-01  4.19493467e-01  4.24617144e-01  4.73085112e-01\n",
      "  4.96728669e-01  4.14988755e-01  3.07839419e-01  3.14407577e-01\n",
      "  3.82929177e-01  4.25097197e-01  3.77434644e-01  3.39546978e-01\n",
      "  3.25545286e-01  3.82581782e-01  3.49808669e-01  3.81201356e-01\n",
      "  4.16498408e-01  4.79449371e-01  4.80684110e-01  4.67936538e-01\n",
      "  4.47996331e-01  4.30398952e-01  3.91411973e-01  4.53330475e-01\n",
      "  4.80066448e-01  5.38341898e-01  5.41812407e-01  6.22360348e-01\n",
      "  6.16997298e-01  6.07705275e-01  5.60831741e-01  6.00117064e-01\n",
      "  6.34881260e-01  6.50129397e-01  6.32260831e-01  5.87700000e-01\n",
      "  6.20205803e-01  6.15983304e-01  6.46942129e-01  6.08890286e-01\n",
      "  5.90523507e-01  5.83025516e-01  6.61688099e-01  6.54540306e-01\n",
      "  6.38633922e-01  4.88796886e-01  5.54456390e-01  5.28420442e-01\n",
      "  6.04975186e-01  4.88673060e-01  5.51182949e-01  5.41094709e-01\n",
      "  6.87845428e-01  6.43563270e-01  7.10597930e-01  6.69283950e-01\n",
      "  6.84613269e-01  6.55990042e-01  6.41895894e-01  7.22480808e-01\n",
      "  8.23772937e-01  8.02425387e-01  7.63409260e-01  6.69337044e-01\n",
      "  6.96912833e-01  6.34673019e-01  6.41799365e-01  6.38011684e-01\n",
      "  6.76213390e-01  6.68495871e-01  6.16441258e-01  6.54380784e-01\n",
      "  6.69138652e-01  7.45854743e-01  6.95698266e-01  7.30024733e-01\n",
      "  7.55457153e-01  8.15020299e-01  8.34531365e-01  8.59853049e-01\n",
      "  8.81977525e-01  8.89252158e-01  8.11145552e-01  7.69172294e-01\n",
      "  7.58482975e-01  8.02697240e-01  8.25926116e-01  8.39898879e-01\n",
      "  8.75169428e-01  9.04222700e-01  8.51213484e-01  7.91153249e-01\n",
      "  8.19565684e-01  8.56010841e-01  8.92091776e-01  9.35233008e-01\n",
      "  9.62221716e-01  8.98326620e-01  8.49332505e-01  8.09734826e-01\n",
      "  8.87150150e-01  8.52574216e-01  8.76996938e-01  8.88403489e-01\n",
      "  8.79566489e-01  8.38422297e-01  8.25357282e-01  8.86485469e-01\n",
      "  8.90611736e-01  8.15091780e-01  8.40390094e-01  8.63934736e-01\n",
      "  9.64538785e-01  9.03031212e-01  9.08488341e-01  8.44515431e-01\n",
      "  8.62880073e-01  8.76655281e-01  8.91439950e-01  9.37373759e-01\n",
      "  8.93474234e-01  9.47797665e-01  8.64824754e-01  9.19802533e-01\n",
      "  8.98254118e-01  1.02344390e+00  1.01019203e+00  1.04002620e+00\n",
      "  9.47129469e-01  9.50290483e-01  9.43651372e-01  9.55129714e-01\n",
      "  9.52103119e-01  9.50726769e-01  9.94308438e-01  1.01967443e+00\n",
      "  9.52202125e-01  8.81160846e-01  9.06470794e-01  9.56558707e-01\n",
      "  9.64705087e-01  8.72556800e-01  9.11596818e-01  9.83993919e-01\n",
      "  1.06034954e+00  1.05880277e+00  1.02799508e+00  1.00196617e+00\n",
      "  9.87039298e-01  9.11531002e-01  9.19045839e-01  9.05191466e-01\n",
      "  9.18273370e-01  9.41264483e-01  9.87787534e-01  9.63599718e-01\n",
      "  9.37926656e-01  8.87290940e-01  1.03641330e+00  1.01858557e+00\n",
      "  1.04873804e+00  9.55551816e-01  9.79096706e-01  9.85555432e-01\n",
      "  9.90670889e-01  9.84373521e-01  9.73863378e-01  9.72718517e-01\n",
      "  9.67139544e-01  9.49397330e-01  9.17154656e-01  9.22281138e-01\n",
      "  9.51983874e-01  9.67647779e-01  1.02367085e+00  1.01093406e+00\n",
      "  1.07738158e+00  1.06917806e+00  1.05192267e+00  1.02600023e+00\n",
      "  9.80008119e-01  9.73809336e-01  9.79609971e-01  1.05025358e+00\n",
      "  1.04967476e+00  1.00470071e+00  9.13397533e-01  9.77065527e-01\n",
      "  1.04393401e+00  1.09594209e+00  1.06958993e+00  1.03105114e+00\n",
      "  1.01586573e+00  9.45553517e-01  9.69498408e-01  9.18046157e-01\n",
      "  9.58285900e-01  9.46371145e-01  1.02078800e+00  1.06004112e+00\n",
      "  1.07119240e+00  1.04000139e+00  1.01182231e+00  1.00579781e+00\n",
      "  1.02002003e+00  1.01906202e+00  1.04089377e+00  1.06325078e+00\n",
      "  1.07753549e+00  1.07942723e+00  1.01545433e+00  1.01576202e+00\n",
      "  9.49519557e-01  8.98173121e-01  8.79125743e-01  9.04896509e-01\n",
      "  9.62968712e-01  9.62579910e-01  9.71350608e-01  9.96547613e-01\n",
      "  9.90760711e-01  9.10821728e-01  9.06409230e-01  9.61515790e-01\n",
      "  1.03572164e+00  1.01112316e+00  9.10827760e-01  8.76402989e-01\n",
      "  8.49849824e-01  8.80395803e-01  8.25139516e-01  8.91448641e-01\n",
      "  9.24235947e-01  1.02397629e+00  1.02249092e+00  1.00273391e+00\n",
      "  9.82891312e-01  9.52715976e-01  9.39479707e-01  9.03804541e-01\n",
      "  8.63482480e-01  8.83280896e-01  9.49880355e-01  1.05531016e+00\n",
      "  9.80358791e-01  9.70869036e-01  9.29683987e-01  9.84966942e-01\n",
      "  9.23531819e-01  8.86715171e-01  8.69893602e-01  8.91348170e-01\n",
      "  9.35269988e-01  9.48752307e-01  9.60127535e-01  9.03957958e-01\n",
      "  8.95573983e-01  8.45686243e-01  8.99862658e-01  9.24274301e-01\n",
      "  9.21105223e-01  9.45446093e-01  9.43748110e-01  9.45189550e-01\n",
      "  8.73110680e-01  8.19786472e-01  8.71586392e-01  8.03698601e-01\n",
      "  8.44555529e-01  8.14710288e-01  8.74972982e-01  8.53946270e-01\n",
      "  8.33218950e-01  8.19315299e-01  7.60110692e-01  7.60771983e-01\n",
      "  7.47756151e-01  7.98099136e-01  7.65624739e-01  7.46190386e-01\n",
      "  7.18498229e-01  7.48671798e-01  8.33820066e-01  7.90978058e-01\n",
      "  8.05063860e-01  7.62083075e-01  8.14786210e-01  7.50063532e-01\n",
      "  6.57505693e-01  6.24426871e-01  7.37224145e-01  8.87784762e-01\n",
      "  9.35682603e-01  8.37513187e-01  7.80469427e-01  7.48575701e-01\n",
      "  7.63520773e-01  7.13400862e-01  7.34291364e-01  7.56090507e-01\n",
      "  8.23523906e-01  8.32364205e-01  8.18608287e-01  7.58582889e-01\n",
      "  7.59080682e-01  8.10501068e-01  8.32196689e-01  8.30678223e-01\n",
      "  7.97371937e-01  7.80582174e-01  7.91839809e-01  7.57951468e-01\n",
      "  7.80768988e-01  7.24145429e-01  7.23397476e-01  6.85391905e-01\n",
      "  8.03012213e-01  8.47762517e-01  8.22811072e-01  6.61599564e-01\n",
      "  6.10219130e-01  6.84211532e-01  7.32884687e-01  7.25887467e-01\n",
      "  7.06351754e-01  6.83406917e-01  6.80886684e-01  6.20216315e-01\n",
      "  6.45348756e-01  6.37005997e-01  6.63407573e-01  6.05036929e-01\n",
      "  5.86506614e-01  6.19086562e-01  6.65400873e-01  6.69613871e-01\n",
      "  6.29163887e-01  5.35416581e-01  5.53862799e-01  4.87740435e-01\n",
      "  5.77046410e-01  5.79412872e-01  6.95401019e-01  6.85187743e-01\n",
      "  6.25529709e-01  6.06409644e-01  5.46082966e-01  5.83721980e-01\n",
      "  5.91553328e-01  6.04766241e-01  5.69453126e-01  4.12041233e-01\n",
      "  4.85601917e-01  4.51462348e-01  5.72643335e-01  4.87630858e-01\n",
      "  5.17183131e-01  4.20380673e-01  4.68895954e-01  5.16329672e-01\n",
      "  5.66793942e-01  4.84153003e-01  4.13351855e-01  4.12434125e-01\n",
      "  4.28967303e-01  4.87831082e-01  4.53548531e-01  5.51843660e-01\n",
      "  4.41660746e-01  4.25560886e-01  3.07430732e-01  4.05115263e-01\n",
      "  4.32418548e-01  5.25605254e-01  5.13889780e-01  5.06895582e-01\n",
      "  4.70441138e-01  4.80140988e-01  5.30240865e-01  5.77170861e-01\n",
      "  5.03835212e-01  4.33459335e-01  3.72730857e-01  4.08747603e-01\n",
      "  3.98093172e-01  3.43279325e-01  2.90815242e-01  2.51866238e-01\n",
      "  2.78953483e-01  3.00379168e-01  3.72718845e-01  3.48800338e-01\n",
      "  2.99453170e-01  2.71004596e-01  2.90979853e-01  3.06623374e-01\n",
      "  2.42302956e-01  2.35185411e-01  1.97399818e-01  2.37324909e-01\n",
      "  2.11668203e-01  2.59021016e-01  2.48336656e-01  2.31777215e-01\n",
      "  2.21172393e-01  2.11804984e-01  2.15897833e-01  2.31472615e-01\n",
      "  1.78574897e-01  1.50653039e-01  1.49946050e-01  2.45251411e-01\n",
      "  1.89467979e-01  1.83869727e-01  5.10396155e-02  1.14951362e-01\n",
      "  6.76024816e-02  1.77377406e-01  9.15549709e-02  1.26086177e-01\n",
      "  6.38604246e-02  8.62368456e-02  2.75783205e-02  5.98190845e-02\n",
      "  1.43398153e-01  1.42174050e-01  9.37738159e-02  8.64635704e-02\n",
      "  8.23803727e-02  1.03386397e-01  1.99105276e-02  3.50318579e-02\n",
      "  1.15620974e-02  8.07900811e-02  1.73521610e-02 -1.93477657e-02\n",
      " -5.52931973e-02 -2.97713872e-02  1.58889538e-02 -4.18394778e-02\n",
      " -9.71605783e-02 -1.59609276e-01 -1.50794468e-01 -1.03994412e-01\n",
      " -9.03700429e-02 -1.90711607e-02  7.73376619e-03 -4.05312425e-03\n",
      " -1.42047885e-01 -1.82225123e-01 -1.59040696e-01 -1.02519906e-01\n",
      " -8.57491174e-02 -7.64460370e-02 -5.68771947e-02 -1.26784106e-01\n",
      " -1.62751576e-01 -1.56170447e-01 -7.74231139e-02 -6.59322568e-02\n",
      " -7.27150235e-02 -1.05547148e-01 -1.17888139e-01 -1.77717842e-01\n",
      " -2.06220661e-01 -1.89088958e-01 -1.51238586e-01 -1.05044834e-01\n",
      " -1.58477888e-01 -1.82022053e-01 -2.28795708e-01 -1.34270334e-01\n",
      " -1.19906214e-01 -1.17989353e-01 -1.80699803e-01 -2.13393577e-01\n",
      " -2.19789058e-01 -1.96974015e-01 -1.65509798e-01 -1.67055200e-01\n",
      " -2.25809633e-01 -2.72308912e-01 -3.54293378e-01 -3.52382350e-01\n",
      " -3.62235902e-01 -2.79998802e-01 -2.91043819e-01 -3.71244087e-01\n",
      " -3.42266339e-01 -3.32174901e-01 -3.13045707e-01 -3.41975423e-01\n",
      " -3.55842333e-01 -2.72431673e-01 -3.38946343e-01 -3.55273901e-01\n",
      " -3.89929981e-01 -3.14120783e-01 -2.92535423e-01 -3.34852898e-01\n",
      " -3.86539645e-01 -4.24678255e-01 -4.17375658e-01 -4.57260470e-01\n",
      " -4.38043923e-01 -4.52381128e-01 -4.15661254e-01 -4.59455133e-01\n",
      " -3.94947564e-01 -4.28891799e-01 -4.26839078e-01 -5.36394765e-01\n",
      " -5.31818297e-01 -4.97848870e-01 -3.65625369e-01 -3.81654390e-01\n",
      " -4.37615790e-01 -4.80110837e-01 -4.51408052e-01 -4.38019294e-01\n",
      " -4.84976044e-01 -5.36579635e-01 -5.41946544e-01 -5.53106318e-01\n",
      " -5.11613871e-01 -5.06465033e-01 -5.27563275e-01 -5.37299191e-01\n",
      " -5.29501435e-01 -5.34090373e-01 -6.16101437e-01 -6.29286529e-01\n",
      " -6.93473594e-01 -6.62711405e-01 -6.79961134e-01 -6.71251917e-01\n",
      " -6.38406571e-01 -6.42082157e-01 -5.92000548e-01 -5.85257535e-01\n",
      " -5.91976971e-01 -5.95354116e-01 -6.03616315e-01 -6.19492811e-01\n",
      " -6.51594548e-01 -6.29885565e-01 -5.80206482e-01 -4.58572057e-01\n",
      " -5.00513654e-01 -5.58687013e-01 -6.24769832e-01 -6.17657110e-01\n",
      " -5.80363215e-01 -5.95889286e-01 -5.93602192e-01 -6.01356172e-01\n",
      " -5.93311586e-01 -5.72148791e-01 -5.85373927e-01 -6.00761405e-01\n",
      " -6.84357706e-01 -7.70061743e-01 -7.43574850e-01 -7.08195852e-01\n",
      " -6.91967793e-01 -7.10326777e-01 -7.30124692e-01 -7.04275919e-01\n",
      " -7.34926362e-01 -7.42896671e-01 -6.81310220e-01 -7.42639022e-01\n",
      " -7.14374351e-01 -8.48707293e-01 -7.88045052e-01 -7.64155398e-01\n",
      " -6.80374620e-01 -6.40242296e-01 -7.24733985e-01 -7.46391837e-01\n",
      " -7.61701932e-01 -7.47106492e-01 -7.88031893e-01 -8.54102183e-01\n",
      " -9.11733124e-01 -9.21311137e-01 -8.98310929e-01 -8.64407085e-01\n",
      " -7.87095610e-01 -7.26804974e-01 -6.95728037e-01 -7.30628367e-01\n",
      " -7.98364394e-01 -8.13256832e-01 -7.64901587e-01 -7.33453157e-01\n",
      " -7.26254747e-01 -7.56523996e-01 -7.85451115e-01 -8.20840227e-01\n",
      " -8.81795569e-01 -9.08024384e-01 -8.59109056e-01 -8.18193804e-01\n",
      " -8.27279719e-01 -9.65047395e-01 -9.45227539e-01 -9.17417869e-01\n",
      " -7.43366327e-01 -8.57786684e-01 -9.15844812e-01 -1.02765880e+00\n",
      " -9.19886157e-01 -8.88688401e-01 -7.88403093e-01 -7.56011325e-01\n",
      " -7.27633417e-01 -8.08629704e-01 -8.88434401e-01 -9.13636684e-01\n",
      " -8.81360113e-01 -8.17415397e-01 -8.33031165e-01 -8.29475230e-01\n",
      " -9.15456578e-01 -8.84962563e-01 -8.68317361e-01 -8.79785291e-01\n",
      " -9.49157659e-01 -9.63962732e-01 -9.37682844e-01 -8.99766513e-01\n",
      " -8.59287405e-01 -8.74870746e-01 -8.69665231e-01 -9.57479097e-01\n",
      " -9.73551432e-01 -9.58079444e-01 -9.46065003e-01 -9.04779255e-01\n",
      " -9.15288465e-01 -9.46485794e-01 -9.68525289e-01 -9.36248732e-01\n",
      " -9.17439328e-01 -8.91964541e-01 -9.12627703e-01 -9.14521583e-01\n",
      " -9.29029228e-01 -9.74504274e-01 -1.02191762e+00 -1.06680775e+00\n",
      " -1.04592097e+00 -1.01140172e+00 -9.63160063e-01 -9.29430593e-01\n",
      " -8.94321005e-01 -9.35561239e-01 -9.19306060e-01 -9.51877490e-01\n",
      " -9.05731711e-01 -1.01900428e+00 -9.73985344e-01 -1.00200163e+00\n",
      " -9.31354611e-01 -9.80092119e-01 -9.79854192e-01 -1.06490276e+00\n",
      " -1.04181166e+00 -1.01586381e+00 -1.03382537e+00 -1.06060912e+00\n",
      " -1.10010429e+00 -1.04824121e+00 -1.07328558e+00 -1.06734169e+00\n",
      " -1.03149002e+00 -1.06472859e+00 -1.05924615e+00 -1.00435542e+00\n",
      " -9.19247440e-01 -9.01552243e-01 -9.49162518e-01 -9.48725897e-01\n",
      " -9.93839589e-01 -1.01027680e+00 -1.06852420e+00 -1.03999419e+00\n",
      " -1.00480899e+00 -9.48701966e-01 -9.37680474e-01 -9.04935169e-01\n",
      " -9.57911176e-01 -9.57032428e-01 -1.03820374e+00 -1.05847031e+00\n",
      " -1.04622862e+00 -1.04178512e+00 -1.01842922e+00 -1.03175169e+00\n",
      " -1.02239173e+00 -9.27405846e-01 -8.82715581e-01 -8.75649974e-01\n",
      " -1.01129805e+00 -1.01825762e+00 -9.92117860e-01 -9.25296723e-01\n",
      " -9.97071714e-01 -1.00977149e+00 -9.88799573e-01 -9.47878015e-01\n",
      " -9.63220405e-01 -9.86784097e-01 -9.76627948e-01 -1.00481890e+00\n",
      " -9.66361303e-01 -9.68796422e-01 -9.40113556e-01 -8.97750763e-01\n",
      " -9.24650379e-01 -9.13212921e-01 -1.03159840e+00 -1.05898427e+00\n",
      " -1.09755495e+00 -1.01393118e+00 -1.00022541e+00 -9.88140402e-01\n",
      " -9.68721826e-01 -9.44568852e-01 -9.22606173e-01 -9.80798913e-01\n",
      " -9.74544680e-01 -9.60878302e-01 -9.46364192e-01 -9.85938405e-01\n",
      " -9.69673121e-01 -9.96751531e-01 -9.54057931e-01 -9.81292640e-01\n",
      " -9.44040903e-01 -8.71447321e-01 -8.37360015e-01 -8.78286070e-01\n",
      " -9.23993352e-01 -9.03703979e-01 -8.23120635e-01 -9.02295146e-01\n",
      " -9.60529916e-01 -9.98504376e-01 -9.20189816e-01 -9.33145312e-01\n",
      " -9.60046199e-01 -9.86667969e-01 -9.78559148e-01 -9.43473484e-01\n",
      " -9.59733943e-01 -1.02946288e+00 -1.02090928e+00 -9.92126407e-01\n",
      " -8.57425803e-01 -8.88410400e-01 -8.22264004e-01 -8.41757356e-01\n",
      " -7.71751622e-01 -8.19128736e-01 -8.09059339e-01 -7.81830262e-01\n",
      " -7.63587097e-01 -8.36626875e-01 -9.20571398e-01 -9.05848714e-01\n",
      " -8.05344148e-01 -7.74846811e-01 -7.65077327e-01 -7.87844252e-01\n",
      " -8.06072342e-01 -8.35909204e-01 -8.15590834e-01 -8.19707199e-01\n",
      " -8.12983529e-01 -8.83411159e-01 -8.75133460e-01 -8.92460784e-01\n",
      " -8.48430714e-01 -8.82493041e-01 -8.97282802e-01 -8.80420968e-01\n",
      " -8.03270727e-01 -7.50925424e-01 -7.47921391e-01 -7.51910612e-01\n",
      " -7.14481495e-01 -8.08764249e-01 -7.92268241e-01 -8.92121487e-01\n",
      " -8.04633407e-01 -8.63028686e-01 -7.98974090e-01 -8.01922854e-01\n",
      " -7.62888377e-01 -7.61589537e-01 -7.69212175e-01 -7.49428972e-01\n",
      " -7.33792886e-01 -7.65786878e-01 -7.81589734e-01 -8.26453857e-01\n",
      " -7.76608831e-01 -7.58945967e-01 -6.87806511e-01 -6.58245404e-01\n",
      " -6.45684640e-01 -6.31062327e-01 -7.03754635e-01 -7.77358617e-01\n",
      " -8.02376094e-01 -7.20452991e-01 -6.26555631e-01 -6.80333408e-01\n",
      " -6.74299559e-01 -7.49963777e-01 -7.46307097e-01 -7.37782130e-01\n",
      " -6.72561235e-01 -6.26102531e-01 -7.06022713e-01 -7.09324095e-01\n",
      " -6.53481144e-01 -6.54764873e-01 -6.28138654e-01 -6.68156332e-01\n",
      " -6.36011321e-01 -6.32826015e-01 -5.76229141e-01 -5.58719704e-01\n",
      " -5.38183434e-01 -5.83233872e-01 -5.24981442e-01 -5.93923695e-01\n",
      " -6.07450025e-01 -5.92263982e-01 -4.80867051e-01 -4.54034517e-01\n",
      " -5.11199601e-01 -6.03373427e-01 -5.77475586e-01 -5.41715275e-01\n",
      " -4.48405102e-01 -4.55842126e-01 -4.15978582e-01 -4.78057635e-01\n",
      " -5.54048903e-01 -6.16848791e-01 -5.95280038e-01 -4.89759319e-01\n",
      " -4.30645023e-01 -4.64747276e-01 -4.98006912e-01 -5.36500834e-01\n",
      " -5.13870378e-01 -5.01912601e-01 -4.01823795e-01 -4.10368091e-01\n",
      " -4.16518123e-01 -5.76871598e-01 -5.01211073e-01 -4.90905728e-01\n",
      " -4.57022390e-01 -4.87002236e-01 -5.24096039e-01 -4.64740681e-01\n",
      " -4.78612877e-01 -4.82224213e-01 -5.08413897e-01 -5.20999744e-01\n",
      " -4.85150005e-01 -4.25381320e-01 -3.94784641e-01 -3.74329429e-01\n",
      " -4.08760529e-01 -4.11773268e-01 -3.68827280e-01 -3.56299124e-01\n",
      " -3.26935096e-01 -3.39504126e-01 -2.76720954e-01 -1.89656811e-01\n",
      " -2.03522700e-01 -2.25305411e-01 -3.35621838e-01 -3.19951868e-01\n",
      " -2.80435185e-01 -2.15215238e-01 -2.06976515e-01 -2.18981610e-01\n",
      " -2.55176058e-01 -2.59469699e-01 -2.35988112e-01 -2.22926948e-01\n",
      " -2.11197826e-01 -2.22793049e-01 -1.63607040e-01 -1.59851387e-01\n",
      " -2.60069092e-01 -2.43402390e-01 -2.25929459e-01 -1.41999208e-01\n",
      " -1.60948776e-01 -1.72879480e-01 -1.89585431e-01 -1.96428352e-01\n",
      " -1.87682606e-01 -1.18660009e-01 -1.44707552e-01 -1.50366035e-01\n",
      " -1.87741443e-01 -1.11116134e-01 -6.97034581e-02 -5.48015607e-02\n",
      " -1.17643966e-01 -1.37846299e-01 -1.32695756e-01 -9.98688912e-02\n",
      " -8.02873212e-02 -6.06830563e-02 -1.16912455e-01 -8.51705052e-02\n",
      " -8.04829535e-02 -3.52344993e-02 -2.03388829e-02 -5.53841625e-02\n",
      " -5.81311903e-02 -6.80598503e-02 -5.27775165e-02  4.21091845e-02\n",
      " -4.47415141e-02 -7.33003294e-02 -1.91410760e-01 -1.52667306e-01]\n"
     ]
    }
   ],
   "source": [
    "# las siguientes 3 lineas generan un conjunto de datos que se comportan segun una onda senoidal pero tienen\n",
    "# ruido por lo cual vamos a suavizar usando promedio de 3 puntos\n",
    "# en este ejercicio los generamos manualmente pero pensemos que son datos que pudieron ser generados con algún\n",
    "# instrumento como un sensor, o bien estar almacenados en una base de datos\n",
    "sample_points= 1000\n",
    "ruido = 0.1*np.random.randn(sample_points) #el ruido comunmente se debe a aleatoriedad o captura no exacta de info.\n",
    "x = np.linspace(0,2*np.pi,sample_points)\n",
    "y = np.sin(x) + ruido\n",
    "\n",
    "#xs es \"x suavizado\", inicialmente es una copia de x\n",
    "ys =  y.copy()\n",
    "\n",
    "for n in range(1,len(y)-1):\n",
    "    ys[n] = (y[n-1] + y[n] + y[n+1])/3\n",
    "    \n",
    "print(y)\n",
    "print(ys)"
   ]
  },
  {
   "cell_type": "code",
   "execution_count": 33,
   "metadata": {},
   "outputs": [
    {
     "data": {
      "image/png": "[encoded data removed]",
      "text/plain": [
       "<Figure size 432x288 with 1 Axes>"
      ]
     },
     "metadata": {
      "needs_background": "light"
     },
     "output_type": "display_data"
    }
   ],
   "source": [
    "plt.plot(x,y)\n",
    "plt.plot(x,ys)\n",
    "plt.show()"
   ]
  },
  {
   "cell_type": "markdown",
   "metadata": {},
   "source": [
    "**Ejercicio** En este caso usamos un ciclo  para ejemplificar pero ya hemos mencionado que debemos evitarlos siempre que sea posible y usar operaciones \"vectorizadas\" ya que es mucho mas rápido al utilizar  código pre-compilado de C, en este ejercicio debemos remplazar el calculo de xs para hacerlo de manera \"vectorizada\" y eliminar el ciclo for. \n",
    "\n",
    "**tip**: usar slicing"
   ]
  },
  {
   "cell_type": "markdown",
   "metadata": {},
   "source": [
    "#### Combinaciones lineales,span,vectores base,espacio vectorial e independencia lineal.\n",
    "\n",
    "**Nota**: esta sección es de cierto modo opcional ya que no es tan importante para este curso,pero lo será para futuros cursos y en tu carrera, por ejemplo en machine learning y estadística la reducción de dimensionalidad PCA se basa en el contenido acá resumido.\n",
    "\n",
    "Derivado de las 2 operaciones básicas de algebra lineal que ya mencionamos: suma de 2 vectores y multiplicación de un escalar por un vector podemos hablar de **combinaciones lineales**\n",
    "\n",
    "* **Combinación lineal** : Una combinación lineal es una generalización que combina estas 2 operaciones básicas y la podemos definir como **la suma de 2 o mas vectores escalados** , \n",
    "\n",
    "<img src=\"NumPy_algebra_lineal/combinacion_base.png\">\n",
    "\n",
    "Combinación lineal\n",
    "\n",
    "<img src=\"NumPy_algebra_lineal/combinacion_lineal.png\">\n",
    "\n",
    "* El **span**(alceance, o extensión) de una combinacion lineal es el conjunto de todos los posibles vectores obtenidos para cada posible combinación de sus valores escalares.\n",
    "\n",
    "\n",
    "<img src=\"NumPy_algebra_lineal/span.png\">\n",
    "\n",
    "<img src=\"NumPy_algebra_lineal/3d_span.png\">\n",
    "\n",
    "* **Independencia Lineal** : si un vector A es un múltiplo de otro vector B, decimos que existe dependencia lineal entre ellos, geométricamente el efecto de esto es que el **span** de estos  es el mismo, o bien si se trata de combinaciones lineales, el agregar un vector dependientemente lineal significa que este puede ser obtenido como una combinación de los otros en la combinación ,esto no modifica el **span** de la combinación, por lo cual es redundante y no aporta nada.\n",
    "\n",
    "<img src=\"NumPy_algebra_lineal/dependencia_lineal.png\">\n",
    "\n",
    "<img src=\"NumPy_algebra_lineal/dependencia_lineal2.png\">\n",
    "\n",
    "**Referencia Util**:\n",
    "https://youtu.be/k7RM-ot2NWY?list=PLZHQObOWTQDPD3MizzM2xVFitgF8hE_ab"
   ]
  },
  {
   "cell_type": "markdown",
   "metadata": {},
   "source": [
    "### ufuncs(universal functions)\n",
    "\n",
    "Ufuncs son funciones que trabajan de manera general independiente de la dimension del objeto al que sean aplicadas, esto significa que la misma función puede ser utilizada sobre valores **escalares**  o sobre **tensores** de cualquier dimensión. , cuando es aplicada sobre tensores esta trabaja elemento por elemento soportando \"broadcasting\" .\n",
    "\n",
    "NumPy provee una gran colección de ufuncs comunes en ciencias y que serán muy útiles en data science, ya hemos usado algunas por ejemplo: **np.sin(tensor)** , muchas comunes y que te serán familares son:\n",
    "\n",
    "* np.sign: determinar el signo de un número\n",
    "* np.abs: valor absoluto de un número\n",
    "* np.cos: coseno de un angulo en radianes\n",
    "* np.sin : seno de un angulo en radianes\n",
    "* np.tan : tangente de un angulo en radianes\n",
    "* np.exp : función exponencial e** x\n",
    "* np.log: logaritmo natural\n",
    "* np.log10 : logaritmo base 10\n",
    "* np.log2 : logaritmo base 2\n",
    "* np.sqrt : raiz cuadrada\n",
    "* np.power : potenciacion\n",
    "\n",
    "Al trabajar una aplicación numérica/científica es recomendable tener a la mano la documentación de las funciones disponibles : https://docs.scipy.org/doc/numpy-1.15.1/reference/routines.math.html\n",
    "\n",
    "#### Nota: \n",
    "En algunos casos requeriremos crear nuestras propias funciones y es recomendable que se apeguen a las ufuncs, es decir que se puedan aplicar independiente de la dimensión del objeto al que se aplican, que soporten broadcasting y muy importante **que su definición evite ciclos y use operaciones vectorizadas y otras ufuncs** , esto será parte de los criterios de evaluación en tareas y exámenes en este curso."
   ]
  },
  {
   "cell_type": "code",
   "execution_count": 34,
   "metadata": {},
   "outputs": [
    {
     "name": "stdout",
     "output_type": "stream",
     "text": [
      "[-1. -1.  0.  1.  1.  1.]\n",
      "[  5.3   1.    0.    1.5  10.  100. ]\n",
      "[ 0.55437434  0.54030231  1.          0.0707372  -0.83907153  0.86231887]\n",
      "[ 0.83226744 -0.84147098  0.          0.99749499 -0.54402111 -0.50636564]\n",
      "[ 1.5012734  -1.55740772  0.         14.10141995  0.64836083 -0.58721392]\n",
      "[4.99159391e-03 3.67879441e-01 1.00000000e+00 4.48168907e+00\n",
      " 2.20264658e+04 2.68811714e+43]\n"
     ]
    }
   ],
   "source": [
    "x = np.array([-5.3,-1,0,1.5,10,100])\n",
    "\n",
    "print(np.sign(x))\n",
    "print(np.abs(x))\n",
    "print(np.cos(x))\n",
    "print(np.sin(x))\n",
    "print(np.tan(x))\n",
    "print(np.exp(x))\n"
   ]
  },
  {
   "cell_type": "code",
   "execution_count": 35,
   "metadata": {},
   "outputs": [
    {
     "name": "stdout",
     "output_type": "stream",
     "text": [
      "[       nan        nan       -inf 0.40546511 2.30258509 4.60517019]\n"
     ]
    },
    {
     "name": "stderr",
     "output_type": "stream",
     "text": [
      "C:\\Users\\ruben\\AppData\\Local\\Continuum\\anaconda3\\lib\\site-packages\\ipykernel_launcher.py:1: RuntimeWarning: divide by zero encountered in log\n",
      "  \"\"\"Entry point for launching an IPython kernel.\n",
      "C:\\Users\\ruben\\AppData\\Local\\Continuum\\anaconda3\\lib\\site-packages\\ipykernel_launcher.py:1: RuntimeWarning: invalid value encountered in log\n",
      "  \"\"\"Entry point for launching an IPython kernel.\n"
     ]
    }
   ],
   "source": [
    "print(np.log(x))"
   ]
  },
  {
   "cell_type": "code",
   "execution_count": 36,
   "metadata": {},
   "outputs": [
    {
     "name": "stdout",
     "output_type": "stream",
     "text": [
      "[       nan        nan       -inf 0.17609126 1.         2.        ]\n"
     ]
    },
    {
     "name": "stderr",
     "output_type": "stream",
     "text": [
      "C:\\Users\\ruben\\AppData\\Local\\Continuum\\anaconda3\\lib\\site-packages\\ipykernel_launcher.py:1: RuntimeWarning: divide by zero encountered in log10\n",
      "  \"\"\"Entry point for launching an IPython kernel.\n",
      "C:\\Users\\ruben\\AppData\\Local\\Continuum\\anaconda3\\lib\\site-packages\\ipykernel_launcher.py:1: RuntimeWarning: invalid value encountered in log10\n",
      "  \"\"\"Entry point for launching an IPython kernel.\n"
     ]
    }
   ],
   "source": [
    "print(np.log10(x))"
   ]
  },
  {
   "cell_type": "code",
   "execution_count": 37,
   "metadata": {},
   "outputs": [
    {
     "name": "stdout",
     "output_type": "stream",
     "text": [
      "[       nan        nan       -inf 0.5849625  3.32192809 6.64385619]\n"
     ]
    },
    {
     "name": "stderr",
     "output_type": "stream",
     "text": [
      "C:\\Users\\ruben\\AppData\\Local\\Continuum\\anaconda3\\lib\\site-packages\\ipykernel_launcher.py:1: RuntimeWarning: divide by zero encountered in log2\n",
      "  \"\"\"Entry point for launching an IPython kernel.\n",
      "C:\\Users\\ruben\\AppData\\Local\\Continuum\\anaconda3\\lib\\site-packages\\ipykernel_launcher.py:1: RuntimeWarning: invalid value encountered in log2\n",
      "  \"\"\"Entry point for launching an IPython kernel.\n"
     ]
    }
   ],
   "source": [
    "print(np.log2(x))"
   ]
  },
  {
   "cell_type": "code",
   "execution_count": 38,
   "metadata": {},
   "outputs": [
    {
     "name": "stdout",
     "output_type": "stream",
     "text": [
      "[        nan         nan  0.          1.22474487  3.16227766 10.        ]\n"
     ]
    },
    {
     "name": "stderr",
     "output_type": "stream",
     "text": [
      "C:\\Users\\ruben\\AppData\\Local\\Continuum\\anaconda3\\lib\\site-packages\\ipykernel_launcher.py:1: RuntimeWarning: invalid value encountered in sqrt\n",
      "  \"\"\"Entry point for launching an IPython kernel.\n"
     ]
    }
   ],
   "source": [
    "print(np.sqrt(x))"
   ]
  },
  {
   "cell_type": "code",
   "execution_count": 39,
   "metadata": {},
   "outputs": [
    {
     "name": "stdout",
     "output_type": "stream",
     "text": [
      "[2.809e+01 1.000e+00 0.000e+00 2.250e+00 1.000e+02 1.000e+04]\n"
     ]
    }
   ],
   "source": [
    "print(np.power(x,2))"
   ]
  },
  {
   "cell_type": "markdown",
   "metadata": {},
   "source": [
    "#### Nota: \n",
    "En algunos casos requeriremos crear nuestras propias funciones y es recomendable que se apeguen a las ufuncs, es decir que se puedan aplicar independiente de la dimensión del objeto al que se aplican, que soporten broadcasting y muy importante **que su definición evite ciclos y use operaciones vectorizadas y otras ufuncs** , esto será parte de los criterios de evaluación en tareas y exámenes en este curso."
   ]
  },
  {
   "cell_type": "markdown",
   "metadata": {},
   "source": [
    "#### Ejemplos en DS:\n",
    "\n",
    "**1)**\n",
    "En machine learning se necesita una manera de \"evaluar\" nuestros modelos ,en ML del tipo \"supervisado\" para modelos de variables discretas categóricas  usamos  para esto  la \"entropía cruzada\" que mide la diferencia  entre 2 distribuciones de probabilidad,la que nuestro modelo predice vs la real obtenida de datos **ground truth** , una entropía cruzada alta es un modelo de ML malo y una entropía cruzada de 0 es un modelo de ML perfecto.\n",
    "\n",
    "La entropía medida en bits(ojo,no cruzada, solo entropía) se define como \"el promedio de información\"(promedio ponderado) y la información se define se define como el negativo del logaritmo base 2 de la probabilidad . \n",
    "\n",
    "$$I(x) = -log_{2}P(x)$$\n",
    "\n",
    "**Comentario**:La entropía es una medida de \"incerteza\", si un evento puede producir muchos resultados diferentes entonces tenemos una alta incerteza del evento lo cual se traduce a entropía alta.\n",
    "\n",
    "La siguiente función calcula para cierta distribución de probabilidad dada por un vector px la información de cada elemento."
   ]
  },
  {
   "cell_type": "code",
   "execution_count": 40,
   "metadata": {},
   "outputs": [
    {
     "name": "stdout",
     "output_type": "stream",
     "text": [
      "[-0.]\n",
      "[1. 1.]\n",
      "[-0. inf]\n",
      "[0.00014428]\n",
      "[2.        0.4150375]\n",
      "[2.32192809 2.32192809 2.32192809 2.32192809 2.32192809]\n",
      "[1.32192809 2.32192809 3.32192809 3.32192809 2.32192809]\n"
     ]
    },
    {
     "name": "stderr",
     "output_type": "stream",
     "text": [
      "C:\\Users\\ruben\\AppData\\Local\\Continuum\\anaconda3\\lib\\site-packages\\ipykernel_launcher.py:2: RuntimeWarning: divide by zero encountered in log2\n",
      "  \n"
     ]
    }
   ],
   "source": [
    "def calcular_informacion(px):\n",
    "    return np.log2(px)*-1\n",
    "\n",
    "distribucion_prob1 = [1.0]\n",
    "distribucion_prob2 = [0.5,0.5] #La entropía es máxima cuando todos los eventos tienen la misma probabilidad.\n",
    "distribucion_prob3 = [1.0,0.0]\n",
    "distribucion_prob4 = [0.9999]\n",
    "distribucion_prob5 = [0.25,0.75]\n",
    "distribucion_prob6 = [0.2]*5 # ojo estas son listas por lo tanto * la replica, no son arrays de numpy\n",
    "distribucion_prob7 = [0.4,0.2,0.1,0.1,0.2]\n",
    "\n",
    "print(calcular_informacion(distribucion_prob1))\n",
    "print(calcular_informacion(distribucion_prob2))\n",
    "print(calcular_informacion(distribucion_prob3))\n",
    "print(calcular_informacion(distribucion_prob4))\n",
    "print(calcular_informacion(distribucion_prob5))\n",
    "print(calcular_informacion(distribucion_prob6))\n",
    "print(calcular_informacion(distribucion_prob7))"
   ]
  },
  {
   "cell_type": "markdown",
   "metadata": {},
   "source": [
    "**Ejercicio** Para calcular la información de una distribución de probabilidad necesitamos calcular el producto entre la información de cada posible x y su probabilidad , cada uno de estos elementos nos indica cuanta incerteza aporta cada x a la entropía de la distribución. Crea una función que calcule esto, debe recibir un vector representando a la dist. de probabilidad y devoler otro vector con el termino de entropía para cada x. Por ejemplo:\n",
    "\n",
    "calcular_entropia([0.25,0.75])\n",
    "\n",
    "Debe resultar en :\n",
    "\n",
    "[0.5    ,    0.31127812]\n",
    "\n",
    "**Nota**: la entropía es la suma sobre estos valores, en este caso no calculamos la entropía,unicamente los termimos de su sumatoria. La entropía es:\n",
    "\n",
    "$$S = -\\sum_i^nP(x_{i})log_{2}P(x_{i})$$"
   ]
  },
  {
   "cell_type": "code",
   "execution_count": 41,
   "metadata": {},
   "outputs": [],
   "source": [
    "# tu codigo aqui (~ 4 lineas de codigo)\n",
    "\n"
   ]
  },
  {
   "cell_type": "markdown",
   "metadata": {},
   "source": [
    "**2)** \n",
    "\n",
    "A partir de la información en un data warehouse con un modelo de  datos el valor de clientes en el tiempo se ha determinado un modelo predictivo  no lineal que estima cuanta ganancia ha generado cierto cliente en 5 años en base a lo que ha gastado en su primer mes como cliente. \n",
    "\n",
    "El modelo tiene la forma:\n",
    "\n",
    "$$g(x) = (x^{3} + 2x^{2} + e^{0.0001x} -\\sqrt{2x})/50$$\n",
    "\n",
    "Crear una función que calcule la ganancia para valores de gasto de nuevos clientes:"
   ]
  },
  {
   "cell_type": "code",
   "execution_count": 1,
   "metadata": {},
   "outputs": [
    {
     "ename": "NameError",
     "evalue": "name 'np' is not defined",
     "output_type": "error",
     "traceback": [
      "\u001b[1;31m---------------------------------------------------------------------------\u001b[0m",
      "\u001b[1;31mNameError\u001b[0m                                 Traceback (most recent call last)",
      "\u001b[1;32m<ipython-input-1-39a56866c9b5>\u001b[0m in \u001b[0;36m<module>\u001b[1;34m\u001b[0m\n\u001b[0;32m      4\u001b[0m     \u001b[1;32mreturn\u001b[0m \u001b[0mganancia\u001b[0m\u001b[1;33m\u001b[0m\u001b[1;33m\u001b[0m\u001b[0m\n\u001b[0;32m      5\u001b[0m \u001b[1;33m\u001b[0m\u001b[0m\n\u001b[1;32m----> 6\u001b[1;33m \u001b[0mgastos\u001b[0m \u001b[1;33m=\u001b[0m \u001b[0mnp\u001b[0m\u001b[1;33m.\u001b[0m\u001b[0marray\u001b[0m\u001b[1;33m(\u001b[0m\u001b[1;33m[\u001b[0m\u001b[1;36m100\u001b[0m\u001b[1;33m,\u001b[0m\u001b[1;36m50\u001b[0m\u001b[1;33m,\u001b[0m\u001b[1;36m25\u001b[0m\u001b[1;33m]\u001b[0m\u001b[1;33m)\u001b[0m\u001b[1;33m\u001b[0m\u001b[1;33m\u001b[0m\u001b[0m\n\u001b[0m\u001b[0;32m      7\u001b[0m \u001b[0mganancia\u001b[0m \u001b[1;33m=\u001b[0m \u001b[0mg\u001b[0m\u001b[1;33m(\u001b[0m\u001b[0mgastos\u001b[0m\u001b[1;33m)\u001b[0m\u001b[1;33m\u001b[0m\u001b[1;33m\u001b[0m\u001b[0m\n\u001b[0;32m      8\u001b[0m \u001b[1;33m\u001b[0m\u001b[0m\n",
      "\u001b[1;31mNameError\u001b[0m: name 'np' is not defined"
     ]
    }
   ],
   "source": [
    "def g(x):\n",
    "    ganancia = (np.power(x,3) + 2.0*(np.power(x,2.0))+np.exp(0.0001*x) - np.sqrt(2.0*x))/50\n",
    "    \n",
    "    return ganancia\n",
    "    \n",
    "gastos = np.array([100,50,25])\n",
    "ganancia = g(gastos)\n",
    "\n",
    "print(\"Ganancias\",ganancia)"
   ]
  },
  {
   "cell_type": "markdown",
   "metadata": {},
   "source": [
    "**Ejercicio** : se ha determinado también que hay costos asociados a la comunicación y relación con los clientes(llamadas,mensajes electrónicos,etc) y que estos también tienen alta correlación con el monto que estos gastan en su primer més siguiendo el modelo:\n",
    "$$c(x) = (x^{2} + x + log (0.0001x)-\\sqrt{0.54x})/100$$\n",
    "\n",
    "Cree una función para calcular este modelo sobre valores de de gasto de nuevos clientes , y luego cree una función  **ganancia_neta(x,g,c)** donde:\n",
    "* x = vector conteniendo los valores de gasto del primer mes para nuevos clientes.\n",
    "* g = función que estima la ganancia en función de x\n",
    "* c = función que estima el costo en función de x\n",
    "\n",
    "La función realiza el calculo simple **g(x) - c(x)** , ya que es posible que los modelos cambien en el tiempo es común recibir como parámetro el modelo o modelos hijos de un modelo mas grande , en este caso eso se logra recibiendo como parámetro las funciones de ganancia y costo."
   ]
  },
  {
   "cell_type": "markdown",
   "metadata": {},
   "source": [
    "### Funciones miscelaneas(agregación y estadistica descriptiva básica) \n",
    "\n",
    "Ya hemos trabajado algunas funciones de NumPy pero han sido funciones \"elementwise\" cuyo vector resultante tiene el mismo tamaño que el vector de entrada, existen muchas otras funciones que utilizamos en casos en los que necesitamos agregar,resumir cierto vector,incluyendo en este tipo de funciones algunas de estadistica descriptiva básica."
   ]
  },
  {
   "cell_type": "code",
   "execution_count": 2,
   "metadata": {},
   "outputs": [
    {
     "ename": "NameError",
     "evalue": "name 'np' is not defined",
     "output_type": "error",
     "traceback": [
      "\u001b[1;31m---------------------------------------------------------------------------\u001b[0m",
      "\u001b[1;31mNameError\u001b[0m                                 Traceback (most recent call last)",
      "\u001b[1;32m<ipython-input-2-157f6484fd82>\u001b[0m in \u001b[0;36m<module>\u001b[1;34m\u001b[0m\n\u001b[1;32m----> 1\u001b[1;33m \u001b[0mx\u001b[0m \u001b[1;33m=\u001b[0m \u001b[0mnp\u001b[0m\u001b[1;33m.\u001b[0m\u001b[0marray\u001b[0m\u001b[1;33m(\u001b[0m\u001b[1;33m[\u001b[0m\u001b[1;36m1\u001b[0m\u001b[1;33m,\u001b[0m\u001b[1;36m2\u001b[0m\u001b[1;33m,\u001b[0m\u001b[1;36m3\u001b[0m\u001b[1;33m,\u001b[0m\u001b[1;36m4\u001b[0m\u001b[1;33m,\u001b[0m\u001b[1;36m5\u001b[0m\u001b[1;33m,\u001b[0m\u001b[1;36m6\u001b[0m\u001b[1;33m,\u001b[0m\u001b[1;36m7\u001b[0m\u001b[1;33m,\u001b[0m\u001b[1;36m8\u001b[0m\u001b[1;33m,\u001b[0m\u001b[1;36m9\u001b[0m\u001b[1;33m,\u001b[0m\u001b[1;36m2\u001b[0m\u001b[1;33m,\u001b[0m\u001b[1;36m2\u001b[0m\u001b[1;33m]\u001b[0m\u001b[1;33m)\u001b[0m\u001b[1;33m\u001b[0m\u001b[1;33m\u001b[0m\u001b[0m\n\u001b[0m\u001b[0;32m      2\u001b[0m \u001b[0mx_nan\u001b[0m \u001b[1;33m=\u001b[0m \u001b[0mnp\u001b[0m\u001b[1;33m.\u001b[0m\u001b[0marray\u001b[0m\u001b[1;33m(\u001b[0m\u001b[1;33m[\u001b[0m\u001b[1;36m1\u001b[0m\u001b[1;33m,\u001b[0m\u001b[1;36m2\u001b[0m\u001b[1;33m,\u001b[0m\u001b[1;36m3\u001b[0m\u001b[1;33m,\u001b[0m\u001b[1;36m4\u001b[0m\u001b[1;33m,\u001b[0m\u001b[0mnp\u001b[0m\u001b[1;33m.\u001b[0m\u001b[0mnan\u001b[0m\u001b[1;33m,\u001b[0m\u001b[1;36m6\u001b[0m\u001b[1;33m,\u001b[0m\u001b[1;36m8\u001b[0m\u001b[1;33m,\u001b[0m\u001b[1;36m2\u001b[0m\u001b[1;33m,\u001b[0m\u001b[1;36m2\u001b[0m\u001b[1;33m]\u001b[0m\u001b[1;33m)\u001b[0m\u001b[1;33m\u001b[0m\u001b[1;33m\u001b[0m\u001b[0m\n",
      "\u001b[1;31mNameError\u001b[0m: name 'np' is not defined"
     ]
    }
   ],
   "source": [
    "x = np.array([1,2,3,4,5,6,7,8,9,2,2])\n",
    "x_nan = np.array([1,2,3,4,np.nan,6,8,2,2])"
   ]
  },
  {
   "cell_type": "code",
   "execution_count": 44,
   "metadata": {},
   "outputs": [
    {
     "name": "stdout",
     "output_type": "stream",
     "text": [
      "9\n",
      "9\n",
      "nan\n",
      "9\n",
      "8.0\n"
     ]
    }
   ],
   "source": [
    "#nanmax ignora valores nan si existieran , max retorna nan si el vector tuviera un nan\n",
    "\n",
    "\n",
    "print(np.max(x))\n",
    "print(x.max())\n",
    "print(np.max(x_nan))\n",
    "\n",
    "print(np.nanmax(x))\n",
    "print(np.nanmax(x_nan))"
   ]
  },
  {
   "cell_type": "code",
   "execution_count": 45,
   "metadata": {},
   "outputs": [
    {
     "name": "stdout",
     "output_type": "stream",
     "text": [
      "8\n",
      "8\n"
     ]
    }
   ],
   "source": [
    "print(np.argmax(x))\n",
    "print(x.argmax())"
   ]
  },
  {
   "cell_type": "code",
   "execution_count": 46,
   "metadata": {},
   "outputs": [
    {
     "name": "stdout",
     "output_type": "stream",
     "text": [
      "1\n",
      "1\n",
      "nan\n",
      "1\n",
      "1.0\n"
     ]
    }
   ],
   "source": [
    "print(np.min(x))\n",
    "print(x.min())\n",
    "print(np.min(x_nan))\n",
    "\n",
    "print(np.nanmin(x))\n",
    "print(np.nanmin(x_nan))"
   ]
  },
  {
   "cell_type": "code",
   "execution_count": 47,
   "metadata": {},
   "outputs": [
    {
     "name": "stdout",
     "output_type": "stream",
     "text": [
      "0\n",
      "1\n"
     ]
    }
   ],
   "source": [
    "print(np.argmin(x))\n",
    "print(x.min())"
   ]
  },
  {
   "cell_type": "code",
   "execution_count": 48,
   "metadata": {},
   "outputs": [
    {
     "name": "stdout",
     "output_type": "stream",
     "text": [
      "49\n",
      "49\n",
      "nan\n"
     ]
    }
   ],
   "source": [
    "print(np.sum(x))\n",
    "print(x.sum())\n",
    "print(np.sum(x_nan))"
   ]
  },
  {
   "cell_type": "code",
   "execution_count": 49,
   "metadata": {},
   "outputs": [
    {
     "name": "stdout",
     "output_type": "stream",
     "text": [
      "1451520\n",
      "1451520\n",
      "nan\n"
     ]
    }
   ],
   "source": [
    "print(np.prod(x))\n",
    "print(x.prod())\n",
    "print(np.prod(x_nan))"
   ]
  },
  {
   "cell_type": "markdown",
   "metadata": {},
   "source": [
    "#### Aritmetica acumulativa\n",
    "\n",
    "En muchos casos es útil usar sumas o productos acumulativos , por ejemplo:\n",
    "\n",
    "**Ejemplo aplicado** En un datawarehouse se tiene un modelo \"lifetime value\" en el que se almacena de manera acumulativa cuantas ganancias se han percibido a lo largo de la vida de los usuarios, un ETL en Python debe calcularlo en función de un vector que contiene de manera ordenada en el tiempo los ingresos percibidos mensualmente para cierto usuario. Podemos usar la funcion **np.cumsum** para esto, en este ejercicio necesitamos determinar el \"lifetime value\" de cierto usuario en su 6to mes:\n"
   ]
  },
  {
   "cell_type": "code",
   "execution_count": 50,
   "metadata": {},
   "outputs": [
    {
     "ename": "IndentationError",
     "evalue": "expected an indented block (<ipython-input-50-4bf2514aa56e>, line 6)",
     "output_type": "error",
     "traceback": [
      "\u001b[1;36m  File \u001b[1;32m\"<ipython-input-50-4bf2514aa56e>\"\u001b[1;36m, line \u001b[1;32m6\u001b[0m\n\u001b[1;33m    ganancias_usuario = np.array([25,150,125,75,100,45,22,30])\u001b[0m\n\u001b[1;37m                    ^\u001b[0m\n\u001b[1;31mIndentationError\u001b[0m\u001b[1;31m:\u001b[0m expected an indented block\n"
     ]
    }
   ],
   "source": [
    "def lifetime_value(ganancias_mensuales):\n",
    "    ## tu codigo aqui(~ 1 linea de codigo):\n",
    "    \n",
    "\n",
    "# Prueba:\n",
    "ganancias_usuario = np.array([25,150,125,75,100,45,22,30])\n",
    "lifetime_value_usuario = lifetime_value(ganancias_usuario)\n",
    "\n",
    "print(\"Lifetime value:\",lifetime_value_usuario)\n",
    "\n",
    "print(\"El valor del usuario a su sexto mes es :\",lifetime_value_usuario[5])"
   ]
  },
  {
   "cell_type": "markdown",
   "metadata": {},
   "source": [
    "Poseemos también la funcióm similar **np.cumprod** que multiplica de manera acumulativa los elementos de un vector."
   ]
  },
  {
   "cell_type": "code",
   "execution_count": null,
   "metadata": {},
   "outputs": [],
   "source": [
    "print(np.cumprod(ganancias_usuario))"
   ]
  },
  {
   "cell_type": "markdown",
   "metadata": {},
   "source": [
    "#### Estadística descriptiva\n",
    "\n",
    "https://docs.scipy.org/doc/numpy-1.15.0/reference/routines.statistics.html"
   ]
  },
  {
   "cell_type": "code",
   "execution_count": null,
   "metadata": {},
   "outputs": [],
   "source": [
    "print(np.mean(x))\n",
    "print(x_nan.mean())"
   ]
  },
  {
   "cell_type": "code",
   "execution_count": null,
   "metadata": {},
   "outputs": [],
   "source": [
    "print(np.median(x))\n",
    "print(np.median(x_nan))"
   ]
  },
  {
   "cell_type": "code",
   "execution_count": null,
   "metadata": {},
   "outputs": [],
   "source": [
    "print(x.std())\n",
    "print(np.std(x))"
   ]
  },
  {
   "cell_type": "code",
   "execution_count": null,
   "metadata": {},
   "outputs": [],
   "source": [
    "print(x.var())\n",
    "print(np.var(x))"
   ]
  },
  {
   "cell_type": "markdown",
   "metadata": {},
   "source": [
    "**Ejercicio** Usando argmax crear una función mode(x) para calcular la moda de un vector x , esta función debe devolver una tupla de 2 elementos de la forma:\n",
    "\n",
    "(valor,conteo)\n",
    "\n",
    "**tip** investigar y auxiliarse de otras funciones de numpy y np.argmax, no olvidar trabajar todo vectorizado, sin ciclos."
   ]
  },
  {
   "cell_type": "code",
   "execution_count": 3,
   "metadata": {},
   "outputs": [
    {
     "ename": "IndentationError",
     "evalue": "expected an indented block (<ipython-input-3-3a77a2cdcd68>, line 4)",
     "output_type": "error",
     "traceback": [
      "\u001b[1;36m  File \u001b[1;32m\"<ipython-input-3-3a77a2cdcd68>\"\u001b[1;36m, line \u001b[1;32m4\u001b[0m\n\u001b[1;33m    print(mode(x))\u001b[0m\n\u001b[1;37m        ^\u001b[0m\n\u001b[1;31mIndentationError\u001b[0m\u001b[1;31m:\u001b[0m expected an indented block\n"
     ]
    }
   ],
   "source": [
    "def mode(x):\n",
    "    ## tu codigo aqui (~ 3 lineas de codigo):\n",
    "    \n",
    "print(mode(x))"
   ]
  },
  {
   "cell_type": "markdown",
   "metadata": {},
   "source": [
    "**Ejercicio** : crear una función para calcular la entropía  de una distribución de probabilidad representada como un vector.\n",
    "$$S = -\\sum_i^nP(x_{i})log_{2}P(x_{i})$$\n",
    "\n",
    "**Nota**: a diferencia del ejercicio anterior donde solo calculamos los términos de la entropía, en este caso  si calculamos el valor completo de la entropía, que como mencionamos es una medida de incerteza en una distribución de probabilidad.\n",
    "\n",
    "**recordatorio**: no usar ciclos solo operaciones vectorizadas."
   ]
  },
  {
   "cell_type": "code",
   "execution_count": null,
   "metadata": {},
   "outputs": [],
   "source": [
    "# tu codigo aqui (~ 3 lineas de codigo)\n",
    "\n"
   ]
  },
  {
   "cell_type": "markdown",
   "metadata": {},
   "source": [
    "**Ejercicio**: En ML usamos la entropía cruzada como una forma de medir que tan bueno es un modelo de variables discretas a través de comparar la distribución de probabilidad que el modelo produce o predice, vs la distribución de probabilidad real dada por los datos de entrenamiento.\n",
    "\n",
    "Podemos ver el siguiente ejemplo que define la forma en que se calcula la entropía cruzada y nos muestra un caso específico:\n",
    "\n",
    "<img src=\"https://image.slidesharecdn.com/publishintroductiontodeeplearninginpythonandmatlab1-160502102437/95/introduction-to-deep-learning-in-python-and-matlab-54-638.jpg?cb=1462185644\">\n",
    "\n",
    "En este caso interpretamos así: El problema consiste en un modelo o algoritmo de ML que debe producir un vector de 3 elementos indicando la probabilidad de que ciertos datos X pertenezcan a una de 3 categorías.\n",
    "\n",
    "* El modelo de ML produce un vector que indica que estima un 70% de probabilidad de que se trate de la categoría 0, 20% de probabilidad de que se trate de la categoría 1 y 10% de que se trate de la categoría 2.\n",
    "* Los datos reales nos dicen que se trataba de un caso donde con total certeza se sabe que se trata de la categoría 0\n",
    "* La entropía cruzada(a calcular en el ejercicio) nos indica que tan buena es la estimación del modelo, una EC de 0 es un modelo perfecto(en este caso un modelo que predice 100% de prob para la clase 0)\n",
    "\n",
    "**Nota** \n",
    "* Aun que para calcular la entropía usamos logaritmos en base 2, en ML para calcular la entropía cruzada se usa logaritmo natural ya que con este se cumple el proposito **estimar que tanto se alejan las predicciones del modelo de ML de los datos reales** y es comunmente mas rápido de calcular en la computadora.\n",
    "* Ya que estamos trabajando con vectores que representan distribuciones de probabilidad , podemos toparnos con lo que se conoce como : **sparse vectors**(vectores donde la mayoría de elementos son 0), esto puede producir problemas ya que le logaritmo de 0 no esta definido, tu solución debe tomar en cuenta esto y evitar que devuelva \"nan\""
   ]
  },
  {
   "cell_type": "code",
   "execution_count": null,
   "metadata": {},
   "outputs": [],
   "source": [
    "def cross_entropy(Y,Y_hat):\n",
    "    ##tu codigo aqui (~ 1 lineas de codigo)\n",
    "    \n",
    "    \n",
    "\n",
    "y  = np.array([1.0,0,0])\n",
    "y_hat = np.array([0.7,0.2,0.1])\n",
    "\n",
    "cross_entropy(y,y_hat)"
   ]
  },
  {
   "cell_type": "markdown",
   "metadata": {},
   "source": [
    "\n",
    "### Magnitud de un Vector(norma o módulo)\n",
    "Ya hemos visto que en DS usamos vectores para representar información ,una propiedad importante de los vectores es la **magnitud** del vector. \n",
    "\n",
    "Matemáticamente la magnitud de un vector(también conocida como norma vectorial)  nos indica  el tamaño de este , y nos sirve para tener una noción de la distancia desde un punto de referencia(origen) hasta el punto representado por el vector.\n",
    "\n",
    "\n",
    "\n",
    "<img src=\"http://mathonline.wdfiles.com/local--files/the-norm-of-a-vector/Screen%20Shot%202014-06-12%20at%205.37.19%20PM.png\">\n",
    "\n",
    "Se puede calcular con:\n",
    "\n",
    "<img src=\"https://images.slideplayer.com/18/6074185/slides/slide_4.jpg\">\n",
    "\n",
    "En DS la interpretación de la magnitud depende del problema y significado del vector sobre el que se trabaje, ademas de ser también utilizada en calculos mas complejos,por ejemplo: **similitud por cosenos**.\n",
    "\n",
    "<img src=\"https://machinelearningflashcards.com/images/L2_Norm_print.png\">\n",
    "\n",
    "\n",
    "Algunos ejemplos:\n",
    "* En machine learning:\n",
    "    * Si almacenamos en 2 vectores los errores producidos por 2 modelos de ML , podemos usar la magnitud de estos para determinar cual de los 2 modelos es mejor.\n",
    "    * Cuando un modelo de ML \"memoriza\" en lugar de \"aprender\" decimos que sufre \"overfitting\" una forma de atacar este problema es usar \"L2 regularization\" que consiste en agregar a la \"función de costo\" un término de penalización que es calculado a partir de la magnitud de parámetros del modelo(cuadrado de la magnitud)\n",
    "    \n",
    "    <img src=\"https://cdn-images-1.medium.com/max/1600/1*JP9VzwxsRXjocb3WgVOTxA.png\">\n",
    "    * Un paso de pre-procesamiento común en ML es aplicar \"normalización\" a los datos, esto se logra(entre otras formas) dividiendo el vector de datos dentro de su magnitud de manera que tenga magnitud 1.\n",
    "    \n",
    "* En NLP(natural language processing): es común representar documentos como vectores n dimensionales, donde n es el número de palabras en cierto vocabulario, cada elemento \"i\" del vector indica cuantas veces aparece en el documento la palabra denotada por la posición \"i\" , podemos  usar la magnitud vectorial  para calcular la **similitud cosenoidal** y así estimar que tanto se  parece en contenido un documento a otro.\n",
    "<img src=\"https://www.machinelearningplus.com/wp-content/uploads/2018/10/Cosine-Similarity-Formula-1.png\">\n",
    "\n",
    "**ejercicio** : crear una función que reciba como parámetro un vector x y calcule su magnitud o norma(euclidiana o L2) ,luego usarla para evaluar 2 vectores que representan los errores generados por 2 modelos de machine learning y concluir cual de los 2 modelos es mejor."
   ]
  },
  {
   "cell_type": "code",
   "execution_count": null,
   "metadata": {},
   "outputs": [],
   "source": [
    "def magnitud(x):\n",
    "    ## tu codigo aqui (~ 1 linea de codigo)\n",
    "    \n",
    "\n",
    "errores_modelo1 = np.array([1,2,1,2])\n",
    "errores_modelo2 = np.array([0,1,1,2])\n",
    "\n",
    "print(magnitud(errores_modelo1))\n",
    "print(magnitud(errores_modelo2))"
   ]
  },
  {
   "cell_type": "markdown",
   "metadata": {},
   "source": [
    "**ejercicio** Usando la función del ejercicio anterior, crea otra función normalizar(x) que reciba de parámetro un vector x aplique normalización sobre este, el resultado debe ser un nuevo vector del tamaño de x cuya magnitud es igual a 1.0"
   ]
  },
  {
   "cell_type": "code",
   "execution_count": null,
   "metadata": {},
   "outputs": [],
   "source": [
    "def normalizar(x):\n",
    "    ## tu codigo aqui (~ 3 linea de codigo)\n",
    "    \n",
    "    \n",
    "\n",
    "print(magnitud(normalizar(errores_modelo1)))\n",
    "print(normalizar(errores_modelo2))"
   ]
  },
  {
   "cell_type": "markdown",
   "metadata": {},
   "source": [
    "### Producto Punto(escalar,interno,interior) y Ortogonalidad\n",
    "\n",
    "El producto punto(también conocido como producto escalar,producto interno o producto interior es una operación entre 2 vectores, cuyo resultado es un único número(escalar).\n",
    "\n",
    "Existen basicamente 2 definiciones del producto punto siendo la más conocida la sumatoria de los productos entre elementos de los vectores.\n",
    "\n",
    "Otra definición geométrica del producto punto puede ser obtenida basandonos en la magnitud de los vectores y el ángulo entre ellos.\n",
    "\n",
    "<img src = \"https://ocw.mit.edu/courses/mathematics/18-02sc-multivariable-calculus-fall-2010/1.-vectors-and-matrices/part-a-vectors-determinants-and-planes/session-2-dot-products/MIT18_02SC_L1Brds_5.png\">\n",
    "\n",
    "Por lo tanto podemos usar estas expresiones para encontrar el ángulo existente entre los 2 vectores.\n",
    "\n",
    "<img src=\"data:image/png;base64,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\">\n",
    "\n",
    "#### Interpretación \n",
    "Existen diversas interpretaciones de esta operación , algunas son :\n",
    "\n",
    "* Que tan similares son 2 vectores: esto es útil en casos donde tengamos vectores de datos y necesitemos comparar su similitud.\n",
    "* Proyectar un vector sobre otro: el producto punto es el tamaño de la proyección de un vector A sobre un vector B multiplicado por el tamaño del vector B\n",
    "<img src=\"NumPy_algebra_lineal/dot_product.png\">\n",
    "* El producto punto es parte importante de la multiplicación de matrices(tema aún por desarrollar), una de las operaciones más importantes en AI a través de deep learning.\n",
    "\n",
    "\n",
    "#### Usos y aplicaciones del producto punto\n",
    "\n",
    "El producto punto tiene diversas aplicaciones en muchas ciencias, en ciencias de datos es muy utilizado y aplicado , por ejemplo:\n",
    "\n",
    "* **En Machine Learning**:\n",
    "    * En modelos lineales como regresión lineal o regresión lógistica es común guardar en un vector los parámetros de los modelos(aveces llamado W) y cuando queremos hacer inferencia sobre ciertos datos \"x\" almacenamos los datos \"x\" en un vector X y aplicamos la operación producto punto entre X y W.\n",
    "    <img src=\"https://images.slideplayer.com/24/7356693/slides/slide_5.jpg\">\n",
    "    * Una interpretación geométrica del producto punto es que tan similares dos vectores son entre sí , las redes neuronales utilizan este principio  para definir multiples capas jerarquicas de \"caraceterísticas\"(representadas por neuronas) que buscar sobre ciertos datos de entrada X, estas  características  son definidas en vectores  por lo cual el producto punto es una medida de que tanto se parece cierto vector X a la característica que la neurona representa, un valor alto del producto punto indica alta similitud entre los datos X y la característica que la neurona \"busca\".\n",
    "    <img src=\"https://isaacchanghau.github.io/img/deeplearning/activationfunction/intro.png\">\n",
    "    \n",
    "\n",
    "#### Perpendicularidad \n",
    "\n",
    "Se dice que 2 vectores son perpendiculares si el producto punto entre ellos es igual a 0 ,geometricamente esto ocurre cuando los vectores se encuentran a 90 grados entre sí por lo cual en DS podemos interpretar que 2 vectores cuyo producto punto es 0, son vectores que difieren mucho por lo tanto son muy diferentes.\n",
    "\n",
    "\n",
    "<img src=\"https://chortle.ccsu.edu/VectorLessons/vch07/acuteORobtuse.gif\">\n",
    "    \n",
    "#### Producto punto en NumPy\n",
    "\n",
    "En NumPy poseemos 2 maneras de calcular el producto punto sobre vectores de igual tamaño:\n",
    "\n",
    "* np.dot:https://docs.scipy.org/doc/numpy/reference/generated/numpy.dot.html#numpy.dot\n",
    "* np.inner:https://docs.scipy.org/doc/numpy/reference/generated/numpy.inner.html\n",
    "\n",
    "**¿Por que 2 operaciones?** Estas operaciones son diferentes cuando se trabaja con Tensores de rango mayor a 1 y pueden ser \"configurables\" , para Tensores de rango=1(vectores de igual tamaño,nuestro tema actual) son equivalentes."
   ]
  },
  {
   "cell_type": "code",
   "execution_count": null,
   "metadata": {},
   "outputs": [],
   "source": [
    "f = np.array([0.1,0.2,0.3])\n",
    "g = np.array([1,2,3])\n",
    "\n",
    "print(f.dot(g))\n",
    "print(np.dot(f,g))\n",
    "\n",
    "#print(g.inner(f)) # operacion no existente en NumPy\n",
    "print(np.inner(g,f))"
   ]
  },
  {
   "cell_type": "markdown",
   "metadata": {},
   "source": [
    "**Ejercicio aplicado en DS**\n",
    "Se tiene una red neuronal sencilla(y simplificada) como la de la siguiente imagen:\n",
    "<img src=\"https://www.oreilly.com/library/view/practical-convolutional-neural/9781788392303/assets/246151fb-7893-448d-b9bb-7a87b387a24b.png\">\n",
    "\n",
    "Donde:\n",
    "* INPUT LAYER: un vector X de tamaño = 2 que representa los datos de entrada\n",
    "* HIDDEN_LAYER :capa oculta con 2 neuronas definidas por los vectores:\n",
    "    * HL1 = [0.25,0.37]\n",
    "    * HL2 = [-8,14]\n",
    "* OUTPUT_LAYER = capa de salida definida por el vector [4,9]\n",
    "\n",
    "Crear una funcion neural_network(X) para calcular:\n",
    "* Calcule la salida de cada neurona en la capa intermedia aplicada a la capa de entrada.\n",
    "* Use el resultado del paso anterior como entrada para la neurona en la capa de salida\n",
    "\n",
    "Asumiendo que cada neurona identifica la similitud entre su entrada y la caracteística que representa concluir:\n",
    "* Para cada vector de entrada Xi , cual neurona intermedia busca la característica que mas se parece a X.\n",
    "* Cual vector de entrada Xi produce una activación alta(salida alta) en la capa de salida."
   ]
  },
  {
   "cell_type": "code",
   "execution_count": null,
   "metadata": {},
   "outputs": [],
   "source": [
    "# Aplicar la red neuronal sobre los siguientes datos X\n",
    "\n",
    "X1 = np.array([0.50,0.72])\n",
    "X2 = np.array([-4,7])\n",
    "X3 = np.zeros_like(X2)\n",
    "x4 = np.ones_like(X1)\n",
    "X5 = np.random.randn(X1.shape[0])\n"
   ]
  },
  {
   "cell_type": "markdown",
   "metadata": {},
   "source": [
    "**Ejercicio aplicado en DS**: la correlación cruzada es una medida de similitud entre 2 funciones como resultado de \"desplazar\" una sobre la otra, comunmente es usada para encontrar características relevantes en una función desconocida o no controlada.\n",
    "\n",
    "En procesamiento de señales por ejemplo es usada para buscar y/o filtrar en una señal que varia en el tiempo cierta caracaterística de interés. Aveces es llamada también \"sliding dot product\" consiste en aplicar en cada punto de una función F el producto punto con cierta función G(comunmente mas corta) y luego \"deslizar\" G a un nuevo punto de la función, el resultado es una nueva función H que se interpreta como :**cuanto se parece** en cada punto la función F a la característica G. \n",
    "\n",
    "<img src=\"https://i.makeagif.com/media/11-25-2015/LZ9Ufj.gif\">\n",
    "\n",
    "En este ejercicio usamos correlación cruzada para calcular las medias moviles promediando 3 puntos que ya vimos en otro ejemplo:\n",
    "\n",
    "El primer paso es definir la función G que define el \"filtro\" a aplicar, para este caso consiste simplemente en un vector con 3 elementos donde cada elemento corresponde a 1/3, luego debemos aplicar el producto punto sobre cada punto de la función o datos originales(en este ejemplo llamados x) a traves aplicar el producto punto en cada elemento \"corriendolo\" de uno en uno"
   ]
  },
  {
   "cell_type": "code",
   "execution_count": null,
   "metadata": {},
   "outputs": [],
   "source": [
    "ruido = 0.1*np.random.randn(15) #el ruido comunmente se debe a aleatoriedad o captura no exacta de info.\n",
    "x = np.linspace(0,2*np.pi,15) + ruido\n",
    "x = np.sin(x)\n",
    "\n",
    "filtro = np.array([1/3,1/3,1/3])\n",
    "\n",
    "## tu codigo aqui (~ 3 linea de codigo)\n",
    "\n",
    "    \n",
    "\n"
   ]
  },
  {
   "cell_type": "markdown",
   "metadata": {},
   "source": [
    "### Constantes Numéricas importantes\n",
    "\n",
    "Tal como NumPy provee funciones matemáticas comunes como logaritmos y funciones trigonométricas ,también posee constantes usadas comunmente en problemas numéricos , por ejemplo:\n",
    "\n",
    "* **np.e** : constante de Euler, base de logaritmos naturales 2.71828...\n",
    "* **np.pi** :el conocido número pi 3.1415.....\n",
    "* **np.euler_gamma**: constante utilizada  por ejemplo en transformadas de Laplace , 0.5772....\n",
    "\n",
    "Además de algunas constantes útiles en Python para indicar por ejemplo: infinito positivo, negativo o si el resultado de una operación no es un número definido.\n",
    "\n",
    "* **np.inf**: infinito positivo\n",
    "* **np.NINF** :infinito negativo\n",
    "* **np.nan**: not a number\n",
    "\n",
    "\n",
    "https://docs.scipy.org/doc/numpy-1.15.0/reference/constants.html"
   ]
  },
  {
   "cell_type": "code",
   "execution_count": null,
   "metadata": {},
   "outputs": [],
   "source": [
    "print(np.e)\n",
    "print(np.pi)\n",
    "print(np.euler_gamma)\n",
    "\n",
    "print(np.inf)\n",
    "print(np.NINF)\n",
    "print(np.nan)"
   ]
  },
  {
   "cell_type": "markdown",
   "metadata": {},
   "source": [
    "inf,NINF, y nan  se obtienen muchas veces al aplicar una operación matemática sobre cierto valor, por ejemplo logaritmos de números negativos es algo no definido por lo cual resulta en nan, o una división por 0 resulta en infinito.\n"
   ]
  },
  {
   "cell_type": "code",
   "execution_count": null,
   "metadata": {},
   "outputs": [],
   "source": [
    "x = np.array([-5.3,-1,0,1,1.5,10,100])\n",
    "\n",
    "print(np.log(x))"
   ]
  },
  {
   "cell_type": "code",
   "execution_count": null,
   "metadata": {},
   "outputs": [],
   "source": [
    "numerador = np.array([5,4,9])\n",
    "divisor = np.array([5,0,8])\n",
    "\n",
    "numerador/divisor"
   ]
  },
  {
   "cell_type": "code",
   "execution_count": null,
   "metadata": {},
   "outputs": [],
   "source": [
    "x  = np.array([0.1,0.2,5,-2, 7])\n",
    "\n",
    "print(np.sqrt(x))"
   ]
  },
  {
   "cell_type": "code",
   "execution_count": null,
   "metadata": {},
   "outputs": [],
   "source": [
    "np.inf <= 50"
   ]
  },
  {
   "cell_type": "code",
   "execution_count": 51,
   "metadata": {},
   "outputs": [
    {
     "data": {
      "text/plain": [
       "True"
      ]
     },
     "execution_count": 51,
     "metadata": {},
     "output_type": "execute_result"
    }
   ],
   "source": [
    "np.inf >= 1000000"
   ]
  },
  {
   "cell_type": "code",
   "execution_count": 52,
   "metadata": {},
   "outputs": [
    {
     "data": {
      "text/plain": [
       "True"
      ]
     },
     "execution_count": 52,
     "metadata": {},
     "output_type": "execute_result"
    }
   ],
   "source": [
    "np.NINF < 0"
   ]
  },
  {
   "cell_type": "code",
   "execution_count": 53,
   "metadata": {},
   "outputs": [
    {
     "data": {
      "text/plain": [
       "True"
      ]
     },
     "execution_count": 53,
     "metadata": {},
     "output_type": "execute_result"
    }
   ],
   "source": [
    "-1*np.inf == np.NINF"
   ]
  },
  {
   "cell_type": "markdown",
   "metadata": {},
   "source": [
    "### Operadores lógicos en vectores\n",
    "\n",
    "Que pasa si necesitamos aplicar condiciones y validaciones al trabajar con vectores?\n",
    "\n",
    "Por ejemplo:\n",
    "$$h(x) = \\begin{cases}0 & x< 0\\\\1 & 0<=x <=1\\\\0 & x> 1\\end{cases}$$\n",
    "\n",
    "El siguiente código que refleja esta función da error.\n",
    "\n"
   ]
  },
  {
   "cell_type": "code",
   "execution_count": 7,
   "metadata": {},
   "outputs": [],
   "source": [
    "def h(x):\n",
    "    if x < 0:\n",
    "        return 0.0\n",
    "    elif 0 <= x <= 1:\n",
    "        return 1.0\n",
    "    else:\n",
    "        return 0.0\n",
    "    \n",
    "x = np.array([-1,0.1,10])\n",
    "\n",
    "#h(x)"
   ]
  },
  {
   "cell_type": "markdown",
   "metadata": {},
   "source": [
    "Para resolver el problema anterior(entre otras cosas) NumPy provee el uso de operadores lógicos sobre tensores , estos se aplican \"elemento por elemento\" gracias al broadcasting, el resultado de estos es valores booleanos True o False para cada valor.\n",
    "\n",
    "Nuevamente **es importante hacer uso del broadcasting y no hacerlo con ciclos**"
   ]
  },
  {
   "cell_type": "code",
   "execution_count": 55,
   "metadata": {},
   "outputs": [
    {
     "name": "stdout",
     "output_type": "stream",
     "text": [
      "[-2.  -1.5 -1.  -0.5  0.   0.5  1.   1.5  2. ] [ True  True  True  True False False False False False]\n"
     ]
    }
   ],
   "source": [
    "x = np.linspace(-2,2,9)\n",
    "\n",
    "y = x < 0\n",
    "\n",
    "print(x,y)"
   ]
  },
  {
   "cell_type": "markdown",
   "metadata": {},
   "source": [
    "##### Usando vectores booleanos para acceder elementos en otros vectores\n",
    "\n",
    "NumPy nos permite acceder vectores con otros vectores de tipo booleano,el resultado de esto es obtener de cierto vector solo los elementos cuya posición corresponde a un valor True en el vector booleano,\n",
    "con la sintáxis que usabamos para hacer indexing, pero usando un vector booleano como índice\n",
    "por ejemplo para el caso anterior:"
   ]
  },
  {
   "cell_type": "code",
   "execution_count": 56,
   "metadata": {},
   "outputs": [
    {
     "data": {
      "text/plain": [
       "array([-2. , -1.5, -1. , -0.5])"
      ]
     },
     "execution_count": 56,
     "metadata": {},
     "output_type": "execute_result"
    }
   ],
   "source": [
    "x[y]"
   ]
  },
  {
   "cell_type": "markdown",
   "metadata": {},
   "source": [
    "En este caso \"y\" es redundante y se pudo hacer:"
   ]
  },
  {
   "cell_type": "code",
   "execution_count": 57,
   "metadata": {},
   "outputs": [
    {
     "data": {
      "text/plain": [
       "array([-2. , -1.5, -1. , -0.5])"
      ]
     },
     "execution_count": 57,
     "metadata": {},
     "output_type": "execute_result"
    }
   ],
   "source": [
    "x[x<0]"
   ]
  },
  {
   "cell_type": "markdown",
   "metadata": {},
   "source": [
    "Explicación: el aplicar x < 0 generó un vector que tiene los primeros 4 elementos como True , si usamos este vector booleano como indice del vector original x entonces obtenemos solo los elementos de x que estan asociados a elementos True en el vector booleano de indice, en este caso solo los primeros 4."
   ]
  },
  {
   "cell_type": "markdown",
   "metadata": {},
   "source": [
    "**Ejercicio** dado el vector x, usar operadores lógicos sobre vectores y acceso a  elementos usando vectores booleanos , escribir un programa que calcule eun nuevo vector z conteniendo el valor absoluto de el vector x.\n",
    "\n",
    "**nota** No se puede usar np.abs() ni ciclos\n",
    "\n",
    "**tip** usar un vector booleano para saber que elementos son negativos y deben ser multiplicados por -1"
   ]
  },
  {
   "cell_type": "code",
   "execution_count": 8,
   "metadata": {},
   "outputs": [],
   "source": [
    "x = np.linspace(-2,2,9)\n",
    "\n",
    "\n",
    "## tu codigo aqui (~ 4 linea de codigo)\n",
    "\n"
   ]
  },
  {
   "cell_type": "markdown",
   "metadata": {},
   "source": [
    "**ejercicio** Implementar la función:\n",
    "$$h(x) = \\begin{cases}0 & x< 0\\\\1 & 0<=x <=1\\\\0 & x> 1\\end{cases}$$\n",
    "\n",
    "Esta debe funcionar para vectores de cualquier tamaño x:\n",
    "\n",
    "def h(x):\n",
    "\n",
    "    ...\n",
    "\n",
    "**nota** debe ser implementada sin ciclos o ifs "
   ]
  },
  {
   "cell_type": "code",
   "execution_count": 9,
   "metadata": {},
   "outputs": [
    {
     "name": "stdout",
     "output_type": "stream",
     "text": [
      "<function h at 0x00000243654C83A8>\n"
     ]
    }
   ],
   "source": [
    "def h(x):\n",
    "    ## tu codigo aqui (~ 3 linea de codigo)\n",
    "    \n",
    "\n",
    "    ##\n",
    "    return h\n",
    "\n",
    "x = np.array([0.1,-2,0.5,5])\n",
    "print(h(x))"
   ]
  },
  {
   "cell_type": "markdown",
   "metadata": {},
   "source": [
    "Para casos donde se requiere comportamiento parecido a este pero con mas condiciones, NumPy provee la función **np.select** , la descripción de esta función casi siempre es mas complicada de lo que debería y dificulta entenderla, vamos a buscar entenderla bajo un ejemplo.\n",
    "\n",
    "Básicamente select se basa en :\n",
    "* una lista de condiciones A\n",
    "* una lista de valores a tomar según estas condiciones B\n",
    "* un valor de  resultado default cuando ninguna de las condiciones en la  lista se cumple.\n",
    "Estas 2 listas deben ser del mismo tamañaño."
   ]
  },
  {
   "cell_type": "code",
   "execution_count": 10,
   "metadata": {},
   "outputs": [
    {
     "name": "stdout",
     "output_type": "stream",
     "text": [
      "[0 1 2 3 4 5 6 7 8 9]\n"
     ]
    },
    {
     "data": {
      "text/plain": [
       "array([ 0,  1,  2,  0,  0,  0, 36, 49, 64, 81])"
      ]
     },
     "execution_count": 10,
     "metadata": {},
     "output_type": "execute_result"
    }
   ],
   "source": [
    "x = np.arange(10)\n",
    "condiciones = [x<3,x>5] #lista A \n",
    "resultados = [x,x**2] #lista B\n",
    "\n",
    "print(x)\n",
    "#los valores de x que no satisfacen ningúna condicion obtendran 0 como resultado(este es el valor default)\n",
    "np.select(condiciones,resultados) "
   ]
  },
  {
   "cell_type": "code",
   "execution_count": 11,
   "metadata": {},
   "outputs": [
    {
     "data": {
      "text/plain": [
       "array([ 0,  1,  2, -1, -1, -1, 36, 49, 64, 81])"
      ]
     },
     "execution_count": 11,
     "metadata": {},
     "output_type": "execute_result"
    }
   ],
   "source": [
    "np.select(condiciones,resultados,-1) #podemos agregar un tercer parámetro para el valor default "
   ]
  },
  {
   "cell_type": "markdown",
   "metadata": {},
   "source": [
    "Otro ejemplo"
   ]
  },
  {
   "cell_type": "code",
   "execution_count": 12,
   "metadata": {},
   "outputs": [
    {
     "name": "stdout",
     "output_type": "stream",
     "text": [
      "[ 1.  2.  3.  4.  5.  6.  7.  8.  9. 10.]\n",
      "[  1.   2.   3.  -1.  -1.  -1.  49.  64.  81. 100.]\n"
     ]
    }
   ],
   "source": [
    "x = np.linspace(1,10,10)\n",
    "condiciones = [x<4,x>=7]\n",
    "resultados = [x,x**2]\n",
    "k = np.select(condiciones,resultados,-1)\n",
    "\n",
    "print(x)\n",
    "print(k)"
   ]
  },
  {
   "cell_type": "markdown",
   "metadata": {},
   "source": [
    "**Ejercicio**\n",
    "\n",
    "Usando select implementar una función k(x) con la siguiente definición:\n",
    "$$k(x) = \\begin{cases}-x & x< 0\\\\x^{3}  &0<=x<1\\\\x^{2}  &1<=x<2\\\\4  &otherwise\\end{cases}$$\n",
    "\n"
   ]
  },
  {
   "cell_type": "markdown",
   "metadata": {},
   "source": [
    "##### Select y performance\n",
    "Aun que select es muy conveniente y útil , no es la opción mas eficiente esto debido a que evalua todas las condiciones y todos los resultados, en programación en general buscamos escribir los programas de la manera mas eficiente posible y evitar calculos innecesarios, esto se vuelve vital en ciencia de datos cuando procesamos grandes volúmenes de información, por eso NumPy nos provee la alternativa a select llamada **piecewise** que funciona de manera similar .\n",
    "\n",
    "Este funciona similar a select pero en vez de calcular todos los posibles resultados, calcula solo aquellos para los que la condición es True e ignora los False,sintácticamente piecewise requiere que los \"resultados\" sesan calcuados usando una lista de funciones por lo cual todos los resultados deben estar contenidos en una función  y el objeto función ser enviado a piecewise (si la función solo se utiliza una vez para este propósito, se puede usar funciones anónimas o lambda).\n",
    "\n",
    "**Ejercicio** \n",
    "Investigar piecewise y:\n",
    "*  Usarlo para implementar la función anterior de manera eficiente\n",
    "*  Usar piscewise para implementar la función:\n",
    "\n",
    "$$m(x) = \\begin{cases}e^{2x} & x< 0\\\\1  &0<=x<1\\\\e^{1-x}  &x<=1\\\\\\end{cases}$$\n",
    "\n",
    "Nuevamente, sin utilizar ciclos ni ifs"
   ]
  },
  {
   "cell_type": "markdown",
   "metadata": {},
   "source": [
    "#### Investigar\n",
    "\n",
    "* Proyección vectorial\n",
    "    * Definir una función para calculo en numpy\n",
    "    * interpretación\n",
    "    * aplicación o caso de uso en DS u otras ciencias de tu interés: solo se necesita nombrar el caso de uso, no desarrollarlo o programarlo, tip: Hay un algoritmo de ML cuyo nombre puede ser  útil.\n",
    "* Producto cruz\n",
    "    * calculo en numpy\n",
    "    * interpretación\n",
    "    * aplicación o caso de uso en DS u otras ciencias de tu interés: solo se necesita nombrar el caso de uso, no desarrollarlo o programarlo\n",
    "    \n",
    "#### Referencias\n",
    "\n",
    "* https://www.oreilly.com/library/view/data-science-from/9781491901410/ch04.html\n",
    "* https://towardsdatascience.com/linear-algebra-cheat-sheet-for-deep-learning-cd67aba4526c\n",
    "* https://www.analyticsvidhya.com/blog/2017/05/comprehensive-guide-to-linear-algebra/\n",
    "* https://towardsdatascience.com/boost-your-data-sciences-skills-learn-linear-algebra-2c30fdd008cf\n",
    "* https://machinelearningmastery.com/examples-of-linear-algebra-in-machine-learning/\n",
    "* https://www.youtube.com/playlist?list=PLZHQObOWTQDPD3MizzM2xVFitgF8hE_ab"
   ]
  }
 ],
 "metadata": {
  "kernelspec": {
   "display_name": "Python 3",
   "language": "python",
   "name": "python3"
  },
  "language_info": {
   "codemirror_mode": {
    "name": "ipython",
    "version": 3
   },
   "file_extension": ".py",
   "mimetype": "text/x-python",
   "name": "python",
   "nbconvert_exporter": "python",
   "pygments_lexer": "ipython3",
   "version": "3.7.6"
  }
 },
 "nbformat": 4,
 "nbformat_minor": 2
}
