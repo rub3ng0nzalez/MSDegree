{
 "cells": [
  {
   "cell_type": "markdown",
   "metadata": {},
   "source": [
    "# Text mining and Image Recognition: Hoja de Trabajo 4\n",
    "#### Ruben Gonzalez 20003314"
   ]
  },
  {
   "cell_type": "markdown",
   "metadata": {},
   "source": [
    "## Problema 1\n",
    "Para este problema debera hacer analisis de sentimientos para un conjunto de reviews de Yelp, debera mostrar las siguientes metricas sobre el conjunto de reviews:\n",
    "\n",
    "1. Mostrar el porcentaje de comentarios positivos y comentarios negativos en una misma grafica\n",
    "2. Mostrar una grafica tipo boxplot para la distribucion de los resultados de la polaridad y lasubjetividad\n",
    "3. Debera realizar un analisis estadistico con comentarios sobre los resultados de sus hallazgos a partir de las graficas anteriores."
   ]
  },
  {
   "cell_type": "code",
   "execution_count": 42,
   "metadata": {},
   "outputs": [],
   "source": [
    "import requests\n",
    "import re\n",
    "import pandas as pd\n",
    "import html as ht"
   ]
  },
  {
   "cell_type": "markdown",
   "metadata": {},
   "source": [
    "### Preprocesamiento de los reviews"
   ]
  },
  {
   "cell_type": "code",
   "execution_count": 5,
   "metadata": {},
   "outputs": [],
   "source": [
    "def obtenerReviews(url):\n",
    "    initText = '<span class=\"lemon--span__373c0__3997G raw__373c0__3rKqk\" lang=\"en\">' \n",
    "    endText = '</span>'\n",
    "    response = requests.get(url)\n",
    "    reviews = []\n",
    "    reviews_temp = re.findall(initText + '(.+?)' + endText, response.text)\n",
    "    page = 20\n",
    "    while response.status_code == 200 and len(reviews_temp) > 0:\n",
    "        reviews_temp = re.findall(initText + '(.+?)' + endText, response.text)\n",
    "        for i in range(len(reviews_temp)):\n",
    "            reviews.append(reviews_temp[i])\n",
    "        response = requests.get(url + '?start=' + str(page))\n",
    "        page += 20\n",
    "        print(page)\n",
    "    return reviews"
   ]
  },
  {
   "cell_type": "code",
   "execution_count": 47,
   "metadata": {},
   "outputs": [
    {
     "name": "stdout",
     "output_type": "stream",
     "text": [
      "40\n",
      "60\n",
      "80\n",
      "100\n",
      "120\n",
      "140\n",
      "160\n",
      "180\n",
      "200\n",
      "220\n",
      "240\n",
      "260\n",
      "280\n",
      "300\n",
      "320\n",
      "340\n"
     ]
    }
   ],
   "source": [
    "reviewsPizza = obtenerReviews(\"https://www.yelp.com/biz/firepie-san-francisco\")"
   ]
  },
  {
   "cell_type": "code",
   "execution_count": 48,
   "metadata": {},
   "outputs": [],
   "source": [
    "def removerFormatoHTML(reviews):\n",
    "    for index, review in enumerate(reviews):\n",
    "        review = ht.unescape(review)\n",
    "        reviews[index] = review\n",
    "    return reviews"
   ]
  },
  {
   "cell_type": "code",
   "execution_count": 51,
   "metadata": {},
   "outputs": [
    {
     "data": {
      "text/plain": [
       "'WTF, 4.5 stars for this food , the only good thing about this food is quick nothing more and nothings less. I have just ordered Vegetarian pizza 10\" , it cost me almost $15. The pizza was really shitty , thin burned pizza. I can say one star for the food , 5 stars for the time but I care about the quality more than time , I would prefer spend my money in Pizza Hut rather spending it here!'"
      ]
     },
     "execution_count": 51,
     "metadata": {},
     "output_type": "execute_result"
    }
   ],
   "source": [
    "reviewsPizza[120]"
   ]
  },
  {
   "cell_type": "code",
   "execution_count": 50,
   "metadata": {},
   "outputs": [],
   "source": [
    "reviewsPizza = removerFormatoHTML(reviewsPizza)"
   ]
  },
  {
   "cell_type": "code",
   "execution_count": 75,
   "metadata": {},
   "outputs": [
    {
     "data": {
      "text/html": [
       "<div>\n",
       "<style scoped>\n",
       "    .dataframe tbody tr th:only-of-type {\n",
       "        vertical-align: middle;\n",
       "    }\n",
       "\n",
       "    .dataframe tbody tr th {\n",
       "        vertical-align: top;\n",
       "    }\n",
       "\n",
       "    .dataframe thead th {\n",
       "        text-align: right;\n",
       "    }\n",
       "</style>\n",
       "<table border=\"1\" class=\"dataframe\">\n",
       "  <thead>\n",
       "    <tr style=\"text-align: right;\">\n",
       "      <th></th>\n",
       "      <th>reviews</th>\n",
       "    </tr>\n",
       "  </thead>\n",
       "  <tbody>\n",
       "    <tr>\n",
       "      <th>0</th>\n",
       "      <td>I live in LA but needed to order tasty food fo...</td>\n",
       "    </tr>\n",
       "    <tr>\n",
       "      <th>1</th>\n",
       "      <td>My first time ordering at this place and the d...</td>\n",
       "    </tr>\n",
       "    <tr>\n",
       "      <th>2</th>\n",
       "      <td>Super fast and delicious pizza! Crust was crun...</td>\n",
       "    </tr>\n",
       "    <tr>\n",
       "      <th>3</th>\n",
       "      <td>The team here is super friendly!! Quick and ea...</td>\n",
       "    </tr>\n",
       "    <tr>\n",
       "      <th>4</th>\n",
       "      <td>I used to order from at least once a week coup...</td>\n",
       "    </tr>\n",
       "  </tbody>\n",
       "</table>\n",
       "</div>"
      ],
      "text/plain": [
       "                                             reviews\n",
       "0  I live in LA but needed to order tasty food fo...\n",
       "1  My first time ordering at this place and the d...\n",
       "2  Super fast and delicious pizza! Crust was crun...\n",
       "3  The team here is super friendly!! Quick and ea...\n",
       "4  I used to order from at least once a week coup..."
      ]
     },
     "execution_count": 75,
     "metadata": {},
     "output_type": "execute_result"
    }
   ],
   "source": [
    "Total = pd.DataFrame(reviewsPizza,columns=['reviews'])\n",
    "Total.head()"
   ]
  },
  {
   "cell_type": "code",
   "execution_count": 76,
   "metadata": {},
   "outputs": [],
   "source": [
    "def limpiezaReviews(listaReviews):\n",
    "    #listaReviews = listaReviews.str.replace('<br>','')\n",
    "    #listaReviews = listaReviews.str.replace('&#39;',\"'\")\n",
    "    #listaReviews = listaReviews.str.replace(u'\\xa0',\" \")\n",
    "    listaReviews = listaReviews.str.lower()\n",
    "    listaReviews = listaReviews.str.rstrip('\\n')\n",
    "    return listaReviews"
   ]
  },
  {
   "cell_type": "code",
   "execution_count": 77,
   "metadata": {},
   "outputs": [
    {
     "data": {
      "text/html": [
       "<div>\n",
       "<style scoped>\n",
       "    .dataframe tbody tr th:only-of-type {\n",
       "        vertical-align: middle;\n",
       "    }\n",
       "\n",
       "    .dataframe tbody tr th {\n",
       "        vertical-align: top;\n",
       "    }\n",
       "\n",
       "    .dataframe thead th {\n",
       "        text-align: right;\n",
       "    }\n",
       "</style>\n",
       "<table border=\"1\" class=\"dataframe\">\n",
       "  <thead>\n",
       "    <tr style=\"text-align: right;\">\n",
       "      <th></th>\n",
       "      <th>reviews</th>\n",
       "    </tr>\n",
       "  </thead>\n",
       "  <tbody>\n",
       "    <tr>\n",
       "      <th>0</th>\n",
       "      <td>i live in la but needed to order tasty food fo...</td>\n",
       "    </tr>\n",
       "    <tr>\n",
       "      <th>1</th>\n",
       "      <td>my first time ordering at this place and the d...</td>\n",
       "    </tr>\n",
       "    <tr>\n",
       "      <th>2</th>\n",
       "      <td>super fast and delicious pizza! crust was crun...</td>\n",
       "    </tr>\n",
       "    <tr>\n",
       "      <th>3</th>\n",
       "      <td>the team here is super friendly!! quick and ea...</td>\n",
       "    </tr>\n",
       "    <tr>\n",
       "      <th>4</th>\n",
       "      <td>i used to order from at least once a week coup...</td>\n",
       "    </tr>\n",
       "  </tbody>\n",
       "</table>\n",
       "</div>"
      ],
      "text/plain": [
       "                                             reviews\n",
       "0  i live in la but needed to order tasty food fo...\n",
       "1  my first time ordering at this place and the d...\n",
       "2  super fast and delicious pizza! crust was crun...\n",
       "3  the team here is super friendly!! quick and ea...\n",
       "4  i used to order from at least once a week coup..."
      ]
     },
     "execution_count": 77,
     "metadata": {},
     "output_type": "execute_result"
    }
   ],
   "source": [
    "Total['reviews']=limpiezaReviews(Total['reviews'])\n",
    "Total.head()"
   ]
  },
  {
   "cell_type": "code",
   "execution_count": 78,
   "metadata": {},
   "outputs": [
    {
     "data": {
      "text/plain": [
       "'wtf, 4.5 stars for this food , the only good thing about this food is quick nothing more and nothings less. i have just ordered vegetarian pizza 10\" , it cost me almost $15. the pizza was really shitty , thin burned pizza. i can say one star for the food , 5 stars for the time but i care about the quality more than time , i would prefer spend my money in pizza hut rather spending it here!'"
      ]
     },
     "execution_count": 78,
     "metadata": {},
     "output_type": "execute_result"
    }
   ],
   "source": [
    "Total['reviews'][120]"
   ]
  },
  {
   "cell_type": "markdown",
   "metadata": {},
   "source": [
    "### Analisis de sentimiento"
   ]
  },
  {
   "cell_type": "code",
   "execution_count": 57,
   "metadata": {},
   "outputs": [],
   "source": [
    "from textblob import TextBlob"
   ]
  },
  {
   "cell_type": "code",
   "execution_count": 144,
   "metadata": {},
   "outputs": [],
   "source": [
    "def Sentimientos(allReviews, translate = False):\n",
    "    polarities = []\n",
    "    subjs = []\n",
    "    label = []\n",
    "    opinion = []\n",
    "\n",
    "    for review in allReviews:\n",
    "        sentimiento = TextBlob(review)\n",
    "        if translate:\n",
    "            sentimiento = sentimiento.translate(to= 'en')\n",
    "        polarities.append(sentimiento.polarity)\n",
    "        subjs.append(sentimiento.subjectivity)\n",
    "        \n",
    "        #Identificacion tipo de review segun polaridad\n",
    "        if (sentimiento.polarity > 0):\n",
    "            label.append('positivo')\n",
    "        elif (sentimiento.polarity < 0):\n",
    "            label.append('negativo')\n",
    "        else:\n",
    "            label.append('neutro')\n",
    "        \n",
    "        #Identificacion tipo de review segun subjetividad\n",
    "        if (sentimiento.subjectivity > 0.5):\n",
    "            opinion.append('subjetivo')\n",
    "        elif (sentimiento.subjectivity <= 0.5):\n",
    "            opinion.append('objetivo')\n",
    "        \n",
    "    dataOut = pd.DataFrame({'polaridad':polarities, 'subje':subjs, 'etiqueta':label, 'tipo opinion':opinion})\n",
    "    dataOut.head()\n",
    "\n",
    "    return dataOut"
   ]
  },
  {
   "cell_type": "code",
   "execution_count": 89,
   "metadata": {},
   "outputs": [
    {
     "data": {
      "text/html": [
       "<div>\n",
       "<style scoped>\n",
       "    .dataframe tbody tr th:only-of-type {\n",
       "        vertical-align: middle;\n",
       "    }\n",
       "\n",
       "    .dataframe tbody tr th {\n",
       "        vertical-align: top;\n",
       "    }\n",
       "\n",
       "    .dataframe thead th {\n",
       "        text-align: right;\n",
       "    }\n",
       "</style>\n",
       "<table border=\"1\" class=\"dataframe\">\n",
       "  <thead>\n",
       "    <tr style=\"text-align: right;\">\n",
       "      <th></th>\n",
       "      <th>polaridad</th>\n",
       "      <th>subje</th>\n",
       "      <th>etiqueta</th>\n",
       "      <th>tipo opinion</th>\n",
       "    </tr>\n",
       "  </thead>\n",
       "  <tbody>\n",
       "    <tr>\n",
       "      <th>0</th>\n",
       "      <td>0.263868</td>\n",
       "      <td>0.583673</td>\n",
       "      <td>positivo</td>\n",
       "      <td>subjetivo</td>\n",
       "    </tr>\n",
       "    <tr>\n",
       "      <th>1</th>\n",
       "      <td>0.362500</td>\n",
       "      <td>0.608333</td>\n",
       "      <td>positivo</td>\n",
       "      <td>subjetivo</td>\n",
       "    </tr>\n",
       "    <tr>\n",
       "      <th>2</th>\n",
       "      <td>0.446667</td>\n",
       "      <td>0.773333</td>\n",
       "      <td>positivo</td>\n",
       "      <td>subjetivo</td>\n",
       "    </tr>\n",
       "    <tr>\n",
       "      <th>3</th>\n",
       "      <td>0.446819</td>\n",
       "      <td>0.659286</td>\n",
       "      <td>positivo</td>\n",
       "      <td>subjetivo</td>\n",
       "    </tr>\n",
       "    <tr>\n",
       "      <th>4</th>\n",
       "      <td>0.379218</td>\n",
       "      <td>0.674694</td>\n",
       "      <td>positivo</td>\n",
       "      <td>subjetivo</td>\n",
       "    </tr>\n",
       "  </tbody>\n",
       "</table>\n",
       "</div>"
      ],
      "text/plain": [
       "   polaridad     subje  etiqueta tipo opinion\n",
       "0   0.263868  0.583673  positivo    subjetivo\n",
       "1   0.362500  0.608333  positivo    subjetivo\n",
       "2   0.446667  0.773333  positivo    subjetivo\n",
       "3   0.446819  0.659286  positivo    subjetivo\n",
       "4   0.379218  0.674694  positivo    subjetivo"
      ]
     },
     "execution_count": 89,
     "metadata": {},
     "output_type": "execute_result"
    }
   ],
   "source": [
    "Analisis = Sentimientos(Total['reviews'])\n",
    "Analisis.head()"
   ]
  },
  {
   "cell_type": "code",
   "execution_count": 114,
   "metadata": {},
   "outputs": [
    {
     "data": {
      "text/plain": [
       "positivo    293\n",
       "negativo     18\n",
       "neutro        2\n",
       "Name: etiqueta, dtype: int64"
      ]
     },
     "execution_count": 114,
     "metadata": {},
     "output_type": "execute_result"
    }
   ],
   "source": [
    "Polaridad1=Analisis.etiqueta.value_counts()\n",
    "Polaridad1"
   ]
  },
  {
   "cell_type": "code",
   "execution_count": 115,
   "metadata": {},
   "outputs": [
    {
     "data": {
      "text/plain": [
       "subjetivo    233\n",
       "objetivo      80\n",
       "Name: tipo opinion, dtype: int64"
      ]
     },
     "execution_count": 115,
     "metadata": {},
     "output_type": "execute_result"
    }
   ],
   "source": [
    "Subjetividad1=Analisis[\"tipo opinion\"].value_counts()\n",
    "Subjetividad1"
   ]
  },
  {
   "cell_type": "markdown",
   "metadata": {},
   "source": [
    "### Grafico 1: Positivos y negativos"
   ]
  },
  {
   "cell_type": "code",
   "execution_count": 93,
   "metadata": {},
   "outputs": [],
   "source": [
    "import matplotlib.pyplot as plt"
   ]
  },
  {
   "cell_type": "code",
   "execution_count": 119,
   "metadata": {},
   "outputs": [],
   "source": [
    "def GraficarPie(polaridad, titulo):\n",
    "    plt.pie(polaridad.values[0:2], \n",
    "        explode=(0.1, 0),\n",
    "        labels=polaridad.keys()[0:2],\n",
    "        autopct='%1.1f%%', \n",
    "        shadow=True, \n",
    "        startangle=140)\n",
    "\n",
    "    plt.axis('equal')\n",
    "    plt.title(titulo)\n",
    "    plt.show()"
   ]
  },
  {
   "cell_type": "code",
   "execution_count": 120,
   "metadata": {},
   "outputs": [
    {
     "data": {
      "image/png": "[encoded data removed]",
      "text/plain": [
       "<Figure size 432x288 with 1 Axes>"
      ]
     },
     "metadata": {},
     "output_type": "display_data"
    }
   ],
   "source": [
    "GraficarPie(Polaridad1, 'Polaridad ejercicio 1')"
   ]
  },
  {
   "cell_type": "code",
   "execution_count": 106,
   "metadata": {},
   "outputs": [
    {
     "data": {
      "image/png": "[encoded data removed]",
      "text/plain": [
       "<Figure size 432x288 with 1 Axes>"
      ]
     },
     "metadata": {},
     "output_type": "display_data"
    }
   ],
   "source": [
    "GraficarPie(Subjetividad1, 'Subjetividad ejercicio 1')"
   ]
  },
  {
   "cell_type": "markdown",
   "metadata": {},
   "source": [
    "### Grafico 2: Distribucion de resultados con boxplot "
   ]
  },
  {
   "cell_type": "code",
   "execution_count": 121,
   "metadata": {},
   "outputs": [
    {
     "data": {
      "text/plain": [
       "{'whiskers': [<matplotlib.lines.Line2D at 0x14ea5a7c5c8>,\n",
       "  <matplotlib.lines.Line2D at 0x14ea5a7cb88>,\n",
       "  <matplotlib.lines.Line2D at 0x14ea5a85c88>,\n",
       "  <matplotlib.lines.Line2D at 0x14ea5a91d88>],\n",
       " 'caps': [<matplotlib.lines.Line2D at 0x14ea5a7cc88>,\n",
       "  <matplotlib.lines.Line2D at 0x14ea5a85808>,\n",
       "  <matplotlib.lines.Line2D at 0x14ea5a91e88>,\n",
       "  <matplotlib.lines.Line2D at 0x14ea5a979c8>],\n",
       " 'boxes': [<matplotlib.lines.Line2D at 0x14ea5a77e08>,\n",
       "  <matplotlib.lines.Line2D at 0x14ea5a8af88>],\n",
       " 'medians': [<matplotlib.lines.Line2D at 0x14ea5a85e48>,\n",
       "  <matplotlib.lines.Line2D at 0x14ea5a97fc8>],\n",
       " 'fliers': [<matplotlib.lines.Line2D at 0x14ea5a85f08>,\n",
       "  <matplotlib.lines.Line2D at 0x14ea5a9f588>],\n",
       " 'means': [<matplotlib.lines.Line2D at 0x14ea5a85f48>,\n",
       "  <matplotlib.lines.Line2D at 0x14ea5a97f48>]}"
      ]
     },
     "execution_count": 121,
     "metadata": {},
     "output_type": "execute_result"
    },
    {
     "data": {
      "image/png": "[encoded data removed]",
      "text/plain": [
       "<Figure size 432x288 with 1 Axes>"
      ]
     },
     "metadata": {
      "needs_background": "light"
     },
     "output_type": "display_data"
    }
   ],
   "source": [
    "fig1, ax1 = plt.subplots()\n",
    "ax1.set_title('Distribucion de resultados de la polaridad')\n",
    "ax1.boxplot([Analisis['polaridad'], Analisis['subje']], labels = ['Polaridad','Subjetividad'],showmeans=True)"
   ]
  },
  {
   "cell_type": "markdown",
   "metadata": {},
   "source": [
    "### Conclusiones\n",
    "La Pizzeria firepie tiene un procentaje abrumador de comentarios positivos, 94.2%. Sin embargo practicamente un 75% de estos comentarios fueron subjetivos. Analizando la distribucion vemos que si bien los resultados son positivos lo son por muy poco pues la mayor distribucion de estos se encuentra entre 0.2 y 0.4. Valdría la pena hacer un análisis de las palabras que más se repiten en los comentarios pues se espera tener un sesgo positivo más cercano a 1. Al tener estas palabras que más se repiten podriamos encontrar áreas de mejora y tener más claro qué temas se mencionan más en los comentarios. "
   ]
  },
  {
   "cell_type": "markdown",
   "metadata": {},
   "source": [
    "## Problema 2:\n",
    "Cree un web scraper para los reviews del sitio Trip Advisor, similar al demo trabajado durante la clase #8. Desarrolle un programa que le permita aplicar el analisis de sentimientos desarrollado por su persona en el ejercicio anterior, debera analizar el codigo HTML para poder realizar exitosamente el web scraper.\n",
    "\n",
    "Para el caso de Trip Advisor, podra notar que la URL se modifica por medio de un parametro llamado or-X donde X es el indice inicial de cada review. En Trip Advisor, los reviews estan organizados en multiplos de 5. A continuacion se le muestra una URL y el parametro de configuracion mencionado:\n",
    "\n",
    "https://www.tripadvisor.com.mx/Hotel_Review-g662606-d283869-Reviews-or5-Jardines_de_Nivaria_Adrian_Hoteles-Costa_Adeje_Adeje_Tenerife_Canary_Islands.html#REVIEWS"
   ]
  },
  {
   "cell_type": "code",
   "execution_count": 129,
   "metadata": {},
   "outputs": [],
   "source": [
    "def obtenerReviews_TripAdvisor(url1, url2):\n",
    "    initText = '<q class=\"IRsGHoPm\"><span>' \n",
    "    endText = '</span></q>'\n",
    "    response = requests.get(url1+url2)\n",
    "    reviews = []\n",
    "    reviews_temp = re.findall(initText + '(.+?)' + endText, response.text)\n",
    "    page = 5\n",
    "    while response.status_code == 200 and len(reviews_temp) > 0:\n",
    "        reviews_temp = re.findall(initText + '(.+?)' + endText, response.text)\n",
    "        for i in range(len(reviews_temp)):\n",
    "            reviews.append(reviews_temp[i])\n",
    "        response = requests.get(url1 + '-or' + str(page) + url2)\n",
    "        page += 5\n",
    "        print(page)\n",
    "    return reviews"
   ]
  },
  {
   "cell_type": "code",
   "execution_count": 127,
   "metadata": {},
   "outputs": [],
   "source": [
    "urlPart1=\"https://www.tripadvisor.com.mx/Hotel_Review-g295366-d1746674-Reviews\"\n",
    "urlPart2=\"-Mil_Flores_Luxury_Design_Hotel-Antigua_Sacatepequez_Department.html\" "
   ]
  },
  {
   "cell_type": "code",
   "execution_count": 131,
   "metadata": {},
   "outputs": [
    {
     "name": "stdout",
     "output_type": "stream",
     "text": [
      "10\n",
      "15\n",
      "20\n",
      "25\n",
      "30\n",
      "35\n",
      "40\n",
      "45\n",
      "50\n",
      "55\n",
      "60\n",
      "65\n",
      "70\n",
      "75\n",
      "80\n",
      "85\n",
      "90\n",
      "95\n",
      "100\n",
      "105\n",
      "110\n",
      "115\n",
      "120\n",
      "125\n",
      "130\n",
      "135\n",
      "140\n",
      "145\n",
      "150\n",
      "155\n",
      "160\n",
      "165\n",
      "170\n",
      "175\n"
     ]
    }
   ],
   "source": [
    "reviewsHotel = obtenerReviews_TripAdvisor(urlPart1,urlPart2)"
   ]
  },
  {
   "cell_type": "code",
   "execution_count": 135,
   "metadata": {},
   "outputs": [],
   "source": [
    "reviewsHotel = removerFormatoHTML(reviewsHotel)"
   ]
  },
  {
   "cell_type": "code",
   "execution_count": 157,
   "metadata": {},
   "outputs": [
    {
     "data": {
      "text/plain": [
       "'No estuvimos alojados pero queríamos conocerlo y entramos al restaurante. Sólo había un menú, fue imposible comer de carta. Nos sirvieron un \"róbalo al azafrán\" en el que el róbalo y el azafrán iban de incógnito, el precio del menú era ajustado pero en las bebidas se resarcieron. Es el día que más caro he pagado por comer en Antigua y en el que menos a gusto lo he hecho. Quizá contribuyó el que estuviéramos solos en el área de la piscina y se levantase un poco de viento. El hotel parecía desangelado pese a ser temporada extra, no digo que no estuviera al completo pero dimos una vuelta por las zonas comunes y no vimos un alma. La piscina y el jacuzzi, desiertos, necesitaban un poco de mantenimiento diario, con la superficie de la lámina de agua llena de restos de vegetación. Las</span><span>…'"
      ]
     },
     "execution_count": 157,
     "metadata": {},
     "output_type": "execute_result"
    }
   ],
   "source": [
    "reviewsHotel[132]"
   ]
  },
  {
   "cell_type": "code",
   "execution_count": 137,
   "metadata": {},
   "outputs": [
    {
     "data": {
      "text/html": [
       "<div>\n",
       "<style scoped>\n",
       "    .dataframe tbody tr th:only-of-type {\n",
       "        vertical-align: middle;\n",
       "    }\n",
       "\n",
       "    .dataframe tbody tr th {\n",
       "        vertical-align: top;\n",
       "    }\n",
       "\n",
       "    .dataframe thead th {\n",
       "        text-align: right;\n",
       "    }\n",
       "</style>\n",
       "<table border=\"1\" class=\"dataframe\">\n",
       "  <thead>\n",
       "    <tr style=\"text-align: right;\">\n",
       "      <th></th>\n",
       "      <th>reviews</th>\n",
       "    </tr>\n",
       "  </thead>\n",
       "  <tbody>\n",
       "    <tr>\n",
       "      <th>0</th>\n",
       "      <td>Me gustó mucho el lugar!!! muy bonito,un espac...</td>\n",
       "    </tr>\n",
       "    <tr>\n",
       "      <th>1</th>\n",
       "      <td>Nos hospedamos el 24 de diciembre, el lugar es...</td>\n",
       "    </tr>\n",
       "    <tr>\n",
       "      <th>2</th>\n",
       "      <td>Me encantaron las instalaciones, excelente la ...</td>\n",
       "    </tr>\n",
       "    <tr>\n",
       "      <th>3</th>\n",
       "      <td>Lugar muy especial con habitaciones de lujo y ...</td>\n",
       "    </tr>\n",
       "    <tr>\n",
       "      <th>4</th>\n",
       "      <td>Con mi esposa pasamos un fin de semana en el h...</td>\n",
       "    </tr>\n",
       "  </tbody>\n",
       "</table>\n",
       "</div>"
      ],
      "text/plain": [
       "                                             reviews\n",
       "0  Me gustó mucho el lugar!!! muy bonito,un espac...\n",
       "1  Nos hospedamos el 24 de diciembre, el lugar es...\n",
       "2  Me encantaron las instalaciones, excelente la ...\n",
       "3  Lugar muy especial con habitaciones de lujo y ...\n",
       "4  Con mi esposa pasamos un fin de semana en el h..."
      ]
     },
     "execution_count": 137,
     "metadata": {},
     "output_type": "execute_result"
    }
   ],
   "source": [
    "Total2 = pd.DataFrame(reviewsHotel,columns=['reviews'])\n",
    "Total2.head()"
   ]
  },
  {
   "cell_type": "code",
   "execution_count": 138,
   "metadata": {},
   "outputs": [
    {
     "data": {
      "text/html": [
       "<div>\n",
       "<style scoped>\n",
       "    .dataframe tbody tr th:only-of-type {\n",
       "        vertical-align: middle;\n",
       "    }\n",
       "\n",
       "    .dataframe tbody tr th {\n",
       "        vertical-align: top;\n",
       "    }\n",
       "\n",
       "    .dataframe thead th {\n",
       "        text-align: right;\n",
       "    }\n",
       "</style>\n",
       "<table border=\"1\" class=\"dataframe\">\n",
       "  <thead>\n",
       "    <tr style=\"text-align: right;\">\n",
       "      <th></th>\n",
       "      <th>reviews</th>\n",
       "    </tr>\n",
       "  </thead>\n",
       "  <tbody>\n",
       "    <tr>\n",
       "      <th>0</th>\n",
       "      <td>me gustó mucho el lugar!!! muy bonito,un espac...</td>\n",
       "    </tr>\n",
       "    <tr>\n",
       "      <th>1</th>\n",
       "      <td>nos hospedamos el 24 de diciembre, el lugar es...</td>\n",
       "    </tr>\n",
       "    <tr>\n",
       "      <th>2</th>\n",
       "      <td>me encantaron las instalaciones, excelente la ...</td>\n",
       "    </tr>\n",
       "    <tr>\n",
       "      <th>3</th>\n",
       "      <td>lugar muy especial con habitaciones de lujo y ...</td>\n",
       "    </tr>\n",
       "    <tr>\n",
       "      <th>4</th>\n",
       "      <td>con mi esposa pasamos un fin de semana en el h...</td>\n",
       "    </tr>\n",
       "  </tbody>\n",
       "</table>\n",
       "</div>"
      ],
      "text/plain": [
       "                                             reviews\n",
       "0  me gustó mucho el lugar!!! muy bonito,un espac...\n",
       "1  nos hospedamos el 24 de diciembre, el lugar es...\n",
       "2  me encantaron las instalaciones, excelente la ...\n",
       "3  lugar muy especial con habitaciones de lujo y ...\n",
       "4  con mi esposa pasamos un fin de semana en el h..."
      ]
     },
     "execution_count": 138,
     "metadata": {},
     "output_type": "execute_result"
    }
   ],
   "source": [
    "Total2['reviews']=limpiezaReviews(Total2['reviews'])\n",
    "Total2.head()"
   ]
  },
  {
   "cell_type": "markdown",
   "metadata": {},
   "source": [
    "### Analisis de sentimiento"
   ]
  },
  {
   "cell_type": "code",
   "execution_count": 145,
   "metadata": {},
   "outputs": [
    {
     "data": {
      "text/html": [
       "<div>\n",
       "<style scoped>\n",
       "    .dataframe tbody tr th:only-of-type {\n",
       "        vertical-align: middle;\n",
       "    }\n",
       "\n",
       "    .dataframe tbody tr th {\n",
       "        vertical-align: top;\n",
       "    }\n",
       "\n",
       "    .dataframe thead th {\n",
       "        text-align: right;\n",
       "    }\n",
       "</style>\n",
       "<table border=\"1\" class=\"dataframe\">\n",
       "  <thead>\n",
       "    <tr style=\"text-align: right;\">\n",
       "      <th></th>\n",
       "      <th>polaridad</th>\n",
       "      <th>subje</th>\n",
       "      <th>etiqueta</th>\n",
       "      <th>tipo opinion</th>\n",
       "    </tr>\n",
       "  </thead>\n",
       "  <tbody>\n",
       "    <tr>\n",
       "      <th>0</th>\n",
       "      <td>0.844167</td>\n",
       "      <td>0.780000</td>\n",
       "      <td>positivo</td>\n",
       "      <td>subjetivo</td>\n",
       "    </tr>\n",
       "    <tr>\n",
       "      <th>1</th>\n",
       "      <td>0.391000</td>\n",
       "      <td>0.596667</td>\n",
       "      <td>positivo</td>\n",
       "      <td>subjetivo</td>\n",
       "    </tr>\n",
       "    <tr>\n",
       "      <th>2</th>\n",
       "      <td>0.900000</td>\n",
       "      <td>0.850000</td>\n",
       "      <td>positivo</td>\n",
       "      <td>subjetivo</td>\n",
       "    </tr>\n",
       "    <tr>\n",
       "      <th>3</th>\n",
       "      <td>0.822857</td>\n",
       "      <td>0.898571</td>\n",
       "      <td>positivo</td>\n",
       "      <td>subjetivo</td>\n",
       "    </tr>\n",
       "    <tr>\n",
       "      <th>4</th>\n",
       "      <td>0.244000</td>\n",
       "      <td>0.640000</td>\n",
       "      <td>positivo</td>\n",
       "      <td>subjetivo</td>\n",
       "    </tr>\n",
       "  </tbody>\n",
       "</table>\n",
       "</div>"
      ],
      "text/plain": [
       "   polaridad     subje  etiqueta tipo opinion\n",
       "0   0.844167  0.780000  positivo    subjetivo\n",
       "1   0.391000  0.596667  positivo    subjetivo\n",
       "2   0.900000  0.850000  positivo    subjetivo\n",
       "3   0.822857  0.898571  positivo    subjetivo\n",
       "4   0.244000  0.640000  positivo    subjetivo"
      ]
     },
     "execution_count": 145,
     "metadata": {},
     "output_type": "execute_result"
    }
   ],
   "source": [
    "AnalisisHotel = Sentimientos(Total2['reviews'], True)\n",
    "AnalisisHotel.head()"
   ]
  },
  {
   "cell_type": "code",
   "execution_count": 153,
   "metadata": {},
   "outputs": [
    {
     "data": {
      "text/html": [
       "<div>\n",
       "<style scoped>\n",
       "    .dataframe tbody tr th:only-of-type {\n",
       "        vertical-align: middle;\n",
       "    }\n",
       "\n",
       "    .dataframe tbody tr th {\n",
       "        vertical-align: top;\n",
       "    }\n",
       "\n",
       "    .dataframe thead th {\n",
       "        text-align: right;\n",
       "    }\n",
       "</style>\n",
       "<table border=\"1\" class=\"dataframe\">\n",
       "  <thead>\n",
       "    <tr style=\"text-align: right;\">\n",
       "      <th></th>\n",
       "      <th>polaridad</th>\n",
       "      <th>subje</th>\n",
       "      <th>etiqueta</th>\n",
       "      <th>tipo opinion</th>\n",
       "    </tr>\n",
       "  </thead>\n",
       "  <tbody>\n",
       "    <tr>\n",
       "      <th>115</th>\n",
       "      <td>-0.091667</td>\n",
       "      <td>0.433333</td>\n",
       "      <td>negativo</td>\n",
       "      <td>objetivo</td>\n",
       "    </tr>\n",
       "    <tr>\n",
       "      <th>132</th>\n",
       "      <td>-0.084570</td>\n",
       "      <td>0.477106</td>\n",
       "      <td>negativo</td>\n",
       "      <td>objetivo</td>\n",
       "    </tr>\n",
       "  </tbody>\n",
       "</table>\n",
       "</div>"
      ],
      "text/plain": [
       "     polaridad     subje  etiqueta tipo opinion\n",
       "115  -0.091667  0.433333  negativo     objetivo\n",
       "132  -0.084570  0.477106  negativo     objetivo"
      ]
     },
     "execution_count": 153,
     "metadata": {},
     "output_type": "execute_result"
    }
   ],
   "source": [
    "salida = AnalisisHotel[AnalisisHotel[\"etiqueta\"]=='negativo']\n",
    "salida"
   ]
  },
  {
   "cell_type": "code",
   "execution_count": 146,
   "metadata": {},
   "outputs": [
    {
     "data": {
      "text/plain": [
       "positivo    162\n",
       "negativo      2\n",
       "Name: etiqueta, dtype: int64"
      ]
     },
     "execution_count": 146,
     "metadata": {},
     "output_type": "execute_result"
    }
   ],
   "source": [
    "Polaridad2=AnalisisHotel.etiqueta.value_counts()\n",
    "Polaridad2"
   ]
  },
  {
   "cell_type": "code",
   "execution_count": 147,
   "metadata": {},
   "outputs": [
    {
     "data": {
      "text/plain": [
       "subjetivo    146\n",
       "objetivo      18\n",
       "Name: tipo opinion, dtype: int64"
      ]
     },
     "execution_count": 147,
     "metadata": {},
     "output_type": "execute_result"
    }
   ],
   "source": [
    "Subjetividad2=AnalisisHotel[\"tipo opinion\"].value_counts()\n",
    "Subjetividad2"
   ]
  },
  {
   "cell_type": "markdown",
   "metadata": {},
   "source": [
    "### Grafico 1: Positivos y negativos"
   ]
  },
  {
   "cell_type": "code",
   "execution_count": 149,
   "metadata": {},
   "outputs": [
    {
     "data": {
      "image/png": "[encoded data removed]",
      "text/plain": [
       "<Figure size 432x288 with 1 Axes>"
      ]
     },
     "metadata": {},
     "output_type": "display_data"
    }
   ],
   "source": [
    "GraficarPie(Polaridad2, 'Polaridad ejercicio 2')"
   ]
  },
  {
   "cell_type": "code",
   "execution_count": 150,
   "metadata": {},
   "outputs": [
    {
     "data": {
      "image/png": "[encoded data removed]",
      "text/plain": [
       "<Figure size 432x288 with 1 Axes>"
      ]
     },
     "metadata": {},
     "output_type": "display_data"
    }
   ],
   "source": [
    "GraficarPie(Subjetividad2, 'Subjetividad ejercicio 2')"
   ]
  },
  {
   "cell_type": "markdown",
   "metadata": {},
   "source": [
    "### Grafico 2: Distribucion de resultados con boxplot "
   ]
  },
  {
   "cell_type": "code",
   "execution_count": 151,
   "metadata": {},
   "outputs": [
    {
     "data": {
      "text/plain": [
       "{'whiskers': [<matplotlib.lines.Line2D at 0x14ea60ef2c8>,\n",
       "  <matplotlib.lines.Line2D at 0x14ea60ef908>,\n",
       "  <matplotlib.lines.Line2D at 0x14ea60f3a48>,\n",
       "  <matplotlib.lines.Line2D at 0x14ea6100b48>],\n",
       " 'caps': [<matplotlib.lines.Line2D at 0x14ea60eff88>,\n",
       "  <matplotlib.lines.Line2D at 0x14ea60eff08>,\n",
       "  <matplotlib.lines.Line2D at 0x14ea6100c48>,\n",
       "  <matplotlib.lines.Line2D at 0x14ea61087c8>],\n",
       " 'boxes': [<matplotlib.lines.Line2D at 0x14ea60ebb08>,\n",
       "  <matplotlib.lines.Line2D at 0x14ea60faec8>],\n",
       " 'medians': [<matplotlib.lines.Line2D at 0x14ea60f3c08>,\n",
       "  <matplotlib.lines.Line2D at 0x14ea6108dc8>],\n",
       " 'fliers': [<matplotlib.lines.Line2D at 0x14ea60f3cc8>,\n",
       "  <matplotlib.lines.Line2D at 0x14ea6108e88>],\n",
       " 'means': [<matplotlib.lines.Line2D at 0x14ea60f3d08>,\n",
       "  <matplotlib.lines.Line2D at 0x14ea6108ec8>]}"
      ]
     },
     "execution_count": 151,
     "metadata": {},
     "output_type": "execute_result"
    },
    {
     "data": {
      "image/png": "[encoded data removed]",
      "text/plain": [
       "<Figure size 432x288 with 1 Axes>"
      ]
     },
     "metadata": {
      "needs_background": "light"
     },
     "output_type": "display_data"
    }
   ],
   "source": [
    "fig1, ax1 = plt.subplots()\n",
    "ax1.set_title('Distribucion de resultados de la polaridad ejercicio 2')\n",
    "ax1.boxplot([AnalisisHotel['polaridad'], AnalisisHotel['subje']], labels = ['Polaridad','Subjetividad'],showmeans=True)"
   ]
  },
  {
   "cell_type": "markdown",
   "metadata": {},
   "source": [
    "### Conclusiones\n",
    "El hotel que se uso para el analisis es un hotel en Antigua Guatemala llamado \"Mil Flores Luxury Design Hotel\". Es un hotel de alta gamma con muchas comodidades. No extraña entonces que su polaridad sea demasiado positiva con un 98.8%. La subjetividad tambien es alta lo que indica que al momento de escribir los reviews las personas escriben una respuesta que generalmente es positiva.\n",
    "\n",
    "Dado que solo son muy pocos reviews negativos (2), como estrategia analizaria bien que paso en esos casos pues demuestran ser casos muy aislados y al mismo tiempo bastante subjetivos de lo que sucedio. Esto con el fin de evitar que la situacion volviera a suceder.\n",
    "\n",
    "Por ultimo mencionar que los dats estan mucho mas dispersos en comparacion con la grafica del problema 1 y ambas con un evidente sesgo positivo."
   ]
  }
 ],
 "metadata": {
  "kernelspec": {
   "display_name": "Python 3",
   "language": "python",
   "name": "python3"
  },
  "language_info": {
   "codemirror_mode": {
    "name": "ipython",
    "version": 3
   },
   "file_extension": ".py",
   "mimetype": "text/x-python",
   "name": "python",
   "nbconvert_exporter": "python",
   "pygments_lexer": "ipython3",
   "version": "3.7.6"
  }
 },
 "nbformat": 4,
 "nbformat_minor": 2
}
