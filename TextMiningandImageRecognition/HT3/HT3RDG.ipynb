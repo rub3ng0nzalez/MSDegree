{
 "cells": [
  {
   "cell_type": "markdown",
   "metadata": {},
   "source": [
    "# Text mining and Image Recognition: Hoja de Trabajo 3\n",
    "#### Ruben Gonzalez 20003314"
   ]
  },
  {
   "cell_type": "code",
   "execution_count": 1,
   "metadata": {},
   "outputs": [],
   "source": [
    "import re"
   ]
  },
  {
   "cell_type": "markdown",
   "metadata": {},
   "source": [
    "#### Problema 1:\n",
    "Utilice expresiones regulares para validar las siguintes situaciones:"
   ]
  },
  {
   "cell_type": "markdown",
   "metadata": {},
   "source": [
    "1. Implemente una regex para validar un correo electronico en general, a continuacion se muestran algunos ejemplos.\n",
    "    * Guate.360-porelmundo@miguate.com\n",
    "    * Miercoles3@hotmail.com\n",
    "    * Progra3.galileo@galileo.edu"
   ]
  },
  {
   "cell_type": "code",
   "execution_count": 9,
   "metadata": {},
   "outputs": [],
   "source": [
    "def aplicarRegExp(regexp, texto):\n",
    "    x= re.search(regexp,texto)\n",
    "    if x == None:\n",
    "        return False\n",
    "    return True"
   ]
  },
  {
   "cell_type": "code",
   "execution_count": 14,
   "metadata": {},
   "outputs": [],
   "source": [
    "regExp = \"^[a-zA-Z0-9._-]+@[a-zA-Z0-9.-]+\\.([a-zA-Z]{2,4})+$\""
   ]
  },
  {
   "cell_type": "code",
   "execution_count": 18,
   "metadata": {},
   "outputs": [
    {
     "name": "stdout",
     "output_type": "stream",
     "text": [
      "True\n",
      "True\n",
      "True\n",
      "False\n"
     ]
    }
   ],
   "source": [
    "print(aplicarRegExp(regExp,\"Guate.360-porelmundo@miguate.com\"))\n",
    "print(aplicarRegExp(regExp,\"Miercoles3@hotmail.com\"))\n",
    "print(aplicarRegExp(regExp,\"Progra3.galileo@galileo.edu\"))\n",
    "print(aplicarRegExp(regExp,\"Progra3.g@lileo@galileo.edu\"))"
   ]
  },
  {
   "cell_type": "markdown",
   "metadata": {},
   "source": [
    "2. implemente una regex para validar la direccion url de una pagina web con los tipos de domino (.com, .org, .edu). Note que la url incluye el protocolo (http o https) y los simbolos (//www.), a continuacion se muestran algunos ejemplos:\n",
    "    * https://www.guate360-porelmundo.com\n",
    "    * http://www.a2.net\n",
    "    * https://www.galileo.edu\n",
    "    * http://www.8.org (No valida)"
   ]
  },
  {
   "cell_type": "code",
   "execution_count": 38,
   "metadata": {},
   "outputs": [],
   "source": [
    "regExp2 = \"^(http)(s|)://www.[a-zA-Z][a-zA-Z0-9.-]*.([a-zA-Z]{2,4})+$\""
   ]
  },
  {
   "cell_type": "code",
   "execution_count": 40,
   "metadata": {},
   "outputs": [
    {
     "name": "stdout",
     "output_type": "stream",
     "text": [
      "True\n",
      "True\n",
      "True\n",
      "False\n"
     ]
    }
   ],
   "source": [
    "print(aplicarRegExp(regExp2,\"https://www.guate360-porelmundo.com\"))\n",
    "print(aplicarRegExp(regExp2,\"http://www.a2.net\"))\n",
    "print(aplicarRegExp(regExp2,\"https://www.galileo.edu\"))\n",
    "print(aplicarRegExp(regExp2,\"http://www.8.org\"))"
   ]
  },
  {
   "cell_type": "markdown",
   "metadata": {},
   "source": [
    "3. Implemente una regex para validar una MAC Address, notar que las mac addres estan divididas en 6 bloques de caracteres hexadecimales, es decir que los simbolos solo pueden variar del 0 al 9 y las letras de la A a la F. a continuacion se muestran algunos ejemplos:\n",
    "    * 5A 6F AF 8C 9B 1D\n",
    "    * 6D 6C 4D 3A EB 3F\n",
    "    * 3A 7C FA C8 6D 4J (no valida por que el ultimo bloque contiene una J)\n"
   ]
  },
  {
   "cell_type": "code",
   "execution_count": 41,
   "metadata": {},
   "outputs": [],
   "source": [
    "regExp3 = \"^([0-9A-F]{2}\\s){5}[0-9A-F]{2}$\""
   ]
  },
  {
   "cell_type": "code",
   "execution_count": 43,
   "metadata": {},
   "outputs": [
    {
     "name": "stdout",
     "output_type": "stream",
     "text": [
      "True\n",
      "True\n",
      "False\n"
     ]
    }
   ],
   "source": [
    "print(aplicarRegExp(regExp3,\"5A 6F AF 8C 9B 1D\"))\n",
    "print(aplicarRegExp(regExp3,\"6D 6C 4D 3A EB 3F\"))\n",
    "print(aplicarRegExp(regExp3,\"3A 7C FA C8 6D 4J\"))"
   ]
  },
  {
   "cell_type": "markdown",
   "metadata": {},
   "source": [
    "4. Implemente una regex para validar una direccion IPv4, notar que las direcciones IPv4 estan divididas en 4 bloques de valores los cuales solo pueden ir desde 0 hasta 255, una ip donde algunos de sus bloques sea mayor a 255 no es valida, adem\u0013as tome en cuenta que cada bloque esta separada por un punto. A continuacion se muestran algunos ejemplos:\n",
    "    * 192.16.8.1\n",
    "    * 234.56.78.90\n",
    "    * 1.2.3.4\n",
    "    * 192.168.45.345 (no valida por que el ultimo bloque es mayor a 255)"
   ]
  },
  {
   "cell_type": "code",
   "execution_count": 44,
   "metadata": {},
   "outputs": [],
   "source": [
    "regExp4 = \"^(25[0-5]|2[0-4][0-9]|[01]?[0-9][0-9]?)(\\.(25[0-5]|2[0-4][0-9]|[01]?[0-9][0-9]?)){3}$\""
   ]
  },
  {
   "cell_type": "code",
   "execution_count": 45,
   "metadata": {},
   "outputs": [
    {
     "name": "stdout",
     "output_type": "stream",
     "text": [
      "True\n",
      "True\n",
      "True\n",
      "False\n"
     ]
    }
   ],
   "source": [
    "print(aplicarRegExp(regExp4,\"192.16.8.1\"))\n",
    "print(aplicarRegExp(regExp4,\"234.56.78.90\"))\n",
    "print(aplicarRegExp(regExp4,\"1.2.3.4\"))\n",
    "print(aplicarRegExp(regExp4,\"192.168.45.345\"))"
   ]
  },
  {
   "cell_type": "markdown",
   "metadata": {},
   "source": [
    "5. Implemente una regex para validar una fecha con la secuencia dia-mes-año donde el dia, mes y año puedan estar separados ya sea por el caracter / o el caracter - o el caracter ., notar que las fechas son validas si los si los dias estan definidos desde el 1 al 31, el mes del 1 al 12 y el año de 2000 al 2019. Tambien debe tomar en cuenta que los dias y meses pueden estar escritos ya sea con uno o dos caracteres por ejemplo: Enero puede escribirse como 1 o como 01. Los años tambien pueden expresarse ya sea con dos o con cuatro caracteres por ejemplo: 19 o 2019 son validos. A continuacion se muestran algunos ejemplos:\n",
    "\n",
    "    * 20/1/2019\n",
    "    * 12.03.2005\n",
    "    * 31-11-08\n",
    "    * 1-1-2012\n",
    "    * 12-12-22 (no valida, por que el a~no supera al 2019)."
   ]
  },
  {
   "cell_type": "code",
   "execution_count": 50,
   "metadata": {},
   "outputs": [],
   "source": [
    "regExp5 = \"^([1|2][0-9]|[3][0-1]|[0]?[1-9])(\\/|\\-|\\.)([1][0-2]|[0]?[1-9])(\\/|\\-|\\.)((20)?[0-1][0-9])$\""
   ]
  },
  {
   "cell_type": "code",
   "execution_count": 51,
   "metadata": {},
   "outputs": [
    {
     "name": "stdout",
     "output_type": "stream",
     "text": [
      "True\n",
      "True\n",
      "True\n",
      "True\n",
      "False\n"
     ]
    }
   ],
   "source": [
    "print(aplicarRegExp(regExp5,\"20/1/2019\"))\n",
    "print(aplicarRegExp(regExp5,\"12.03.2005\"))\n",
    "print(aplicarRegExp(regExp5,\"31-11-08\"))\n",
    "print(aplicarRegExp(regExp5,\"1-1-2012\"))\n",
    "print(aplicarRegExp(regExp5,\"12-12-22\"))"
   ]
  }
 ],
 "metadata": {
  "kernelspec": {
   "display_name": "Python 3",
   "language": "python",
   "name": "python3"
  },
  "language_info": {
   "codemirror_mode": {
    "name": "ipython",
    "version": 3
   },
   "file_extension": ".py",
   "mimetype": "text/x-python",
   "name": "python",
   "nbconvert_exporter": "python",
   "pygments_lexer": "ipython3",
   "version": "3.7.6"
  }
 },
 "nbformat": 4,
 "nbformat_minor": 2
}
