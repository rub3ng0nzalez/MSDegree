{
  "nbformat": 4,
  "nbformat_minor": 0,
  "metadata": {
    "colab": {
      "name": "HT1.ipynb",
      "provenance": [],
      "toc_visible": true,
      "authorship_tag": "ABX9TyOQN1Iqi5RwMxuCi95oEbST",
      "include_colab_link": true
    },
    "kernelspec": {
      "name": "python3",
      "display_name": "Python 3"
    }
  },
  "cells": [
    {
      "cell_type": "markdown",
      "metadata": {
        "id": "view-in-github",
        "colab_type": "text"
      },
      "source": [
        "<a href=\"https://colab.research.google.com/github/rub3ng0nzalez/MSDegree/blob/master/HT1.ipynb\" target=\"_parent\"><img src=\"https://colab.research.google.com/assets/colab-badge.svg\" alt=\"Open In Colab\"/></a>"
      ]
    },
    {
      "cell_type": "markdown",
      "metadata": {
        "id": "QaQEygG3PnQO",
        "colab_type": "text"
      },
      "source": [
        "### Text mining and image recognition\n",
        "Hoja de trabajo 1\n",
        "Ruben Gonzalez 20003314"
      ]
    },
    {
      "cell_type": "markdown",
      "metadata": {
        "id": "FTUv_cGoZslk",
        "colab_type": "text"
      },
      "source": [
        "### Problema 1"
      ]
    },
    {
      "cell_type": "code",
      "metadata": {
        "id": "XhuIhqKcP1DI",
        "colab_type": "code",
        "colab": {}
      },
      "source": [
        "import cv2\n",
        "import matplotlib.pyplot as plt"
      ],
      "execution_count": 1,
      "outputs": []
    },
    {
      "cell_type": "code",
      "metadata": {
        "id": "ChGuV9VmaEbf",
        "colab_type": "code",
        "colab": {}
      },
      "source": [
        ""
      ],
      "execution_count": null,
      "outputs": []
    }
  ]
}