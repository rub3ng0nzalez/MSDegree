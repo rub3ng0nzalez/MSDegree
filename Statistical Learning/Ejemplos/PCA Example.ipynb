{
 "cells": [
  {
   "cell_type": "code",
   "execution_count": 35,
   "metadata": {},
   "outputs": [
    {
     "data": {
      "text/html": [
       "<div>\n",
       "<style scoped>\n",
       "    .dataframe tbody tr th:only-of-type {\n",
       "        vertical-align: middle;\n",
       "    }\n",
       "\n",
       "    .dataframe tbody tr th {\n",
       "        vertical-align: top;\n",
       "    }\n",
       "\n",
       "    .dataframe thead th {\n",
       "        text-align: right;\n",
       "    }\n",
       "</style>\n",
       "<table border=\"1\" class=\"dataframe\">\n",
       "  <thead>\n",
       "    <tr style=\"text-align: right;\">\n",
       "      <th></th>\n",
       "      <th>sepal_len</th>\n",
       "      <th>sepal_wid</th>\n",
       "      <th>petal_len</th>\n",
       "      <th>petal_wid</th>\n",
       "      <th>class</th>\n",
       "    </tr>\n",
       "  </thead>\n",
       "  <tbody>\n",
       "    <tr>\n",
       "      <th>145</th>\n",
       "      <td>6.7</td>\n",
       "      <td>3.0</td>\n",
       "      <td>5.2</td>\n",
       "      <td>2.3</td>\n",
       "      <td>Iris-virginica</td>\n",
       "    </tr>\n",
       "    <tr>\n",
       "      <th>146</th>\n",
       "      <td>6.3</td>\n",
       "      <td>2.5</td>\n",
       "      <td>5.0</td>\n",
       "      <td>1.9</td>\n",
       "      <td>Iris-virginica</td>\n",
       "    </tr>\n",
       "    <tr>\n",
       "      <th>147</th>\n",
       "      <td>6.5</td>\n",
       "      <td>3.0</td>\n",
       "      <td>5.2</td>\n",
       "      <td>2.0</td>\n",
       "      <td>Iris-virginica</td>\n",
       "    </tr>\n",
       "    <tr>\n",
       "      <th>148</th>\n",
       "      <td>6.2</td>\n",
       "      <td>3.4</td>\n",
       "      <td>5.4</td>\n",
       "      <td>2.3</td>\n",
       "      <td>Iris-virginica</td>\n",
       "    </tr>\n",
       "    <tr>\n",
       "      <th>149</th>\n",
       "      <td>5.9</td>\n",
       "      <td>3.0</td>\n",
       "      <td>5.1</td>\n",
       "      <td>1.8</td>\n",
       "      <td>Iris-virginica</td>\n",
       "    </tr>\n",
       "  </tbody>\n",
       "</table>\n",
       "</div>"
      ],
      "text/plain": [
       "     sepal_len  sepal_wid  petal_len  petal_wid           class\n",
       "145        6.7        3.0        5.2        2.3  Iris-virginica\n",
       "146        6.3        2.5        5.0        1.9  Iris-virginica\n",
       "147        6.5        3.0        5.2        2.0  Iris-virginica\n",
       "148        6.2        3.4        5.4        2.3  Iris-virginica\n",
       "149        5.9        3.0        5.1        1.8  Iris-virginica"
      ]
     },
     "execution_count": 35,
     "metadata": {},
     "output_type": "execute_result"
    }
   ],
   "source": [
    "import pandas as pd\n",
    "import matplotlib.pyplot as plt\n",
    "\n",
    "df = pd.read_csv(\n",
    "    filepath_or_buffer='https://archive.ics.uci.edu/ml/machine-learning-databases/iris/iris.data', \n",
    "    header=None, \n",
    "    sep=',')\n",
    "\n",
    "df.columns=['sepal_len', 'sepal_wid', 'petal_len', 'petal_wid', 'class']\n",
    "df.dropna(how=\"all\", inplace=True) # drops the empty line at file-end\n",
    "\n",
    "df.tail()"
   ]
  },
  {
   "cell_type": "code",
   "execution_count": 2,
   "metadata": {},
   "outputs": [],
   "source": [
    "# split data table into data X and class labels y\n",
    "\n",
    "X = df.iloc[:,0:4].values\n",
    "y = df.iloc[:,4].values"
   ]
  },
  {
   "cell_type": "code",
   "execution_count": 7,
   "metadata": {},
   "outputs": [],
   "source": [
    "from sklearn.preprocessing import StandardScaler\n",
    "X_std = StandardScaler().fit_transform(X)"
   ]
  },
  {
   "cell_type": "code",
   "execution_count": 20,
   "metadata": {},
   "outputs": [
    {
     "data": {
      "text/plain": [
       "150"
      ]
     },
     "execution_count": 20,
     "metadata": {},
     "output_type": "execute_result"
    }
   ],
   "source": [
    "X_std.shape[0]"
   ]
  },
  {
   "cell_type": "markdown",
   "metadata": {},
   "source": [
    "A continuacion calcula la covarianza, se pueden usar cualquiera de los 2 metodos, yo usare el np.cov"
   ]
  },
  {
   "cell_type": "code",
   "execution_count": 9,
   "metadata": {},
   "outputs": [
    {
     "name": "stdout",
     "output_type": "stream",
     "text": [
      "Covariance matrix \n",
      "[[ 1.00671141 -0.11010327  0.87760486  0.82344326]\n",
      " [-0.11010327  1.00671141 -0.42333835 -0.358937  ]\n",
      " [ 0.87760486 -0.42333835  1.00671141  0.96921855]\n",
      " [ 0.82344326 -0.358937    0.96921855  1.00671141]]\n"
     ]
    }
   ],
   "source": [
    "import numpy as np\n",
    "mean_vec = np.mean(X_std, axis=0)\n",
    "cov_mat = (X_std - mean_vec).T.dot((X_std - mean_vec)) / (X_std.shape[0]-1)\n",
    "print('Covariance matrix \\n%s' %cov_mat)"
   ]
  },
  {
   "cell_type": "code",
   "execution_count": 21,
   "metadata": {},
   "outputs": [
    {
     "data": {
      "text/plain": [
       "array([-4.73695157e-16, -6.63173220e-16,  3.31586610e-16, -2.84217094e-16])"
      ]
     },
     "execution_count": 21,
     "metadata": {},
     "output_type": "execute_result"
    }
   ],
   "source": [
    "mean_vec"
   ]
  },
  {
   "cell_type": "code",
   "execution_count": 12,
   "metadata": {},
   "outputs": [
    {
     "name": "stdout",
     "output_type": "stream",
     "text": [
      "NumPy covariance matrix: \n",
      "[[ 1.00671141 -0.11010327  0.87760486  0.82344326]\n",
      " [-0.11010327  1.00671141 -0.42333835 -0.358937  ]\n",
      " [ 0.87760486 -0.42333835  1.00671141  0.96921855]\n",
      " [ 0.82344326 -0.358937    0.96921855  1.00671141]]\n"
     ]
    }
   ],
   "source": [
    "print('NumPy covariance matrix: \\n%s' %np.cov(X_std.T))"
   ]
  },
  {
   "cell_type": "markdown",
   "metadata": {},
   "source": [
    "A continuacion muestra 3 metodos para calcular la matriz de correlacion"
   ]
  },
  {
   "cell_type": "code",
   "execution_count": 14,
   "metadata": {},
   "outputs": [
    {
     "name": "stdout",
     "output_type": "stream",
     "text": [
      "Eigenvectors \n",
      "[[ 0.52237162 -0.37231836 -0.72101681  0.26199559]\n",
      " [-0.26335492 -0.92555649  0.24203288 -0.12413481]\n",
      " [ 0.58125401 -0.02109478  0.14089226 -0.80115427]\n",
      " [ 0.56561105 -0.06541577  0.6338014   0.52354627]]\n",
      "\n",
      "Eigenvalues \n",
      "[2.93035378 0.92740362 0.14834223 0.02074601]\n"
     ]
    }
   ],
   "source": [
    "cov_mat = np.cov(X_std.T)\n",
    "\n",
    "eig_vals, eig_vecs = np.linalg.eig(cov_mat)\n",
    "\n",
    "print('Eigenvectors \\n%s' %eig_vecs)\n",
    "print('\\nEigenvalues \\n%s' %eig_vals)"
   ]
  },
  {
   "cell_type": "code",
   "execution_count": 22,
   "metadata": {},
   "outputs": [
    {
     "name": "stdout",
     "output_type": "stream",
     "text": [
      "Eigenvectors \n",
      "[[ 0.52237162 -0.37231836 -0.72101681  0.26199559]\n",
      " [-0.26335492 -0.92555649  0.24203288 -0.12413481]\n",
      " [ 0.58125401 -0.02109478  0.14089226 -0.80115427]\n",
      " [ 0.56561105 -0.06541577  0.6338014   0.52354627]]\n",
      "\n",
      "Eigenvalues \n",
      "[2.91081808 0.92122093 0.14735328 0.02060771]\n"
     ]
    }
   ],
   "source": [
    "cor_mat1 = np.corrcoef(X_std.T)\n",
    "\n",
    "eig_vals, eig_vecs = np.linalg.eig(cor_mat1)\n",
    "\n",
    "print('Eigenvectors \\n%s' %eig_vecs)\n",
    "print('\\nEigenvalues \\n%s' %eig_vals)"
   ]
  },
  {
   "cell_type": "code",
   "execution_count": 23,
   "metadata": {},
   "outputs": [
    {
     "name": "stdout",
     "output_type": "stream",
     "text": [
      "Eigenvectors \n",
      "[[ 0.52237162 -0.37231836 -0.72101681  0.26199559]\n",
      " [-0.26335492 -0.92555649  0.24203288 -0.12413481]\n",
      " [ 0.58125401 -0.02109478  0.14089226 -0.80115427]\n",
      " [ 0.56561105 -0.06541577  0.6338014   0.52354627]]\n",
      "\n",
      "Eigenvalues \n",
      "[2.91081808 0.92122093 0.14735328 0.02060771]\n"
     ]
    }
   ],
   "source": [
    "cor_mat2 = np.corrcoef(X.T)\n",
    "\n",
    "eig_vals, eig_vecs = np.linalg.eig(cor_mat2)\n",
    "\n",
    "print('Eigenvectors \\n%s' %eig_vecs)\n",
    "print('\\nEigenvalues \\n%s' %eig_vals)"
   ]
  },
  {
   "cell_type": "markdown",
   "metadata": {},
   "source": [
    "Esto puede ser eliminado"
   ]
  },
  {
   "cell_type": "code",
   "execution_count": 24,
   "metadata": {},
   "outputs": [
    {
     "name": "stdout",
     "output_type": "stream",
     "text": [
      "Everything ok!\n"
     ]
    }
   ],
   "source": [
    "for ev in eig_vecs:\n",
    "    np.testing.assert_array_almost_equal(1.0, np.linalg.norm(ev))\n",
    "print('Everything ok!')"
   ]
  },
  {
   "cell_type": "code",
   "execution_count": 25,
   "metadata": {},
   "outputs": [
    {
     "name": "stdout",
     "output_type": "stream",
     "text": [
      "Eigenvalues in descending order:\n",
      "2.910818083752052\n",
      "0.9212209307072244\n",
      "0.14735327830509581\n",
      "0.020607707235625376\n"
     ]
    }
   ],
   "source": [
    "# Make a list of (eigenvalue, eigenvector) tuples\n",
    "eig_pairs = [(np.abs(eig_vals[i]), eig_vecs[:,i]) for i in range(len(eig_vals))]\n",
    "\n",
    "# Sort the (eigenvalue, eigenvector) tuples from high to low\n",
    "eig_pairs.sort()\n",
    "eig_pairs.reverse()\n",
    "\n",
    "# Visually confirm that the list is correctly sorted by decreasing eigenvalues\n",
    "print('Eigenvalues in descending order:')\n",
    "for i in eig_pairs:\n",
    "    print(i[0])"
   ]
  },
  {
   "cell_type": "code",
   "execution_count": 50,
   "metadata": {},
   "outputs": [
    {
     "data": {
      "text/plain": [
       "(4,)"
      ]
     },
     "execution_count": 50,
     "metadata": {},
     "output_type": "execute_result"
    }
   ],
   "source": [
    "eig_pairs[0][1].shape"
   ]
  },
  {
   "cell_type": "markdown",
   "metadata": {},
   "source": [
    "Aqui cambia la dimensionalidad"
   ]
  },
  {
   "cell_type": "code",
   "execution_count": 29,
   "metadata": {},
   "outputs": [
    {
     "name": "stdout",
     "output_type": "stream",
     "text": [
      "Matrix W:\n",
      " [[ 0.52237162 -0.37231836]\n",
      " [-0.26335492 -0.92555649]\n",
      " [ 0.58125401 -0.02109478]\n",
      " [ 0.56561105 -0.06541577]]\n"
     ]
    }
   ],
   "source": [
    "matrix_w = np.hstack((eig_pairs[0][1].reshape(4,1), \n",
    "                      eig_pairs[1][1].reshape(4,1)))\n",
    "\n",
    "print('Matrix W:\\n', matrix_w)"
   ]
  },
  {
   "cell_type": "code",
   "execution_count": 30,
   "metadata": {},
   "outputs": [],
   "source": [
    "Y = X_std.dot(matrix_w)"
   ]
  },
  {
   "cell_type": "code",
   "execution_count": 49,
   "metadata": {},
   "outputs": [
    {
     "data": {
      "image/png": "[encoded data removed]",
      "text/plain": [
       "<Figure size 432x288 with 1 Axes>"
      ]
     },
     "metadata": {
      "needs_background": "light"
     },
     "output_type": "display_data"
    }
   ],
   "source": [
    "plt.scatter(Y[:,0],Y[:,1], color='black')\n",
    "plt.show()"
   ]
  },
  {
   "cell_type": "code",
   "execution_count": 40,
   "metadata": {},
   "outputs": [],
   "source": [
    "data = []\n",
    "\n",
    "for name, col in zip(('Iris-setosa', 'Iris-versicolor', 'Iris-virginica'), ('red','blue','green')):\n",
    "    trace = dict(\n",
    "        type='scatter',\n",
    "        x=Y[y==name,0],\n",
    "        y=Y[y==name,1],\n",
    "        mode='markers',\n",
    "        name=name,\n",
    "        marker=dict(\n",
    "            color=col,\n",
    "            size=12,\n",
    "            line=dict(\n",
    "                color='rgba(217, 217, 217, 0.14)',\n",
    "                width=0.5),\n",
    "            opacity=0.8)\n",
    "    )\n",
    "    data.append(trace)\n",
    "\n",
    "layout = dict(\n",
    "    showlegend=True,\n",
    "    scene=dict(\n",
    "        xaxis=dict(title='PC1'),\n",
    "        yaxis=dict(title='PC2')\n",
    "    )\n",
    ")\n",
    "\n",
    "fig = dict(data=data, layout=layout)\n",
    "#py.iplot(fig, filename='projection-matrix')"
   ]
  },
  {
   "cell_type": "code",
   "execution_count": 43,
   "metadata": {},
   "outputs": [
    {
     "data": {
      "text/plain": [
       "{'data': [{'type': 'scatter',\n",
       "   'x': array([-2.26454173, -2.0864255 , -2.36795045, -2.30419716, -2.38877749,\n",
       "          -2.07053681, -2.44571134, -2.23384186, -2.34195768, -2.18867576,\n",
       "          -2.16348656, -2.32737775, -2.22408272, -2.63971626, -2.19229151,\n",
       "          -2.25146521, -2.20275048, -2.19017916, -1.89407429, -2.33994907,\n",
       "          -1.91455639, -2.2046454 , -2.77416979, -1.82041156, -2.2282175 ,\n",
       "          -1.95702401, -2.05206331, -2.16819365, -2.14030596, -2.26879019,\n",
       "          -2.14455443, -1.8319381 , -2.60820287, -2.43795086, -2.18867576,\n",
       "          -2.2111199 , -2.04441652, -2.18867576, -2.4359522 , -2.1705472 ,\n",
       "          -2.28652724, -1.87170722, -2.55783442, -1.96427929, -2.13337283,\n",
       "          -2.07535759, -2.38125822, -2.39819169, -2.22678121, -2.20595417]),\n",
       "   'y': array([-0.5057039 ,  0.65540473,  0.31847731,  0.57536771, -0.6747674 ,\n",
       "          -1.51854856, -0.07456268, -0.24761393,  1.09514636,  0.44862905,\n",
       "          -1.07059558, -0.15858745,  0.70911816,  0.93828198, -1.88997851,\n",
       "          -2.72237108, -1.51375028, -0.51430431, -1.43111071, -1.15803343,\n",
       "          -0.43046516, -0.95245732, -0.48951703, -0.10675079, -0.16218616,\n",
       "           0.60789257, -0.26601431, -0.5520165 , -0.33664041,  0.3148786 ,\n",
       "           0.4839421 , -0.44526684, -1.82847519, -2.18539162,  0.44862905,\n",
       "           0.18433781, -0.68495643,  0.44862905,  0.88216941, -0.29272695,\n",
       "          -0.46799172,  2.32769161,  0.45381638, -0.49739164, -1.17143211,\n",
       "           0.69191735, -1.15063259,  0.36239076, -1.02548255, -0.03223785]),\n",
       "   'mode': 'markers',\n",
       "   'name': 'Iris-setosa',\n",
       "   'marker': {'color': 'red',\n",
       "    'size': 12,\n",
       "    'line': {'color': 'rgba(217, 217, 217, 0.14)', 'width': 0.5},\n",
       "    'opacity': 0.8}},\n",
       "  {'type': 'scatter',\n",
       "   'x': array([ 1.10399365,  0.73248144,  1.24210951,  0.39730728,  1.07259395,\n",
       "           0.38445815,  0.74871508, -0.49786339,  0.92622237,  0.00496803,\n",
       "          -0.12469746,  0.43873012,  0.55163398,  0.71716507, -0.03725838,\n",
       "           0.87589054,  0.3480064 ,  0.15339254,  1.21530321,  0.15694118,\n",
       "           0.7382561 ,  0.47236968,  1.22798821,  0.62938105,  0.7004728 ,\n",
       "           0.87353699,  1.25422219,  1.35823985,  0.66212614, -0.04728151,\n",
       "           0.12153421,  0.01411823,  0.23601084,  1.05669143,  0.22141709,\n",
       "           0.43178316,  1.04941336,  1.03587821,  0.0670676 ,  0.27542507,\n",
       "           0.27233507,  0.62317054,  0.33000536, -0.37362762,  0.28294434,\n",
       "           0.08905311,  0.22435678,  0.57388349, -0.45701287,  0.25224447]),\n",
       "   'y': array([-0.86311245, -0.59863557, -0.61482245,  1.75816895,  0.2117579 ,\n",
       "           0.59106247, -0.77869861,  1.84886877, -0.03033083,  1.02940111,\n",
       "           2.65806268,  0.05888129,  1.77258156,  0.18543431,  0.4327951 ,\n",
       "          -0.50999815,  0.19062165,  0.79072546,  1.63335564,  1.30310327,\n",
       "          -0.40247038,  0.41660822,  0.94091479,  0.41681164,  0.06349393,\n",
       "          -0.25070861,  0.0826201 , -0.32882027,  0.22434607,  1.05721241,\n",
       "           1.56359238,  1.57339235,  0.77592378,  0.63690128,  0.28084769,\n",
       "          -0.85513692, -0.52219726,  1.39246648,  0.21262073,  1.32981591,\n",
       "           1.11944152, -0.02754263,  0.98890073,  2.01793227,  0.85395072,\n",
       "           0.17490855,  0.38048466,  0.15371997,  1.53946451,  0.59586075]),\n",
       "   'mode': 'markers',\n",
       "   'name': 'Iris-versicolor',\n",
       "   'marker': {'color': 'blue',\n",
       "    'size': 12,\n",
       "    'line': {'color': 'rgba(217, 217, 217, 0.14)', 'width': 0.5},\n",
       "    'opacity': 0.8}},\n",
       "  {'type': 'scatter',\n",
       "   'x': array([1.84767259, 1.15318981, 2.2063495 , 1.4386854 , 1.8678907 ,\n",
       "          2.75419671, 0.35837447, 2.3030059 , 2.0017353 , 2.2675546 ,\n",
       "          1.36590943, 1.59906459, 1.88425185, 1.25308651, 1.46406152,\n",
       "          1.5918093 , 1.47128019, 2.43737848, 3.30914118, 1.25398099,\n",
       "          2.04049626, 0.97391511, 2.89806444, 1.32919369, 1.70424071,\n",
       "          1.95772766, 1.17190451, 1.01978105, 1.78600886, 1.86477791,\n",
       "          2.43549739, 2.31608241, 1.86037143, 1.11127173, 1.19746916,\n",
       "          2.8009494 , 1.58015525, 1.34704442, 0.92343298, 1.85355198,\n",
       "          2.0161572 , 1.90311686, 1.15318981, 2.04330844, 2.00169097,\n",
       "          1.87052207, 1.55849189, 1.52084506, 1.37639119, 0.95929858]),\n",
       "   'y': array([-8.71696662e-01,  7.01326114e-01, -5.54470105e-01,  5.00105223e-02,\n",
       "          -2.91192802e-01, -7.88432206e-01,  1.56009458e+00, -4.09516695e-01,\n",
       "           7.23865359e-01, -1.92144299e+00, -6.93948040e-01,  4.28248836e-01,\n",
       "          -4.14332758e-01,  1.16739134e+00,  4.44147569e-01, -6.77035372e-01,\n",
       "          -2.53192472e-01, -2.55675734e+00,  2.36132010e-03,  1.71758384e+00,\n",
       "          -9.07398765e-01,  5.71174376e-01, -3.97791359e-01,  4.86760542e-01,\n",
       "          -1.01414842e+00, -1.00333452e+00,  3.18896617e-01, -6.55429631e-02,\n",
       "           1.93272800e-01, -5.55381532e-01, -2.46654468e-01, -2.62618387e+00,\n",
       "           1.84672394e-01,  2.95986102e-01,  8.17167742e-01, -8.44748194e-01,\n",
       "          -1.07247450e+00, -4.22255966e-01, -1.92303705e-02, -6.72422729e-01,\n",
       "          -6.10397038e-01, -6.86024832e-01,  7.01326114e-01, -8.64684880e-01,\n",
       "          -1.04855005e+00, -3.82821838e-01,  9.05313601e-01, -2.66794575e-01,\n",
       "          -1.01636193e+00,  2.22839447e-02]),\n",
       "   'mode': 'markers',\n",
       "   'name': 'Iris-virginica',\n",
       "   'marker': {'color': 'green',\n",
       "    'size': 12,\n",
       "    'line': {'color': 'rgba(217, 217, 217, 0.14)', 'width': 0.5},\n",
       "    'opacity': 0.8}}],\n",
       " 'layout': {'showlegend': True,\n",
       "  'scene': {'xaxis': {'title': 'PC1'}, 'yaxis': {'title': 'PC2'}}}}"
      ]
     },
     "execution_count": 43,
     "metadata": {},
     "output_type": "execute_result"
    }
   ],
   "source": [
    "fig"
   ]
  }
 ],
 "metadata": {
  "kernelspec": {
   "display_name": "Python 3",
   "language": "python",
   "name": "python3"
  },
  "language_info": {
   "codemirror_mode": {
    "name": "ipython",
    "version": 3
   },
   "file_extension": ".py",
   "mimetype": "text/x-python",
   "name": "python",
   "nbconvert_exporter": "python",
   "pygments_lexer": "ipython3",
   "version": "3.7.6"
  }
 },
 "nbformat": 4,
 "nbformat_minor": 2
}
