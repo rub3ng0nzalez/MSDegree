{
 "cells": [
  {
   "cell_type": "markdown",
   "metadata": {},
   "source": [
    "## Back-Propagation\n",
    "Rubén Gonzalez 20003314"
   ]
  },
  {
   "cell_type": "markdown",
   "metadata": {},
   "source": [
    "Entrenar un aproximador para la función Xor usando 2 capas intermedias. \n",
    "* Usar 2 neuronas en la capa anterior a la salida(segunda capa oculta). \n",
    "* Usar al menos 2(pueden ser más) en la  primera capa oculta. \n",
    "* Usar activación ReLu en las capas intermedias y  no activación en la salida. Usar numpy.\n",
    "\n",
    "Realizar 5 experimentos, en cada experimento(corrida de entrenamiento):\n",
    "* Inicializar los parámetros aleatoriamente con distribución normal centrada en 0 y std = 0.1\n",
    "* Retornar la representación intermedia de la segunda capa oculta.\n",
    "* Graficar las 5 representaciones intermedias(1 por experimento), comparar, comentar y/o concluir."
   ]
  },
  {
   "cell_type": "code",
   "execution_count": 1,
   "metadata": {},
   "outputs": [],
   "source": [
    "import numpy as np"
   ]
  },
  {
   "cell_type": "code",
   "execution_count": 2,
   "metadata": {},
   "outputs": [],
   "source": [
    "def relu(x):\n",
    "    return np.maximum(0,x)"
   ]
  },
  {
   "cell_type": "code",
   "execution_count": 3,
   "metadata": {},
   "outputs": [],
   "source": [
    "def der_relu (x):\n",
    "    derivada = (x >=0).astype(float)\n",
    "    return derivada"
   ]
  },
  {
   "cell_type": "code",
   "execution_count": 69,
   "metadata": {},
   "outputs": [],
   "source": [
    "class RedNeuronal:\n",
    "    def __init__(self):\n",
    "        \n",
    "        np.random.seed(1)\n",
    "        # 1 fila por neurona , 1 columna por variable de entrada\n",
    "        self.Wc1 = np.random.normal(0, 0.1, size =(2,3))\n",
    "\n",
    "        # 1 elemento para cada neurona intermedia\n",
    "        self.Wc2  = np.random.normal(0, 0.1, size =(3,2))\n",
    "        \n",
    "        # 1 elemento para cada neurona intermedia\n",
    "        self.Wc3  = np.random.normal(0, 0.1, size =(2,1))\n",
    "        \n",
    "        #print(self.Wc1)\n",
    "        #print(self.Wc2)\n",
    "        #print(self.Wc3)\n",
    "\n",
    "    def forward_propagation(self,X, fActivacion, bias = False, imprimir = True):\n",
    "        self.A1 = fActivacion(np.matmul(X,self.Wc1)) # 1 fila por observacion, 1 columna por representacion intermedia\n",
    "        #Se crea una columna de 1's para usarla como entrada del peso del sesgo\n",
    "        if bias:\n",
    "            self.A1 = np.insert(self.A1, 2, np.ones(len(self.A1)), axis=1).astype(np.float32)\n",
    "        \n",
    "        self.A2 = fActivacion(np.matmul(self.A1,self.Wc2)) # 1 fila por observacion,  1 unica salida\n",
    "        \n",
    "        self.A3 = fActivacion(np.matmul(self.A2,self.Wc3)) # 1 fila por observacion,  1 unica salida\n",
    "        \n",
    "        if imprimir:\n",
    "            print(\"Shape de X: \"+str(X.shape))\n",
    "            print(\"Shape de pesos capa 1: \"+ str(self.Wc1.shape))\n",
    "            print(\"Shape de self.A1: \" + str(self.A1.shape))\n",
    "            print(self.A1)\n",
    "            print(\"Shape de self.A2: \" + str(self.A2.shape))\n",
    "            print(self.A2)\n",
    "            print(\"Shape de self.A3: \" + str(self.A3.shape))\n",
    "            print(self.A3)\n",
    "            \n",
    "    \n",
    "    def back_propagation(self,x,fActivacion,y,derivada,epochs = 2, lr=0.2, imprimir = 1):\n",
    "        for i in range(0,epochs):            \n",
    "            self.forward_propagation(x,fActivacion, imprimir = False)\n",
    "            error = (np.mean(np.power(yReal-self.A3,2)))*0.5\n",
    "            if i % imprimir == 0: \n",
    "                print(\"Error\", i, error)\n",
    "                #print(x)\n",
    "                #print(self.A1)\n",
    "                #print(self.A2)\n",
    "                #print(self.A3)\n",
    "            \n",
    "            #Calcular las diferencias en cada capa\n",
    "            DeltaCapa3 = self.A3 - yReal\n",
    "            DeltaCapa2 = np.matmul(DeltaCapa3,self.Wc3.T) * derivada(self.A2)\n",
    "            DeltaCapa1 = np.matmul(DeltaCapa2,self.Wc2.T) * derivada(self.A1)\n",
    "            \n",
    "            #print(DeltaCapa3)\n",
    "            #print(DeltaCapa2)\n",
    "            #print(DeltaCapa1)\n",
    "            \n",
    "            #Nuevos pesos\n",
    "            #Actualización de pesos\n",
    "            self.Wc3 = self.Wc3 - (lr * np.matmul(self.A2.T, DeltaCapa3)) \n",
    "            self.Wc2 = self.Wc2 - (lr * np.matmul(self.A1.T, DeltaCapa2))\n",
    "            self.Wc1 = self.Wc1 - (lr * np.matmul(x.T, DeltaCapa1))\n",
    "            #print(self.Wc1)\n",
    "            #print(self.Wc2)\n",
    "            #print(self.Wc3)\n",
    "            \n",
    "            #Graficar capa oculta 2:\n",
    "            #-- Mostrar representacion en 2d, agrupados por valores obtenidos en \"y\" aproximado\n",
    "        plt.scatter(self.A2[:,0],self.A2[:,1], color = \"red\")\n",
    "        plt.xlabel(\"CapaIntermedia2 x\")\n",
    "        plt.ylabel(\"CapaIntermedia2 y\")\n",
    "        plt.show()\n",
    "        return self.A2, self.A3"
   ]
  },
  {
   "cell_type": "code",
   "execution_count": 83,
   "metadata": {},
   "outputs": [],
   "source": [
    "# 4 observaciones, 2 variables y se incluye el sesgo con un uno al final.\n",
    "X3 = np.array([\n",
    "    [0,0],\n",
    "    [1,0],\n",
    "    [0,1],\n",
    "    [1,1]])"
   ]
  },
  {
   "cell_type": "code",
   "execution_count": 6,
   "metadata": {},
   "outputs": [
    {
     "data": {
      "text/plain": [
       "array([[0],\n",
       "       [1],\n",
       "       [1],\n",
       "       [0]])"
      ]
     },
     "execution_count": 6,
     "metadata": {},
     "output_type": "execute_result"
    }
   ],
   "source": [
    "yReal = np.array([[0, 1, 1, 0]]).T\n",
    "yReal"
   ]
  },
  {
   "cell_type": "markdown",
   "metadata": {},
   "source": [
    "### Experimientos"
   ]
  },
  {
   "cell_type": "code",
   "execution_count": 84,
   "metadata": {},
   "outputs": [
    {
     "name": "stdout",
     "output_type": "stream",
     "text": [
      "Error 0 0.25\n",
      "Error 5 0.24932177992807583\n",
      "Error 10 0.24282816640582738\n",
      "Error 15 0.17023776428970883\n",
      "Error 20 0.17097317894742242\n",
      "Error 25 0.17650084323922174\n",
      "Error 30 0.17095571223995365\n",
      "Error 35 0.17648396356764354\n",
      "Error 40 0.17095374628007054\n",
      "Error 45 0.17648525153724717\n",
      "Error 50 0.17095605669191272\n",
      "Error 55 0.17649619737617897\n",
      "Error 60 0.17096002618467718\n",
      "Error 65 0.17651083205793944\n",
      "Error 70 0.17096459782066808\n",
      "Error 75 0.1765267462265403\n",
      "Error 80 0.17096936116554762\n",
      "Error 85 0.17654303519291684\n",
      "Error 90 0.17097416955081185\n",
      "Error 95 0.176559394266564\n"
     ]
    },
    {
     "data": {
      "image/png": "[encoded data removed]",
      "text/plain": [
       "<Figure size 432x288 with 1 Axes>"
      ]
     },
     "metadata": {
      "needs_background": "light"
     },
     "output_type": "display_data"
    }
   ],
   "source": [
    "red3 = RedNeuronal()\n",
    "Exp1_CI2, Exp1_CF=red3.back_propagation(X3,relu,yReal,der_relu, epochs = 100, imprimir = 5, lr = 0.7)"
   ]
  },
  {
   "cell_type": "code",
   "execution_count": 85,
   "metadata": {},
   "outputs": [
    {
     "data": {
      "text/plain": [
       "array([[0.        ],\n",
       "       [0.21840269],\n",
       "       [0.21848995],\n",
       "       [0.43689264]])"
      ]
     },
     "execution_count": 85,
     "metadata": {},
     "output_type": "execute_result"
    }
   ],
   "source": [
    "Exp1_CF"
   ]
  },
  {
   "cell_type": "code",
   "execution_count": 86,
   "metadata": {},
   "outputs": [
    {
     "data": {
      "text/plain": [
       "array([[ 0.        ],\n",
       "       [-0.78159731],\n",
       "       [-0.78151005],\n",
       "       [ 0.43689264]])"
      ]
     },
     "execution_count": 86,
     "metadata": {},
     "output_type": "execute_result"
    }
   ],
   "source": [
    "Prueba = Exp1_CF - yReal\n",
    "Prueba"
   ]
  },
  {
   "cell_type": "code",
   "execution_count": 71,
   "metadata": {},
   "outputs": [
    {
     "name": "stdout",
     "output_type": "stream",
     "text": [
      "Error 0 0.25\n",
      "Error 5 0.2493217799280758\n",
      "Error 10 0.24282816640582738\n",
      "Error 15 0.17023776428970883\n",
      "Error 20 0.17097317894742237\n",
      "Error 25 0.17650084323922177\n",
      "Error 30 0.17095571223995365\n",
      "Error 35 0.17648396356764356\n",
      "Error 40 0.17095374628007054\n",
      "Error 45 0.1764852515372472\n",
      "Error 50 0.17095605669191274\n",
      "Error 55 0.176496197376179\n",
      "Error 60 0.17096002618467715\n",
      "Error 65 0.1765108320579395\n",
      "Error 70 0.17096459782066808\n",
      "Error 75 0.1765267462265403\n",
      "Error 80 0.17096936116554762\n",
      "Error 85 0.1765430351929168\n",
      "Error 90 0.17097416955081185\n",
      "Error 95 0.176559394266564\n",
      "Error 100 0.1709789784152983\n",
      "Error 105 0.176575744368346\n",
      "Error 110 0.17098377992135072\n",
      "Error 115 0.17659208344663535\n",
      "Error 120 0.17098857767748027\n",
      "Error 125 0.17660843050991848\n",
      "Error 130 0.17099337759656702\n",
      "Error 135 0.1766248063095951\n",
      "Error 140 0.17099818498833466\n",
      "Error 145 0.17664122785553377\n",
      "Error 150 0.17100300391861478\n",
      "Error 155 0.1766577077538316\n",
      "Error 160 0.17100783730258412\n",
      "Error 165 0.17667425495850367\n",
      "Error 170 0.17101268717175422\n",
      "Error 175 0.17669087573803338\n",
      "Error 180 0.17101755493040252\n",
      "Error 185 0.17670757449532082\n",
      "Error 190 0.17102244155520538\n",
      "Error 195 0.17672435437675\n"
     ]
    },
    {
     "data": {
      "image/png": "[encoded data removed]",
      "text/plain": [
       "<Figure size 432x288 with 1 Axes>"
      ]
     },
     "metadata": {
      "needs_background": "light"
     },
     "output_type": "display_data"
    }
   ],
   "source": [
    "red3 = RedNeuronal()\n",
    "Exp2_CI2, Exp2_CF=red3.back_propagation(X3,relu,yReal,der_relu, epochs = 200, imprimir = 5, lr = 0.7)"
   ]
  },
  {
   "cell_type": "code",
   "execution_count": 72,
   "metadata": {},
   "outputs": [
    {
     "name": "stdout",
     "output_type": "stream",
     "text": [
      "Error 0 0.25\n",
      "Error 5 0.25\n",
      "Error 10 0.25\n",
      "Error 15 0.2498941146838965\n",
      "Error 20 0.24976649952702223\n",
      "Error 25 0.24962007034909028\n",
      "Error 30 0.2494429680707823\n",
      "Error 35 0.249218686709134\n",
      "Error 40 0.24892285302233308\n",
      "Error 45 0.24848162401840868\n",
      "Error 50 0.24781063468707726\n",
      "Error 55 0.24679264701660736\n",
      "Error 60 0.24514124403438803\n",
      "Error 65 0.24172059053509362\n",
      "Error 70 0.23501295571513392\n",
      "Error 75 0.2213333500722089\n",
      "Error 80 0.19693674458651023\n",
      "Error 85 0.1734096310463559\n",
      "Error 90 0.16777874636327916\n",
      "Error 95 0.16724857042507846\n",
      "Error 100 0.16705242511838386\n",
      "Error 105 0.16692521590470888\n",
      "Error 110 0.16684021693611187\n",
      "Error 115 0.16678325614130407\n",
      "Error 120 0.16674503170641305\n",
      "Error 125 0.16671935761493634\n",
      "Error 130 0.16670210298412555\n",
      "Error 135 0.1666905022499427\n",
      "Error 140 0.16668270077909395\n",
      "Error 145 0.16667745342696186\n",
      "Error 150 0.16667392361862193\n",
      "Error 155 0.16667154900808115\n",
      "Error 160 0.16666995146370872\n",
      "Error 165 0.16666887666906394\n",
      "Error 170 0.16666815355738138\n",
      "Error 175 0.16666766704986452\n",
      "Error 180 0.16666733972718237\n",
      "Error 185 0.1666671195036033\n",
      "Error 190 0.1666669713364389\n",
      "Error 195 0.1666668716490707\n",
      "Error 200 0.16666680457910837\n",
      "Error 205 0.16666675945427123\n",
      "Error 210 0.16666672909419605\n",
      "Error 215 0.166666708667899\n",
      "Error 220 0.1666666949250722\n",
      "Error 225 0.16666668567889592\n",
      "Error 230 0.16666667945807123\n",
      "Error 235 0.16666667527270462\n",
      "Error 240 0.16666667245679434\n",
      "Error 245 0.1666666705622536\n",
      "Error 250 0.1666666692876096\n",
      "Error 255 0.16666666843003136\n",
      "Error 260 0.1666666678530544\n",
      "Error 265 0.16666666746486553\n",
      "Error 270 0.16666666720369294\n",
      "Error 275 0.16666666702797658\n",
      "Error 280 0.16666666690975507\n",
      "Error 285 0.1666666668302159\n",
      "Error 290 0.16666666677670217\n",
      "Error 295 0.16666666674069824\n"
     ]
    },
    {
     "data": {
      "image/png": "[encoded data removed]",
      "text/plain": [
       "<Figure size 432x288 with 1 Axes>"
      ]
     },
     "metadata": {
      "needs_background": "light"
     },
     "output_type": "display_data"
    }
   ],
   "source": [
    "red3 = RedNeuronal()\n",
    "Exp3_CI2, Exp3_CF=red3.back_propagation(X3,relu,yReal,der_relu, epochs = 300, imprimir = 5, lr = 0.1)"
   ]
  },
  {
   "cell_type": "code",
   "execution_count": 87,
   "metadata": {},
   "outputs": [
    {
     "name": "stdout",
     "output_type": "stream",
     "text": [
      "Error 0 0.25\n",
      "Error 5 0.24855280977799526\n",
      "Error 10 0.17060674215159038\n",
      "Error 15 0.17876640712698055\n",
      "Error 20 0.17728432861607682\n",
      "Error 25 0.17502715515949135\n",
      "Error 30 0.2233124149313762\n",
      "Error 35 0.19661067904985702\n",
      "Error 40 0.17664108142457846\n",
      "Error 45 0.19088329676176385\n"
     ]
    },
    {
     "data": {
      "image/png": "[encoded data removed]",
      "text/plain": [
       "<Figure size 432x288 with 1 Axes>"
      ]
     },
     "metadata": {
      "needs_background": "light"
     },
     "output_type": "display_data"
    }
   ],
   "source": [
    "red3 = RedNeuronal()\n",
    "Exp4_CI2, Exp4_CF=red3.back_propagation(X3,relu,yReal,der_relu, epochs = 50, imprimir = 5, lr = 0.99)"
   ]
  },
  {
   "cell_type": "code",
   "execution_count": 88,
   "metadata": {},
   "outputs": [
    {
     "name": "stdout",
     "output_type": "stream",
     "text": [
      "Error 0 0.25\n",
      "Error 5 0.2488449810489108\n",
      "Error 10 0.20509631752541355\n",
      "Error 15 0.17861876068498003\n",
      "Error 20 0.17714233409799504\n",
      "Error 25 0.17141443902768932\n",
      "Error 30 0.17228649704220245\n",
      "Error 35 0.16910101953100326\n",
      "Error 40 0.18238664551189038\n",
      "Error 45 0.18233562963948025\n",
      "Error 50 0.2234687989110516\n",
      "Error 55 0.18304482263726582\n",
      "Error 60 0.1788562904794869\n",
      "Error 65 0.21907088727335378\n",
      "Error 70 0.18237735655407988\n",
      "Error 75 0.1838524431237656\n",
      "Error 80 0.22372110295597353\n",
      "Error 85 0.18370230885099376\n"
     ]
    },
    {
     "data": {
      "image/png": "[encoded data removed]",
      "text/plain": [
       "<Figure size 432x288 with 1 Axes>"
      ]
     },
     "metadata": {
      "needs_background": "light"
     },
     "output_type": "display_data"
    }
   ],
   "source": [
    "red3 = RedNeuronal()\n",
    "Exp5_CI2, Exp5_CF=red3.back_propagation(X3,relu,yReal,der_relu, epochs = 90, imprimir = 5, lr = 0.906)"
   ]
  },
  {
   "cell_type": "markdown",
   "metadata": {},
   "source": [
    "### Conclusiones\n",
    "La red neuronal creada no es la mejor estrategia para predecir XOR. Tarda mucho en converger y dado que son muy pocas entradas para nuesto modelo, la disminucion del error es muy pequeña. La tendencia de esta capa es crear un espacio donde solo hayan 3 valores y no cuatro como originalmente tenemos en la entrada. Estos 3 valores corresponderian a un espacio donde se puede realizar de mejor manera la separacion entre ceros y unos y de esta forma predecir correctamente los label."
   ]
  }
 ],
 "metadata": {
  "kernelspec": {
   "display_name": "Python 3",
   "language": "python",
   "name": "python3"
  },
  "language_info": {
   "codemirror_mode": {
    "name": "ipython",
    "version": 3
   },
   "file_extension": ".py",
   "mimetype": "text/x-python",
   "name": "python",
   "nbconvert_exporter": "python",
   "pygments_lexer": "ipython3",
   "version": "3.7.6"
  }
 },
 "nbformat": 4,
 "nbformat_minor": 2
}
