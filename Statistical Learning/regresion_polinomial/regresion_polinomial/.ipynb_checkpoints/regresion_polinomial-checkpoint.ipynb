{
 "cells": [
  {
   "cell_type": "markdown",
   "metadata": {},
   "source": [
    "# Tarea 2 - Regresion Polinomial & Feature engineering\n",
    "\n",
    "### Parte 1 - Modelo exponencial de covid-19 usando feature-eng\n",
    "\n",
    "Usando el ejemplo de covid-19 en el notebook de feature-eng (https://colab.research.google.com/drive/1sJV2HG7tQgCGKES3-dIclzHQJ9qAWB3b?usp=sharing) crear un modelo de covid-19 para Guatemala.\n",
    "\n",
    "* Convertir la fecha a un entero \"número de día\", por ejemplo si se usan datos desde el 22 de abril, este es el día 0, el 23 es el día 1.\n",
    "* Aplicar regresión lineal sobre la variable \"Confirmed\" transformada.\n",
    "* Una vez entrenado el modelo usarlo para aproximar la cantidad de casos confirmados para el 30 de mayo. Se debe reportar la cantidad de casos, no la cantidad transformada obtenida."
   ]
  },
  {
   "cell_type": "code",
   "execution_count": 21,
   "metadata": {},
   "outputs": [],
   "source": [
    "import numpy as np\n",
    "import pandas as pd\n",
    "import matplotlib.pyplot as plt\n",
    "import math as mt\n",
    "import datetime as dt\n",
    "import seaborn as sns\n",
    "import datetime\n",
    "from sklearn.linear_model import LinearRegression"
   ]
  },
  {
   "cell_type": "code",
   "execution_count": 6,
   "metadata": {},
   "outputs": [
    {
     "data": {
      "text/html": [
       "<div>\n",
       "<style scoped>\n",
       "    .dataframe tbody tr th:only-of-type {\n",
       "        vertical-align: middle;\n",
       "    }\n",
       "\n",
       "    .dataframe tbody tr th {\n",
       "        vertical-align: top;\n",
       "    }\n",
       "\n",
       "    .dataframe thead th {\n",
       "        text-align: right;\n",
       "    }\n",
       "</style>\n",
       "<table border=\"1\" class=\"dataframe\">\n",
       "  <thead>\n",
       "    <tr style=\"text-align: right;\">\n",
       "      <th></th>\n",
       "      <th>Country/Region</th>\n",
       "      <th>Lat</th>\n",
       "      <th>Long</th>\n",
       "      <th>1/22/20</th>\n",
       "      <th>1/23/20</th>\n",
       "      <th>1/24/20</th>\n",
       "      <th>1/25/20</th>\n",
       "      <th>1/26/20</th>\n",
       "      <th>1/27/20</th>\n",
       "      <th>1/28/20</th>\n",
       "      <th>...</th>\n",
       "      <th>5/10/20</th>\n",
       "      <th>5/11/20</th>\n",
       "      <th>5/12/20</th>\n",
       "      <th>5/13/20</th>\n",
       "      <th>5/14/20</th>\n",
       "      <th>5/15/20</th>\n",
       "      <th>5/16/20</th>\n",
       "      <th>5/17/20</th>\n",
       "      <th>5/18/20</th>\n",
       "      <th>5/19/20</th>\n",
       "    </tr>\n",
       "    <tr>\n",
       "      <th>Province/State</th>\n",
       "      <th></th>\n",
       "      <th></th>\n",
       "      <th></th>\n",
       "      <th></th>\n",
       "      <th></th>\n",
       "      <th></th>\n",
       "      <th></th>\n",
       "      <th></th>\n",
       "      <th></th>\n",
       "      <th></th>\n",
       "      <th></th>\n",
       "      <th></th>\n",
       "      <th></th>\n",
       "      <th></th>\n",
       "      <th></th>\n",
       "      <th></th>\n",
       "      <th></th>\n",
       "      <th></th>\n",
       "      <th></th>\n",
       "      <th></th>\n",
       "      <th></th>\n",
       "    </tr>\n",
       "  </thead>\n",
       "  <tbody>\n",
       "    <tr>\n",
       "      <th>NaN</th>\n",
       "      <td>Afghanistan</td>\n",
       "      <td>33.000000</td>\n",
       "      <td>65.000000</td>\n",
       "      <td>0</td>\n",
       "      <td>0</td>\n",
       "      <td>0</td>\n",
       "      <td>0</td>\n",
       "      <td>0</td>\n",
       "      <td>0</td>\n",
       "      <td>0</td>\n",
       "      <td>...</td>\n",
       "      <td>4402</td>\n",
       "      <td>4687</td>\n",
       "      <td>4963</td>\n",
       "      <td>5226</td>\n",
       "      <td>5639</td>\n",
       "      <td>6053</td>\n",
       "      <td>6402</td>\n",
       "      <td>6664</td>\n",
       "      <td>7072</td>\n",
       "      <td>7653</td>\n",
       "    </tr>\n",
       "    <tr>\n",
       "      <th>NaN</th>\n",
       "      <td>Albania</td>\n",
       "      <td>41.153300</td>\n",
       "      <td>20.168300</td>\n",
       "      <td>0</td>\n",
       "      <td>0</td>\n",
       "      <td>0</td>\n",
       "      <td>0</td>\n",
       "      <td>0</td>\n",
       "      <td>0</td>\n",
       "      <td>0</td>\n",
       "      <td>...</td>\n",
       "      <td>868</td>\n",
       "      <td>872</td>\n",
       "      <td>876</td>\n",
       "      <td>880</td>\n",
       "      <td>898</td>\n",
       "      <td>916</td>\n",
       "      <td>933</td>\n",
       "      <td>946</td>\n",
       "      <td>948</td>\n",
       "      <td>949</td>\n",
       "    </tr>\n",
       "    <tr>\n",
       "      <th>NaN</th>\n",
       "      <td>Algeria</td>\n",
       "      <td>28.033900</td>\n",
       "      <td>1.659600</td>\n",
       "      <td>0</td>\n",
       "      <td>0</td>\n",
       "      <td>0</td>\n",
       "      <td>0</td>\n",
       "      <td>0</td>\n",
       "      <td>0</td>\n",
       "      <td>0</td>\n",
       "      <td>...</td>\n",
       "      <td>5723</td>\n",
       "      <td>5891</td>\n",
       "      <td>6067</td>\n",
       "      <td>6253</td>\n",
       "      <td>6442</td>\n",
       "      <td>6629</td>\n",
       "      <td>6821</td>\n",
       "      <td>7019</td>\n",
       "      <td>7201</td>\n",
       "      <td>7377</td>\n",
       "    </tr>\n",
       "    <tr>\n",
       "      <th>NaN</th>\n",
       "      <td>Andorra</td>\n",
       "      <td>42.506300</td>\n",
       "      <td>1.521800</td>\n",
       "      <td>0</td>\n",
       "      <td>0</td>\n",
       "      <td>0</td>\n",
       "      <td>0</td>\n",
       "      <td>0</td>\n",
       "      <td>0</td>\n",
       "      <td>0</td>\n",
       "      <td>...</td>\n",
       "      <td>755</td>\n",
       "      <td>755</td>\n",
       "      <td>758</td>\n",
       "      <td>760</td>\n",
       "      <td>761</td>\n",
       "      <td>761</td>\n",
       "      <td>761</td>\n",
       "      <td>761</td>\n",
       "      <td>761</td>\n",
       "      <td>761</td>\n",
       "    </tr>\n",
       "    <tr>\n",
       "      <th>NaN</th>\n",
       "      <td>Angola</td>\n",
       "      <td>-11.202700</td>\n",
       "      <td>17.873900</td>\n",
       "      <td>0</td>\n",
       "      <td>0</td>\n",
       "      <td>0</td>\n",
       "      <td>0</td>\n",
       "      <td>0</td>\n",
       "      <td>0</td>\n",
       "      <td>0</td>\n",
       "      <td>...</td>\n",
       "      <td>45</td>\n",
       "      <td>45</td>\n",
       "      <td>45</td>\n",
       "      <td>45</td>\n",
       "      <td>48</td>\n",
       "      <td>48</td>\n",
       "      <td>48</td>\n",
       "      <td>48</td>\n",
       "      <td>50</td>\n",
       "      <td>52</td>\n",
       "    </tr>\n",
       "    <tr>\n",
       "      <th>...</th>\n",
       "      <td>...</td>\n",
       "      <td>...</td>\n",
       "      <td>...</td>\n",
       "      <td>...</td>\n",
       "      <td>...</td>\n",
       "      <td>...</td>\n",
       "      <td>...</td>\n",
       "      <td>...</td>\n",
       "      <td>...</td>\n",
       "      <td>...</td>\n",
       "      <td>...</td>\n",
       "      <td>...</td>\n",
       "      <td>...</td>\n",
       "      <td>...</td>\n",
       "      <td>...</td>\n",
       "      <td>...</td>\n",
       "      <td>...</td>\n",
       "      <td>...</td>\n",
       "      <td>...</td>\n",
       "      <td>...</td>\n",
       "      <td>...</td>\n",
       "    </tr>\n",
       "    <tr>\n",
       "      <th>NaN</th>\n",
       "      <td>Sao Tome and Principe</td>\n",
       "      <td>0.186360</td>\n",
       "      <td>6.613081</td>\n",
       "      <td>0</td>\n",
       "      <td>0</td>\n",
       "      <td>0</td>\n",
       "      <td>0</td>\n",
       "      <td>0</td>\n",
       "      <td>0</td>\n",
       "      <td>0</td>\n",
       "      <td>...</td>\n",
       "      <td>208</td>\n",
       "      <td>208</td>\n",
       "      <td>208</td>\n",
       "      <td>220</td>\n",
       "      <td>235</td>\n",
       "      <td>235</td>\n",
       "      <td>235</td>\n",
       "      <td>235</td>\n",
       "      <td>246</td>\n",
       "      <td>251</td>\n",
       "    </tr>\n",
       "    <tr>\n",
       "      <th>NaN</th>\n",
       "      <td>Yemen</td>\n",
       "      <td>15.552727</td>\n",
       "      <td>48.516388</td>\n",
       "      <td>0</td>\n",
       "      <td>0</td>\n",
       "      <td>0</td>\n",
       "      <td>0</td>\n",
       "      <td>0</td>\n",
       "      <td>0</td>\n",
       "      <td>0</td>\n",
       "      <td>...</td>\n",
       "      <td>51</td>\n",
       "      <td>56</td>\n",
       "      <td>65</td>\n",
       "      <td>70</td>\n",
       "      <td>85</td>\n",
       "      <td>106</td>\n",
       "      <td>122</td>\n",
       "      <td>128</td>\n",
       "      <td>130</td>\n",
       "      <td>167</td>\n",
       "    </tr>\n",
       "    <tr>\n",
       "      <th>NaN</th>\n",
       "      <td>Comoros</td>\n",
       "      <td>-11.645500</td>\n",
       "      <td>43.333300</td>\n",
       "      <td>0</td>\n",
       "      <td>0</td>\n",
       "      <td>0</td>\n",
       "      <td>0</td>\n",
       "      <td>0</td>\n",
       "      <td>0</td>\n",
       "      <td>0</td>\n",
       "      <td>...</td>\n",
       "      <td>11</td>\n",
       "      <td>11</td>\n",
       "      <td>11</td>\n",
       "      <td>11</td>\n",
       "      <td>11</td>\n",
       "      <td>11</td>\n",
       "      <td>11</td>\n",
       "      <td>11</td>\n",
       "      <td>11</td>\n",
       "      <td>11</td>\n",
       "    </tr>\n",
       "    <tr>\n",
       "      <th>NaN</th>\n",
       "      <td>Tajikistan</td>\n",
       "      <td>38.861034</td>\n",
       "      <td>71.276093</td>\n",
       "      <td>0</td>\n",
       "      <td>0</td>\n",
       "      <td>0</td>\n",
       "      <td>0</td>\n",
       "      <td>0</td>\n",
       "      <td>0</td>\n",
       "      <td>0</td>\n",
       "      <td>...</td>\n",
       "      <td>612</td>\n",
       "      <td>661</td>\n",
       "      <td>729</td>\n",
       "      <td>801</td>\n",
       "      <td>907</td>\n",
       "      <td>1118</td>\n",
       "      <td>1322</td>\n",
       "      <td>1524</td>\n",
       "      <td>1729</td>\n",
       "      <td>1936</td>\n",
       "    </tr>\n",
       "    <tr>\n",
       "      <th>NaN</th>\n",
       "      <td>Lesotho</td>\n",
       "      <td>-29.609988</td>\n",
       "      <td>28.233608</td>\n",
       "      <td>0</td>\n",
       "      <td>0</td>\n",
       "      <td>0</td>\n",
       "      <td>0</td>\n",
       "      <td>0</td>\n",
       "      <td>0</td>\n",
       "      <td>0</td>\n",
       "      <td>...</td>\n",
       "      <td>0</td>\n",
       "      <td>0</td>\n",
       "      <td>0</td>\n",
       "      <td>1</td>\n",
       "      <td>1</td>\n",
       "      <td>1</td>\n",
       "      <td>1</td>\n",
       "      <td>1</td>\n",
       "      <td>1</td>\n",
       "      <td>1</td>\n",
       "    </tr>\n",
       "  </tbody>\n",
       "</table>\n",
       "<p>266 rows × 122 columns</p>\n",
       "</div>"
      ],
      "text/plain": [
       "                       Country/Region        Lat       Long  1/22/20  1/23/20  \\\n",
       "Province/State                                                                  \n",
       "NaN                       Afghanistan  33.000000  65.000000        0        0   \n",
       "NaN                           Albania  41.153300  20.168300        0        0   \n",
       "NaN                           Algeria  28.033900   1.659600        0        0   \n",
       "NaN                           Andorra  42.506300   1.521800        0        0   \n",
       "NaN                            Angola -11.202700  17.873900        0        0   \n",
       "...                               ...        ...        ...      ...      ...   \n",
       "NaN             Sao Tome and Principe   0.186360   6.613081        0        0   \n",
       "NaN                             Yemen  15.552727  48.516388        0        0   \n",
       "NaN                           Comoros -11.645500  43.333300        0        0   \n",
       "NaN                        Tajikistan  38.861034  71.276093        0        0   \n",
       "NaN                           Lesotho -29.609988  28.233608        0        0   \n",
       "\n",
       "                1/24/20  1/25/20  1/26/20  1/27/20  1/28/20  ...  5/10/20  \\\n",
       "Province/State                                               ...            \n",
       "NaN                   0        0        0        0        0  ...     4402   \n",
       "NaN                   0        0        0        0        0  ...      868   \n",
       "NaN                   0        0        0        0        0  ...     5723   \n",
       "NaN                   0        0        0        0        0  ...      755   \n",
       "NaN                   0        0        0        0        0  ...       45   \n",
       "...                 ...      ...      ...      ...      ...  ...      ...   \n",
       "NaN                   0        0        0        0        0  ...      208   \n",
       "NaN                   0        0        0        0        0  ...       51   \n",
       "NaN                   0        0        0        0        0  ...       11   \n",
       "NaN                   0        0        0        0        0  ...      612   \n",
       "NaN                   0        0        0        0        0  ...        0   \n",
       "\n",
       "                5/11/20  5/12/20  5/13/20  5/14/20  5/15/20  5/16/20  5/17/20  \\\n",
       "Province/State                                                                  \n",
       "NaN                4687     4963     5226     5639     6053     6402     6664   \n",
       "NaN                 872      876      880      898      916      933      946   \n",
       "NaN                5891     6067     6253     6442     6629     6821     7019   \n",
       "NaN                 755      758      760      761      761      761      761   \n",
       "NaN                  45       45       45       48       48       48       48   \n",
       "...                 ...      ...      ...      ...      ...      ...      ...   \n",
       "NaN                 208      208      220      235      235      235      235   \n",
       "NaN                  56       65       70       85      106      122      128   \n",
       "NaN                  11       11       11       11       11       11       11   \n",
       "NaN                 661      729      801      907     1118     1322     1524   \n",
       "NaN                   0        0        1        1        1        1        1   \n",
       "\n",
       "                5/18/20  5/19/20  \n",
       "Province/State                    \n",
       "NaN                7072     7653  \n",
       "NaN                 948      949  \n",
       "NaN                7201     7377  \n",
       "NaN                 761      761  \n",
       "NaN                  50       52  \n",
       "...                 ...      ...  \n",
       "NaN                 246      251  \n",
       "NaN                 130      167  \n",
       "NaN                  11       11  \n",
       "NaN                1729     1936  \n",
       "NaN                   1        1  \n",
       "\n",
       "[266 rows x 122 columns]"
      ]
     },
     "execution_count": 6,
     "metadata": {},
     "output_type": "execute_result"
    }
   ],
   "source": [
    "path = 'time_series_covid19_confirmed_global.csv'\n",
    "covid19_data = pd.read_csv(path,index_col=0) #Lectura del CSV de los datos\n",
    "covid19_data"
   ]
  },
  {
   "cell_type": "code",
   "execution_count": 53,
   "metadata": {},
   "outputs": [
    {
     "data": {
      "text/html": [
       "<div>\n",
       "<style scoped>\n",
       "    .dataframe tbody tr th:only-of-type {\n",
       "        vertical-align: middle;\n",
       "    }\n",
       "\n",
       "    .dataframe tbody tr th {\n",
       "        vertical-align: top;\n",
       "    }\n",
       "\n",
       "    .dataframe thead th {\n",
       "        text-align: right;\n",
       "    }\n",
       "</style>\n",
       "<table border=\"1\" class=\"dataframe\">\n",
       "  <thead>\n",
       "    <tr style=\"text-align: right;\">\n",
       "      <th></th>\n",
       "      <th>Country/Region</th>\n",
       "      <th>Lat</th>\n",
       "      <th>Long</th>\n",
       "      <th>1/22/20</th>\n",
       "      <th>1/23/20</th>\n",
       "      <th>1/24/20</th>\n",
       "      <th>1/25/20</th>\n",
       "      <th>1/26/20</th>\n",
       "      <th>1/27/20</th>\n",
       "      <th>1/28/20</th>\n",
       "      <th>...</th>\n",
       "      <th>5/10/20</th>\n",
       "      <th>5/11/20</th>\n",
       "      <th>5/12/20</th>\n",
       "      <th>5/13/20</th>\n",
       "      <th>5/14/20</th>\n",
       "      <th>5/15/20</th>\n",
       "      <th>5/16/20</th>\n",
       "      <th>5/17/20</th>\n",
       "      <th>5/18/20</th>\n",
       "      <th>5/19/20</th>\n",
       "    </tr>\n",
       "    <tr>\n",
       "      <th>Province/State</th>\n",
       "      <th></th>\n",
       "      <th></th>\n",
       "      <th></th>\n",
       "      <th></th>\n",
       "      <th></th>\n",
       "      <th></th>\n",
       "      <th></th>\n",
       "      <th></th>\n",
       "      <th></th>\n",
       "      <th></th>\n",
       "      <th></th>\n",
       "      <th></th>\n",
       "      <th></th>\n",
       "      <th></th>\n",
       "      <th></th>\n",
       "      <th></th>\n",
       "      <th></th>\n",
       "      <th></th>\n",
       "      <th></th>\n",
       "      <th></th>\n",
       "      <th></th>\n",
       "    </tr>\n",
       "  </thead>\n",
       "  <tbody>\n",
       "    <tr>\n",
       "      <th>NaN</th>\n",
       "      <td>Guatemala</td>\n",
       "      <td>15.7835</td>\n",
       "      <td>-90.2308</td>\n",
       "      <td>0</td>\n",
       "      <td>0</td>\n",
       "      <td>0</td>\n",
       "      <td>0</td>\n",
       "      <td>0</td>\n",
       "      <td>0</td>\n",
       "      <td>0</td>\n",
       "      <td>...</td>\n",
       "      <td>1052</td>\n",
       "      <td>1114</td>\n",
       "      <td>1199</td>\n",
       "      <td>1342</td>\n",
       "      <td>1518</td>\n",
       "      <td>1643</td>\n",
       "      <td>1763</td>\n",
       "      <td>1763</td>\n",
       "      <td>1912</td>\n",
       "      <td>2133</td>\n",
       "    </tr>\n",
       "  </tbody>\n",
       "</table>\n",
       "<p>1 rows × 122 columns</p>\n",
       "</div>"
      ],
      "text/plain": [
       "               Country/Region      Lat     Long  1/22/20  1/23/20  1/24/20  \\\n",
       "Province/State                                                               \n",
       "NaN                 Guatemala  15.7835 -90.2308        0        0        0   \n",
       "\n",
       "                1/25/20  1/26/20  1/27/20  1/28/20  ...  5/10/20  5/11/20  \\\n",
       "Province/State                                      ...                     \n",
       "NaN                   0        0        0        0  ...     1052     1114   \n",
       "\n",
       "                5/12/20  5/13/20  5/14/20  5/15/20  5/16/20  5/17/20  5/18/20  \\\n",
       "Province/State                                                                  \n",
       "NaN                1199     1342     1518     1643     1763     1763     1912   \n",
       "\n",
       "                5/19/20  \n",
       "Province/State           \n",
       "NaN                2133  \n",
       "\n",
       "[1 rows x 122 columns]"
      ]
     },
     "execution_count": 53,
     "metadata": {},
     "output_type": "execute_result"
    }
   ],
   "source": [
    "GT_confirmed = covid19_data[(covid19_data[\"Country/Region\"] == 'Guatemala')] #Obtener solo los datos de Guatemala\n",
    "GT_confirmed"
   ]
  },
  {
   "cell_type": "code",
   "execution_count": 128,
   "metadata": {},
   "outputs": [
    {
     "data": {
      "text/plain": [
       "94"
      ]
     },
     "execution_count": 128,
     "metadata": {},
     "output_type": "execute_result"
    }
   ],
   "source": [
    "#Obtener posicion de la columna del 22 de abril\n",
    "dia_origen='4/22/20'\n",
    "posicion=GT_confirmed.columns.get_loc(dia_origen)\n",
    "posicion"
   ]
  },
  {
   "cell_type": "code",
   "execution_count": 101,
   "metadata": {},
   "outputs": [
    {
     "data": {
      "text/html": [
       "<div>\n",
       "<style scoped>\n",
       "    .dataframe tbody tr th:only-of-type {\n",
       "        vertical-align: middle;\n",
       "    }\n",
       "\n",
       "    .dataframe tbody tr th {\n",
       "        vertical-align: top;\n",
       "    }\n",
       "\n",
       "    .dataframe thead th {\n",
       "        text-align: right;\n",
       "    }\n",
       "</style>\n",
       "<table border=\"1\" class=\"dataframe\">\n",
       "  <thead>\n",
       "    <tr style=\"text-align: right;\">\n",
       "      <th></th>\n",
       "      <th>Confirmados</th>\n",
       "    </tr>\n",
       "  </thead>\n",
       "  <tbody>\n",
       "    <tr>\n",
       "      <th>4/22/20</th>\n",
       "      <td>316</td>\n",
       "    </tr>\n",
       "    <tr>\n",
       "      <th>4/23/20</th>\n",
       "      <td>384</td>\n",
       "    </tr>\n",
       "    <tr>\n",
       "      <th>4/24/20</th>\n",
       "      <td>430</td>\n",
       "    </tr>\n",
       "    <tr>\n",
       "      <th>4/25/20</th>\n",
       "      <td>473</td>\n",
       "    </tr>\n",
       "    <tr>\n",
       "      <th>4/26/20</th>\n",
       "      <td>500</td>\n",
       "    </tr>\n",
       "    <tr>\n",
       "      <th>4/27/20</th>\n",
       "      <td>530</td>\n",
       "    </tr>\n",
       "    <tr>\n",
       "      <th>4/28/20</th>\n",
       "      <td>530</td>\n",
       "    </tr>\n",
       "    <tr>\n",
       "      <th>4/29/20</th>\n",
       "      <td>557</td>\n",
       "    </tr>\n",
       "    <tr>\n",
       "      <th>4/30/20</th>\n",
       "      <td>599</td>\n",
       "    </tr>\n",
       "    <tr>\n",
       "      <th>5/1/20</th>\n",
       "      <td>644</td>\n",
       "    </tr>\n",
       "    <tr>\n",
       "      <th>5/2/20</th>\n",
       "      <td>688</td>\n",
       "    </tr>\n",
       "    <tr>\n",
       "      <th>5/3/20</th>\n",
       "      <td>703</td>\n",
       "    </tr>\n",
       "    <tr>\n",
       "      <th>5/4/20</th>\n",
       "      <td>730</td>\n",
       "    </tr>\n",
       "    <tr>\n",
       "      <th>5/5/20</th>\n",
       "      <td>763</td>\n",
       "    </tr>\n",
       "    <tr>\n",
       "      <th>5/6/20</th>\n",
       "      <td>798</td>\n",
       "    </tr>\n",
       "    <tr>\n",
       "      <th>5/7/20</th>\n",
       "      <td>832</td>\n",
       "    </tr>\n",
       "    <tr>\n",
       "      <th>5/8/20</th>\n",
       "      <td>900</td>\n",
       "    </tr>\n",
       "    <tr>\n",
       "      <th>5/9/20</th>\n",
       "      <td>967</td>\n",
       "    </tr>\n",
       "    <tr>\n",
       "      <th>5/10/20</th>\n",
       "      <td>1052</td>\n",
       "    </tr>\n",
       "    <tr>\n",
       "      <th>5/11/20</th>\n",
       "      <td>1114</td>\n",
       "    </tr>\n",
       "    <tr>\n",
       "      <th>5/12/20</th>\n",
       "      <td>1199</td>\n",
       "    </tr>\n",
       "    <tr>\n",
       "      <th>5/13/20</th>\n",
       "      <td>1342</td>\n",
       "    </tr>\n",
       "    <tr>\n",
       "      <th>5/14/20</th>\n",
       "      <td>1518</td>\n",
       "    </tr>\n",
       "    <tr>\n",
       "      <th>5/15/20</th>\n",
       "      <td>1643</td>\n",
       "    </tr>\n",
       "    <tr>\n",
       "      <th>5/16/20</th>\n",
       "      <td>1763</td>\n",
       "    </tr>\n",
       "    <tr>\n",
       "      <th>5/17/20</th>\n",
       "      <td>1763</td>\n",
       "    </tr>\n",
       "    <tr>\n",
       "      <th>5/18/20</th>\n",
       "      <td>1912</td>\n",
       "    </tr>\n",
       "    <tr>\n",
       "      <th>5/19/20</th>\n",
       "      <td>2133</td>\n",
       "    </tr>\n",
       "  </tbody>\n",
       "</table>\n",
       "</div>"
      ],
      "text/plain": [
       "        Confirmados\n",
       "4/22/20         316\n",
       "4/23/20         384\n",
       "4/24/20         430\n",
       "4/25/20         473\n",
       "4/26/20         500\n",
       "4/27/20         530\n",
       "4/28/20         530\n",
       "4/29/20         557\n",
       "4/30/20         599\n",
       "5/1/20          644\n",
       "5/2/20          688\n",
       "5/3/20          703\n",
       "5/4/20          730\n",
       "5/5/20          763\n",
       "5/6/20          798\n",
       "5/7/20          832\n",
       "5/8/20          900\n",
       "5/9/20          967\n",
       "5/10/20        1052\n",
       "5/11/20        1114\n",
       "5/12/20        1199\n",
       "5/13/20        1342\n",
       "5/14/20        1518\n",
       "5/15/20        1643\n",
       "5/16/20        1763\n",
       "5/17/20        1763\n",
       "5/18/20        1912\n",
       "5/19/20        2133"
      ]
     },
     "execution_count": 101,
     "metadata": {},
     "output_type": "execute_result"
    }
   ],
   "source": [
    "Var_y=GT_confirmed.T #Se transponen las columnas\n",
    "Var_y=Var_y[posicion:] #Se eliminan los primeros a partir de la fecha inicial\n",
    "Var_y.columns=[\"Confirmados\"]\n",
    "Var_y"
   ]
  },
  {
   "cell_type": "code",
   "execution_count": 102,
   "metadata": {},
   "outputs": [
    {
     "data": {
      "text/html": [
       "<div>\n",
       "<style scoped>\n",
       "    .dataframe tbody tr th:only-of-type {\n",
       "        vertical-align: middle;\n",
       "    }\n",
       "\n",
       "    .dataframe tbody tr th {\n",
       "        vertical-align: top;\n",
       "    }\n",
       "\n",
       "    .dataframe thead th {\n",
       "        text-align: right;\n",
       "    }\n",
       "</style>\n",
       "<table border=\"1\" class=\"dataframe\">\n",
       "  <thead>\n",
       "    <tr style=\"text-align: right;\">\n",
       "      <th></th>\n",
       "      <th>Confirmados</th>\n",
       "    </tr>\n",
       "  </thead>\n",
       "  <tbody>\n",
       "    <tr>\n",
       "      <th>0</th>\n",
       "      <td>316</td>\n",
       "    </tr>\n",
       "    <tr>\n",
       "      <th>1</th>\n",
       "      <td>384</td>\n",
       "    </tr>\n",
       "    <tr>\n",
       "      <th>2</th>\n",
       "      <td>430</td>\n",
       "    </tr>\n",
       "    <tr>\n",
       "      <th>3</th>\n",
       "      <td>473</td>\n",
       "    </tr>\n",
       "    <tr>\n",
       "      <th>4</th>\n",
       "      <td>500</td>\n",
       "    </tr>\n",
       "    <tr>\n",
       "      <th>5</th>\n",
       "      <td>530</td>\n",
       "    </tr>\n",
       "    <tr>\n",
       "      <th>6</th>\n",
       "      <td>530</td>\n",
       "    </tr>\n",
       "    <tr>\n",
       "      <th>7</th>\n",
       "      <td>557</td>\n",
       "    </tr>\n",
       "    <tr>\n",
       "      <th>8</th>\n",
       "      <td>599</td>\n",
       "    </tr>\n",
       "    <tr>\n",
       "      <th>9</th>\n",
       "      <td>644</td>\n",
       "    </tr>\n",
       "    <tr>\n",
       "      <th>10</th>\n",
       "      <td>688</td>\n",
       "    </tr>\n",
       "    <tr>\n",
       "      <th>11</th>\n",
       "      <td>703</td>\n",
       "    </tr>\n",
       "    <tr>\n",
       "      <th>12</th>\n",
       "      <td>730</td>\n",
       "    </tr>\n",
       "    <tr>\n",
       "      <th>13</th>\n",
       "      <td>763</td>\n",
       "    </tr>\n",
       "    <tr>\n",
       "      <th>14</th>\n",
       "      <td>798</td>\n",
       "    </tr>\n",
       "    <tr>\n",
       "      <th>15</th>\n",
       "      <td>832</td>\n",
       "    </tr>\n",
       "    <tr>\n",
       "      <th>16</th>\n",
       "      <td>900</td>\n",
       "    </tr>\n",
       "    <tr>\n",
       "      <th>17</th>\n",
       "      <td>967</td>\n",
       "    </tr>\n",
       "    <tr>\n",
       "      <th>18</th>\n",
       "      <td>1052</td>\n",
       "    </tr>\n",
       "    <tr>\n",
       "      <th>19</th>\n",
       "      <td>1114</td>\n",
       "    </tr>\n",
       "    <tr>\n",
       "      <th>20</th>\n",
       "      <td>1199</td>\n",
       "    </tr>\n",
       "    <tr>\n",
       "      <th>21</th>\n",
       "      <td>1342</td>\n",
       "    </tr>\n",
       "    <tr>\n",
       "      <th>22</th>\n",
       "      <td>1518</td>\n",
       "    </tr>\n",
       "    <tr>\n",
       "      <th>23</th>\n",
       "      <td>1643</td>\n",
       "    </tr>\n",
       "    <tr>\n",
       "      <th>24</th>\n",
       "      <td>1763</td>\n",
       "    </tr>\n",
       "    <tr>\n",
       "      <th>25</th>\n",
       "      <td>1763</td>\n",
       "    </tr>\n",
       "    <tr>\n",
       "      <th>26</th>\n",
       "      <td>1912</td>\n",
       "    </tr>\n",
       "    <tr>\n",
       "      <th>27</th>\n",
       "      <td>2133</td>\n",
       "    </tr>\n",
       "  </tbody>\n",
       "</table>\n",
       "</div>"
      ],
      "text/plain": [
       "    Confirmados\n",
       "0           316\n",
       "1           384\n",
       "2           430\n",
       "3           473\n",
       "4           500\n",
       "5           530\n",
       "6           530\n",
       "7           557\n",
       "8           599\n",
       "9           644\n",
       "10          688\n",
       "11          703\n",
       "12          730\n",
       "13          763\n",
       "14          798\n",
       "15          832\n",
       "16          900\n",
       "17          967\n",
       "18         1052\n",
       "19         1114\n",
       "20         1199\n",
       "21         1342\n",
       "22         1518\n",
       "23         1643\n",
       "24         1763\n",
       "25         1763\n",
       "26         1912\n",
       "27         2133"
      ]
     },
     "execution_count": 102,
     "metadata": {},
     "output_type": "execute_result"
    }
   ],
   "source": [
    "#Se elimina el tipo fecha de la columna\n",
    "Var_y.reset_index(drop=True, inplace=True)\n",
    "Var_y['Confirmados']=np.int64(Var_y['Confirmados'])\n",
    "Var_y"
   ]
  },
  {
   "cell_type": "markdown",
   "metadata": {},
   "source": [
    "#### Graficando las predicciones:"
   ]
  },
  {
   "cell_type": "code",
   "execution_count": 103,
   "metadata": {},
   "outputs": [],
   "source": [
    "def graficarVector(vector, xlabel, ylabel):\n",
    "    fig = plt.figure()\n",
    "    ax = fig.add_subplot() \n",
    "    ax.grid()\n",
    "    ax.plot(vector,'ro',color='orange')\n",
    "    ax.set_xlabel(xlabel)\n",
    "    ax.set_ylabel(ylabel)\n",
    "    plt.show()\n",
    "    return;"
   ]
  },
  {
   "cell_type": "code",
   "execution_count": 105,
   "metadata": {},
   "outputs": [
    {
     "data": {
      "image/png": "[encoded data removed]",
      "text/plain": [
       "<Figure size 432x288 with 1 Axes>"
      ]
     },
     "metadata": {
      "needs_background": "light"
     },
     "output_type": "display_data"
    }
   ],
   "source": [
    "graficarVector(Var_y['Confirmados'],'Dias desde aparicion de covid','Casos confirmados')"
   ]
  },
  {
   "cell_type": "code",
   "execution_count": 114,
   "metadata": {
    "scrolled": true
   },
   "outputs": [
    {
     "data": {
      "text/html": [
       "<div>\n",
       "<style scoped>\n",
       "    .dataframe tbody tr th:only-of-type {\n",
       "        vertical-align: middle;\n",
       "    }\n",
       "\n",
       "    .dataframe tbody tr th {\n",
       "        vertical-align: top;\n",
       "    }\n",
       "\n",
       "    .dataframe thead th {\n",
       "        text-align: right;\n",
       "    }\n",
       "</style>\n",
       "<table border=\"1\" class=\"dataframe\">\n",
       "  <thead>\n",
       "    <tr style=\"text-align: right;\">\n",
       "      <th></th>\n",
       "      <th>Confirmados</th>\n",
       "      <th>ln(Confirmados)</th>\n",
       "    </tr>\n",
       "  </thead>\n",
       "  <tbody>\n",
       "    <tr>\n",
       "      <th>0</th>\n",
       "      <td>316</td>\n",
       "      <td>5.755742</td>\n",
       "    </tr>\n",
       "    <tr>\n",
       "      <th>1</th>\n",
       "      <td>384</td>\n",
       "      <td>5.950643</td>\n",
       "    </tr>\n",
       "    <tr>\n",
       "      <th>2</th>\n",
       "      <td>430</td>\n",
       "      <td>6.063785</td>\n",
       "    </tr>\n",
       "    <tr>\n",
       "      <th>3</th>\n",
       "      <td>473</td>\n",
       "      <td>6.159095</td>\n",
       "    </tr>\n",
       "    <tr>\n",
       "      <th>4</th>\n",
       "      <td>500</td>\n",
       "      <td>6.214608</td>\n",
       "    </tr>\n",
       "    <tr>\n",
       "      <th>5</th>\n",
       "      <td>530</td>\n",
       "      <td>6.272877</td>\n",
       "    </tr>\n",
       "    <tr>\n",
       "      <th>6</th>\n",
       "      <td>530</td>\n",
       "      <td>6.272877</td>\n",
       "    </tr>\n",
       "    <tr>\n",
       "      <th>7</th>\n",
       "      <td>557</td>\n",
       "      <td>6.322565</td>\n",
       "    </tr>\n",
       "    <tr>\n",
       "      <th>8</th>\n",
       "      <td>599</td>\n",
       "      <td>6.395262</td>\n",
       "    </tr>\n",
       "    <tr>\n",
       "      <th>9</th>\n",
       "      <td>644</td>\n",
       "      <td>6.467699</td>\n",
       "    </tr>\n",
       "    <tr>\n",
       "      <th>10</th>\n",
       "      <td>688</td>\n",
       "      <td>6.533789</td>\n",
       "    </tr>\n",
       "    <tr>\n",
       "      <th>11</th>\n",
       "      <td>703</td>\n",
       "      <td>6.555357</td>\n",
       "    </tr>\n",
       "    <tr>\n",
       "      <th>12</th>\n",
       "      <td>730</td>\n",
       "      <td>6.593045</td>\n",
       "    </tr>\n",
       "    <tr>\n",
       "      <th>13</th>\n",
       "      <td>763</td>\n",
       "      <td>6.637258</td>\n",
       "    </tr>\n",
       "    <tr>\n",
       "      <th>14</th>\n",
       "      <td>798</td>\n",
       "      <td>6.682109</td>\n",
       "    </tr>\n",
       "    <tr>\n",
       "      <th>15</th>\n",
       "      <td>832</td>\n",
       "      <td>6.723832</td>\n",
       "    </tr>\n",
       "    <tr>\n",
       "      <th>16</th>\n",
       "      <td>900</td>\n",
       "      <td>6.802395</td>\n",
       "    </tr>\n",
       "    <tr>\n",
       "      <th>17</th>\n",
       "      <td>967</td>\n",
       "      <td>6.874198</td>\n",
       "    </tr>\n",
       "    <tr>\n",
       "      <th>18</th>\n",
       "      <td>1052</td>\n",
       "      <td>6.958448</td>\n",
       "    </tr>\n",
       "    <tr>\n",
       "      <th>19</th>\n",
       "      <td>1114</td>\n",
       "      <td>7.015712</td>\n",
       "    </tr>\n",
       "    <tr>\n",
       "      <th>20</th>\n",
       "      <td>1199</td>\n",
       "      <td>7.089243</td>\n",
       "    </tr>\n",
       "    <tr>\n",
       "      <th>21</th>\n",
       "      <td>1342</td>\n",
       "      <td>7.201916</td>\n",
       "    </tr>\n",
       "    <tr>\n",
       "      <th>22</th>\n",
       "      <td>1518</td>\n",
       "      <td>7.325149</td>\n",
       "    </tr>\n",
       "    <tr>\n",
       "      <th>23</th>\n",
       "      <td>1643</td>\n",
       "      <td>7.404279</td>\n",
       "    </tr>\n",
       "    <tr>\n",
       "      <th>24</th>\n",
       "      <td>1763</td>\n",
       "      <td>7.474772</td>\n",
       "    </tr>\n",
       "    <tr>\n",
       "      <th>25</th>\n",
       "      <td>1763</td>\n",
       "      <td>7.474772</td>\n",
       "    </tr>\n",
       "    <tr>\n",
       "      <th>26</th>\n",
       "      <td>1912</td>\n",
       "      <td>7.555905</td>\n",
       "    </tr>\n",
       "    <tr>\n",
       "      <th>27</th>\n",
       "      <td>2133</td>\n",
       "      <td>7.665285</td>\n",
       "    </tr>\n",
       "  </tbody>\n",
       "</table>\n",
       "</div>"
      ],
      "text/plain": [
       "    Confirmados  ln(Confirmados)\n",
       "0           316         5.755742\n",
       "1           384         5.950643\n",
       "2           430         6.063785\n",
       "3           473         6.159095\n",
       "4           500         6.214608\n",
       "5           530         6.272877\n",
       "6           530         6.272877\n",
       "7           557         6.322565\n",
       "8           599         6.395262\n",
       "9           644         6.467699\n",
       "10          688         6.533789\n",
       "11          703         6.555357\n",
       "12          730         6.593045\n",
       "13          763         6.637258\n",
       "14          798         6.682109\n",
       "15          832         6.723832\n",
       "16          900         6.802395\n",
       "17          967         6.874198\n",
       "18         1052         6.958448\n",
       "19         1114         7.015712\n",
       "20         1199         7.089243\n",
       "21         1342         7.201916\n",
       "22         1518         7.325149\n",
       "23         1643         7.404279\n",
       "24         1763         7.474772\n",
       "25         1763         7.474772\n",
       "26         1912         7.555905\n",
       "27         2133         7.665285"
      ]
     },
     "execution_count": 114,
     "metadata": {},
     "output_type": "execute_result"
    }
   ],
   "source": [
    "Var_y['ln(Confirmados)'] = np.log(Var_y['Confirmados'])\n",
    "Var_y"
   ]
  },
  {
   "cell_type": "code",
   "execution_count": 107,
   "metadata": {
    "scrolled": true
   },
   "outputs": [
    {
     "data": {
      "image/png": "[encoded data removed]",
      "text/plain": [
       "<Figure size 432x288 with 1 Axes>"
      ]
     },
     "metadata": {
      "needs_background": "light"
     },
     "output_type": "display_data"
    }
   ],
   "source": [
    "graficarVector(Var_y['ln(Confirmados)'],'Dias desde aparicion de covid','ln de Casos confirmados')"
   ]
  },
  {
   "cell_type": "markdown",
   "metadata": {},
   "source": [
    "Aplicando regresion lineal con skitlearn:"
   ]
  },
  {
   "cell_type": "code",
   "execution_count": 139,
   "metadata": {},
   "outputs": [
    {
     "data": {
      "text/plain": [
       "LinearRegression(copy_X=True, fit_intercept=True, n_jobs=None, normalize=False)"
      ]
     },
     "execution_count": 139,
     "metadata": {},
     "output_type": "execute_result"
    }
   ],
   "source": [
    "dias = pd.Series(np.array(range(0,Var_y.index.shape[0])))\n",
    "Var_x=pd.DataFrame(dias,columns=[\"dias\"])\n",
    "skit_ModeloLineal=LinearRegression().fit(Var_x,Var_y['ln(Confirmados)'])\n",
    "skit_ModeloLineal"
   ]
  },
  {
   "cell_type": "code",
   "execution_count": 145,
   "metadata": {},
   "outputs": [
    {
     "data": {
      "text/plain": [
       "3952"
      ]
     },
     "execution_count": 145,
     "metadata": {},
     "output_type": "execute_result"
    }
   ],
   "source": [
    "#----Se procesa el dia objetivo---------\n",
    "dia_objetivo='5/30/20'\n",
    "f_origen=dt.datetime.strptime(dia_origen,'%m/%d/%y')\n",
    "f_objetivo=dt.datetime.strptime(dia_objetivo,'%m/%d/%y')\n",
    "x_objetivo=f_objetivo-f_origen\n",
    "\n",
    "#----------Prediccion usando el modelo---------------\n",
    "Predecir=pd.DataFrame([x_objetivo.days],columns=[\"objetivo\"])\n",
    "\n",
    "prediccionSkit = skit_ModeloLineal.predict(Predecir)\n",
    "prediccionSkit\n",
    "\n",
    "#----------Feature enginering de la prediccion-----------\n",
    "CasosPredecidos=np.int64(np.exp(prediccionSkit[0]))\n",
    "CasosPredecidos"
   ]
  },
  {
   "cell_type": "markdown",
   "metadata": {},
   "source": [
    "Se estiman 3952 Casos para el 30 de Mayo"
   ]
  },
  {
   "cell_type": "markdown",
   "metadata": {},
   "source": [
    "### Parte 2 - Modelo polinomial de calidad de vinos"
   ]
  },
  {
   "cell_type": "markdown",
   "metadata": {},
   "source": [
    "Es permitido utilizar [sklearn.preprocessing.polynomialfeatures](https://scikit-learn.org/stable/modules/generated/sklearn.preprocessing.PolynomialFeatures.html)\n",
    "\n",
    "\n",
    "### Instrucciones\n",
    "\n",
    "1. Seleccionar y transformar(generando las combinaciones polinomiales para un polinomio de grado dos o tres a elección) las features que considere que son las mejores para predecir la calidad del vino, utilizar como minimo 2 features. Para seleccionar las features, hacer un analisis exploratorio por ejemplo(pero no limitado a ):  graficando y viendo la forma en que se comportan los datos.\n",
    "\n",
    " Por ejemplo, se tienen las features \"a\" y \"b\" y seleccionamos polinomio de grado 2, hacemos feature engineering para obtener :\n",
    " \n",
    " $[a,b,a^{2},b^{2},ab]$\n",
    " \n",
    " No olvidar el \"bias\" (parámetro multiplicado por 1) ,con lo cual el dataset puede quedar con las columnas:\n",
    " \n",
    " $[1,a,b,a^{2},b^{2},ab]$\n",
    "2. Una vez transformada la data aplicar regresion lineal con las features polinomiales usando Tensorflow.\n",
    "\n",
    "Requisitos adicionales:\n",
    "* Se debe agregar al notebook un screenshot del grafo de tensorboard, simplificando(usando  names , y name_scope como visto en clase).\n",
    "\n",
    "* Se debe generar un directorio de logs de tensorboard para cada corrida/experimento , con cada directorio identificando facilmente la configuración del experimento como visto en clase, por ejemplo para un experimento con learning rate = 0.1 , y polinomio grado 2  crear un directorio: lr=0.1_polinomio_grado=2. (Agregar al notebook un screenshot de estas gráficas)\n",
    "\n",
    "* Concluir en markdown cual es el mejor modelo para este caso basado en la comparativa entre curvas de costo/error en tensorboard."
   ]
  },
  {
   "cell_type": "code",
   "execution_count": 3,
   "metadata": {},
   "outputs": [],
   "source": [
    "import pandas as pd"
   ]
  },
  {
   "cell_type": "code",
   "execution_count": 4,
   "metadata": {},
   "outputs": [],
   "source": [
    "data = pd.read_csv('winequality-red.csv')"
   ]
  },
  {
   "cell_type": "markdown",
   "metadata": {},
   "source": [
    "### Red Wine Quality Data\n",
    "\n",
    "Se aplicará regresión para crear un modelo de la calidad de vino en función de características del mismo, siendo 1 el peor vino y 10 el mejor.\n",
    "\n",
    "Variables de entrada:\n",
    "1. fixed acidity \n",
    "2. volatile acidity \n",
    "3. citric acid \n",
    "4. residual sugar \n",
    "5. chlorides \n",
    "6. free sulfur dioxide \n",
    "7. total sulfur dioxide \n",
    "8. density \n",
    "9. pH \n",
    "10. sulphates \n",
    "11. alcohol \n",
    "\n",
    "Varaible a predecir: \n",
    "12. quality (puntuacion  entre 0 y 10) \n",
    "\n"
   ]
  },
  {
   "cell_type": "code",
   "execution_count": 212,
   "metadata": {},
   "outputs": [
    {
     "data": {
      "text/html": [
       "<div>\n",
       "<style scoped>\n",
       "    .dataframe tbody tr th:only-of-type {\n",
       "        vertical-align: middle;\n",
       "    }\n",
       "\n",
       "    .dataframe tbody tr th {\n",
       "        vertical-align: top;\n",
       "    }\n",
       "\n",
       "    .dataframe thead th {\n",
       "        text-align: right;\n",
       "    }\n",
       "</style>\n",
       "<table border=\"1\" class=\"dataframe\">\n",
       "  <thead>\n",
       "    <tr style=\"text-align: right;\">\n",
       "      <th></th>\n",
       "      <th>fixed acidity</th>\n",
       "      <th>volatile acidity</th>\n",
       "      <th>citric acid</th>\n",
       "      <th>residual sugar</th>\n",
       "      <th>chlorides</th>\n",
       "      <th>free sulfur dioxide</th>\n",
       "      <th>total sulfur dioxide</th>\n",
       "      <th>density</th>\n",
       "      <th>pH</th>\n",
       "      <th>sulphates</th>\n",
       "      <th>alcohol</th>\n",
       "      <th>quality</th>\n",
       "    </tr>\n",
       "  </thead>\n",
       "  <tbody>\n",
       "    <tr>\n",
       "      <th>0</th>\n",
       "      <td>7.4</td>\n",
       "      <td>0.70</td>\n",
       "      <td>0.00</td>\n",
       "      <td>1.9</td>\n",
       "      <td>0.076</td>\n",
       "      <td>11.0</td>\n",
       "      <td>34.0</td>\n",
       "      <td>0.9978</td>\n",
       "      <td>3.51</td>\n",
       "      <td>0.56</td>\n",
       "      <td>9.4</td>\n",
       "      <td>5</td>\n",
       "    </tr>\n",
       "    <tr>\n",
       "      <th>1</th>\n",
       "      <td>7.8</td>\n",
       "      <td>0.88</td>\n",
       "      <td>0.00</td>\n",
       "      <td>2.6</td>\n",
       "      <td>0.098</td>\n",
       "      <td>25.0</td>\n",
       "      <td>67.0</td>\n",
       "      <td>0.9968</td>\n",
       "      <td>3.20</td>\n",
       "      <td>0.68</td>\n",
       "      <td>9.8</td>\n",
       "      <td>5</td>\n",
       "    </tr>\n",
       "    <tr>\n",
       "      <th>2</th>\n",
       "      <td>7.8</td>\n",
       "      <td>0.76</td>\n",
       "      <td>0.04</td>\n",
       "      <td>2.3</td>\n",
       "      <td>0.092</td>\n",
       "      <td>15.0</td>\n",
       "      <td>54.0</td>\n",
       "      <td>0.9970</td>\n",
       "      <td>3.26</td>\n",
       "      <td>0.65</td>\n",
       "      <td>9.8</td>\n",
       "      <td>5</td>\n",
       "    </tr>\n",
       "    <tr>\n",
       "      <th>3</th>\n",
       "      <td>11.2</td>\n",
       "      <td>0.28</td>\n",
       "      <td>0.56</td>\n",
       "      <td>1.9</td>\n",
       "      <td>0.075</td>\n",
       "      <td>17.0</td>\n",
       "      <td>60.0</td>\n",
       "      <td>0.9980</td>\n",
       "      <td>3.16</td>\n",
       "      <td>0.58</td>\n",
       "      <td>9.8</td>\n",
       "      <td>6</td>\n",
       "    </tr>\n",
       "    <tr>\n",
       "      <th>4</th>\n",
       "      <td>7.4</td>\n",
       "      <td>0.70</td>\n",
       "      <td>0.00</td>\n",
       "      <td>1.9</td>\n",
       "      <td>0.076</td>\n",
       "      <td>11.0</td>\n",
       "      <td>34.0</td>\n",
       "      <td>0.9978</td>\n",
       "      <td>3.51</td>\n",
       "      <td>0.56</td>\n",
       "      <td>9.4</td>\n",
       "      <td>5</td>\n",
       "    </tr>\n",
       "  </tbody>\n",
       "</table>\n",
       "</div>"
      ],
      "text/plain": [
       "   fixed acidity  volatile acidity  citric acid  residual sugar  chlorides  \\\n",
       "0            7.4              0.70         0.00             1.9      0.076   \n",
       "1            7.8              0.88         0.00             2.6      0.098   \n",
       "2            7.8              0.76         0.04             2.3      0.092   \n",
       "3           11.2              0.28         0.56             1.9      0.075   \n",
       "4            7.4              0.70         0.00             1.9      0.076   \n",
       "\n",
       "   free sulfur dioxide  total sulfur dioxide  density    pH  sulphates  \\\n",
       "0                 11.0                  34.0   0.9978  3.51       0.56   \n",
       "1                 25.0                  67.0   0.9968  3.20       0.68   \n",
       "2                 15.0                  54.0   0.9970  3.26       0.65   \n",
       "3                 17.0                  60.0   0.9980  3.16       0.58   \n",
       "4                 11.0                  34.0   0.9978  3.51       0.56   \n",
       "\n",
       "   alcohol  quality  \n",
       "0      9.4        5  \n",
       "1      9.8        5  \n",
       "2      9.8        5  \n",
       "3      9.8        6  \n",
       "4      9.4        5  "
      ]
     },
     "execution_count": 212,
     "metadata": {},
     "output_type": "execute_result"
    }
   ],
   "source": [
    "data.head()"
   ]
  },
  {
   "cell_type": "code",
   "execution_count": 199,
   "metadata": {
    "jupyter": {
     "outputs_hidden": true
    }
   },
   "outputs": [
    {
     "data": {
      "text/html": [
       "<div>\n",
       "<style scoped>\n",
       "    .dataframe tbody tr th:only-of-type {\n",
       "        vertical-align: middle;\n",
       "    }\n",
       "\n",
       "    .dataframe tbody tr th {\n",
       "        vertical-align: top;\n",
       "    }\n",
       "\n",
       "    .dataframe thead th {\n",
       "        text-align: right;\n",
       "    }\n",
       "</style>\n",
       "<table border=\"1\" class=\"dataframe\">\n",
       "  <thead>\n",
       "    <tr style=\"text-align: right;\">\n",
       "      <th></th>\n",
       "      <th>fixed acidity</th>\n",
       "      <th>volatile acidity</th>\n",
       "      <th>citric acid</th>\n",
       "      <th>residual sugar</th>\n",
       "      <th>chlorides</th>\n",
       "      <th>free sulfur dioxide</th>\n",
       "      <th>total sulfur dioxide</th>\n",
       "      <th>density</th>\n",
       "      <th>pH</th>\n",
       "      <th>sulphates</th>\n",
       "      <th>alcohol</th>\n",
       "      <th>quality</th>\n",
       "    </tr>\n",
       "  </thead>\n",
       "  <tbody>\n",
       "    <tr>\n",
       "      <th>fixed acidity</th>\n",
       "      <td>1.000000</td>\n",
       "      <td>-0.256131</td>\n",
       "      <td>0.671703</td>\n",
       "      <td>0.114777</td>\n",
       "      <td>0.093705</td>\n",
       "      <td>-0.153794</td>\n",
       "      <td>-0.113181</td>\n",
       "      <td>0.668047</td>\n",
       "      <td>-0.682978</td>\n",
       "      <td>0.183006</td>\n",
       "      <td>-0.061668</td>\n",
       "      <td>0.124052</td>\n",
       "    </tr>\n",
       "    <tr>\n",
       "      <th>volatile acidity</th>\n",
       "      <td>-0.256131</td>\n",
       "      <td>1.000000</td>\n",
       "      <td>-0.552496</td>\n",
       "      <td>0.001918</td>\n",
       "      <td>0.061298</td>\n",
       "      <td>-0.010504</td>\n",
       "      <td>0.076470</td>\n",
       "      <td>0.022026</td>\n",
       "      <td>0.234937</td>\n",
       "      <td>-0.260987</td>\n",
       "      <td>-0.202288</td>\n",
       "      <td>-0.390558</td>\n",
       "    </tr>\n",
       "    <tr>\n",
       "      <th>citric acid</th>\n",
       "      <td>0.671703</td>\n",
       "      <td>-0.552496</td>\n",
       "      <td>1.000000</td>\n",
       "      <td>0.143577</td>\n",
       "      <td>0.203823</td>\n",
       "      <td>-0.060978</td>\n",
       "      <td>0.035533</td>\n",
       "      <td>0.364947</td>\n",
       "      <td>-0.541904</td>\n",
       "      <td>0.312770</td>\n",
       "      <td>0.109903</td>\n",
       "      <td>0.226373</td>\n",
       "    </tr>\n",
       "    <tr>\n",
       "      <th>residual sugar</th>\n",
       "      <td>0.114777</td>\n",
       "      <td>0.001918</td>\n",
       "      <td>0.143577</td>\n",
       "      <td>1.000000</td>\n",
       "      <td>0.055610</td>\n",
       "      <td>0.187049</td>\n",
       "      <td>0.203028</td>\n",
       "      <td>0.355283</td>\n",
       "      <td>-0.085652</td>\n",
       "      <td>0.005527</td>\n",
       "      <td>0.042075</td>\n",
       "      <td>0.013732</td>\n",
       "    </tr>\n",
       "    <tr>\n",
       "      <th>chlorides</th>\n",
       "      <td>0.093705</td>\n",
       "      <td>0.061298</td>\n",
       "      <td>0.203823</td>\n",
       "      <td>0.055610</td>\n",
       "      <td>1.000000</td>\n",
       "      <td>0.005562</td>\n",
       "      <td>0.047400</td>\n",
       "      <td>0.200632</td>\n",
       "      <td>-0.265026</td>\n",
       "      <td>0.371260</td>\n",
       "      <td>-0.221141</td>\n",
       "      <td>-0.128907</td>\n",
       "    </tr>\n",
       "    <tr>\n",
       "      <th>free sulfur dioxide</th>\n",
       "      <td>-0.153794</td>\n",
       "      <td>-0.010504</td>\n",
       "      <td>-0.060978</td>\n",
       "      <td>0.187049</td>\n",
       "      <td>0.005562</td>\n",
       "      <td>1.000000</td>\n",
       "      <td>0.667666</td>\n",
       "      <td>-0.021946</td>\n",
       "      <td>0.070377</td>\n",
       "      <td>0.051658</td>\n",
       "      <td>-0.069408</td>\n",
       "      <td>-0.050656</td>\n",
       "    </tr>\n",
       "    <tr>\n",
       "      <th>total sulfur dioxide</th>\n",
       "      <td>-0.113181</td>\n",
       "      <td>0.076470</td>\n",
       "      <td>0.035533</td>\n",
       "      <td>0.203028</td>\n",
       "      <td>0.047400</td>\n",
       "      <td>0.667666</td>\n",
       "      <td>1.000000</td>\n",
       "      <td>0.071269</td>\n",
       "      <td>-0.066495</td>\n",
       "      <td>0.042947</td>\n",
       "      <td>-0.205654</td>\n",
       "      <td>-0.185100</td>\n",
       "    </tr>\n",
       "    <tr>\n",
       "      <th>density</th>\n",
       "      <td>0.668047</td>\n",
       "      <td>0.022026</td>\n",
       "      <td>0.364947</td>\n",
       "      <td>0.355283</td>\n",
       "      <td>0.200632</td>\n",
       "      <td>-0.021946</td>\n",
       "      <td>0.071269</td>\n",
       "      <td>1.000000</td>\n",
       "      <td>-0.341699</td>\n",
       "      <td>0.148506</td>\n",
       "      <td>-0.496180</td>\n",
       "      <td>-0.174919</td>\n",
       "    </tr>\n",
       "    <tr>\n",
       "      <th>pH</th>\n",
       "      <td>-0.682978</td>\n",
       "      <td>0.234937</td>\n",
       "      <td>-0.541904</td>\n",
       "      <td>-0.085652</td>\n",
       "      <td>-0.265026</td>\n",
       "      <td>0.070377</td>\n",
       "      <td>-0.066495</td>\n",
       "      <td>-0.341699</td>\n",
       "      <td>1.000000</td>\n",
       "      <td>-0.196648</td>\n",
       "      <td>0.205633</td>\n",
       "      <td>-0.057731</td>\n",
       "    </tr>\n",
       "    <tr>\n",
       "      <th>sulphates</th>\n",
       "      <td>0.183006</td>\n",
       "      <td>-0.260987</td>\n",
       "      <td>0.312770</td>\n",
       "      <td>0.005527</td>\n",
       "      <td>0.371260</td>\n",
       "      <td>0.051658</td>\n",
       "      <td>0.042947</td>\n",
       "      <td>0.148506</td>\n",
       "      <td>-0.196648</td>\n",
       "      <td>1.000000</td>\n",
       "      <td>0.093595</td>\n",
       "      <td>0.251397</td>\n",
       "    </tr>\n",
       "    <tr>\n",
       "      <th>alcohol</th>\n",
       "      <td>-0.061668</td>\n",
       "      <td>-0.202288</td>\n",
       "      <td>0.109903</td>\n",
       "      <td>0.042075</td>\n",
       "      <td>-0.221141</td>\n",
       "      <td>-0.069408</td>\n",
       "      <td>-0.205654</td>\n",
       "      <td>-0.496180</td>\n",
       "      <td>0.205633</td>\n",
       "      <td>0.093595</td>\n",
       "      <td>1.000000</td>\n",
       "      <td>0.476166</td>\n",
       "    </tr>\n",
       "    <tr>\n",
       "      <th>quality</th>\n",
       "      <td>0.124052</td>\n",
       "      <td>-0.390558</td>\n",
       "      <td>0.226373</td>\n",
       "      <td>0.013732</td>\n",
       "      <td>-0.128907</td>\n",
       "      <td>-0.050656</td>\n",
       "      <td>-0.185100</td>\n",
       "      <td>-0.174919</td>\n",
       "      <td>-0.057731</td>\n",
       "      <td>0.251397</td>\n",
       "      <td>0.476166</td>\n",
       "      <td>1.000000</td>\n",
       "    </tr>\n",
       "  </tbody>\n",
       "</table>\n",
       "</div>"
      ],
      "text/plain": [
       "                      fixed acidity  volatile acidity  citric acid  \\\n",
       "fixed acidity              1.000000         -0.256131     0.671703   \n",
       "volatile acidity          -0.256131          1.000000    -0.552496   \n",
       "citric acid                0.671703         -0.552496     1.000000   \n",
       "residual sugar             0.114777          0.001918     0.143577   \n",
       "chlorides                  0.093705          0.061298     0.203823   \n",
       "free sulfur dioxide       -0.153794         -0.010504    -0.060978   \n",
       "total sulfur dioxide      -0.113181          0.076470     0.035533   \n",
       "density                    0.668047          0.022026     0.364947   \n",
       "pH                        -0.682978          0.234937    -0.541904   \n",
       "sulphates                  0.183006         -0.260987     0.312770   \n",
       "alcohol                   -0.061668         -0.202288     0.109903   \n",
       "quality                    0.124052         -0.390558     0.226373   \n",
       "\n",
       "                      residual sugar  chlorides  free sulfur dioxide  \\\n",
       "fixed acidity               0.114777   0.093705            -0.153794   \n",
       "volatile acidity            0.001918   0.061298            -0.010504   \n",
       "citric acid                 0.143577   0.203823            -0.060978   \n",
       "residual sugar              1.000000   0.055610             0.187049   \n",
       "chlorides                   0.055610   1.000000             0.005562   \n",
       "free sulfur dioxide         0.187049   0.005562             1.000000   \n",
       "total sulfur dioxide        0.203028   0.047400             0.667666   \n",
       "density                     0.355283   0.200632            -0.021946   \n",
       "pH                         -0.085652  -0.265026             0.070377   \n",
       "sulphates                   0.005527   0.371260             0.051658   \n",
       "alcohol                     0.042075  -0.221141            -0.069408   \n",
       "quality                     0.013732  -0.128907            -0.050656   \n",
       "\n",
       "                      total sulfur dioxide   density        pH  sulphates  \\\n",
       "fixed acidity                    -0.113181  0.668047 -0.682978   0.183006   \n",
       "volatile acidity                  0.076470  0.022026  0.234937  -0.260987   \n",
       "citric acid                       0.035533  0.364947 -0.541904   0.312770   \n",
       "residual sugar                    0.203028  0.355283 -0.085652   0.005527   \n",
       "chlorides                         0.047400  0.200632 -0.265026   0.371260   \n",
       "free sulfur dioxide               0.667666 -0.021946  0.070377   0.051658   \n",
       "total sulfur dioxide              1.000000  0.071269 -0.066495   0.042947   \n",
       "density                           0.071269  1.000000 -0.341699   0.148506   \n",
       "pH                               -0.066495 -0.341699  1.000000  -0.196648   \n",
       "sulphates                         0.042947  0.148506 -0.196648   1.000000   \n",
       "alcohol                          -0.205654 -0.496180  0.205633   0.093595   \n",
       "quality                          -0.185100 -0.174919 -0.057731   0.251397   \n",
       "\n",
       "                       alcohol   quality  \n",
       "fixed acidity        -0.061668  0.124052  \n",
       "volatile acidity     -0.202288 -0.390558  \n",
       "citric acid           0.109903  0.226373  \n",
       "residual sugar        0.042075  0.013732  \n",
       "chlorides            -0.221141 -0.128907  \n",
       "free sulfur dioxide  -0.069408 -0.050656  \n",
       "total sulfur dioxide -0.205654 -0.185100  \n",
       "density              -0.496180 -0.174919  \n",
       "pH                    0.205633 -0.057731  \n",
       "sulphates             0.093595  0.251397  \n",
       "alcohol               1.000000  0.476166  \n",
       "quality               0.476166  1.000000  "
      ]
     },
     "execution_count": 199,
     "metadata": {},
     "output_type": "execute_result"
    }
   ],
   "source": [
    "#-----Analisis de correlacion de datos\n",
    "data.corr()"
   ]
  },
  {
   "cell_type": "markdown",
   "metadata": {},
   "source": [
    "Ninguna de la variables independientes es lo suficientemente buena para tener una correlacion lineal con quality. Los valores absolutos mas altos son alcohol y volatile acidity. Se procedera a graficar las variables para analizar su comportamiento:"
   ]
  },
  {
   "cell_type": "code",
   "execution_count": 161,
   "metadata": {},
   "outputs": [
    {
     "data": {
      "image/png": "[encoded data removed]",
      "text/plain": [
       "<Figure size 432x288 with 1 Axes>"
      ]
     },
     "metadata": {
      "needs_background": "light"
     },
     "output_type": "display_data"
    },
    {
     "data": {
      "image/png": "[encoded data removed]",
      "text/plain": [
       "<Figure size 432x288 with 1 Axes>"
      ]
     },
     "metadata": {
      "needs_background": "light"
     },
     "output_type": "display_data"
    },
    {
     "data": {
      "image/png": "[encoded data removed]",
      "text/plain": [
       "<Figure size 432x288 with 1 Axes>"
      ]
     },
     "metadata": {
      "needs_background": "light"
     },
     "output_type": "display_data"
    },
    {
     "data": {
      "image/png": "[encoded data removed]",
      "text/plain": [
       "<Figure size 432x288 with 1 Axes>"
      ]
     },
     "metadata": {
      "needs_background": "light"
     },
     "output_type": "display_data"
    },
    {
     "data": {
      "image/png": "[encoded data removed]",
      "text/plain": [
       "<Figure size 432x288 with 1 Axes>"
      ]
     },
     "metadata": {
      "needs_background": "light"
     },
     "output_type": "display_data"
    },
    {
     "data": {
      "image/png": "[encoded data removed]",
      "text/plain": [
       "<Figure size 432x288 with 1 Axes>"
      ]
     },
     "metadata": {
      "needs_background": "light"
     },
     "output_type": "display_data"
    },
    {
     "data": {
      "image/png": "[encoded data removed]",
      "text/plain": [
       "<Figure size 432x288 with 1 Axes>"
      ]
     },
     "metadata": {
      "needs_background": "light"
     },
     "output_type": "display_data"
    },
    {
     "data": {
      "image/png": "[encoded data removed]",
      "text/plain": [
       "<Figure size 432x288 with 1 Axes>"
      ]
     },
     "metadata": {
      "needs_background": "light"
     },
     "output_type": "display_data"
    },
    {
     "data": {
      "image/png": "[encoded data removed]",
      "text/plain": [
       "<Figure size 432x288 with 1 Axes>"
      ]
     },
     "metadata": {
      "needs_background": "light"
     },
     "output_type": "display_data"
    },
    {
     "data": {
      "image/png": "[encoded data removed]",
      "text/plain": [
       "<Figure size 432x288 with 1 Axes>"
      ]
     },
     "metadata": {
      "needs_background": "light"
     },
     "output_type": "display_data"
    },
    {
     "data": {
      "image/png": "[encoded data removed]",
      "text/plain": [
       "<Figure size 432x288 with 1 Axes>"
      ]
     },
     "metadata": {
      "needs_background": "light"
     },
     "output_type": "display_data"
    }
   ],
   "source": [
    "for i in range(1,data.columns.size):\n",
    "    data.plot.scatter(x=data.columns[i],y='quality',title=i)"
   ]
  },
  {
   "cell_type": "markdown",
   "metadata": {},
   "source": [
    "Aun no hay nada concluyente, se procede a graficar los histogramas de cada variable para identificar algun comportamiento comun"
   ]
  },
  {
   "cell_type": "code",
   "execution_count": 174,
   "metadata": {},
   "outputs": [
    {
     "data": {
      "image/png": "[encoded data removed]",
      "text/plain": [
       "<Figure size 432x288 with 1 Axes>"
      ]
     },
     "metadata": {
      "needs_background": "light"
     },
     "output_type": "display_data"
    },
    {
     "data": {
      "image/png": "[encoded data removed]",
      "text/plain": [
       "<Figure size 432x288 with 1 Axes>"
      ]
     },
     "metadata": {
      "needs_background": "light"
     },
     "output_type": "display_data"
    },
    {
     "data": {
      "image/png": "[encoded data removed]",
      "text/plain": [
       "<Figure size 432x288 with 1 Axes>"
      ]
     },
     "metadata": {
      "needs_background": "light"
     },
     "output_type": "display_data"
    },
    {
     "data": {
      "image/png": "[encoded data removed]",
      "text/plain": [
       "<Figure size 432x288 with 1 Axes>"
      ]
     },
     "metadata": {
      "needs_background": "light"
     },
     "output_type": "display_data"
    },
    {
     "data": {
      "image/png": "[encoded data removed]",
      "text/plain": [
       "<Figure size 432x288 with 1 Axes>"
      ]
     },
     "metadata": {
      "needs_background": "light"
     },
     "output_type": "display_data"
    },
    {
     "data": {
      "image/png": "[encoded data removed]",
      "text/plain": [
       "<Figure size 432x288 with 1 Axes>"
      ]
     },
     "metadata": {
      "needs_background": "light"
     },
     "output_type": "display_data"
    },
    {
     "data": {
      "image/png": "[encoded data removed]",
      "text/plain": [
       "<Figure size 432x288 with 1 Axes>"
      ]
     },
     "metadata": {
      "needs_background": "light"
     },
     "output_type": "display_data"
    },
    {
     "data": {
      "image/png": "[encoded data removed]",
      "text/plain": [
       "<Figure size 432x288 with 1 Axes>"
      ]
     },
     "metadata": {
      "needs_background": "light"
     },
     "output_type": "display_data"
    },
    {
     "data": {
      "image/png": "[encoded data removed]",
      "text/plain": [
       "<Figure size 432x288 with 1 Axes>"
      ]
     },
     "metadata": {
      "needs_background": "light"
     },
     "output_type": "display_data"
    },
    {
     "data": {
      "image/png": "[encoded data removed]",
      "text/plain": [
       "<Figure size 432x288 with 1 Axes>"
      ]
     },
     "metadata": {
      "needs_background": "light"
     },
     "output_type": "display_data"
    },
    {
     "data": {
      "image/png": "[encoded data removed]",
      "text/plain": [
       "<Figure size 432x288 with 1 Axes>"
      ]
     },
     "metadata": {
      "needs_background": "light"
     },
     "output_type": "display_data"
    },
    {
     "data": {
      "image/png": "[encoded data removed]",
      "text/plain": [
       "<Figure size 432x288 with 1 Axes>"
      ]
     },
     "metadata": {
      "needs_background": "light"
     },
     "output_type": "display_data"
    },
    {
     "data": {
      "image/png": "[encoded data removed]",
      "text/plain": [
       "<Figure size 432x288 with 1 Axes>"
      ]
     },
     "metadata": {
      "needs_background": "light"
     },
     "output_type": "display_data"
    },
    {
     "data": {
      "image/png": "[encoded data removed]",
      "text/plain": [
       "<Figure size 432x288 with 1 Axes>"
      ]
     },
     "metadata": {
      "needs_background": "light"
     },
     "output_type": "display_data"
    },
    {
     "data": {
      "image/png": "[encoded data removed]",
      "text/plain": [
       "<Figure size 432x288 with 1 Axes>"
      ]
     },
     "metadata": {
      "needs_background": "light"
     },
     "output_type": "display_data"
    }
   ],
   "source": [
    "#Graficacion de histogramas de cada variable\n",
    "for i in data.columns:\n",
    "    fig=plt.figure()\n",
    "    ax=fig.add_subplot(sns.distplot(data[i]))\n",
    "    ax.grid()\n",
    "    plt.show()"
   ]
  },
  {
   "cell_type": "code",
   "execution_count": 5,
   "metadata": {},
   "outputs": [],
   "source": [
    "#-------Se usan esas mejores correlaciones para ver si se encuentra una mejor correlacion\n",
    "data['Factor4']=data['density']*data['alcohol']\n",
    "data['mixbest2']=data['volatile acidity']/data['alcohol']"
   ]
  },
  {
   "cell_type": "code",
   "execution_count": 6,
   "metadata": {
    "scrolled": true
   },
   "outputs": [
    {
     "data": {
      "text/plain": [
       "quality                 1.000000\n",
       "Factor4                 0.477239\n",
       "alcohol                 0.476166\n",
       "mixbest2                0.473604\n",
       "volatile acidity        0.390558\n",
       "sulphates               0.251397\n",
       "citric acid             0.226373\n",
       "total sulfur dioxide    0.185100\n",
       "density                 0.174919\n",
       "chlorides               0.128907\n",
       "fixed acidity           0.124052\n",
       "pH                      0.057731\n",
       "free sulfur dioxide     0.050656\n",
       "residual sugar          0.013732\n",
       "Name: quality, dtype: float64"
      ]
     },
     "execution_count": 6,
     "metadata": {},
     "output_type": "execute_result"
    }
   ],
   "source": [
    "np.abs(data.corr()['quality']).sort_values(ascending=False)"
   ]
  },
  {
   "cell_type": "markdown",
   "metadata": {},
   "source": [
    "Luego de cierta experimentacion con los datos, se tomaran en cuenta las variables alcohol, volatile acidity por su alta correlacion con la variable dependiente y density por la combinacion que forma con alcohol pues logran una correlacion mas alta que cualquier variable independiente en relacion con quality"
   ]
  },
  {
   "cell_type": "code",
   "execution_count": 7,
   "metadata": {},
   "outputs": [
    {
     "data": {
      "text/html": [
       "<div>\n",
       "<style scoped>\n",
       "    .dataframe tbody tr th:only-of-type {\n",
       "        vertical-align: middle;\n",
       "    }\n",
       "\n",
       "    .dataframe tbody tr th {\n",
       "        vertical-align: top;\n",
       "    }\n",
       "\n",
       "    .dataframe thead th {\n",
       "        text-align: right;\n",
       "    }\n",
       "</style>\n",
       "<table border=\"1\" class=\"dataframe\">\n",
       "  <thead>\n",
       "    <tr style=\"text-align: right;\">\n",
       "      <th></th>\n",
       "      <th>density</th>\n",
       "      <th>alcohol</th>\n",
       "      <th>volatile acidity</th>\n",
       "    </tr>\n",
       "  </thead>\n",
       "  <tbody>\n",
       "    <tr>\n",
       "      <th>0</th>\n",
       "      <td>0.99780</td>\n",
       "      <td>9.4</td>\n",
       "      <td>0.700</td>\n",
       "    </tr>\n",
       "    <tr>\n",
       "      <th>1</th>\n",
       "      <td>0.99680</td>\n",
       "      <td>9.8</td>\n",
       "      <td>0.880</td>\n",
       "    </tr>\n",
       "    <tr>\n",
       "      <th>2</th>\n",
       "      <td>0.99700</td>\n",
       "      <td>9.8</td>\n",
       "      <td>0.760</td>\n",
       "    </tr>\n",
       "    <tr>\n",
       "      <th>3</th>\n",
       "      <td>0.99800</td>\n",
       "      <td>9.8</td>\n",
       "      <td>0.280</td>\n",
       "    </tr>\n",
       "    <tr>\n",
       "      <th>4</th>\n",
       "      <td>0.99780</td>\n",
       "      <td>9.4</td>\n",
       "      <td>0.700</td>\n",
       "    </tr>\n",
       "    <tr>\n",
       "      <th>...</th>\n",
       "      <td>...</td>\n",
       "      <td>...</td>\n",
       "      <td>...</td>\n",
       "    </tr>\n",
       "    <tr>\n",
       "      <th>1594</th>\n",
       "      <td>0.99490</td>\n",
       "      <td>10.5</td>\n",
       "      <td>0.600</td>\n",
       "    </tr>\n",
       "    <tr>\n",
       "      <th>1595</th>\n",
       "      <td>0.99512</td>\n",
       "      <td>11.2</td>\n",
       "      <td>0.550</td>\n",
       "    </tr>\n",
       "    <tr>\n",
       "      <th>1596</th>\n",
       "      <td>0.99574</td>\n",
       "      <td>11.0</td>\n",
       "      <td>0.510</td>\n",
       "    </tr>\n",
       "    <tr>\n",
       "      <th>1597</th>\n",
       "      <td>0.99547</td>\n",
       "      <td>10.2</td>\n",
       "      <td>0.645</td>\n",
       "    </tr>\n",
       "    <tr>\n",
       "      <th>1598</th>\n",
       "      <td>0.99549</td>\n",
       "      <td>11.0</td>\n",
       "      <td>0.310</td>\n",
       "    </tr>\n",
       "  </tbody>\n",
       "</table>\n",
       "<p>1599 rows × 3 columns</p>\n",
       "</div>"
      ],
      "text/plain": [
       "      density  alcohol  volatile acidity\n",
       "0     0.99780      9.4             0.700\n",
       "1     0.99680      9.8             0.880\n",
       "2     0.99700      9.8             0.760\n",
       "3     0.99800      9.8             0.280\n",
       "4     0.99780      9.4             0.700\n",
       "...       ...      ...               ...\n",
       "1594  0.99490     10.5             0.600\n",
       "1595  0.99512     11.2             0.550\n",
       "1596  0.99574     11.0             0.510\n",
       "1597  0.99547     10.2             0.645\n",
       "1598  0.99549     11.0             0.310\n",
       "\n",
       "[1599 rows x 3 columns]"
      ]
     },
     "execution_count": 7,
     "metadata": {},
     "output_type": "execute_result"
    }
   ],
   "source": [
    "choosenColumns=['density','alcohol','volatile acidity']\n",
    "datasetX=pd.DataFrame(data, columns=choosenColumns)\n",
    "datasetX"
   ]
  },
  {
   "cell_type": "markdown",
   "metadata": {},
   "source": [
    "Usamos PolynomialFeatures de grado 2 con las 3 variables seleccionadas, usando la libreria permitida:"
   ]
  },
  {
   "cell_type": "code",
   "execution_count": 49,
   "metadata": {},
   "outputs": [
    {
     "data": {
      "text/plain": [
       "2"
      ]
     },
     "execution_count": 49,
     "metadata": {},
     "output_type": "execute_result"
    }
   ],
   "source": [
    "from sklearn.preprocessing import PolynomialFeatures\n",
    "poly_reg = PolynomialFeatures(degree = 2)\n",
    "X_poly = poly_reg.fit_transform(datasetX)"
   ]
  },
  {
   "cell_type": "markdown",
   "metadata": {},
   "source": [
    "Regresion lineal usando Tensorflow:"
   ]
  },
  {
   "cell_type": "code",
   "execution_count": 17,
   "metadata": {},
   "outputs": [
    {
     "name": "stdout",
     "output_type": "stream",
     "text": [
      "WARNING:tensorflow:From C:\\Users\\ruben\\AppData\\Local\\Continuum\\anaconda3\\envs\\Galileo-Python\\lib\\site-packages\\tensorflow_core\\python\\compat\\v2_compat.py:88: disable_resource_variables (from tensorflow.python.ops.variable_scope) is deprecated and will be removed in a future version.\n",
      "Instructions for updating:\n",
      "non-resource variables are not supported in the long term\n",
      "Enabled compatitility to tf1.x\n"
     ]
    }
   ],
   "source": [
    "import tensorflow.compat.v1 as tf\n",
    "if tf.__version__.startswith(\"2.\"):\n",
    "    import tensorflow.compat.v1 as tf\n",
    "    tf.compat.v1.disable_v2_behavior()\n",
    "    tf.compat.v1.disable_eager_execution()\n",
    "    print(\"Enabled compatitility to tf1.x\")"
   ]
  },
  {
   "cell_type": "code",
   "execution_count": 24,
   "metadata": {},
   "outputs": [],
   "source": [
    "class ModeloLineal:\n",
    "    def __init__(self,shapeV):\n",
    "        self.parametros=tf.Variable(np.ones(shapeV))\n",
    "\n",
    "    def __call__(self,x):\n",
    "        return tf.tensordot(x,self.parametros,1)\n",
    "\n",
    "    def actualizar(self,x,y,lr):\n",
    "        #Calculo de yhat\n",
    "        yhat = self(x)\n",
    "\n",
    "        #Calculo del error\n",
    "        with tf.name_scope(\"Error\"):\n",
    "            derror=tf.reduce_mean(tf.math.square(y-yhat))*0.5\n",
    "            derror_summary = tf.summary.scalar(\"ErrorSummary\", derror)\n",
    "        \n",
    "        #Calculo de gradientes\n",
    "        with tf.name_scope(\"Gradiente\"):\n",
    "            gradiente = tf.gradients(derror,self.parametros)\n",
    "\n",
    "        #Actualizar mb\n",
    "        with tf.name_scope(\"Parametros\"):\n",
    "            lrgrad=tf.math.multiply(gradiente,lr)\n",
    "            nuevaAsig=tf.math.subtract(self.parametros,lrgrad)\n",
    "            retorna=tf.assign(self.parametros, nuevaAsig[0])\n",
    "\n",
    "        return derror_summary, derror, retorna"
   ]
  },
  {
   "cell_type": "code",
   "execution_count": 51,
   "metadata": {},
   "outputs": [],
   "source": [
    "#------------Inicio del grafo\n",
    "def AplicarModeloLineal(matrizX,vectorY,learning_rate,epochs,imprimir_error_cada,gradosPolinomio):\n",
    "    g=tf.Graph()\n",
    "    with g.as_default():\n",
    "        modelo = ModeloLineal(matrizX.shape[1])\n",
    "        tensor_x=tf.placeholder(tf.float64,[None, None],\"tensor_x\")\n",
    "        tensor_y=tf.placeholder(tf.float64,[None],\"tensor_y\")\n",
    "        lr=tf.placeholder(tf.float64,[],\"lr\")\n",
    "\n",
    "        prediccion = modelo(tensor_x)\n",
    "        actualizacion_parametros = modelo.actualizar(tensor_x,tensor_y,lr)\n",
    "        nombreArchivo = './polinomial/Model' + datetime.datetime.now().strftime(\"%Y%m%d-%H%M%S\")\n",
    "        nombreArchivo = nombreArchivo + '_lr=' + str(learning_rate) + '_epochs=' + str(epochs) + '_PolinomioGrado' + str(gradosPolinomio)\n",
    "        writer = tf.summary.FileWriter(nombreArchivo, g)\n",
    "#------------Fin del grafo\n",
    "        with tf.train.MonitoredSession() as session:\n",
    "            feed_dict = {tensor_x:matrizX, tensor_y:vectorY, lr:learning_rate}\n",
    "\n",
    "            for i in range(epochs):\n",
    "                salida=session.run(actualizacion_parametros,feed_dict=feed_dict)\n",
    "                predicciones = session.run(prediccion,feed_dict=feed_dict)\n",
    "                writer.add_summary(salida[0],i)\n",
    "                if (i % imprimir_error_cada == 0 and i!=0):\n",
    "                    print(\"Epoch: \",i,\" Error: \",salida[1],\" Parametros: \",salida[2])\n",
    "            writer.close()"
   ]
  },
  {
   "cell_type": "markdown",
   "metadata": {},
   "source": [
    "Cargamos tensorboard y visualizamos el grafo y las corridas realizadas"
   ]
  },
  {
   "cell_type": "code",
   "execution_count": 38,
   "metadata": {},
   "outputs": [
    {
     "name": "stdout",
     "output_type": "stream",
     "text": [
      "The tensorboard extension is already loaded. To reload it, use:\n",
      "  %reload_ext tensorboard\n"
     ]
    }
   ],
   "source": [
    "%load_ext tensorboard"
   ]
  },
  {
   "cell_type": "code",
   "execution_count": 39,
   "metadata": {},
   "outputs": [
    {
     "data": {
      "text/plain": [
       "ERROR: Timed out waiting for TensorBoard to start. It may still be running as pid 3224."
      ]
     },
     "metadata": {},
     "output_type": "display_data"
    }
   ],
   "source": [
    "%tensorboard --logdir ./polinomial"
   ]
  },
  {
   "cell_type": "code",
   "execution_count": 40,
   "metadata": {
    "scrolled": true
   },
   "outputs": [
    {
     "data": {
      "text/plain": [
       "Reusing TensorBoard on port 6006 (pid 15776), started 0:01:14 ago. (Use '!kill 15776' to kill it.)"
      ]
     },
     "metadata": {},
     "output_type": "display_data"
    },
    {
     "data": {
      "text/html": [
       "\n",
       "      <iframe id=\"tensorboard-frame-709cd4ce7caf7887\" width=\"100%\" height=\"800\" frameborder=\"0\">\n",
       "      </iframe>\n",
       "      <script>\n",
       "        (function() {\n",
       "          const frame = document.getElementById(\"tensorboard-frame-709cd4ce7caf7887\");\n",
       "          const url = new URL(\"/\", window.location);\n",
       "          url.port = 6006;\n",
       "          frame.src = url;\n",
       "        })();\n",
       "      </script>\n",
       "  "
      ],
      "text/plain": [
       "<IPython.core.display.HTML object>"
      ]
     },
     "metadata": {},
     "output_type": "display_data"
    }
   ],
   "source": [
    "%tensorboard --logdir ./polinomial"
   ]
  },
  {
   "cell_type": "markdown",
   "metadata": {},
   "source": [
    "### Grafo obtenido"
   ]
  },
  {
   "cell_type": "markdown",
   "metadata": {},
   "source": [
    "<img src = 'Grafo.PNG'>"
   ]
  },
  {
   "cell_type": "markdown",
   "metadata": {},
   "source": [
    "### Ejecucion de modelos"
   ]
  },
  {
   "cell_type": "code",
   "execution_count": 37,
   "metadata": {
    "scrolled": true
   },
   "outputs": [
    {
     "name": "stdout",
     "output_type": "stream",
     "text": [
      "INFO:tensorflow:Graph was finalized.\n",
      "INFO:tensorflow:Running local_init_op.\n",
      "INFO:tensorflow:Done running local_init_op.\n",
      "Epoch:  100  Error:  7.515033553150817  Parametros:  [ 0.98326287  0.98329466  0.85523913  0.98580011  0.98332641  0.85545573\n",
      "  0.9858368  -0.18746533  0.86663656  0.98862686]\n",
      "Epoch:  200  Error:  6.769375822781676  Parametros:  [ 0.97734688  0.97737465  0.82368973  0.97758734  0.97740252  0.82373745\n",
      "  0.97764094 -0.17794188  0.79551827  0.98094503]\n",
      "Epoch:  300  Error:  6.1003153700964114  Parametros:  [ 0.97172462  0.97174858  0.79370767  0.96981132  0.97177276  0.79359494\n",
      "  0.96988089 -0.16890676  0.72824316  0.97367731]\n",
      "Epoch:  400  Error:  5.499973126048947  Parametros:  [ 0.9663809   0.96640124  0.76521176  0.96244893  0.96642191  0.76494659\n",
      "  0.96253356 -0.1603344   0.66460669  0.96680162]\n",
      "Epoch:  500  Error:  4.96128084520512  Parametros:  [ 0.96130128  0.96131818  0.7381251   0.95547822  0.96133553  0.73771508\n",
      "  0.95557707 -0.15220059  0.60441512  0.96029707]\n",
      "Epoch:  600  Error:  4.477897653277469  Parametros:  [ 0.95647211  0.95648575  0.71237482  0.94887846  0.95649994  0.71182716\n",
      "  0.94899072 -0.14448239  0.54748502  0.95414387]\n",
      "Epoch:  700  Error:  4.044135184236106  Parametros:  [ 0.95188046  0.951891    0.68789188  0.94262998  0.95190219  0.6872134\n",
      "  0.9427549  -0.13715808  0.49364263  0.94832328]\n",
      "Epoch:  800  Error:  3.654890422876832  Parametros:  [ 0.94751405  0.94752164  0.66461085  0.93671415  0.94752998  0.66380804\n",
      "  0.93685101 -0.13020707  0.44272345  0.94281757]\n",
      "Epoch:  900  Error:  3.3055854597297727  Parametros:  [ 0.94336126  0.94336606  0.64246974  0.93111335  0.9433717   0.64154876\n",
      "  0.93126147 -0.12360985  0.39457165  0.93760992]\n",
      "Epoch:  1000  Error:  2.9921134468270703  Parametros:  [ 0.93941109  0.93941324  0.6214098   0.92581088  0.93941631  0.6203765\n",
      "  0.92596962 -0.11734796  0.34903968  0.93268443]\n",
      "Epoch:  1100  Error:  2.7107901160807586  Parametros:  [ 0.9356531   0.93565274  0.60137539  0.92079091  0.93565337  0.6002353\n",
      "  0.92095966 -0.11140389  0.30598782  0.92802603]\n",
      "Epoch:  1200  Error:  2.4583102877167855  Parametros:  [ 0.93207741  0.93207466  0.58231376  0.91603846  0.93207298  0.58107214\n",
      "  0.91621665 -0.10576107  0.26528374  0.92362043]\n",
      "Epoch:  1300  Error:  2.231708855143856  Parametros:  [ 0.92867465  0.92866963  0.56417492  0.91153936  0.92866575  0.56283678\n",
      "  0.91172643 -0.10040378  0.22680213  0.91945414]\n",
      "Epoch:  1400  Error:  2.028325785502784  Parametros:  [ 0.92543594  0.92542877  0.54691152  0.90728015  0.92542281  0.5454816\n",
      "  0.9074756  -0.09531715  0.19042434  0.91551436]\n",
      "Epoch:  1500  Error:  1.845774722567116  Parametros:  [ 0.92235287  0.92234366  0.53047867  0.90324811  0.92233572  0.52896148\n",
      "  0.90345145 -0.09048708  0.15603798  0.91178897]\n",
      "Epoch:  1600  Error:  1.6819148212098642  Parametros:  [ 0.91941747  0.91940631  0.51483385  0.89943119  0.91939651  0.51323365\n",
      "  0.89964197 -0.08590021  0.12353666  0.90826649]\n",
      "Epoch:  1700  Error:  1.534825480815649  Parametros:  [ 0.91662217  0.91660919  0.49993674  0.89581798  0.9165976   0.4982576\n",
      "  0.89603576 -0.08154389  0.09281959  0.90493606]\n",
      "Epoch:  1800  Error:  1.4027836792543358  Parametros:  [ 0.91395983  0.9139451   0.48574915  0.89239766  0.91393184  0.48399493\n",
      "  0.89262203 -0.07740613  0.06379136  0.90178738]\n",
      "Epoch:  1900  Error:  1.2842436397445725  Parametros:  [ 0.91142366  0.91140728  0.47223487  0.88915999  0.91139242  0.47040923\n",
      "  0.88939057 -0.07347559  0.03636162  0.89881073]\n",
      "Epoch:  2000  Error:  1.177818590486981  Parametros:  [ 0.90900722  0.90898928  0.4593596   0.88609529  0.9089729   0.45746602\n",
      "  0.8863317  -0.06974148  0.01044479  0.89599687]\n",
      "Epoch:  2100  Error:  1.082264401662221  Parametros:  [ 0.90670442  0.906685    0.44709081  0.88319436  0.90666719  0.4451326\n",
      "  0.88343626 -0.06619363 -0.01404015  0.89333707]\n",
      "Epoch:  2200  Error:  0.9964649065606261  Parametros:  [ 0.90450949  0.90448866  0.43539769  0.88044851  0.9044695   0.43337799\n",
      "  0.88069557 -0.06282237 -0.03716992  0.89082305]\n",
      "Epoch:  2300  Error:  0.9194187334994421  Parametros:  [ 0.90241694  0.90239479  0.42425103  0.8778495   0.90237434  0.42217282\n",
      "  0.87810142 -0.05961855 -0.05901716  0.88844699]\n",
      "Epoch:  2400  Error:  0.8502274930259149  Parametros:  [ 0.90042159  0.90039818  0.41362313  0.87538952  0.90037652  0.41148925\n",
      "  0.87564601 -0.0565735  -0.07965068  0.88620146]\n",
      "Epoch:  2500  Error:  0.7880851809101445  Parametros:  [ 0.89851853  0.89849393  0.40348775  0.87306121  0.89847112  0.4013009\n",
      "  0.87332198 -0.05367901 -0.09913561  0.88407945]\n",
      "Epoch:  2600  Error:  0.732268671789811  Parametros:  [ 0.89670308  0.89667736  0.39382003  0.87085754  0.89665346  0.39158276\n",
      "  0.87112234 -0.05092729 -0.11753364  0.8820743 ]\n",
      "Epoch:  2700  Error:  0.6821291912092391  Parametros:  [ 0.89497083  0.89494405  0.38459637  0.86877191  0.89491913  0.38231112\n",
      "  0.86904049 -0.04831096 -0.13490315  0.88017973]\n",
      "Epoch:  2800  Error:  0.6370846653498339  Parametros:  [ 0.89331759  0.8932898   0.37579442  0.86679803  0.89326392  0.3734635\n",
      "  0.86707016 -0.04582304 -0.15129946  0.87838977]\n",
      "Epoch:  2900  Error:  0.5966128581141188  Parametros:  [ 0.89173939  0.89171065  0.36739299  0.86492997  0.89168385  0.36501862\n",
      "  0.86520542 -0.04345691 -0.16677492  0.87669878]\n"
     ]
    }
   ],
   "source": [
    "AplicarModeloLineal(X_poly, data['quality'],0.0001,3000,100,poly_reg.degree)"
   ]
  },
  {
   "cell_type": "code",
   "execution_count": 41,
   "metadata": {},
   "outputs": [
    {
     "name": "stdout",
     "output_type": "stream",
     "text": [
      "INFO:tensorflow:Graph was finalized.\n",
      "INFO:tensorflow:Running local_init_op.\n",
      "INFO:tensorflow:Done running local_init_op.\n",
      "Epoch:  1000  Error:  nan  Parametros:  [nan nan nan nan nan nan nan nan nan nan]\n",
      "Epoch:  2000  Error:  nan  Parametros:  [nan nan nan nan nan nan nan nan nan nan]\n",
      "Epoch:  3000  Error:  nan  Parametros:  [nan nan nan nan nan nan nan nan nan nan]\n",
      "Epoch:  4000  Error:  nan  Parametros:  [nan nan nan nan nan nan nan nan nan nan]\n"
     ]
    }
   ],
   "source": [
    "AplicarModeloLineal(X_poly, data['quality'],0.0003,5000,1000,poly_reg.degree)"
   ]
  },
  {
   "cell_type": "code",
   "execution_count": 42,
   "metadata": {
    "scrolled": true
   },
   "outputs": [
    {
     "name": "stdout",
     "output_type": "stream",
     "text": [
      "INFO:tensorflow:Graph was finalized.\n",
      "INFO:tensorflow:Running local_init_op.\n",
      "INFO:tensorflow:Done running local_init_op.\n",
      "Epoch:  1000  Error:  6.100675771581652  Parametros:  [ 0.97176592  0.97178991  0.7939279   0.96986864  0.97181412  0.79381636\n",
      "  0.96993809 -0.16897323  0.72873946  0.97373092]\n",
      "Epoch:  2000  Error:  4.478418154029473  Parametros:  [ 0.95651007  0.95652373  0.71257722  0.9489308   0.95653795  0.71203064\n",
      "  0.94904295 -0.1445433   0.54793748  0.95419275]\n",
      "Epoch:  3000  Error:  3.306149286450895  Parametros:  [ 0.943396    0.94340083  0.64265497  0.93116091  0.94340648  0.64173499\n",
      "  0.93130893 -0.12366541  0.394982    0.93765427]\n",
      "Epoch:  4000  Error:  2.4588532288572216  Parametros:  [ 0.9321091   0.93210636  0.5824827   0.91608148  0.9321047   0.58124199\n",
      "  0.91625957 -0.10581155  0.26565418  0.92366048]\n",
      "Epoch:  5000  Error:  1.8462649248234728  Parametros:  [ 0.92238169  0.92237249  0.5306323   0.90328687  0.92236458  0.52911593\n",
      "  0.90349014 -0.0905328   0.15637101  0.91182498]\n"
     ]
    }
   ],
   "source": [
    "AplicarModeloLineal(X_poly, data['quality'],0.00003,6000,1000, poly_reg.degree)"
   ]
  },
  {
   "cell_type": "code",
   "execution_count": 52,
   "metadata": {
    "scrolled": true
   },
   "outputs": [
    {
     "name": "stdout",
     "output_type": "stream",
     "text": [
      "INFO:tensorflow:Graph was finalized.\n",
      "INFO:tensorflow:Running local_init_op.\n",
      "INFO:tensorflow:Done running local_init_op.\n",
      "Epoch:  1000  Error:  inf  Parametros:  [-2.92286512e+193 -2.91277923e+193 -3.11152013e+194 -1.52103590e+193\n",
      " -2.90273970e+193 -3.10043599e+194 -1.51583529e+193 -3.35052409e+195\n",
      " -1.60623121e+194 -8.86989651e+192]\n",
      "Epoch:  2000  Error:  nan  Parametros:  [nan nan nan nan nan nan nan nan nan nan]\n",
      "Epoch:  3000  Error:  nan  Parametros:  [nan nan nan nan nan nan nan nan nan nan]\n",
      "Epoch:  4000  Error:  nan  Parametros:  [nan nan nan nan nan nan nan nan nan nan]\n"
     ]
    }
   ],
   "source": [
    "AplicarModeloLineal(X_poly, data['quality'],0.0002,5000,1000, poly_reg.degree)"
   ]
  },
  {
   "cell_type": "code",
   "execution_count": 53,
   "metadata": {
    "scrolled": true
   },
   "outputs": [
    {
     "name": "stdout",
     "output_type": "stream",
     "text": [
      "INFO:tensorflow:Graph was finalized.\n",
      "INFO:tensorflow:Running local_init_op.\n",
      "INFO:tensorflow:Done running local_init_op.\n",
      "Epoch:  1000  Error:  3.6550500463764557  Parametros:  [ 0.94752427  0.94753188  0.66466538  0.93672819  0.94754022  0.66386287\n",
      "  0.93686502 -0.13022344  0.44284463  0.94283067]\n",
      "Epoch:  2000  Error:  1.6820488750289577  Parametros:  [ 0.91942544  0.91941429  0.51487635  0.89944188  0.91940449  0.51327638\n",
      "  0.89965264 -0.08591284  0.12362841  0.90827641]\n",
      "Epoch:  3000  Error:  0.8503120125225632  Parametros:  [ 0.90042771  0.9004043   0.41365571  0.87539747  0.90038264  0.411522\n",
      "  0.87565394 -0.05658305 -0.07958301  0.88620879]\n",
      "Epoch:  4000  Error:  0.4982314879544546  Parametros:  [ 0.88742296  0.8873917   0.34442086  0.85991163  0.88736247  0.34192839\n",
      "  0.86019587 -0.03703522 -0.2081101   0.87217289]\n",
      "Epoch:  5000  Error:  0.34808875614713025  Parametros:  [ 0.87838584  0.87834976  0.29636543  0.84995352  0.87831589  0.2936312\n",
      "  0.85025421 -0.02389236 -0.28865672  0.86329058]\n",
      "Epoch:  6000  Error:  0.28322595219657104  Parametros:  [ 0.87199377  0.87195499  0.26243233  0.84356223  0.87191854  0.2595353\n",
      "  0.84387228 -0.01495862 -0.33846784  0.857704  ]\n",
      "Epoch:  7000  Error:  0.25457756618606575  Parametros:  [ 0.86738066  0.8673407   0.23799995  0.83946947  0.86730315  0.23499406\n",
      "  0.83978452 -0.00880424 -0.36866893  0.85421526]\n"
     ]
    }
   ],
   "source": [
    "AplicarModeloLineal(X_poly, data['quality'],0.00008,8000,1000, poly_reg.degree)"
   ]
  },
  {
   "cell_type": "markdown",
   "metadata": {},
   "source": [
    "Cambiando ahora el grado del polinomio para ver si el comportamiento mejora:"
   ]
  },
  {
   "cell_type": "code",
   "execution_count": 55,
   "metadata": {},
   "outputs": [],
   "source": [
    "poly_reg = PolynomialFeatures(degree = 3)\n",
    "X_poly = poly_reg.fit_transform(datasetX)"
   ]
  },
  {
   "cell_type": "code",
   "execution_count": 56,
   "metadata": {},
   "outputs": [
    {
     "name": "stdout",
     "output_type": "stream",
     "text": [
      "INFO:tensorflow:Graph was finalized.\n",
      "INFO:tensorflow:Running local_init_op.\n",
      "INFO:tensorflow:Done running local_init_op.\n",
      "Epoch:  1000  Error:  nan  Parametros:  [nan nan nan nan nan nan nan nan nan nan nan nan nan nan nan nan nan nan\n",
      " nan nan]\n",
      "Epoch:  2000  Error:  nan  Parametros:  [nan nan nan nan nan nan nan nan nan nan nan nan nan nan nan nan nan nan\n",
      " nan nan]\n",
      "Epoch:  3000  Error:  nan  Parametros:  [nan nan nan nan nan nan nan nan nan nan nan nan nan nan nan nan nan nan\n",
      " nan nan]\n",
      "Epoch:  4000  Error:  nan  Parametros:  [nan nan nan nan nan nan nan nan nan nan nan nan nan nan nan nan nan nan\n",
      " nan nan]\n",
      "Epoch:  5000  Error:  nan  Parametros:  [nan nan nan nan nan nan nan nan nan nan nan nan nan nan nan nan nan nan\n",
      " nan nan]\n",
      "Epoch:  6000  Error:  nan  Parametros:  [nan nan nan nan nan nan nan nan nan nan nan nan nan nan nan nan nan nan\n",
      " nan nan]\n",
      "Epoch:  7000  Error:  nan  Parametros:  [nan nan nan nan nan nan nan nan nan nan nan nan nan nan nan nan nan nan\n",
      " nan nan]\n"
     ]
    }
   ],
   "source": [
    "AplicarModeloLineal(X_poly, data['quality'],0.00008,8000,1000, poly_reg.degree)"
   ]
  },
  {
   "cell_type": "code",
   "execution_count": 57,
   "metadata": {
    "scrolled": true
   },
   "outputs": [
    {
     "name": "stdout",
     "output_type": "stream",
     "text": [
      "INFO:tensorflow:Graph was finalized.\n",
      "INFO:tensorflow:Running local_init_op.\n",
      "INFO:tensorflow:Done running local_init_op.\n",
      "Epoch:  1000  Error:  382.7234689752213  Parametros:  [ 0.988654    0.98866312  0.91475364  0.98980226  0.98867234  0.91471016\n",
      "  0.98982349  0.48210061  0.90963116  0.99167955  0.98868165  0.91466843\n",
      "  0.98984469  0.4799954   0.90979061  0.9917012  -0.1308037   0.23108506\n",
      "  0.92181082  0.99312091]\n",
      "Epoch:  2000  Error:  121.94437056985366  Parametros:  [ 0.98258719  0.98259929  0.87101334  0.98466809  0.98261155  0.87091893\n",
      "  0.98469851  0.24542127  0.8657011   0.98760087  0.98262396  0.87082742\n",
      "  0.9847289   0.24180648  0.86591853  0.98763216 -0.07001785 -0.12189346\n",
      "  0.88452708  0.98980524]\n",
      "Epoch:  3000  Error:  44.74626452089743  Parametros:  [ 0.97889468  0.97890834  0.84441335  0.98193322  0.97892221  0.84428565\n",
      "  0.98196764  0.101544    0.8431999   0.98556408  0.97893627  0.84416158\n",
      "  0.98200203  0.09699102  0.84343498  0.98559948 -0.03522943 -0.29043905\n",
      "  0.86665108  0.98821536]\n",
      "Epoch:  4000  Error:  19.992624525185082  Parametros:  [ 0.97654001  0.97655451  0.82747345  0.98046297  0.97656924  0.82732311\n",
      "  0.98049881  0.00999644  0.83184159  0.98457477  0.97658419  0.82717684\n",
      "  0.98053462  0.00483426  0.83207547  0.98461156 -0.01462534 -0.36509222\n",
      "  0.8586141   0.98749537]\n",
      "Epoch:  5000  Error:  10.866305269553694  Parametros:  [ 0.97496192  0.97497689  0.81614263  0.97966011  0.97499211  0.81597635\n",
      "  0.97969614 -0.05114518  0.8262401   0.9841148   0.97500756  0.81581445\n",
      "  0.97973216 -0.0567202   0.82646477  0.98415171 -0.00190032 -0.39290211\n",
      "  0.85545104  0.98720201]\n",
      "Epoch:  6000  Error:  6.814835249940384  Parametros:  [ 0.97385201  0.97386727  0.80819451  0.97921016  0.97388277  0.80801671\n",
      "  0.97924584 -0.09393425  0.8235818   0.98391562  0.97389854  0.80784351\n",
      "  0.97928153 -0.09979975  0.8237946   0.9839521   0.00633761 -0.39814993\n",
      "  0.8546055   0.9871078 ]\n",
      "Epoch:  7000  Error:  4.671287324616455  Parametros:  [ 0.97303723  0.97305268  0.80237964  0.9789474   0.97306839  0.80219338\n",
      "  0.97898254 -0.1251385   0.82240241  0.98383919  0.97308436  0.8020119\n",
      "  0.97901769 -0.13121452  0.82260323  0.98387507  0.0119346  -0.39322781\n",
      "  0.85477781  0.9870977 ]\n"
     ]
    }
   ],
   "source": [
    "AplicarModeloLineal(X_poly, data['quality'],0.000001,8000,1000, poly_reg.degree)"
   ]
  },
  {
   "cell_type": "code",
   "execution_count": 58,
   "metadata": {
    "scrolled": true
   },
   "outputs": [
    {
     "name": "stdout",
     "output_type": "stream",
     "text": [
      "INFO:tensorflow:Graph was finalized.\n",
      "INFO:tensorflow:Running local_init_op.\n",
      "INFO:tensorflow:Done running local_init_op.\n",
      "Epoch:  1000  Error:  548.9712608086788  Parametros:  [ 0.9911947   0.99120249  0.93307759  0.99209628  0.99121033  0.93305455\n",
      "  0.99211307  0.58126052  0.92958653  0.99355304  0.99121824  0.93303278\n",
      "  0.99212983  0.57977955  0.92971523  0.99357    -0.15706593  0.39588829\n",
      "  0.93920719  0.99466943]\n",
      "Epoch:  2000  Error:  239.23852886726465  Parametros:  [ 0.98584826  0.98585881  0.89452158  0.98735588  0.98586948  0.89445499\n",
      "  0.98738165  0.37261869  0.88853478  0.98971068  0.98588027  0.89439067\n",
      "  0.9874074   0.3698192   0.88872429  0.98973712 -0.1022876   0.05933614\n",
      "  0.90367738  0.99150777]\n",
      "Epoch:  3000  Error:  109.50900245638122  Parametros:  [ 0.98213541  0.98214772  0.86775752  0.98431299  0.98216019  0.86765916\n",
      "  0.98434399  0.22780695  0.86272512  0.98732833  0.98217282  0.86756378\n",
      "  0.98437495  0.22407832  0.86294563  0.98736022 -0.06564478 -0.14495496\n",
      "  0.88208735  0.98958838]\n",
      "Epoch:  4000  Error:  53.90463376114795  Parametros:  [ 0.9795033   0.97951673  0.84879561  0.9823539   0.97953035  0.84867357\n",
      "  0.98238779  0.12524064  0.84658071  0.9858656   0.97954416  0.84855503\n",
      "  0.98242164  0.12084362  0.84681425  0.98590046 -0.04079125 -0.26625121\n",
      "  0.86922688  0.98844477]\n",
      "Epoch:  5000  Error:  29.1417466278731  Parametros:  [ 0.97759426  0.97760841  0.83505452  0.98108708  0.97762277  0.83491448\n",
      "  0.98112242  0.05095327  0.83655233  0.98497935  0.97763734  0.83477831\n",
      "  0.98115774  0.04606498  0.83678832  0.98501567 -0.02365064 -0.33579346\n",
      "  0.86179431  0.98778161]\n",
      "Epoch:  6000  Error:  17.447462329279166  Parametros:  [ 0.97617576  0.97619038  0.82485599  0.98026268  0.97620523  0.82470202\n",
      "  0.98029862 -0.00413699  0.83038285  0.98445208  0.9762203   0.8245522\n",
      "  0.98033455 -0.00939422  0.83061529  0.98448897 -0.01159788 -0.37335078\n",
      "  0.85770235  0.98741244]\n",
      "Epoch:  7000  Error:  11.465227149721676  Parametros:  [ 0.97509567  0.9751106   0.81710186  0.97972126  0.97512578  0.81693694\n",
      "  0.9797573  -0.04597409  0.82663826  0.98414623  0.97514119  0.81677639\n",
      "  0.97979333 -0.05151405  0.82686403  0.98418316 -0.00293678 -0.39139666\n",
      "  0.85563574  0.98721996]\n",
      "Epoch:  8000  Error:  8.106059801042791  Parametros:  [ 0.97425361  0.97426877  0.81106756  0.97936103  0.97428417  0.81089394\n",
      "  0.97939688 -0.0784809   0.82440882  0.98397503  0.97429983  0.81072485\n",
      "  0.97943274 -0.08424152  0.82462649  0.98401172  0.00343358 -0.39776959\n",
      "  0.85476948  0.9871308 ]\n",
      "Epoch:  9000  Error:  6.040295940088979  Parametros:  [ 0.97358267  0.97359799  0.80626995  0.97911698  0.97361356  0.80608934\n",
      "  0.97915251 -0.10427414  0.82311846  0.98388404  0.9736294   0.8059134\n",
      "  0.97918804 -0.11020968  0.82332761  0.98392035  0.00823204 -0.39736749\n",
      "  0.85458942  0.98709938]\n"
     ]
    }
   ],
   "source": [
    "AplicarModeloLineal(X_poly, data['quality'],0.0000007,10000,1000, poly_reg.degree)"
   ]
  },
  {
   "cell_type": "code",
   "execution_count": 59,
   "metadata": {
    "scrolled": true
   },
   "outputs": [
    {
     "name": "stdout",
     "output_type": "stream",
     "text": [
      "INFO:tensorflow:Graph was finalized.\n",
      "INFO:tensorflow:Running local_init_op.\n",
      "INFO:tensorflow:Done running local_init_op.\n",
      "Epoch:  1000  Error:  382.7234689752213  Parametros:  [ 0.988654    0.98866312  0.91475364  0.98980226  0.98867234  0.91471016\n",
      "  0.98982349  0.48210061  0.90963116  0.99167955  0.98868165  0.91466843\n",
      "  0.98984469  0.4799954   0.90979061  0.9917012  -0.1308037   0.23108506\n",
      "  0.92181082  0.99312091]\n",
      "Epoch:  2000  Error:  121.94437056985366  Parametros:  [ 0.98258719  0.98259929  0.87101334  0.98466809  0.98261155  0.87091893\n",
      "  0.98469851  0.24542127  0.8657011   0.98760087  0.98262396  0.87082742\n",
      "  0.9847289   0.24180648  0.86591853  0.98763216 -0.07001785 -0.12189346\n",
      "  0.88452708  0.98980524]\n",
      "Epoch:  3000  Error:  44.74626452089743  Parametros:  [ 0.97889468  0.97890834  0.84441335  0.98193322  0.97892221  0.84428565\n",
      "  0.98196764  0.101544    0.8431999   0.98556408  0.97893627  0.84416158\n",
      "  0.98200203  0.09699102  0.84343498  0.98559948 -0.03522943 -0.29043905\n",
      "  0.86665108  0.98821536]\n",
      "Epoch:  4000  Error:  19.992624525185082  Parametros:  [ 0.97654001  0.97655451  0.82747345  0.98046297  0.97656924  0.82732311\n",
      "  0.98049881  0.00999644  0.83184159  0.98457477  0.97658419  0.82717684\n",
      "  0.98053462  0.00483426  0.83207547  0.98461156 -0.01462534 -0.36509222\n",
      "  0.8586141   0.98749537]\n",
      "Epoch:  5000  Error:  10.866305269553694  Parametros:  [ 0.97496192  0.97497689  0.81614263  0.97966011  0.97499211  0.81597635\n",
      "  0.97969614 -0.05114518  0.8262401   0.9841148   0.97500756  0.81581445\n",
      "  0.97973216 -0.0567202   0.82646477  0.98415171 -0.00190032 -0.39290211\n",
      "  0.85545104  0.98720201]\n",
      "Epoch:  6000  Error:  6.814835249940384  Parametros:  [ 0.97385201  0.97386727  0.80819451  0.97921016  0.97388277  0.80801671\n",
      "  0.97924584 -0.09393425  0.8235818   0.98391562  0.97389854  0.80784351\n",
      "  0.97928153 -0.09979975  0.8237946   0.9839521   0.00633761 -0.39814993\n",
      "  0.8546055   0.9871078 ]\n",
      "Epoch:  7000  Error:  4.671287324616455  Parametros:  [ 0.97303723  0.97305268  0.80237964  0.9789474   0.97306839  0.80219338\n",
      "  0.97898254 -0.1251385   0.82240241  0.98383919  0.97308436  0.8020119\n",
      "  0.97901769 -0.13121452  0.82260323  0.98387507  0.0119346  -0.39322781\n",
      "  0.85477781  0.9870977 ]\n",
      "Epoch:  8000  Error:  3.3932337673820516  Parametros:  [ 0.97241769  0.97243329  0.79797658  0.97878439  0.97244916  0.7977841\n",
      "  0.97881895 -0.14866816  0.82194443  0.98381555  0.9724653   0.79759651\n",
      "  0.97885353 -0.15489983  0.82213428  0.98385081  0.01591258 -0.38434434\n",
      "  0.85532106  0.98711496]\n"
     ]
    }
   ],
   "source": [
    "AplicarModeloLineal(X_poly, data['quality'],0.000001,9000,1000, poly_reg.degree)"
   ]
  },
  {
   "cell_type": "code",
   "execution_count": 61,
   "metadata": {
    "scrolled": true
   },
   "outputs": [
    {
     "name": "stdout",
     "output_type": "stream",
     "text": [
      "INFO:tensorflow:Graph was finalized.\n",
      "INFO:tensorflow:Running local_init_op.\n",
      "INFO:tensorflow:Done running local_init_op.\n",
      "Epoch:  1000  Error:  302.016947013568  Parametros:  [ 0.98717389  0.98718377  0.90408009  0.98849866  0.98719377  0.90402451\n",
      "  0.98852234  0.42434204  0.8983608   0.9906259   0.98720386  0.90397095\n",
      "  0.98854599  0.4218713   0.89853669  0.99065013 -0.11568752  0.13894156\n",
      "  0.91208308  0.99225541]\n",
      "Epoch:  2000  Error:  79.96398184484659  Parametros:  [ 0.98089642  0.98090927  0.85883     0.98336501  0.98092229  0.85872063\n",
      "  0.98339748  0.17951222  0.85484484  0.98661044  0.98093549  0.85861449\n",
      "  0.98342991  0.17547016  0.85507266  0.98664384 -0.05379856 -0.20512478\n",
      "  0.87571581  0.98902198]\n",
      "Epoch:  3000  Error:  26.904602182401057  Parametros:  [ 0.97736388  0.97737811  0.8333973   0.9809453   0.97739256  0.83325503\n",
      "  0.98098077  0.04199778  0.83546367  0.9848849   0.97740721  0.83311668\n",
      "  0.98101622  0.03704981  0.83569944  0.98492135 -0.02164669 -0.34284925\n",
      "  0.86103345  0.9877134 ]\n",
      "Epoch:  4000  Error:  12.109929623526922  Parametros:  [ 0.97523218  0.97524707  0.81808109  0.97978482  0.97526221  0.81791758\n",
      "  0.97982086 -0.04069418  0.82705743  0.98417955  0.97527758  0.8177584\n",
      "  0.9798569  -0.04619834  0.82728427  0.98421649 -0.00400173 -0.38971749\n",
      "  0.85583806  0.98723941]\n",
      "Epoch:  5000  Error:  6.814306221225856  Parametros:  [ 0.97385165  0.9738669   0.80819191  0.97920999  0.97388241  0.8080141\n",
      "  0.97924567 -0.0939483   0.82358059  0.98391552  0.97389817  0.8078409\n",
      "  0.97928135 -0.0998139   0.82379339  0.98395201  0.00634049 -0.39815549\n",
      "  0.85460488  0.98710774]\n",
      "Epoch:  6000  Error:  4.364012205767407  Parametros:  [ 0.97289979  0.97291527  0.80140115  0.97890864  0.97293101  0.80121349\n",
      "  0.97894366 -0.13037662  0.82226882  0.98383168  0.97294702  0.80103063\n",
      "  0.97897869 -0.13648762  0.82246735  0.98386743  0.01283838 -0.39163897\n",
      "  0.85487011  0.98710012]\n",
      "Epoch:  7000  Error:  3.025355073249796  Parametros:  [ 0.97221007  0.97222572  0.79650611  0.97873584  0.97224165  0.79631163\n",
      "  0.97877018 -0.15649821  0.82186835  0.98381237  0.97225786  0.79612207\n",
      "  0.97880454 -0.16278054  0.82205417  0.9838474   0.01719107 -0.38042094\n",
      "  0.8555659   0.98712292]\n",
      "Epoch:  8000  Error:  2.2354136816493275  Parametros:  [ 0.97169182  0.97170763  0.79285164  0.97862413  0.97172373  0.7926525\n",
      "  0.97865787 -0.17586778  0.82181865  0.98380815  0.97174011  0.79245837\n",
      "  0.97869164 -0.18227113  0.8219938   0.98384257  0.02026286 -0.36876902\n",
      "  0.85625462  0.98713865]\n"
     ]
    }
   ],
   "source": [
    "AplicarModeloLineal(X_poly, data['quality'],0.0000012,9000,1000, poly_reg.degree)"
   ]
  },
  {
   "cell_type": "markdown",
   "metadata": {},
   "source": [
    "### Graficos obtenidos y Conclusion:"
   ]
  },
  {
   "cell_type": "markdown",
   "metadata": {},
   "source": [
    "<img src='Error_ErrorSummary_All.svg'>\n",
    "\n",
    "El modelo polinomial de grado 3 es por mucho un peor modelo en relacion al modelo de grado 2 pues se tomo muchas mas iteraciones en llegar al punto de convergencia. A continuacion se muestran los graficos solo del modelo de grado 3:\n",
    "\n",
    "<img src='Error_ErrorSummary_Grado3.svg'>\n",
    "De los de grado 3 el mejor modelo es el celeste pues minimiza el error antes que los otros modelos. De las pruebas realizadas cabe mencionar que se requeria un learning rate muy bajo y muchas pruebas realizadas se quedaban en la divergencia. Ahora realicemos un analisis de los errores de los modelos de grado 2:\n",
    "\n",
    "<img src ='Error_ErrorSummary_Grado2.svg'>\n",
    "\n",
    "Quien llega antes al punto de convergencia es el modelo naranja. En base a esto puedo concluir que el mejor modelo de prediccion de los generados es el que cuenta con lr=0.0001, epochs=3000, grado=2"
   ]
  }
 ],
 "metadata": {
  "kernelspec": {
   "display_name": "Python 3",
   "language": "python",
   "name": "python3"
  },
  "language_info": {
   "codemirror_mode": {
    "name": "ipython",
    "version": 3
   },
   "file_extension": ".py",
   "mimetype": "text/x-python",
   "name": "python",
   "nbconvert_exporter": "python",
   "pygments_lexer": "ipython3",
   "version": "3.7.6"
  }
 },
 "nbformat": 4,
 "nbformat_minor": 4
}
