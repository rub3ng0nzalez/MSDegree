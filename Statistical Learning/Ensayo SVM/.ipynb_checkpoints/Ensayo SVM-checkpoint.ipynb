{
 "cells": [
  {
   "cell_type": "markdown",
   "metadata": {},
   "source": [
    "## SVM: Ensayo\n",
    "Ruben Gonzalez\n",
    "Statistical Learning I\n",
    "\n",
    "Este ensayo fue realizado basandome en los videos de los siguientes links:\n",
    "* https://www.youtube.com/watch?v=v1bBKtMPwt0\n",
    "* https://www.youtube.com/watch?v=VWwb3IAB6Rc&feature=youtu.be\n",
    "* https://www.youtube.com/watch?v=envRLLZmio8&feature=youtu.be"
   ]
  },
  {
   "cell_type": "markdown",
   "metadata": {},
   "source": [
    "SVM es un algoritmo de clasificacion de aprendizaje supervisado que puede ser usado para predecir clasificaciones o regresiones. Su objetivo principal es encontrar un hiperplano en un espacio N-Dimensional siendo N el numero de caracteristicas que clasifique de la manera mas contundente las diferentes caracteristicas planteadas. Para realizarlo de manera contundente busca encontrar el maximo espacio entre las diferentes clasificaciones."
   ]
  },
  {
   "cell_type": "markdown",
   "metadata": {},
   "source": [
    "#### Definiendo el problema\n",
    "Para una mejor comprension de lo que hace SVM, se presentara un problema sencillo de 2 cal ategorias, y lo que busca SVM es encontrar la mayor distancia existente entre ambas y definir una especie de carretera que nos sirva para identificar que los valores que pasen dicha frontera pertenecen a la categoria A y los que no atraviesen esa carretera pertenecen a la categoria B.\n",
    "\n",
    "<img src=\"Problema.PNG\">\n",
    "Imagen tomada de https://www.youtube.com/watch?v=v1bBKtMPwt0\n",
    "\n",
    "Por lo tanto la formula del ancho que separa las dos categorias seria asi: \n",
    "$$Width=(\\overrightarrow{x_a}-\\overrightarrow{x_b})\\cdot \\frac{\\overrightarrow{w}}{\\left \\| w \\right \\|}$$\n",
    "\n",
    "Y lo que buscamos con esto es llegar a una formula que nos permita maximizar ese espacio, luego de un poco de algebra llegamos a la formula:\n",
    "\n",
    "$$Width=\\frac{1-b}{\\left \\| w \\right \\|}-\\frac{-b-1}{\\left \\| w \\right \\|}=\\frac{2}{\\left \\| w \\right \\|}$$\n",
    "\n",
    "Esta funcion tambien puede ser traducida la funcion de costo que buscamos minimizar\n",
    "\n",
    "$$Minimize=\\frac{1}{2}*{\\left \\| w \\right \\|}^{2}$$"
   ]
  },
  {
   "attachments": {},
   "cell_type": "markdown",
   "metadata": {},
   "source": [
    "#### Funcion de costo:\n",
    "\n",
    "<img src=\"Costo.PNG\">\n",
    "Imagen tomada de: https://www.youtube.com/watch?v=envRLLZmio8&feature=youtu.be\n",
    "\n",
    "Esta funcion se enfoca en minimizar la norma al cuadrado del vector W y obtener asi un minimo global. Proceso de optimizacion sujeto a la restriccion de Xa y Xb:\n",
    "\n",
    "$$y(\\overrightarrow{w}\\cdot \\overrightarrow{x_{a}}+b)-1=0$$\n",
    "\n",
    "Se aplica Lagrange para obtener la funcion a minimizar:\n",
    "$$L=\\frac{1}{2}{\\left \\| w \\right \\|}^{2}-\\sum_{i}^{}\\alpha_{i}( y_{i}(\\overrightarrow{w}\\cdot \\overrightarrow{x_{ai}}+b)-1)$$\n",
    "\n",
    "El resultado final es\n",
    "$$L=\\sum_{i}\\alpha_{i}-\\frac{1}{2}\\sum_{i}\\sum_{j}\\alpha_{i}\\alpha_{j}y_{i}y_{j}\\overrightarrow{x_{ai}}\\cdot \\overrightarrow{x_{aj}}$$\n",
    "Con esto nos podemos dar cuenta que la maximizacion del problema depende unicamente del producto punto entre 2 pares de vectores de soporte.\n",
    "\n",
    "Ahora se sustituye el vector W dentro de las primeras restricciones para obtener lo siguiente:\n",
    "\n",
    "$$\\sum_{i}\\alpha_{i}-\\frac{1}{2}\\alpha_{i}y_{i}\\overrightarrow{x_{ai}}\\cdot \\overrightarrow{u}\\geq 0$$"
   ]
  },
  {
   "cell_type": "markdown",
   "metadata": {},
   "source": [
    "### Kernel Trick\n",
    "Kernel trick es una parte de SVM que viene a solucionar el problema de separar datos cuando estos no son linealmente separables como en la siguiente imagen:\n",
    "\n",
    "<img src=\"KernelProblem.PNG\">\n",
    "\n",
    "Lo que se busca en estos casos es mapear el conjunto de datos separables no lineales en un espacio dimensional mas alto donde si podamos encontrar un hiperplano que pueda separar las muestras.\n",
    "\n",
    "Una forma grafica de verlo:\n",
    "\n",
    "<img src=\"EjemplosKernel.PNG\">\n",
    "En las primeras 2 imagenes es un ejemplo de usar Kernel para ver el plano como una parabola y poder ahora si realizar la linea divisoria. En el siguiente ejemplo un caso donde se transforma el plano para poder separar linealmente los 2 conjuntos de datos.\n",
    "\n",
    "Funciones de transformacion Phi aplicadas a las formulas conocidas:\n",
    "\n",
    "$$L=\\sum_{i}\\alpha_{i}-\\frac{1}{2}\\sum_{i}\\sum_{j}\\alpha_{i}\\alpha_{j}y_{i}y_{j}\\phi (\\overrightarrow{x_{ai}})\\cdot \\phi (\\overrightarrow{x_{aj}})$$\n",
    "\n",
    "La funcion Kernel tiene en su forma mas basica la siguiente forma: \n",
    "\n",
    "$$K(x_{i},x_{j})=\\phi (\\overrightarrow{x_{i}})\\cdot \\phi (\\overrightarrow{x_{j}})$$\n",
    "\n",
    "Para un correcto uso del Kernel se debe seleccionar el mejor Kernel de acuerdo al problema planteado, se sugiere iterar entre estos tipos para elegir el mas adecuado:\n",
    "\n",
    "<img src=\"TiposKernel.PNG\">"
   ]
  },
  {
   "cell_type": "markdown",
   "metadata": {},
   "source": [
    "### Propiedades de SVM\n",
    "* Una caracteristica principal de este algoritmo es que puede utilizarse tanto en clasificacion como en regresion.\n",
    "* Se diferencia principalmente de los otros algoritmos en que genera un hiperplano optimo para clasificar las nuevas entradas en n espacios dimencionales dependiendo de la cantidad de features.\n",
    "* En su ejecucion solamente necesita aquellos puntos mas cercanos entre si de dos clasificaciones distintas para generar el borde mientras que otros algoritmos necesitan de todos los datos del espacio como la regresion logistica lo que reduce su tiempo de procesamiento.\n",
    "* No necesariamente genera una linea recta para clasificar 2 pues a traves de la funcion Kernel adecuada mapea de mejor forma los datos. A diferencia de regresion logistica donde se puede realizar eso al añadirle mas grados a las features.\n",
    "* Entre sus desventajas se puede mencionar que si los datos estan muy dispersos entre si se tiende a no ser la mejor opcion pues algunos datos lejanos podrán no ser tomados en cuenta para la delimitación del borde.\n",
    "* Se debe escoger el Kernel adecuado para que funcione. De lo contrario puede no ser la opcion mas adecuada."
   ]
  },
  {
   "cell_type": "markdown",
   "metadata": {},
   "source": [
    "### Practicas implementando SVM\n",
    "Se muestran 2 ejemplos, el primero implementa SVM en una regresión (SVR) y el segundo implementa SVM en clasificación."
   ]
  },
  {
   "cell_type": "markdown",
   "metadata": {},
   "source": [
    "#### SVR"
   ]
  },
  {
   "cell_type": "code",
   "execution_count": 1,
   "metadata": {},
   "outputs": [],
   "source": [
    "import numpy as np\n",
    "import matplotlib.pyplot as plt\n",
    "import pandas as pd"
   ]
  },
  {
   "cell_type": "code",
   "execution_count": 4,
   "metadata": {},
   "outputs": [],
   "source": [
    "dataset = pd.read_csv('Position_Salaries.csv')\n",
    "X = dataset.iloc[:, 1:-1].values\n",
    "y = dataset.iloc[:, -1].values\n",
    "y = y.reshape(len(y),1)"
   ]
  },
  {
   "cell_type": "code",
   "execution_count": 5,
   "metadata": {},
   "outputs": [],
   "source": [
    "#---Escalado de features\n",
    "from sklearn.preprocessing import StandardScaler\n",
    "sc_X = StandardScaler()\n",
    "sc_y = StandardScaler()\n",
    "X = sc_X.fit_transform(X)\n",
    "y = sc_y.fit_transform(y)"
   ]
  },
  {
   "cell_type": "code",
   "execution_count": 6,
   "metadata": {},
   "outputs": [
    {
     "name": "stderr",
     "output_type": "stream",
     "text": [
      "C:\\Users\\ruben\\AppData\\Local\\Continuum\\anaconda3\\envs\\Galileo-Python\\lib\\site-packages\\sklearn\\utils\\validation.py:760: DataConversionWarning: A column-vector y was passed when a 1d array was expected. Please change the shape of y to (n_samples, ), for example using ravel().\n",
      "  y = column_or_1d(y, warn=True)\n"
     ]
    },
    {
     "data": {
      "text/plain": [
       "SVR(C=1.0, cache_size=200, coef0=0.0, degree=3, epsilon=0.1, gamma='scale',\n",
       "    kernel='rbf', max_iter=-1, shrinking=True, tol=0.001, verbose=False)"
      ]
     },
     "execution_count": 6,
     "metadata": {},
     "output_type": "execute_result"
    }
   ],
   "source": [
    "#---Entrenamiento del modelo, se selecciona el Kernel adecuado\n",
    "from sklearn.svm import SVR\n",
    "regressor = SVR(kernel = 'rbf')\n",
    "regressor.fit(X, y)"
   ]
  },
  {
   "cell_type": "code",
   "execution_count": 7,
   "metadata": {},
   "outputs": [
    {
     "data": {
      "text/plain": [
       "array([170370.0204065])"
      ]
     },
     "execution_count": 7,
     "metadata": {},
     "output_type": "execute_result"
    }
   ],
   "source": [
    "#---Prediccion de un nuevo resultado\n",
    "sc_y.inverse_transform(regressor.predict(sc_X.transform([[6.5]])))"
   ]
  },
  {
   "cell_type": "code",
   "execution_count": 8,
   "metadata": {},
   "outputs": [
    {
     "data": {
      "image/png": "[encoded data removed]",
      "text/plain": [
       "<Figure size 432x288 with 1 Axes>"
      ]
     },
     "metadata": {
      "needs_background": "light"
     },
     "output_type": "display_data"
    }
   ],
   "source": [
    "#Visualizaccion de los resultados  siendo en azul los datos predecidos\n",
    "plt.scatter(sc_X.inverse_transform(X), sc_y.inverse_transform(y), color = 'red')\n",
    "plt.plot(sc_X.inverse_transform(X), sc_y.inverse_transform(regressor.predict(X)), color = 'blue')\n",
    "plt.title('Truth or Bluff (SVR)')\n",
    "plt.xlabel('Position level')\n",
    "plt.ylabel('Salary')\n",
    "plt.show()"
   ]
  },
  {
   "cell_type": "markdown",
   "metadata": {},
   "source": [
    "#### SVM"
   ]
  },
  {
   "cell_type": "code",
   "execution_count": 9,
   "metadata": {},
   "outputs": [
    {
     "name": "stdout",
     "output_type": "stream",
     "text": [
      "WARNING:tensorflow:From C:\\Users\\ruben\\AppData\\Local\\Continuum\\anaconda3\\envs\\Galileo-Python\\lib\\site-packages\\tensorflow_core\\python\\compat\\v2_compat.py:88: disable_resource_variables (from tensorflow.python.ops.variable_scope) is deprecated and will be removed in a future version.\n",
      "Instructions for updating:\n",
      "non-resource variables are not supported in the long term\n",
      "Enabled compatitility to tf1.x\n"
     ]
    }
   ],
   "source": [
    "import tensorflow.compat.v1 as tf\n",
    "if tf.__version__.startswith(\"2.\"):\n",
    "    import tensorflow.compat.v1 as tf\n",
    "    tf.compat.v1.disable_v2_behavior()\n",
    "    tf.compat.v1.disable_eager_execution()\n",
    "    print(\"Enabled compatitility to tf1.x\")"
   ]
  },
  {
   "cell_type": "code",
   "execution_count": 14,
   "metadata": {},
   "outputs": [],
   "source": [
    "dataset = pd.read_csv('Social_Network_Ads.csv')\n",
    "X = dataset.iloc[:, :-1].values\n",
    "y = dataset.iloc[:, -1].values"
   ]
  },
  {
   "cell_type": "code",
   "execution_count": 15,
   "metadata": {},
   "outputs": [],
   "source": [
    "from sklearn.model_selection import train_test_split\n",
    "X_train, X_test, y_train, y_test = train_test_split(X, y, test_size = 0.25, random_state = 0)"
   ]
  },
  {
   "cell_type": "code",
   "execution_count": 16,
   "metadata": {},
   "outputs": [],
   "source": [
    "#Escalado de features\n",
    "from sklearn.preprocessing import StandardScaler\n",
    "sc = StandardScaler()\n",
    "X_train = sc.fit_transform(X_train)\n",
    "X_test = sc.transform(X_test)"
   ]
  },
  {
   "cell_type": "code",
   "execution_count": 17,
   "metadata": {},
   "outputs": [
    {
     "data": {
      "text/plain": [
       "SVC(C=1.0, break_ties=False, cache_size=200, class_weight=None, coef0=0.0,\n",
       "    decision_function_shape='ovr', degree=3, gamma='scale', kernel='linear',\n",
       "    max_iter=-1, probability=False, random_state=0, shrinking=True, tol=0.001,\n",
       "    verbose=False)"
      ]
     },
     "execution_count": 17,
     "metadata": {},
     "output_type": "execute_result"
    }
   ],
   "source": [
    "#Entrenamiento del modelo\n",
    "from sklearn.svm import SVC\n",
    "classifier = SVC(kernel = 'linear', random_state = 0)\n",
    "classifier.fit(X_train, y_train)"
   ]
  },
  {
   "cell_type": "code",
   "execution_count": 18,
   "metadata": {},
   "outputs": [
    {
     "name": "stdout",
     "output_type": "stream",
     "text": [
      "[0]\n"
     ]
    }
   ],
   "source": [
    "#Prediccion de resultados\n",
    "print(classifier.predict(sc.transform([[30,87000]])))"
   ]
  },
  {
   "cell_type": "code",
   "execution_count": 19,
   "metadata": {},
   "outputs": [],
   "source": [
    "#Prediccion de Y_pred\n",
    "y_pred = classifier.predict(X_test)"
   ]
  },
  {
   "cell_type": "code",
   "execution_count": 20,
   "metadata": {},
   "outputs": [
    {
     "name": "stderr",
     "output_type": "stream",
     "text": [
      "'c' argument looks like a single numeric RGB or RGBA sequence, which should be avoided as value-mapping will have precedence in case its length matches with 'x' & 'y'.  Please use a 2-D array with a single row if you really want to specify the same RGB or RGBA value for all points.\n",
      "'c' argument looks like a single numeric RGB or RGBA sequence, which should be avoided as value-mapping will have precedence in case its length matches with 'x' & 'y'.  Please use a 2-D array with a single row if you really want to specify the same RGB or RGBA value for all points.\n"
     ]
    },
    {
     "data": {
      "image/png": "[encoded data removed]",
      "text/plain": [
       "<Figure size 432x288 with 1 Axes>"
      ]
     },
     "metadata": {
      "needs_background": "light"
     },
     "output_type": "display_data"
    }
   ],
   "source": [
    "#Visualizacion grafica de los resultados en el set de train\n",
    "from matplotlib.colors import ListedColormap\n",
    "X_set, y_set = sc.inverse_transform(X_train), y_train\n",
    "X1, X2 = np.meshgrid(np.arange(start = X_set[:, 0].min() - 10, stop = X_set[:, 0].max() + 10, step = 0.25),\n",
    "                     np.arange(start = X_set[:, 1].min() - 1000, stop = X_set[:, 1].max() + 1000, step = 0.25))\n",
    "plt.contourf(X1, X2, classifier.predict(sc.transform(np.array([X1.ravel(), X2.ravel()]).T)).reshape(X1.shape),\n",
    "             alpha = 0.75, cmap = ListedColormap(('red', 'green')))\n",
    "plt.xlim(X1.min(), X1.max())\n",
    "plt.ylim(X2.min(), X2.max())\n",
    "for i, j in enumerate(np.unique(y_set)):\n",
    "    plt.scatter(X_set[y_set == j, 0], X_set[y_set == j, 1], c = ListedColormap(('red', 'green'))(i), label = j)\n",
    "plt.title('SVM (Training set)')\n",
    "plt.xlabel('Age')\n",
    "plt.ylabel('Estimated Salary')\n",
    "plt.legend()\n",
    "plt.show()"
   ]
  },
  {
   "cell_type": "code",
   "execution_count": 21,
   "metadata": {},
   "outputs": [
    {
     "name": "stderr",
     "output_type": "stream",
     "text": [
      "'c' argument looks like a single numeric RGB or RGBA sequence, which should be avoided as value-mapping will have precedence in case its length matches with 'x' & 'y'.  Please use a 2-D array with a single row if you really want to specify the same RGB or RGBA value for all points.\n",
      "'c' argument looks like a single numeric RGB or RGBA sequence, which should be avoided as value-mapping will have precedence in case its length matches with 'x' & 'y'.  Please use a 2-D array with a single row if you really want to specify the same RGB or RGBA value for all points.\n"
     ]
    },
    {
     "data": {
      "image/png": "[encoded data removed]",
      "text/plain": [
       "<Figure size 432x288 with 1 Axes>"
      ]
     },
     "metadata": {
      "needs_background": "light"
     },
     "output_type": "display_data"
    }
   ],
   "source": [
    "#Visualizacion grafica de los resultados en el set de test\n",
    "from matplotlib.colors import ListedColormap\n",
    "X_set, y_set = sc.inverse_transform(X_test), y_test\n",
    "X1, X2 = np.meshgrid(np.arange(start = X_set[:, 0].min() - 10, stop = X_set[:, 0].max() + 10, step = 0.25),\n",
    "                     np.arange(start = X_set[:, 1].min() - 1000, stop = X_set[:, 1].max() + 1000, step = 0.25))\n",
    "plt.contourf(X1, X2, classifier.predict(sc.transform(np.array([X1.ravel(), X2.ravel()]).T)).reshape(X1.shape),\n",
    "             alpha = 0.75, cmap = ListedColormap(('red', 'green')))\n",
    "plt.xlim(X1.min(), X1.max())\n",
    "plt.ylim(X2.min(), X2.max())\n",
    "for i, j in enumerate(np.unique(y_set)):\n",
    "    plt.scatter(X_set[y_set == j, 0], X_set[y_set == j, 1], c = ListedColormap(('red', 'green'))(i), label = j)\n",
    "plt.title('SVM (Test set)')\n",
    "plt.xlabel('Age')\n",
    "plt.ylabel('Estimated Salary')\n",
    "plt.legend()\n",
    "plt.show()"
   ]
  }
 ],
 "metadata": {
  "kernelspec": {
   "display_name": "Python 3",
   "language": "python",
   "name": "python3"
  },
  "language_info": {
   "codemirror_mode": {
    "name": "ipython",
    "version": 3
   },
   "file_extension": ".py",
   "mimetype": "text/x-python",
   "name": "python",
   "nbconvert_exporter": "python",
   "pygments_lexer": "ipython3",
   "version": "3.7.6"
  }
 },
 "nbformat": 4,
 "nbformat_minor": 2
}
