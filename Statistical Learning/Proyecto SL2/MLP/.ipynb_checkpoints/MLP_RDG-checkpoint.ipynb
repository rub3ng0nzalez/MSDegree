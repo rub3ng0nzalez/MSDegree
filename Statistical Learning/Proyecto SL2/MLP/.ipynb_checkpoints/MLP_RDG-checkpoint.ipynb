{
 "cells": [
  {
   "cell_type": "markdown",
   "metadata": {
    "colab_type": "text",
    "id": "0jnLF-8n9DpI"
   },
   "source": [
    "# Red Neuronal Multi-capa\n",
    "##### Ruben Gonzalez 20003314"
   ]
  },
  {
   "cell_type": "code",
   "execution_count": 1,
   "metadata": {
    "colab": {},
    "colab_type": "code",
    "id": "PMPDSsmo9DpK"
   },
   "outputs": [],
   "source": [
    "import numpy as np\n",
    "import pandas as pd"
   ]
  },
  {
   "cell_type": "code",
   "execution_count": 2,
   "metadata": {
    "colab": {
     "base_uri": "https://localhost:8080/",
     "height": 110
    },
    "colab_type": "code",
    "id": "a-PvFIxH9DpP",
    "outputId": "deee4309-75da-494a-f202-af86a05e76bd"
   },
   "outputs": [
    {
     "name": "stdout",
     "output_type": "stream",
     "text": [
      "WARNING:tensorflow:From /usr/local/lib/python3.6/dist-packages/tensorflow/python/compat/v2_compat.py:96: disable_resource_variables (from tensorflow.python.ops.variable_scope) is deprecated and will be removed in a future version.\n",
      "Instructions for updating:\n",
      "non-resource variables are not supported in the long term\n",
      "Enabled compatitility to tf1.x\n"
     ]
    }
   ],
   "source": [
    "import tensorflow.compat.v1 as tf\n",
    "if tf.__version__.startswith(\"2.\"):\n",
    "    import tensorflow.compat.v1 as tf\n",
    "    tf.compat.v1.disable_v2_behavior()\n",
    "    tf.compat.v1.disable_eager_execution()\n",
    "    print(\"Enabled compatitility to tf1.x\")"
   ]
  },
  {
   "cell_type": "markdown",
   "metadata": {
    "colab_type": "text",
    "id": "FbW9qybY9DpY"
   },
   "source": [
    "## Pre procesamiento de datos"
   ]
  },
  {
   "cell_type": "code",
   "execution_count": 3,
   "metadata": {
    "colab": {},
    "colab_type": "code",
    "id": "B3Y-QL1o9DpZ"
   },
   "outputs": [],
   "source": [
    "dataset = pd.read_excel('Folds5x2_pp.xlsx')\n",
    "X = dataset.iloc[:, :-1].values\n",
    "y = dataset.iloc[:, -1].values"
   ]
  },
  {
   "cell_type": "code",
   "execution_count": 4,
   "metadata": {
    "colab": {},
    "colab_type": "code",
    "id": "ShsdeBQy9Dpe"
   },
   "outputs": [],
   "source": [
    "from sklearn.model_selection import train_test_split\n",
    "X_train, X_test, y_train, y_test = train_test_split(X, y, test_size = 0.2, random_state = 0)"
   ]
  },
  {
   "cell_type": "markdown",
   "metadata": {
    "colab_type": "text",
    "id": "rOXHPJVW9Dpi"
   },
   "source": [
    "## Creando la red neuronal"
   ]
  },
  {
   "cell_type": "code",
   "execution_count": 5,
   "metadata": {
    "colab": {},
    "colab_type": "code",
    "id": "RnWtueMm9Dpj"
   },
   "outputs": [],
   "source": [
    "ann = tf.keras.models.Sequential()"
   ]
  },
  {
   "cell_type": "code",
   "execution_count": 6,
   "metadata": {
    "colab": {},
    "colab_type": "code",
    "id": "vIzqgMJG9Dpn"
   },
   "outputs": [],
   "source": [
    "ann.add(tf.keras.layers.Dense(units=6, activation='softmax'))"
   ]
  },
  {
   "cell_type": "code",
   "execution_count": 7,
   "metadata": {
    "colab": {},
    "colab_type": "code",
    "id": "ODys6RhW9Dpq"
   },
   "outputs": [],
   "source": [
    "ann.add(tf.keras.layers.Dense(units=6, activation='softmax'))"
   ]
  },
  {
   "cell_type": "code",
   "execution_count": 8,
   "metadata": {
    "colab": {},
    "colab_type": "code",
    "id": "QU_9fhDW9Dpu"
   },
   "outputs": [],
   "source": [
    "ann.add(tf.keras.layers.Dense(units=1))"
   ]
  },
  {
   "cell_type": "markdown",
   "metadata": {
    "colab_type": "text",
    "id": "ACyTNDhb9Dpy"
   },
   "source": [
    "## Entrenamiento del modelo"
   ]
  },
  {
   "cell_type": "code",
   "execution_count": 9,
   "metadata": {
    "colab": {},
    "colab_type": "code",
    "id": "cYvYa9HU9Dpy"
   },
   "outputs": [],
   "source": [
    "ann.compile(optimizer = 'adam', loss = 'mean_squared_error')"
   ]
  },
  {
   "cell_type": "code",
   "execution_count": 10,
   "metadata": {
    "colab": {
     "base_uri": "https://localhost:8080/",
     "height": 1000
    },
    "colab_type": "code",
    "id": "ef_y8Z6e9Dp1",
    "outputId": "ae31c383-8cb5-438a-efc6-cfa87d001558"
   },
   "outputs": [
    {
     "name": "stdout",
     "output_type": "stream",
     "text": [
      "Train on 7654 samples\n",
      "Epoch 1/70\n",
      "7654/7654 [==============================] - 0s 49us/sample - loss: 206383.4124\n",
      "Epoch 2/70\n",
      "7654/7654 [==============================] - 0s 50us/sample - loss: 205693.6498\n",
      "Epoch 3/70\n",
      "7654/7654 [==============================] - 0s 50us/sample - loss: 205016.4322\n",
      "Epoch 4/70\n",
      "7654/7654 [==============================] - 0s 46us/sample - loss: 204416.3452\n",
      "Epoch 5/70\n",
      "7654/7654 [==============================] - 0s 49us/sample - loss: 203878.7883\n",
      "Epoch 6/70\n",
      "7654/7654 [==============================] - 0s 48us/sample - loss: 203377.3944\n",
      "Epoch 7/70\n",
      "7654/7654 [==============================] - 0s 46us/sample - loss: 202897.5328\n",
      "Epoch 8/70\n",
      "7654/7654 [==============================] - 0s 48us/sample - loss: 202431.3950\n",
      "Epoch 9/70\n",
      "7654/7654 [==============================] - 0s 46us/sample - loss: 201974.6505\n",
      "Epoch 10/70\n",
      "7654/7654 [==============================] - 0s 48us/sample - loss: 201524.7330\n",
      "Epoch 11/70\n",
      "7654/7654 [==============================] - 0s 49us/sample - loss: 201079.8750\n",
      "Epoch 12/70\n",
      "7654/7654 [==============================] - 0s 51us/sample - loss: 200638.9480\n",
      "Epoch 13/70\n",
      "7654/7654 [==============================] - 0s 50us/sample - loss: 200201.0552\n",
      "Epoch 14/70\n",
      "7654/7654 [==============================] - 0s 48us/sample - loss: 199765.7001\n",
      "Epoch 15/70\n",
      "7654/7654 [==============================] - 0s 48us/sample - loss: 199332.3855\n",
      "Epoch 16/70\n",
      "7654/7654 [==============================] - 0s 49us/sample - loss: 198900.7866\n",
      "Epoch 17/70\n",
      "7654/7654 [==============================] - 0s 50us/sample - loss: 198470.6361\n",
      "Epoch 18/70\n",
      "7654/7654 [==============================] - 0s 47us/sample - loss: 198041.7404\n",
      "Epoch 19/70\n",
      "7654/7654 [==============================] - 0s 49us/sample - loss: 197613.9698\n",
      "Epoch 20/70\n",
      "7654/7654 [==============================] - 0s 49us/sample - loss: 197187.2041\n",
      "Epoch 21/70\n",
      "7654/7654 [==============================] - 0s 48us/sample - loss: 196761.2975\n",
      "Epoch 22/70\n",
      "7654/7654 [==============================] - 0s 50us/sample - loss: 196336.1756\n",
      "Epoch 23/70\n",
      "7654/7654 [==============================] - 0s 49us/sample - loss: 195911.8630\n",
      "Epoch 24/70\n",
      "7654/7654 [==============================] - 0s 48us/sample - loss: 195488.2552\n",
      "Epoch 25/70\n",
      "7654/7654 [==============================] - 0s 50us/sample - loss: 195065.2715\n",
      "Epoch 26/70\n",
      "7654/7654 [==============================] - 0s 48us/sample - loss: 194642.9010\n",
      "Epoch 27/70\n",
      "7654/7654 [==============================] - 0s 50us/sample - loss: 194221.0884\n",
      "Epoch 28/70\n",
      "7654/7654 [==============================] - 0s 48us/sample - loss: 193799.8753\n",
      "Epoch 29/70\n",
      "7654/7654 [==============================] - 0s 50us/sample - loss: 193379.2605\n",
      "Epoch 30/70\n",
      "7654/7654 [==============================] - 0s 50us/sample - loss: 192959.1829\n",
      "Epoch 31/70\n",
      "7654/7654 [==============================] - 0s 48us/sample - loss: 192539.5799\n",
      "Epoch 32/70\n",
      "7654/7654 [==============================] - 0s 49us/sample - loss: 192120.5020\n",
      "Epoch 33/70\n",
      "7654/7654 [==============================] - 0s 50us/sample - loss: 191701.9221\n",
      "Epoch 34/70\n",
      "7654/7654 [==============================] - 0s 48us/sample - loss: 191283.8275\n",
      "Epoch 35/70\n",
      "7654/7654 [==============================] - 0s 49us/sample - loss: 190866.2259\n",
      "Epoch 36/70\n",
      "7654/7654 [==============================] - 0s 50us/sample - loss: 190449.0834\n",
      "Epoch 37/70\n",
      "7654/7654 [==============================] - 0s 49us/sample - loss: 190032.4437\n",
      "Epoch 38/70\n",
      "7654/7654 [==============================] - 0s 51us/sample - loss: 189616.2516\n",
      "Epoch 39/70\n",
      "7654/7654 [==============================] - 0s 48us/sample - loss: 189200.5938\n",
      "Epoch 40/70\n",
      "7654/7654 [==============================] - 0s 49us/sample - loss: 188785.3726\n",
      "Epoch 41/70\n",
      "7654/7654 [==============================] - 0s 49us/sample - loss: 188370.6114\n",
      "Epoch 42/70\n",
      "7654/7654 [==============================] - 0s 47us/sample - loss: 187956.3548\n",
      "Epoch 43/70\n",
      "7654/7654 [==============================] - 0s 49us/sample - loss: 187542.5704\n",
      "Epoch 44/70\n",
      "7654/7654 [==============================] - 0s 49us/sample - loss: 187129.2159\n",
      "Epoch 45/70\n",
      "7654/7654 [==============================] - 0s 48us/sample - loss: 186716.3100\n",
      "Epoch 46/70\n",
      "7654/7654 [==============================] - 0s 49us/sample - loss: 186303.9197\n",
      "Epoch 47/70\n",
      "7654/7654 [==============================] - 0s 48us/sample - loss: 185892.0068\n",
      "Epoch 48/70\n",
      "7654/7654 [==============================] - 0s 46us/sample - loss: 185480.5084\n",
      "Epoch 49/70\n",
      "7654/7654 [==============================] - 0s 49us/sample - loss: 185069.5129\n",
      "Epoch 50/70\n",
      "7654/7654 [==============================] - 0s 48us/sample - loss: 184658.9418\n",
      "Epoch 51/70\n",
      "7654/7654 [==============================] - 0s 51us/sample - loss: 184248.8386\n",
      "Epoch 52/70\n",
      "7654/7654 [==============================] - 0s 49us/sample - loss: 183839.2370\n",
      "Epoch 53/70\n",
      "7654/7654 [==============================] - 0s 49us/sample - loss: 183430.0540\n",
      "Epoch 54/70\n",
      "7654/7654 [==============================] - 0s 50us/sample - loss: 183021.3140\n",
      "Epoch 55/70\n",
      "7654/7654 [==============================] - 0s 49us/sample - loss: 182613.0411\n",
      "Epoch 56/70\n",
      "7654/7654 [==============================] - 0s 52us/sample - loss: 182205.2585\n",
      "Epoch 57/70\n",
      "7654/7654 [==============================] - 0s 49us/sample - loss: 181797.9279\n",
      "Epoch 58/70\n",
      "7654/7654 [==============================] - 0s 50us/sample - loss: 181391.0287\n",
      "Epoch 59/70\n",
      "7654/7654 [==============================] - 0s 49us/sample - loss: 180984.6399\n",
      "Epoch 60/70\n",
      "7654/7654 [==============================] - 0s 48us/sample - loss: 180578.6996\n",
      "Epoch 61/70\n",
      "7654/7654 [==============================] - 0s 47us/sample - loss: 180173.2030\n",
      "Epoch 62/70\n",
      "7654/7654 [==============================] - 0s 49us/sample - loss: 179768.1540\n",
      "Epoch 63/70\n",
      "7654/7654 [==============================] - 0s 49us/sample - loss: 179363.5499\n",
      "Epoch 64/70\n",
      "7654/7654 [==============================] - 0s 48us/sample - loss: 178959.4151\n",
      "Epoch 65/70\n",
      "7654/7654 [==============================] - 0s 50us/sample - loss: 178555.7391\n",
      "Epoch 66/70\n",
      "7654/7654 [==============================] - 0s 48us/sample - loss: 178152.5325\n",
      "Epoch 67/70\n",
      "7654/7654 [==============================] - 0s 49us/sample - loss: 177749.8044\n",
      "Epoch 68/70\n",
      "7654/7654 [==============================] - 0s 45us/sample - loss: 177347.5171\n",
      "Epoch 69/70\n",
      "7654/7654 [==============================] - 0s 46us/sample - loss: 176945.6964\n",
      "Epoch 70/70\n",
      "7654/7654 [==============================] - 0s 47us/sample - loss: 176544.3416\n"
     ]
    },
    {
     "data": {
      "text/plain": [
       "<tensorflow.python.keras.callbacks.History at 0x7f4efec6d908>"
      ]
     },
     "execution_count": 10,
     "metadata": {
      "tags": []
     },
     "output_type": "execute_result"
    }
   ],
   "source": [
    "ann.fit(X_train, y_train, batch_size = 32, epochs = 70)"
   ]
  },
  {
   "cell_type": "code",
   "execution_count": 11,
   "metadata": {
    "colab": {
     "base_uri": "https://localhost:8080/",
     "height": 272
    },
    "colab_type": "code",
    "id": "QhsQXCer9Dp9",
    "outputId": "a1f13399-4ca3-4c95-c6c3-331e077f3fc2"
   },
   "outputs": [
    {
     "name": "stdout",
     "output_type": "stream",
     "text": [
      "Model: \"sequential\"\n",
      "_________________________________________________________________\n",
      "Layer (type)                 Output Shape              Param #   \n",
      "=================================================================\n",
      "dense (Dense)                multiple                  30        \n",
      "_________________________________________________________________\n",
      "dense_1 (Dense)              multiple                  42        \n",
      "_________________________________________________________________\n",
      "dense_2 (Dense)              multiple                  7         \n",
      "=================================================================\n",
      "Total params: 79\n",
      "Trainable params: 79\n",
      "Non-trainable params: 0\n",
      "_________________________________________________________________\n"
     ]
    }
   ],
   "source": [
    "ann.summary()"
   ]
  },
  {
   "cell_type": "code",
   "execution_count": 12,
   "metadata": {
    "colab": {},
    "colab_type": "code",
    "id": "5_h7Es7i9DqD"
   },
   "outputs": [],
   "source": [
    "ann.save('MLPModel.h5') #Guardando el modelo para futuras pruebas"
   ]
  },
  {
   "cell_type": "markdown",
   "metadata": {
    "colab_type": "text",
    "id": "9dkjPlEF9DqG"
   },
   "source": [
    "## Prediccion"
   ]
  },
  {
   "cell_type": "code",
   "execution_count": 13,
   "metadata": {
    "colab": {
     "base_uri": "https://localhost:8080/",
     "height": 219
    },
    "colab_type": "code",
    "id": "N9Zf18bs9DqH",
    "outputId": "e5cdfd23-5b9d-44ab-929a-b8915c741685"
   },
   "outputs": [
    {
     "name": "stdout",
     "output_type": "stream",
     "text": [
      "WARNING:tensorflow:From /usr/local/lib/python3.6/dist-packages/tensorflow/python/keras/engine/training_v1.py:2070: Model.state_updates (from tensorflow.python.keras.engine.training) is deprecated and will be removed in a future version.\n",
      "Instructions for updating:\n",
      "This property should not be used in TensorFlow 2.0, as updates are applied automatically.\n",
      "[[ 34.72 431.23]\n",
      " [ 34.72 460.01]\n",
      " [ 34.72 461.14]\n",
      " ...\n",
      " [ 34.72 473.26]\n",
      " [ 34.72 438.  ]\n",
      " [ 34.72 463.28]]\n"
     ]
    }
   ],
   "source": [
    "y_pred = ann.predict(X_test)\n",
    "np.set_printoptions(precision=2) #Para mostrar solo 2 decimales\n",
    "print(np.concatenate((y_pred.reshape(len(y_pred),1), y_test.reshape(len(y_test),1)),1))"
   ]
  },
  {
   "cell_type": "code",
   "execution_count": 14,
   "metadata": {
    "colab": {
     "base_uri": "https://localhost:8080/",
     "height": 35
    },
    "colab_type": "code",
    "id": "SRrowHoF9DqM",
    "outputId": "9b46e1ba-62bc-4636-92f3-9c6d2304aa0c"
   },
   "outputs": [
    {
     "data": {
      "text/plain": [
       "-602.797824168406"
      ]
     },
     "execution_count": 14,
     "metadata": {
      "tags": []
     },
     "output_type": "execute_result"
    }
   ],
   "source": [
    "from sklearn.metrics import r2_score\n",
    "r2_score(y_test, y_pred)"
   ]
  },
  {
   "cell_type": "markdown",
   "metadata": {
    "colab_type": "text",
    "id": "_iXGneK59DqR"
   },
   "source": [
    "## Evaluando la red neuronal con cambios en hiper-parametros para elegir el mejor"
   ]
  },
  {
   "cell_type": "code",
   "execution_count": 15,
   "metadata": {
    "colab": {},
    "colab_type": "code",
    "id": "fHLxSkAO9DqR"
   },
   "outputs": [],
   "source": [
    "from sklearn.model_selection import GridSearchCV\n",
    "#from tf.keras.wrappers.scikit_learn import KerasClassifier"
   ]
  },
  {
   "cell_type": "code",
   "execution_count": 16,
   "metadata": {
    "colab": {},
    "colab_type": "code",
    "id": "9zMxsKTn9DqV"
   },
   "outputs": [],
   "source": [
    "# Funcion que debe devolver nuestra red neuronal. Aqui se le llenan con parametros dinamicos segun lo que se necesite\n",
    "def create_model(optimizer, init_mode, activation, neurons):\n",
    "    ann = tf.keras.models.Sequential()\n",
    "    ann.add(tf.keras.layers.Dense(units=neurons,  kernel_initializer=init_mode, activation=activation))\n",
    "    ann.add(tf.keras.layers.Dense(units=neurons,  kernel_initializer=init_mode, activation=activation))\n",
    "    ann.add(tf.keras.layers.Dense(units=1))\n",
    "    ann.compile(optimizer = optimizer, loss = 'mean_squared_error') #Aca puede ir metrics = ['accuracy'] para clasificacion\n",
    "    return ann"
   ]
  },
  {
   "cell_type": "code",
   "execution_count": 17,
   "metadata": {
    "colab": {},
    "colab_type": "code",
    "id": "sPxX0CyU9Dqc"
   },
   "outputs": [],
   "source": [
    "# definir la busqueda de parametros\n",
    "batch_size = [32] #[8,16,32,64,128]\n",
    "epochs = [70] #[10,25,50,100,150,250]\n",
    "optimizer = ['adam','SGD']#['SGD', 'RMSprop', 'Adagrad', 'Adadelta', 'Adam', 'Adamax', 'Nadam']\n",
    "init_mode = ['glorot_uniform']#['uniform', 'lecun_uniform', 'normal', 'zero', 'glorot_normal', 'glorot_uniform', 'he_normal', 'he_uniform']\n",
    "activation = ['softmax','relu']#['softmax', 'softplus', 'softsign', 'relu', 'tanh', 'sigmoid', 'hard_sigmoid', 'linear']\n",
    "neurons = [5,6]\n",
    "param_grid = dict(batch_size=batch_size, epochs=epochs, optimizer=optimizer, init_mode=init_mode, activation = activation, neurons = neurons)"
   ]
  },
  {
   "cell_type": "code",
   "execution_count": 18,
   "metadata": {
    "colab": {},
    "colab_type": "code",
    "id": "CDkCTSbA9Dqh"
   },
   "outputs": [],
   "source": [
    "# La siguiente linea funciona solamente para modelos de clasificacion\n",
    "#modelo =  tf.keras.wrappers.scikit_learn.KerasClassifier(build_fn=create_model, verbose=0)\n",
    "\n",
    "#Para modelos de regresion (mi caso)\n",
    "modelo =  tf.keras.wrappers.scikit_learn.KerasRegressor(build_fn=create_model, verbose=0)"
   ]
  },
  {
   "cell_type": "code",
   "execution_count": 19,
   "metadata": {
    "colab": {},
    "colab_type": "code",
    "id": "hqMPPzpI9Dql"
   },
   "outputs": [],
   "source": [
    "grid = GridSearchCV(estimator=modelo, param_grid=param_grid, n_jobs=-1, cv=2)# Quitar scoring para problemas de clasificacion\n",
    "grid_result = grid.fit(X_train, y_train)"
   ]
  },
  {
   "cell_type": "code",
   "execution_count": 20,
   "metadata": {
    "colab": {
     "base_uri": "https://localhost:8080/",
     "height": 181
    },
    "colab_type": "code",
    "id": "YB2OjrcQ9Dqo",
    "outputId": "11635093-a488-479d-ec20-4b16fca274d5"
   },
   "outputs": [
    {
     "name": "stdout",
     "output_type": "stream",
     "text": [
      "Best: -26.941605 using {'activation': 'relu', 'batch_size': 32, 'epochs': 70, 'init_mode': 'glorot_uniform', 'neurons': 5, 'optimizer': 'adam'}\n",
      "-190545.218750 (72.343750) with: {'activation': 'softmax', 'batch_size': 32, 'epochs': 70, 'init_mode': 'glorot_uniform', 'neurons': 5, 'optimizer': 'adam'}\n",
      "-290.976440 (6.661957) with: {'activation': 'softmax', 'batch_size': 32, 'epochs': 70, 'init_mode': 'glorot_uniform', 'neurons': 5, 'optimizer': 'SGD'}\n",
      "-190330.195312 (46.554688) with: {'activation': 'softmax', 'batch_size': 32, 'epochs': 70, 'init_mode': 'glorot_uniform', 'neurons': 6, 'optimizer': 'adam'}\n",
      "-290.932510 (6.705948) with: {'activation': 'softmax', 'batch_size': 32, 'epochs': 70, 'init_mode': 'glorot_uniform', 'neurons': 6, 'optimizer': 'SGD'}\n",
      "-26.941605 (0.231985) with: {'activation': 'relu', 'batch_size': 32, 'epochs': 70, 'init_mode': 'glorot_uniform', 'neurons': 5, 'optimizer': 'adam'}\n",
      "-290.940491 (6.715088) with: {'activation': 'relu', 'batch_size': 32, 'epochs': 70, 'init_mode': 'glorot_uniform', 'neurons': 5, 'optimizer': 'SGD'}\n",
      "-29.454883 (2.204974) with: {'activation': 'relu', 'batch_size': 32, 'epochs': 70, 'init_mode': 'glorot_uniform', 'neurons': 6, 'optimizer': 'adam'}\n",
      "nan (nan) with: {'activation': 'relu', 'batch_size': 32, 'epochs': 70, 'init_mode': 'glorot_uniform', 'neurons': 6, 'optimizer': 'SGD'}\n"
     ]
    }
   ],
   "source": [
    "# Resumen de resultados\n",
    "print(\"Best: %f using %s\" % (grid_result.best_score_, grid_result.best_params_))\n",
    "means = grid_result.cv_results_['mean_test_score']\n",
    "stds = grid_result.cv_results_['std_test_score']\n",
    "params = grid_result.cv_results_['params']\n",
    "for mean, stdev, param in zip(means, stds, params):\n",
    "    print(\"%f (%f) with: %r\" % (mean, stdev, param))"
   ]
  },
  {
   "cell_type": "markdown",
   "metadata": {
    "colab_type": "text",
    "id": "eUK-KdbE9Dqv"
   },
   "source": [
    "## Creando el mejor modelo de acuerdo a los resultados de GridResult"
   ]
  },
  {
   "cell_type": "code",
   "execution_count": 25,
   "metadata": {
    "colab": {},
    "colab_type": "code",
    "id": "PvMp05Cp9Dqw"
   },
   "outputs": [],
   "source": [
    "modeloFinal=create_model(activation='relu', init_mode='glorot_uniform', neurons=5, optimizer = 'adam')"
   ]
  },
  {
   "cell_type": "code",
   "execution_count": 26,
   "metadata": {
    "colab": {
     "base_uri": "https://localhost:8080/",
     "height": 1000
    },
    "colab_type": "code",
    "id": "Pl-9gEGT9Dqz",
    "outputId": "0ae2316b-b9a7-42dc-f9da-f95fa8d9bbd7"
   },
   "outputs": [
    {
     "name": "stdout",
     "output_type": "stream",
     "text": [
      "Train on 7654 samples\n",
      "Epoch 1/100\n",
      "7654/7654 [==============================] - 0s 45us/sample - loss: 322218.5700\n",
      "Epoch 2/100\n",
      "7654/7654 [==============================] - 0s 54us/sample - loss: 19020.1068\n",
      "Epoch 3/100\n",
      "7654/7654 [==============================] - 0s 45us/sample - loss: 815.6374\n",
      "Epoch 4/100\n",
      "7654/7654 [==============================] - 0s 46us/sample - loss: 498.5922\n",
      "Epoch 5/100\n",
      "7654/7654 [==============================] - 0s 49us/sample - loss: 492.1550\n",
      "Epoch 6/100\n",
      "7654/7654 [==============================] - 0s 46us/sample - loss: 484.8994\n",
      "Epoch 7/100\n",
      "7654/7654 [==============================] - 0s 46us/sample - loss: 476.4381\n",
      "Epoch 8/100\n",
      "7654/7654 [==============================] - 0s 48us/sample - loss: 466.7806\n",
      "Epoch 9/100\n",
      "7654/7654 [==============================] - 0s 45us/sample - loss: 456.1259\n",
      "Epoch 10/100\n",
      "7654/7654 [==============================] - 0s 46us/sample - loss: 443.9131\n",
      "Epoch 11/100\n",
      "7654/7654 [==============================] - 0s 46us/sample - loss: 430.6410\n",
      "Epoch 12/100\n",
      "7654/7654 [==============================] - 0s 45us/sample - loss: 415.9421\n",
      "Epoch 13/100\n",
      "7654/7654 [==============================] - 0s 46us/sample - loss: 398.9532\n",
      "Epoch 14/100\n",
      "7654/7654 [==============================] - 0s 46us/sample - loss: 374.7105\n",
      "Epoch 15/100\n",
      "7654/7654 [==============================] - 0s 44us/sample - loss: 348.2152\n",
      "Epoch 16/100\n",
      "7654/7654 [==============================] - 0s 48us/sample - loss: 325.6183\n",
      "Epoch 17/100\n",
      "7654/7654 [==============================] - 0s 45us/sample - loss: 302.3144\n",
      "Epoch 18/100\n",
      "7654/7654 [==============================] - 0s 45us/sample - loss: 278.3696\n",
      "Epoch 19/100\n",
      "7654/7654 [==============================] - 0s 49us/sample - loss: 253.6982\n",
      "Epoch 20/100\n",
      "7654/7654 [==============================] - 0s 45us/sample - loss: 227.6702\n",
      "Epoch 21/100\n",
      "7654/7654 [==============================] - 0s 48us/sample - loss: 202.1543\n",
      "Epoch 22/100\n",
      "7654/7654 [==============================] - 0s 52us/sample - loss: 176.5043\n",
      "Epoch 23/100\n",
      "7654/7654 [==============================] - 0s 47us/sample - loss: 150.9389\n",
      "Epoch 24/100\n",
      "7654/7654 [==============================] - 0s 46us/sample - loss: 126.9164\n",
      "Epoch 25/100\n",
      "7654/7654 [==============================] - 0s 48us/sample - loss: 104.1432\n",
      "Epoch 26/100\n",
      "7654/7654 [==============================] - 0s 46us/sample - loss: 83.8082\n",
      "Epoch 27/100\n",
      "7654/7654 [==============================] - 0s 45us/sample - loss: 66.5007\n",
      "Epoch 28/100\n",
      "7654/7654 [==============================] - 0s 48us/sample - loss: 52.4375\n",
      "Epoch 29/100\n",
      "7654/7654 [==============================] - 0s 45us/sample - loss: 41.9319\n",
      "Epoch 30/100\n",
      "7654/7654 [==============================] - 0s 54us/sample - loss: 34.8580\n",
      "Epoch 31/100\n",
      "7654/7654 [==============================] - 0s 46us/sample - loss: 30.5675\n",
      "Epoch 32/100\n",
      "7654/7654 [==============================] - 0s 46us/sample - loss: 28.1964\n",
      "Epoch 33/100\n",
      "7654/7654 [==============================] - 0s 47us/sample - loss: 26.9657\n",
      "Epoch 34/100\n",
      "7654/7654 [==============================] - 0s 45us/sample - loss: 26.5022\n",
      "Epoch 35/100\n",
      "7654/7654 [==============================] - 0s 46us/sample - loss: 26.3181\n",
      "Epoch 36/100\n",
      "7654/7654 [==============================] - 0s 48us/sample - loss: 26.4689\n",
      "Epoch 37/100\n",
      "7654/7654 [==============================] - 0s 47us/sample - loss: 26.3156\n",
      "Epoch 38/100\n",
      "7654/7654 [==============================] - 0s 46us/sample - loss: 26.4573\n",
      "Epoch 39/100\n",
      "7654/7654 [==============================] - 0s 48us/sample - loss: 26.2774\n",
      "Epoch 40/100\n",
      "7654/7654 [==============================] - 0s 46us/sample - loss: 26.2527\n",
      "Epoch 41/100\n",
      "7654/7654 [==============================] - 0s 46us/sample - loss: 26.2238\n",
      "Epoch 42/100\n",
      "7654/7654 [==============================] - 0s 48us/sample - loss: 26.6638\n",
      "Epoch 43/100\n",
      "7654/7654 [==============================] - 0s 46us/sample - loss: 26.7194\n",
      "Epoch 44/100\n",
      "7654/7654 [==============================] - 0s 48us/sample - loss: 26.3192\n",
      "Epoch 45/100\n",
      "7654/7654 [==============================] - 0s 47us/sample - loss: 26.7948\n",
      "Epoch 46/100\n",
      "7654/7654 [==============================] - 0s 47us/sample - loss: 27.1852\n",
      "Epoch 47/100\n",
      "7654/7654 [==============================] - 0s 49us/sample - loss: 26.6728\n",
      "Epoch 48/100\n",
      "7654/7654 [==============================] - 0s 45us/sample - loss: 26.8176\n",
      "Epoch 49/100\n",
      "7654/7654 [==============================] - 0s 45us/sample - loss: 26.1795\n",
      "Epoch 50/100\n",
      "7654/7654 [==============================] - 0s 46us/sample - loss: 26.7906\n",
      "Epoch 51/100\n",
      "7654/7654 [==============================] - 0s 44us/sample - loss: 26.2481\n",
      "Epoch 52/100\n",
      "7654/7654 [==============================] - 0s 46us/sample - loss: 27.1159\n",
      "Epoch 53/100\n",
      "7654/7654 [==============================] - 0s 48us/sample - loss: 26.5572\n",
      "Epoch 54/100\n",
      "7654/7654 [==============================] - 0s 46us/sample - loss: 27.1934\n",
      "Epoch 55/100\n",
      "7654/7654 [==============================] - 0s 46us/sample - loss: 26.3997\n",
      "Epoch 56/100\n",
      "7654/7654 [==============================] - 0s 47us/sample - loss: 26.8323\n",
      "Epoch 57/100\n",
      "7654/7654 [==============================] - 0s 45us/sample - loss: 26.8576\n",
      "Epoch 58/100\n",
      "7654/7654 [==============================] - 0s 47us/sample - loss: 26.7757\n",
      "Epoch 59/100\n",
      "7654/7654 [==============================] - 0s 47us/sample - loss: 26.3467\n",
      "Epoch 60/100\n",
      "7654/7654 [==============================] - 0s 47us/sample - loss: 26.3346\n",
      "Epoch 61/100\n",
      "7654/7654 [==============================] - 0s 46us/sample - loss: 26.8133\n",
      "Epoch 62/100\n",
      "7654/7654 [==============================] - 0s 48us/sample - loss: 26.3650\n",
      "Epoch 63/100\n",
      "7654/7654 [==============================] - 0s 47us/sample - loss: 27.0472\n",
      "Epoch 64/100\n",
      "7654/7654 [==============================] - 0s 48us/sample - loss: 26.8702\n",
      "Epoch 65/100\n",
      "7654/7654 [==============================] - 0s 46us/sample - loss: 26.8676\n",
      "Epoch 66/100\n",
      "7654/7654 [==============================] - 0s 48us/sample - loss: 26.6709\n",
      "Epoch 67/100\n",
      "7654/7654 [==============================] - 0s 50us/sample - loss: 26.8307\n",
      "Epoch 68/100\n",
      "7654/7654 [==============================] - 0s 48us/sample - loss: 26.4943\n",
      "Epoch 69/100\n",
      "7654/7654 [==============================] - 0s 49us/sample - loss: 26.7634\n",
      "Epoch 70/100\n",
      "7654/7654 [==============================] - 0s 48us/sample - loss: 26.2040\n",
      "Epoch 71/100\n",
      "7654/7654 [==============================] - 0s 49us/sample - loss: 27.0842\n",
      "Epoch 72/100\n",
      "7654/7654 [==============================] - 0s 48us/sample - loss: 26.7896\n",
      "Epoch 73/100\n",
      "7654/7654 [==============================] - 0s 50us/sample - loss: 26.3503\n",
      "Epoch 74/100\n",
      "7654/7654 [==============================] - 0s 48us/sample - loss: 26.4927\n",
      "Epoch 75/100\n",
      "7654/7654 [==============================] - 0s 50us/sample - loss: 26.7189\n",
      "Epoch 76/100\n",
      "7654/7654 [==============================] - 0s 48us/sample - loss: 26.9200\n",
      "Epoch 77/100\n",
      "7654/7654 [==============================] - 0s 49us/sample - loss: 26.6121\n",
      "Epoch 78/100\n",
      "7654/7654 [==============================] - 0s 49us/sample - loss: 26.9127\n",
      "Epoch 79/100\n",
      "7654/7654 [==============================] - 0s 48us/sample - loss: 26.3065\n",
      "Epoch 80/100\n",
      "7654/7654 [==============================] - 0s 47us/sample - loss: 26.4251\n",
      "Epoch 81/100\n",
      "7654/7654 [==============================] - 0s 47us/sample - loss: 26.6839\n",
      "Epoch 82/100\n",
      "7654/7654 [==============================] - 0s 47us/sample - loss: 26.6731\n",
      "Epoch 83/100\n",
      "7654/7654 [==============================] - 0s 46us/sample - loss: 26.6460\n",
      "Epoch 84/100\n",
      "7654/7654 [==============================] - 0s 47us/sample - loss: 26.6997\n",
      "Epoch 85/100\n",
      "7654/7654 [==============================] - 0s 48us/sample - loss: 26.3721\n",
      "Epoch 86/100\n",
      "7654/7654 [==============================] - 0s 49us/sample - loss: 26.5203\n",
      "Epoch 87/100\n",
      "7654/7654 [==============================] - 0s 47us/sample - loss: 27.2520\n",
      "Epoch 88/100\n",
      "7654/7654 [==============================] - 0s 45us/sample - loss: 27.6107\n",
      "Epoch 89/100\n",
      "7654/7654 [==============================] - 0s 46us/sample - loss: 26.9802\n",
      "Epoch 90/100\n",
      "7654/7654 [==============================] - 0s 47us/sample - loss: 26.7416\n",
      "Epoch 91/100\n",
      "7654/7654 [==============================] - 0s 46us/sample - loss: 26.5316\n",
      "Epoch 92/100\n",
      "7654/7654 [==============================] - 0s 48us/sample - loss: 26.8954\n",
      "Epoch 93/100\n",
      "7654/7654 [==============================] - 0s 44us/sample - loss: 27.2422\n",
      "Epoch 94/100\n",
      "7654/7654 [==============================] - 0s 45us/sample - loss: 26.3480\n",
      "Epoch 95/100\n",
      "7654/7654 [==============================] - 0s 49us/sample - loss: 26.8989\n",
      "Epoch 96/100\n",
      "7654/7654 [==============================] - 0s 45us/sample - loss: 27.0495\n",
      "Epoch 97/100\n",
      "7654/7654 [==============================] - 0s 45us/sample - loss: 26.3585\n",
      "Epoch 98/100\n",
      "7654/7654 [==============================] - 0s 49us/sample - loss: 26.5892\n",
      "Epoch 99/100\n",
      "7654/7654 [==============================] - 0s 45us/sample - loss: 26.9608\n",
      "Epoch 100/100\n",
      "7654/7654 [==============================] - 0s 45us/sample - loss: 27.0441\n"
     ]
    },
    {
     "data": {
      "text/plain": [
       "<tensorflow.python.keras.callbacks.History at 0x7f4ef003deb8>"
      ]
     },
     "execution_count": 26,
     "metadata": {
      "tags": []
     },
     "output_type": "execute_result"
    }
   ],
   "source": [
    "modeloFinal.fit(X_train, y_train, batch_size = 32, epochs = 100)"
   ]
  },
  {
   "cell_type": "code",
   "execution_count": 27,
   "metadata": {
    "colab": {},
    "colab_type": "code",
    "id": "Y5oRXvZ2-Hrv"
   },
   "outputs": [],
   "source": [
    "#Prediccion final\n",
    "y_pred2 = modeloFinal.predict(X_test)"
   ]
  },
  {
   "cell_type": "code",
   "execution_count": 28,
   "metadata": {
    "colab": {
     "base_uri": "https://localhost:8080/",
     "height": 35
    },
    "colab_type": "code",
    "id": "1TdgUsJI9Dq4",
    "outputId": "f8d12550-8ec4-4d41-b66c-e3ba928bf1f9"
   },
   "outputs": [
    {
     "data": {
      "text/plain": [
       "0.9070219716138785"
      ]
     },
     "execution_count": 28,
     "metadata": {
      "tags": []
     },
     "output_type": "execute_result"
    }
   ],
   "source": [
    "#Evaluacion del modelo\n",
    "from sklearn.metrics import r2_score\n",
    "r2_score(y_test, y_pred2)"
   ]
  },
  {
   "cell_type": "code",
   "execution_count": 29,
   "metadata": {
    "colab": {
     "base_uri": "https://localhost:8080/",
     "height": 272
    },
    "colab_type": "code",
    "id": "qo_erkBLJ6sI",
    "outputId": "066a0241-6707-4fca-82c2-3016081ef278"
   },
   "outputs": [
    {
     "name": "stdout",
     "output_type": "stream",
     "text": [
      "Model: \"sequential_3\"\n",
      "_________________________________________________________________\n",
      "Layer (type)                 Output Shape              Param #   \n",
      "=================================================================\n",
      "dense_9 (Dense)              multiple                  25        \n",
      "_________________________________________________________________\n",
      "dense_10 (Dense)             multiple                  30        \n",
      "_________________________________________________________________\n",
      "dense_11 (Dense)             multiple                  6         \n",
      "=================================================================\n",
      "Total params: 61\n",
      "Trainable params: 61\n",
      "Non-trainable params: 0\n",
      "_________________________________________________________________\n"
     ]
    }
   ],
   "source": [
    "modeloFinal.summary()"
   ]
  }
 ],
 "metadata": {
  "accelerator": "GPU",
  "colab": {
   "name": "MLP_RDG.ipynb",
   "provenance": []
  },
  "kernelspec": {
   "display_name": "Python 3",
   "language": "python",
   "name": "python3"
  },
  "language_info": {
   "codemirror_mode": {
    "name": "ipython",
    "version": 3
   },
   "file_extension": ".py",
   "mimetype": "text/x-python",
   "name": "python",
   "nbconvert_exporter": "python",
   "pygments_lexer": "ipython3",
   "version": "3.7.6"
  }
 },
 "nbformat": 4,
 "nbformat_minor": 1
}
