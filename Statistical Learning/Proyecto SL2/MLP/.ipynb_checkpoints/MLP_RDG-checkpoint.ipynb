{
 "cells": [
  {
   "cell_type": "markdown",
   "metadata": {},
   "source": [
    "# Red Neuronal Multi-capa\n",
    "##### Ruben Gonzalez 20003314"
   ]
  },
  {
   "cell_type": "code",
   "execution_count": 1,
   "metadata": {},
   "outputs": [],
   "source": [
    "import numpy as np\n",
    "import pandas as pd"
   ]
  },
  {
   "cell_type": "code",
   "execution_count": 2,
   "metadata": {},
   "outputs": [
    {
     "name": "stderr",
     "output_type": "stream",
     "text": [
      "C:\\Users\\ruben\\AppData\\Local\\Continuum\\anaconda3\\envs\\Galileo-Python\\lib\\site-packages\\tensorflow\\python\\framework\\dtypes.py:526: FutureWarning: Passing (type, 1) or '1type' as a synonym of type is deprecated; in a future version of numpy, it will be understood as (type, (1,)) / '(1,)type'.\n",
      "  _np_qint8 = np.dtype([(\"qint8\", np.int8, 1)])\n",
      "C:\\Users\\ruben\\AppData\\Local\\Continuum\\anaconda3\\envs\\Galileo-Python\\lib\\site-packages\\tensorflow\\python\\framework\\dtypes.py:527: FutureWarning: Passing (type, 1) or '1type' as a synonym of type is deprecated; in a future version of numpy, it will be understood as (type, (1,)) / '(1,)type'.\n",
      "  _np_quint8 = np.dtype([(\"quint8\", np.uint8, 1)])\n",
      "C:\\Users\\ruben\\AppData\\Local\\Continuum\\anaconda3\\envs\\Galileo-Python\\lib\\site-packages\\tensorflow\\python\\framework\\dtypes.py:528: FutureWarning: Passing (type, 1) or '1type' as a synonym of type is deprecated; in a future version of numpy, it will be understood as (type, (1,)) / '(1,)type'.\n",
      "  _np_qint16 = np.dtype([(\"qint16\", np.int16, 1)])\n",
      "C:\\Users\\ruben\\AppData\\Local\\Continuum\\anaconda3\\envs\\Galileo-Python\\lib\\site-packages\\tensorflow\\python\\framework\\dtypes.py:529: FutureWarning: Passing (type, 1) or '1type' as a synonym of type is deprecated; in a future version of numpy, it will be understood as (type, (1,)) / '(1,)type'.\n",
      "  _np_quint16 = np.dtype([(\"quint16\", np.uint16, 1)])\n",
      "C:\\Users\\ruben\\AppData\\Local\\Continuum\\anaconda3\\envs\\Galileo-Python\\lib\\site-packages\\tensorflow\\python\\framework\\dtypes.py:530: FutureWarning: Passing (type, 1) or '1type' as a synonym of type is deprecated; in a future version of numpy, it will be understood as (type, (1,)) / '(1,)type'.\n",
      "  _np_qint32 = np.dtype([(\"qint32\", np.int32, 1)])\n",
      "C:\\Users\\ruben\\AppData\\Local\\Continuum\\anaconda3\\envs\\Galileo-Python\\lib\\site-packages\\tensorflow\\python\\framework\\dtypes.py:535: FutureWarning: Passing (type, 1) or '1type' as a synonym of type is deprecated; in a future version of numpy, it will be understood as (type, (1,)) / '(1,)type'.\n",
      "  np_resource = np.dtype([(\"resource\", np.ubyte, 1)])\n"
     ]
    }
   ],
   "source": [
    "import tensorflow.compat.v1 as tf\n",
    "if tf.__version__.startswith(\"2.\"):\n",
    "    import tensorflow.compat.v1 as tf\n",
    "    tf.compat.v1.disable_v2_behavior()\n",
    "    tf.compat.v1.disable_eager_execution()\n",
    "    print(\"Enabled compatitility to tf1.x\")"
   ]
  },
  {
   "cell_type": "markdown",
   "metadata": {},
   "source": [
    "## Pre procesamiento de datos"
   ]
  },
  {
   "cell_type": "code",
   "execution_count": 3,
   "metadata": {},
   "outputs": [],
   "source": [
    "dataset = pd.read_excel('Folds5x2_pp.xlsx')\n",
    "X = dataset.iloc[:, :-1].values\n",
    "y = dataset.iloc[:, -1].values"
   ]
  },
  {
   "cell_type": "code",
   "execution_count": 4,
   "metadata": {},
   "outputs": [],
   "source": [
    "from sklearn.model_selection import train_test_split\n",
    "X_train, X_test, y_train, y_test = train_test_split(X, y, test_size = 0.2, random_state = 0)"
   ]
  },
  {
   "cell_type": "markdown",
   "metadata": {},
   "source": [
    "## Creando la red neuronal"
   ]
  },
  {
   "cell_type": "code",
   "execution_count": 5,
   "metadata": {},
   "outputs": [],
   "source": [
    "ann = tf.keras.models.Sequential()"
   ]
  },
  {
   "cell_type": "code",
   "execution_count": 6,
   "metadata": {},
   "outputs": [],
   "source": [
    "ann.add(tf.keras.layers.Dense(units=6, activation='relu'))"
   ]
  },
  {
   "cell_type": "code",
   "execution_count": 7,
   "metadata": {},
   "outputs": [],
   "source": [
    "ann.add(tf.keras.layers.Dense(units=6, activation='relu'))"
   ]
  },
  {
   "cell_type": "code",
   "execution_count": 8,
   "metadata": {},
   "outputs": [],
   "source": [
    "ann.add(tf.keras.layers.Dense(units=1))"
   ]
  },
  {
   "cell_type": "markdown",
   "metadata": {},
   "source": [
    "## Entrenamiento del modelo"
   ]
  },
  {
   "cell_type": "code",
   "execution_count": 9,
   "metadata": {},
   "outputs": [
    {
     "name": "stdout",
     "output_type": "stream",
     "text": [
      "WARNING:tensorflow:From C:\\Users\\ruben\\AppData\\Local\\Continuum\\anaconda3\\envs\\Galileo-Python\\lib\\site-packages\\tensorflow\\python\\ops\\resource_variable_ops.py:435: colocate_with (from tensorflow.python.framework.ops) is deprecated and will be removed in a future version.\n",
      "Instructions for updating:\n",
      "Colocations handled automatically by placer.\n"
     ]
    }
   ],
   "source": [
    "ann.compile(optimizer = 'adam', loss = 'mean_squared_error')"
   ]
  },
  {
   "cell_type": "code",
   "execution_count": 10,
   "metadata": {},
   "outputs": [
    {
     "name": "stdout",
     "output_type": "stream",
     "text": [
      "WARNING:tensorflow:From C:\\Users\\ruben\\AppData\\Local\\Continuum\\anaconda3\\envs\\Galileo-Python\\lib\\site-packages\\tensorflow\\python\\keras\\utils\\losses_utils.py:170: to_float (from tensorflow.python.ops.math_ops) is deprecated and will be removed in a future version.\n",
      "Instructions for updating:\n",
      "Use tf.cast instead.\n",
      "WARNING:tensorflow:From C:\\Users\\ruben\\AppData\\Local\\Continuum\\anaconda3\\envs\\Galileo-Python\\lib\\site-packages\\tensorflow\\python\\ops\\math_ops.py:3066: to_int32 (from tensorflow.python.ops.math_ops) is deprecated and will be removed in a future version.\n",
      "Instructions for updating:\n",
      "Use tf.cast instead.\n",
      "Epoch 1/100\n",
      "7654/7654 [==============================] - 2s 282us/sample - loss: 2586.2345\n",
      "Epoch 2/100\n",
      "7654/7654 [==============================] - 1s 71us/sample - loss: 310.0902\n",
      "Epoch 3/100\n",
      "7654/7654 [==============================] - 0s 64us/sample - loss: 267.9677\n",
      "Epoch 4/100\n",
      "7654/7654 [==============================] - 1s 65us/sample - loss: 219.7286\n",
      "Epoch 5/100\n",
      "7654/7654 [==============================] - 1s 66us/sample - loss: 173.0371\n",
      "Epoch 6/100\n",
      "7654/7654 [==============================] - 0s 64us/sample - loss: 130.3472\n",
      "Epoch 7/100\n",
      "7654/7654 [==============================] - 0s 63us/sample - loss: 94.8800\n",
      "Epoch 8/100\n",
      "7654/7654 [==============================] - 0s 63us/sample - loss: 68.5133\n",
      "Epoch 9/100\n",
      "7654/7654 [==============================] - 0s 63us/sample - loss: 51.4043\n",
      "Epoch 10/100\n",
      "7654/7654 [==============================] - 0s 64us/sample - loss: 41.8371\n",
      "Epoch 11/100\n",
      "7654/7654 [==============================] - 0s 64us/sample - loss: 37.3529\n",
      "Epoch 12/100\n",
      "7654/7654 [==============================] - 1s 143us/sample - loss: 35.3484\n",
      "Epoch 13/100\n",
      "7654/7654 [==============================] - 1s 93us/sample - loss: 34.0957\n",
      "Epoch 14/100\n",
      "7654/7654 [==============================] - 0s 65us/sample - loss: 33.7409\n",
      "Epoch 15/100\n",
      "7654/7654 [==============================] - 0s 64us/sample - loss: 33.3869\n",
      "Epoch 16/100\n",
      "7654/7654 [==============================] - 0s 59us/sample - loss: 32.2967\n",
      "Epoch 17/100\n",
      "7654/7654 [==============================] - 0s 56us/sample - loss: 32.1644\n",
      "Epoch 18/100\n",
      "7654/7654 [==============================] - 0s 56us/sample - loss: 31.6313\n",
      "Epoch 19/100\n",
      "7654/7654 [==============================] - 0s 55us/sample - loss: 30.8327\n",
      "Epoch 20/100\n",
      "7654/7654 [==============================] - 0s 54us/sample - loss: 30.7897\n",
      "Epoch 21/100\n",
      "7654/7654 [==============================] - 0s 54us/sample - loss: 30.5707\n",
      "Epoch 22/100\n",
      "7654/7654 [==============================] - 0s 54us/sample - loss: 30.0175\n",
      "Epoch 23/100\n",
      "7654/7654 [==============================] - 0s 56us/sample - loss: 29.5785\n",
      "Epoch 24/100\n",
      "7654/7654 [==============================] - 1s 104us/sample - loss: 29.3167\n",
      "Epoch 25/100\n",
      "7654/7654 [==============================] - 1s 114us/sample - loss: 29.3455\n",
      "Epoch 26/100\n",
      "7654/7654 [==============================] - 0s 56us/sample - loss: 29.2709\n",
      "Epoch 27/100\n",
      "7654/7654 [==============================] - 0s 52us/sample - loss: 28.5217\n",
      "Epoch 28/100\n",
      "7654/7654 [==============================] - 0s 53us/sample - loss: 28.1759\n",
      "Epoch 29/100\n",
      "7654/7654 [==============================] - 0s 52us/sample - loss: 28.3050\n",
      "Epoch 30/100\n",
      "7654/7654 [==============================] - 0s 57us/sample - loss: 27.8302\n",
      "Epoch 31/100\n",
      "7654/7654 [==============================] - 0s 56us/sample - loss: 27.6336\n",
      "Epoch 32/100\n",
      "7654/7654 [==============================] - 0s 54us/sample - loss: 27.6129\n",
      "Epoch 33/100\n",
      "7654/7654 [==============================] - 0s 55us/sample - loss: 28.3779\n",
      "Epoch 34/100\n",
      "7654/7654 [==============================] - 0s 57us/sample - loss: 27.0359\n",
      "Epoch 35/100\n",
      "7654/7654 [==============================] - 0s 58us/sample - loss: 27.6227\n",
      "Epoch 36/100\n",
      "7654/7654 [==============================] - 0s 57us/sample - loss: 27.5140\n",
      "Epoch 37/100\n",
      "7654/7654 [==============================] - 1s 113us/sample - loss: 27.8614\n",
      "Epoch 38/100\n",
      "7654/7654 [==============================] - 1s 101us/sample - loss: 26.9662\n",
      "Epoch 39/100\n",
      "7654/7654 [==============================] - 0s 59us/sample - loss: 27.2403\n",
      "Epoch 40/100\n",
      "7654/7654 [==============================] - 0s 57us/sample - loss: 27.2535\n",
      "Epoch 41/100\n",
      "7654/7654 [==============================] - 0s 57us/sample - loss: 27.5575\n",
      "Epoch 42/100\n",
      "7654/7654 [==============================] - 0s 64us/sample - loss: 26.8441\n",
      "Epoch 43/100\n",
      "7654/7654 [==============================] - 0s 65us/sample - loss: 27.3149\n",
      "Epoch 44/100\n",
      "7654/7654 [==============================] - 1s 79us/sample - loss: 27.3079\n",
      "Epoch 45/100\n",
      "7654/7654 [==============================] - 1s 70us/sample - loss: 27.1481\n",
      "Epoch 46/100\n",
      "7654/7654 [==============================] - 1s 69us/sample - loss: 26.8796\n",
      "Epoch 47/100\n",
      "7654/7654 [==============================] - 1s 68us/sample - loss: 27.0155\n",
      "Epoch 48/100\n",
      "7654/7654 [==============================] - 1s 106us/sample - loss: 26.6354\n",
      "Epoch 49/100\n",
      "7654/7654 [==============================] - 1s 121us/sample - loss: 26.6121\n",
      "Epoch 50/100\n",
      "7654/7654 [==============================] - 1s 68us/sample - loss: 27.0180\n",
      "Epoch 51/100\n",
      "7654/7654 [==============================] - 1s 70us/sample - loss: 26.9779\n",
      "Epoch 52/100\n",
      "7654/7654 [==============================] - 1s 70us/sample - loss: 27.0083\n",
      "Epoch 53/100\n",
      "7654/7654 [==============================] - 1s 71us/sample - loss: 26.8606\n",
      "Epoch 54/100\n",
      "7654/7654 [==============================] - 1s 74us/sample - loss: 26.8362\n",
      "Epoch 55/100\n",
      "7654/7654 [==============================] - 1s 73us/sample - loss: 26.7436\n",
      "Epoch 56/100\n",
      "7654/7654 [==============================] - 1s 74us/sample - loss: 27.3544\n",
      "Epoch 57/100\n",
      "7654/7654 [==============================] - 1s 74us/sample - loss: 26.5973\n",
      "Epoch 58/100\n",
      "7654/7654 [==============================] - 1s 110us/sample - loss: 26.6578\n",
      "Epoch 59/100\n",
      "7654/7654 [==============================] - 1s 134us/sample - loss: 27.0735\n",
      "Epoch 60/100\n",
      "7654/7654 [==============================] - 1s 75us/sample - loss: 26.8060\n",
      "Epoch 61/100\n",
      "7654/7654 [==============================] - 1s 74us/sample - loss: 26.6488\n",
      "Epoch 62/100\n",
      "7654/7654 [==============================] - 1s 76us/sample - loss: 27.7544\n",
      "Epoch 63/100\n",
      "7654/7654 [==============================] - 1s 75us/sample - loss: 26.5409\n",
      "Epoch 64/100\n",
      "7654/7654 [==============================] - 1s 74us/sample - loss: 26.5915\n",
      "Epoch 65/100\n",
      "7654/7654 [==============================] - 1s 76us/sample - loss: 26.5819\n",
      "Epoch 66/100\n",
      "7654/7654 [==============================] - 1s 76us/sample - loss: 27.8176\n",
      "Epoch 67/100\n",
      "7654/7654 [==============================] - 1s 73us/sample - loss: 27.5353\n",
      "Epoch 68/100\n",
      "7654/7654 [==============================] - 1s 136us/sample - loss: 27.1428\n",
      "Epoch 69/100\n",
      "7654/7654 [==============================] - 1s 116us/sample - loss: 26.9453\n",
      "Epoch 70/100\n",
      "7654/7654 [==============================] - 1s 74us/sample - loss: 27.0208\n",
      "Epoch 71/100\n",
      "7654/7654 [==============================] - 1s 73us/sample - loss: 26.8357\n",
      "Epoch 72/100\n",
      "7654/7654 [==============================] - 1s 77us/sample - loss: 26.5222\n",
      "Epoch 73/100\n",
      "7654/7654 [==============================] - 1s 77us/sample - loss: 27.8275\n",
      "Epoch 74/100\n",
      "7654/7654 [==============================] - 1s 78us/sample - loss: 26.7995\n",
      "Epoch 75/100\n",
      "7654/7654 [==============================] - 1s 75us/sample - loss: 26.9954\n",
      "Epoch 76/100\n",
      "7654/7654 [==============================] - 1s 74us/sample - loss: 26.9250\n",
      "Epoch 77/100\n",
      "7654/7654 [==============================] - 1s 77us/sample - loss: 27.0251\n",
      "Epoch 78/100\n",
      "7654/7654 [==============================] - 1s 176us/sample - loss: 26.7330\n",
      "Epoch 79/100\n",
      "7654/7654 [==============================] - 1s 80us/sample - loss: 26.6412\n",
      "Epoch 80/100\n",
      "7654/7654 [==============================] - 1s 76us/sample - loss: 26.7057\n",
      "Epoch 81/100\n",
      "7654/7654 [==============================] - 1s 77us/sample - loss: 26.5722\n",
      "Epoch 82/100\n",
      "7654/7654 [==============================] - 1s 76us/sample - loss: 26.9941\n",
      "Epoch 83/100\n",
      "7654/7654 [==============================] - 1s 76us/sample - loss: 26.5718\n",
      "Epoch 84/100\n",
      "7654/7654 [==============================] - 1s 75us/sample - loss: 27.1331\n",
      "Epoch 85/100\n",
      "7654/7654 [==============================] - 1s 75us/sample - loss: 27.1206\n",
      "Epoch 86/100\n"
     ]
    },
    {
     "name": "stdout",
     "output_type": "stream",
     "text": [
      "7654/7654 [==============================] - 1s 73us/sample - loss: 27.3996\n",
      "Epoch 87/100\n",
      "7654/7654 [==============================] - 1s 91us/sample - loss: 26.6943\n",
      "Epoch 88/100\n",
      "7654/7654 [==============================] - 1s 153us/sample - loss: 26.6572\n",
      "Epoch 89/100\n",
      "7654/7654 [==============================] - 1s 68us/sample - loss: 26.6258\n",
      "Epoch 90/100\n",
      "7654/7654 [==============================] - 1s 72us/sample - loss: 27.1017\n",
      "Epoch 91/100\n",
      "7654/7654 [==============================] - 1s 75us/sample - loss: 27.5085\n",
      "Epoch 92/100\n",
      "7654/7654 [==============================] - 1s 72us/sample - loss: 26.6738\n",
      "Epoch 93/100\n",
      "7654/7654 [==============================] - 1s 73us/sample - loss: 27.7375\n",
      "Epoch 94/100\n",
      "7654/7654 [==============================] - 1s 72us/sample - loss: 26.9183\n",
      "Epoch 95/100\n",
      "7654/7654 [==============================] - 1s 73us/sample - loss: 26.7495\n",
      "Epoch 96/100\n",
      "7654/7654 [==============================] - 1s 74us/sample - loss: 26.8915\n",
      "Epoch 97/100\n",
      "7654/7654 [==============================] - 1s 87us/sample - loss: 26.4810\n",
      "Epoch 98/100\n",
      "7654/7654 [==============================] - 1s 135us/sample - loss: 27.6134\n",
      "Epoch 99/100\n",
      "7654/7654 [==============================] - 1s 96us/sample - loss: 26.8845\n",
      "Epoch 100/100\n",
      "7654/7654 [==============================] - 1s 71us/sample - loss: 26.8004\n"
     ]
    },
    {
     "data": {
      "text/plain": [
       "<tensorflow.python.keras.callbacks.History at 0x21c724fb688>"
      ]
     },
     "execution_count": 10,
     "metadata": {},
     "output_type": "execute_result"
    }
   ],
   "source": [
    "ann.fit(X_train, y_train, batch_size = 32, epochs = 100)"
   ]
  },
  {
   "cell_type": "code",
   "execution_count": 11,
   "metadata": {},
   "outputs": [
    {
     "name": "stdout",
     "output_type": "stream",
     "text": [
      "_________________________________________________________________\n",
      "Layer (type)                 Output Shape              Param #   \n",
      "=================================================================\n",
      "dense (Dense)                multiple                  30        \n",
      "_________________________________________________________________\n",
      "dense_1 (Dense)              multiple                  42        \n",
      "_________________________________________________________________\n",
      "dense_2 (Dense)              multiple                  7         \n",
      "=================================================================\n",
      "Total params: 79\n",
      "Trainable params: 79\n",
      "Non-trainable params: 0\n",
      "_________________________________________________________________\n"
     ]
    }
   ],
   "source": [
    "ann.summary()"
   ]
  },
  {
   "cell_type": "code",
   "execution_count": 12,
   "metadata": {},
   "outputs": [],
   "source": [
    "ann.save('MLPModel.h5') #Guardando el modelo para futuras pruebas"
   ]
  },
  {
   "cell_type": "markdown",
   "metadata": {},
   "source": [
    "## Prediccion"
   ]
  },
  {
   "cell_type": "code",
   "execution_count": 13,
   "metadata": {},
   "outputs": [
    {
     "name": "stdout",
     "output_type": "stream",
     "text": [
      "[[430.5  431.23]\n",
      " [461.44 460.01]\n",
      " [464.88 461.14]\n",
      " ...\n",
      " [472.15 473.26]\n",
      " [439.06 438.  ]\n",
      " [458.2  463.28]]\n"
     ]
    }
   ],
   "source": [
    "y_pred = ann.predict(X_test)\n",
    "np.set_printoptions(precision=2) #Para mostrar solo 2 decimales\n",
    "print(np.concatenate((y_pred.reshape(len(y_pred),1), y_test.reshape(len(y_test),1)),1))"
   ]
  },
  {
   "cell_type": "code",
   "execution_count": 15,
   "metadata": {},
   "outputs": [
    {
     "data": {
      "text/plain": [
       "0.9134412955314605"
      ]
     },
     "execution_count": 15,
     "metadata": {},
     "output_type": "execute_result"
    }
   ],
   "source": [
    "from sklearn.metrics import r2_score\n",
    "r2_score(y_test, y_pred)"
   ]
  },
  {
   "cell_type": "markdown",
   "metadata": {},
   "source": [
    "## Evaluando la red neuronal con cambios en hiper-parametros para elegir el mejor"
   ]
  },
  {
   "cell_type": "code",
   "execution_count": 29,
   "metadata": {},
   "outputs": [],
   "source": [
    "from sklearn.model_selection import GridSearchCV\n",
    "#from tf.keras.wrappers.scikit_learn import KerasClassifier"
   ]
  },
  {
   "cell_type": "code",
   "execution_count": 106,
   "metadata": {},
   "outputs": [],
   "source": [
    "# Funcion que debe devolver nuestra red neuronal. Aqui se le llenan con parametros dinamicos segun lo que se necesite\n",
    "def create_model(optimizer, init_mode, activation, neurons):\n",
    "    ann = tf.keras.models.Sequential()\n",
    "    ann.add(tf.keras.layers.Dense(units=neurons,  kernel_initializer=init_mode, activation=activation))\n",
    "    ann.add(tf.keras.layers.Dense(units=neurons,  kernel_initializer=init_mode, activation=activation))\n",
    "    ann.add(tf.keras.layers.Dense(units=1))\n",
    "    ann.compile(optimizer = optimizer, loss = 'mean_squared_error') #Aca puede ir metrics = ['accuracy'] para clasificacion\n",
    "    return ann"
   ]
  },
  {
   "cell_type": "code",
   "execution_count": 109,
   "metadata": {},
   "outputs": [],
   "source": [
    "# definir la busqueda de parametros\n",
    "batch_size = [32] #[8,16,32,64,128]\n",
    "epochs = [100] #[10,25,50,100,150,250]\n",
    "optimizer = ['Adam']#['SGD', 'RMSprop', 'Adagrad', 'Adadelta', 'Adam', 'Adamax', 'Nadam']\n",
    "init_mode = ['glorot_uniform']#['uniform', 'lecun_uniform', 'normal', 'zero', 'glorot_normal', 'glorot_uniform', 'he_normal', 'he_uniform']\n",
    "activation = ['softmax']#['softmax', 'softplus', 'softsign', 'relu', 'tanh', 'sigmoid', 'hard_sigmoid', 'linear']\n",
    "neurons = [5,6]\n",
    "param_grid = dict(batch_size=batch_size, epochs=epochs, optimizer=optimizer, init_mode=init_mode, activation = activation, neurons = neurons)"
   ]
  },
  {
   "cell_type": "code",
   "execution_count": 110,
   "metadata": {},
   "outputs": [],
   "source": [
    "modelo =  tf.keras.wrappers.scikit_learn.KerasClassifier(build_fn=create_model, verbose=0)"
   ]
  },
  {
   "cell_type": "code",
   "execution_count": 111,
   "metadata": {},
   "outputs": [],
   "source": [
    "grid = GridSearchCV(estimator=modelo, param_grid=param_grid, n_jobs=-1, cv=2, scoring ='r2')# Quitar scoring para problemas de clasificacion\n",
    "grid_result = grid.fit(X_train, y_train)"
   ]
  },
  {
   "cell_type": "code",
   "execution_count": 112,
   "metadata": {},
   "outputs": [
    {
     "name": "stdout",
     "output_type": "stream",
     "text": [
      "Best: -2.927905 using {'activation': 'softmax', 'batch_size': 32, 'epochs': 100, 'init_mode': 'glorot_uniform', 'neurons': 5, 'optimizer': 'Adam'}\n",
      "-2.927905 (0.063957) with: {'activation': 'softmax', 'batch_size': 32, 'epochs': 100, 'init_mode': 'glorot_uniform', 'neurons': 5, 'optimizer': 'Adam'}\n",
      "-2.927905 (0.063957) with: {'activation': 'softmax', 'batch_size': 32, 'epochs': 100, 'init_mode': 'glorot_uniform', 'neurons': 6, 'optimizer': 'Adam'}\n"
     ]
    }
   ],
   "source": [
    "# Resumen de resultados\n",
    "print(\"Best: %f using %s\" % (grid_result.best_score_, grid_result.best_params_))\n",
    "means = grid_result.cv_results_['mean_test_score']\n",
    "stds = grid_result.cv_results_['std_test_score']\n",
    "params = grid_result.cv_results_['params']\n",
    "for mean, stdev, param in zip(means, stds, params):\n",
    "    print(\"%f (%f) with: %r\" % (mean, stdev, param))"
   ]
  },
  {
   "cell_type": "markdown",
   "metadata": {},
   "source": [
    "## Creando el mejor modelo de acuerdo a los resultados de GridResult"
   ]
  },
  {
   "cell_type": "code",
   "execution_count": 116,
   "metadata": {},
   "outputs": [],
   "source": [
    "modeloFinal=create_model(activation='softmax', init_mode='glorot_uniform', neurons=5, optimizer = 'Adam')"
   ]
  },
  {
   "cell_type": "code",
   "execution_count": 117,
   "metadata": {},
   "outputs": [
    {
     "name": "stdout",
     "output_type": "stream",
     "text": [
      "Epoch 1/100\n",
      "7654/7654 [==============================] - 2s 250us/sample - loss: 27.2428\n",
      "Epoch 2/100\n",
      "7654/7654 [==============================] - 1s 98us/sample - loss: 26.8657\n",
      "Epoch 3/100\n",
      "7654/7654 [==============================] - 1s 102us/sample - loss: 27.4860\n",
      "Epoch 4/100\n",
      "7654/7654 [==============================] - 1s 98us/sample - loss: 27.1202\n",
      "Epoch 5/100\n",
      "7654/7654 [==============================] - 1s 97us/sample - loss: 26.6768\n",
      "Epoch 6/100\n",
      "7654/7654 [==============================] - 1s 98us/sample - loss: 26.9839\n",
      "Epoch 7/100\n",
      "7654/7654 [==============================] - 1s 100us/sample - loss: 27.0034\n",
      "Epoch 8/100\n",
      "7654/7654 [==============================] - 2s 218us/sample - loss: 27.1652\n",
      "Epoch 9/100\n",
      "7654/7654 [==============================] - 1s 99us/sample - loss: 27.1634\n",
      "Epoch 10/100\n",
      "7654/7654 [==============================] - 1s 106us/sample - loss: 26.3581\n",
      "Epoch 11/100\n",
      "7654/7654 [==============================] - 1s 102us/sample - loss: 26.3445\n",
      "Epoch 12/100\n",
      "7654/7654 [==============================] - 1s 104us/sample - loss: 27.1351\n",
      "Epoch 13/100\n",
      "7654/7654 [==============================] - 1s 118us/sample - loss: 26.5587\n",
      "Epoch 14/100\n",
      "7654/7654 [==============================] - 1s 121us/sample - loss: 26.7023\n",
      "Epoch 15/100\n",
      "7654/7654 [==============================] - 2s 205us/sample - loss: 27.2502\n",
      "Epoch 16/100\n",
      "7654/7654 [==============================] - 1s 110us/sample - loss: 26.6633\n",
      "Epoch 17/100\n",
      "7654/7654 [==============================] - 1s 117us/sample - loss: 27.2685\n",
      "Epoch 18/100\n",
      "7654/7654 [==============================] - 1s 117us/sample - loss: 26.7926\n",
      "Epoch 19/100\n",
      "7654/7654 [==============================] - 1s 113us/sample - loss: 27.1269\n",
      "Epoch 20/100\n",
      "7654/7654 [==============================] - 1s 107us/sample - loss: 27.0289\n",
      "Epoch 21/100\n",
      "7654/7654 [==============================] - 2s 196us/sample - loss: 26.6385\n",
      "Epoch 22/100\n",
      "7654/7654 [==============================] - 1s 135us/sample - loss: 26.5376\n",
      "Epoch 23/100\n",
      "7654/7654 [==============================] - 1s 120us/sample - loss: 26.9939\n",
      "Epoch 24/100\n",
      "7654/7654 [==============================] - 1s 113us/sample - loss: 26.9741\n",
      "Epoch 25/100\n",
      "7654/7654 [==============================] - 1s 113us/sample - loss: 27.1806\n",
      "Epoch 26/100\n",
      "7654/7654 [==============================] - 1s 115us/sample - loss: 26.6746\n",
      "Epoch 27/100\n",
      "7654/7654 [==============================] - 1s 119us/sample - loss: 27.2198\n",
      "Epoch 28/100\n",
      "7654/7654 [==============================] - 2s 210us/sample - loss: 26.9304\n",
      "Epoch 29/100\n",
      "7654/7654 [==============================] - 1s 126us/sample - loss: 27.1118\n",
      "Epoch 30/100\n",
      "7654/7654 [==============================] - 1s 127us/sample - loss: 26.6017\n",
      "Epoch 31/100\n",
      "7654/7654 [==============================] - 1s 127us/sample - loss: 27.3593\n",
      "Epoch 32/100\n",
      "7654/7654 [==============================] - 1s 132us/sample - loss: 26.7956\n",
      "Epoch 33/100\n",
      "7654/7654 [==============================] - 1s 121us/sample - loss: 27.0010\n",
      "Epoch 34/100\n",
      "7654/7654 [==============================] - 2s 201us/sample - loss: 27.5196\n",
      "Epoch 35/100\n",
      "7654/7654 [==============================] - 1s 113us/sample - loss: 26.2497\n",
      "Epoch 36/100\n",
      "7654/7654 [==============================] - 1s 114us/sample - loss: 26.5199\n",
      "Epoch 37/100\n",
      "7654/7654 [==============================] - 1s 120us/sample - loss: 26.9225\n",
      "Epoch 38/100\n",
      "7654/7654 [==============================] - 1s 119us/sample - loss: 27.0582\n",
      "Epoch 39/100\n",
      "7654/7654 [==============================] - 1s 118us/sample - loss: 27.2800\n",
      "Epoch 40/100\n",
      "7654/7654 [==============================] - 1s 183us/sample - loss: 26.4766\n",
      "Epoch 41/100\n",
      "7654/7654 [==============================] - 1s 148us/sample - loss: 26.7267\n",
      "Epoch 42/100\n",
      "7654/7654 [==============================] - 1s 118us/sample - loss: 27.1686\n",
      "Epoch 43/100\n",
      "7654/7654 [==============================] - 1s 116us/sample - loss: 27.1318\n",
      "Epoch 44/100\n",
      "7654/7654 [==============================] - 1s 122us/sample - loss: 26.3905\n",
      "Epoch 45/100\n",
      "7654/7654 [==============================] - 1s 136us/sample - loss: 26.6031\n",
      "Epoch 46/100\n",
      "7654/7654 [==============================] - 2s 200us/sample - loss: 26.6452\n",
      "Epoch 47/100\n",
      "7654/7654 [==============================] - ETA: 0s - loss: 26.52 - 1s 169us/sample - loss: 26.5262\n",
      "Epoch 48/100\n",
      "7654/7654 [==============================] - 1s 116us/sample - loss: 26.7076\n",
      "Epoch 49/100\n",
      "7654/7654 [==============================] - 1s 118us/sample - loss: 26.3309\n",
      "Epoch 50/100\n",
      "7654/7654 [==============================] - 1s 116us/sample - loss: 26.8027\n",
      "Epoch 51/100\n",
      "7654/7654 [==============================] - 1s 122us/sample - loss: 27.0981\n",
      "Epoch 52/100\n",
      "7654/7654 [==============================] - 1s 118us/sample - loss: 27.0143\n",
      "Epoch 53/100\n",
      "7654/7654 [==============================] - 2s 197us/sample - loss: 26.7309\n",
      "Epoch 54/100\n",
      "7654/7654 [==============================] - 1s 111us/sample - loss: 27.0559\n",
      "Epoch 55/100\n",
      "7654/7654 [==============================] - 1s 120us/sample - loss: 27.5591\n",
      "Epoch 56/100\n",
      "7654/7654 [==============================] - 1s 123us/sample - loss: 26.5098\n",
      "Epoch 57/100\n",
      "7654/7654 [==============================] - 1s 116us/sample - loss: 26.8713\n",
      "Epoch 58/100\n",
      "7654/7654 [==============================] - 1s 118us/sample - loss: 26.5042\n",
      "Epoch 59/100\n",
      "7654/7654 [==============================] - 1s 189us/sample - loss: 26.7559\n",
      "Epoch 60/100\n",
      "7654/7654 [==============================] - 1s 144us/sample - loss: 26.4801\n",
      "Epoch 61/100\n",
      "7654/7654 [==============================] - 1s 130us/sample - loss: 26.2705\n",
      "Epoch 62/100\n",
      "7654/7654 [==============================] - 1s 129us/sample - loss: 26.5380\n",
      "Epoch 63/100\n",
      "7654/7654 [==============================] - 1s 123us/sample - loss: 27.1085\n",
      "Epoch 64/100\n",
      "7654/7654 [==============================] - 1s 119us/sample - loss: 27.6545\n",
      "Epoch 65/100\n",
      "7654/7654 [==============================] - 1s 172us/sample - loss: 26.6140\n",
      "Epoch 66/100\n",
      "7654/7654 [==============================] - 1s 143us/sample - loss: 27.0006\n",
      "Epoch 67/100\n",
      "7654/7654 [==============================] - 1s 116us/sample - loss: 26.6973\n",
      "Epoch 68/100\n",
      "7654/7654 [==============================] - 1s 116us/sample - loss: 26.9728\n",
      "Epoch 69/100\n",
      "7654/7654 [==============================] - 1s 114us/sample - loss: 26.5899\n",
      "Epoch 70/100\n",
      "7654/7654 [==============================] - 1s 118us/sample - loss: 26.9927\n",
      "Epoch 71/100\n",
      "7654/7654 [==============================] - 1s 132us/sample - loss: 26.9224\n",
      "Epoch 72/100\n",
      "7654/7654 [==============================] - 1s 188us/sample - loss: 27.0096\n",
      "Epoch 73/100\n",
      "7654/7654 [==============================] - 1s 112us/sample - loss: 26.5011\n",
      "Epoch 74/100\n",
      "7654/7654 [==============================] - 1s 119us/sample - loss: 26.7856\n",
      "Epoch 75/100\n",
      "7654/7654 [==============================] - 1s 122us/sample - loss: 27.0604\n",
      "Epoch 76/100\n",
      "7654/7654 [==============================] - 1s 124us/sample - loss: 27.2187\n",
      "Epoch 77/100\n",
      "7654/7654 [==============================] - 1s 118us/sample - loss: 26.7316\n",
      "Epoch 78/100\n",
      "7654/7654 [==============================] - 2s 207us/sample - loss: 27.1425\n",
      "Epoch 79/100\n",
      "7654/7654 [==============================] - 1s 115us/sample - loss: 26.5084\n",
      "Epoch 80/100\n",
      "7654/7654 [==============================] - 1s 115us/sample - loss: 27.2548\n",
      "Epoch 81/100\n",
      "7654/7654 [==============================] - 1s 118us/sample - loss: 27.1242\n",
      "Epoch 82/100\n",
      "7654/7654 [==============================] - 1s 117us/sample - loss: 27.4237\n",
      "Epoch 83/100\n",
      "7654/7654 [==============================] - 1s 116us/sample - loss: 26.9076\n",
      "Epoch 84/100\n",
      "7654/7654 [==============================] - 1s 159us/sample - loss: 26.5565\n",
      "Epoch 85/100\n",
      "7654/7654 [==============================] - 1s 168us/sample - loss: 27.3209\n",
      "Epoch 86/100\n",
      "7654/7654 [==============================] - 1s 122us/sample - loss: 27.6329\n",
      "Epoch 87/100\n",
      "7654/7654 [==============================] - 1s 117us/sample - loss: 26.8670\n",
      "Epoch 88/100\n",
      "7654/7654 [==============================] - 1s 118us/sample - loss: 26.7455\n",
      "Epoch 89/100\n",
      "7654/7654 [==============================] - 1s 118us/sample - loss: 26.7929\n",
      "Epoch 90/100\n",
      "7654/7654 [==============================] - 1s 123us/sample - loss: 26.7117\n",
      "Epoch 91/100\n"
     ]
    },
    {
     "name": "stdout",
     "output_type": "stream",
     "text": [
      "7654/7654 [==============================] - 2s 223us/sample - loss: 26.9893\n",
      "Epoch 92/100\n",
      "7654/7654 [==============================] - 1s 120us/sample - loss: 27.0330\n",
      "Epoch 93/100\n",
      "7654/7654 [==============================] - 1s 123us/sample - loss: 26.5550\n",
      "Epoch 94/100\n",
      "7654/7654 [==============================] - 1s 117us/sample - loss: 27.0107\n",
      "Epoch 95/100\n",
      "7654/7654 [==============================] - 1s 109us/sample - loss: 26.6977\n",
      "Epoch 96/100\n",
      "7654/7654 [==============================] - 1s 116us/sample - loss: 27.1373\n",
      "Epoch 97/100\n",
      "7654/7654 [==============================] - 2s 223us/sample - loss: 26.5151\n",
      "Epoch 98/100\n",
      "7654/7654 [==============================] - 1s 109us/sample - loss: 26.5640\n",
      "Epoch 99/100\n",
      "7654/7654 [==============================] - 1s 112us/sample - loss: 26.7156\n",
      "Epoch 100/100\n",
      "7654/7654 [==============================] - 1s 112us/sample - loss: 26.6569\n"
     ]
    },
    {
     "data": {
      "text/plain": [
       "<tensorflow.python.keras.callbacks.History at 0x21c7da20348>"
      ]
     },
     "execution_count": 117,
     "metadata": {},
     "output_type": "execute_result"
    }
   ],
   "source": [
    "ann.fit(X_train, y_train, batch_size = 32, epochs = 100)"
   ]
  },
  {
   "cell_type": "code",
   "execution_count": 118,
   "metadata": {},
   "outputs": [
    {
     "data": {
      "text/plain": [
       "0.9134412955314605"
      ]
     },
     "execution_count": 118,
     "metadata": {},
     "output_type": "execute_result"
    }
   ],
   "source": [
    "#Evaluacion del modelo\n",
    "from sklearn.metrics import r2_score\n",
    "r2_score(y_test, y_pred)"
   ]
  }
 ],
 "metadata": {
  "kernelspec": {
   "display_name": "Python 3",
   "language": "python",
   "name": "python3"
  },
  "language_info": {
   "codemirror_mode": {
    "name": "ipython",
    "version": 3
   },
   "file_extension": ".py",
   "mimetype": "text/x-python",
   "name": "python",
   "nbconvert_exporter": "python",
   "pygments_lexer": "ipython3",
   "version": "3.7.6"
  }
 },
 "nbformat": 4,
 "nbformat_minor": 2
}
