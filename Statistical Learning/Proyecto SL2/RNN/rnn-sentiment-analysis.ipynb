{
 "cells": [
  {
   "cell_type": "markdown",
   "metadata": {
    "papermill": {
     "duration": 0.038187,
     "end_time": "2020-09-19T10:19:21.673323",
     "exception": false,
     "start_time": "2020-09-19T10:19:21.635136",
     "status": "completed"
    },
    "tags": []
   },
   "source": [
    "# Sentiment analysis para comentarios de peliculas \n",
    "#### Proyecto parte 3\n",
    "Ruben Gonzalez 20003314"
   ]
  },
  {
   "cell_type": "code",
   "execution_count": 1,
   "metadata": {
    "_cell_guid": "b1076dfc-b9ad-4769-8c92-a6c4dae69d19",
    "_uuid": "8f2839f25d086af736a60e9eeb907d3b93b6e0e5",
    "execution": {
     "iopub.execute_input": "2020-09-19T10:19:21.752883Z",
     "iopub.status.busy": "2020-09-19T10:19:21.752093Z",
     "iopub.status.idle": "2020-09-19T10:19:28.621119Z",
     "shell.execute_reply": "2020-09-19T10:19:28.621944Z"
    },
    "papermill": {
     "duration": 6.914933,
     "end_time": "2020-09-19T10:19:28.622159",
     "exception": false,
     "start_time": "2020-09-19T10:19:21.707226",
     "status": "completed"
    },
    "tags": []
   },
   "outputs": [
    {
     "name": "stdout",
     "output_type": "stream",
     "text": [
      "/kaggle/input/imdb-reviews-dataset/imdb_reviews_dataset.csv\n"
     ]
    }
   ],
   "source": [
    "# This Python 3 environment comes with many helpful analytics libraries installed\n",
    "# It is defined by the kaggle/python Docker image: https://github.com/kaggle/docker-python\n",
    "# For example, here's several helpful packages to load\n",
    "\n",
    "import numpy as np # linear algebra\n",
    "import pandas as pd # data processing, CSV file I/O (e.g. pd.read_csv)\n",
    "\n",
    "# Input data files are available in the read-only \"../input/\" directory\n",
    "# For example, running this (by clicking run or pressing Shift+Enter) will list all files under the input directory\n",
    "\n",
    "from sklearn.metrics import roc_auc_score\n",
    "\n",
    "from tensorflow.python.keras.preprocessing.text import Tokenizer\n",
    "from tensorflow.python.keras.preprocessing.sequence import pad_sequences\n",
    "from tensorflow.python.keras.callbacks import EarlyStopping\n",
    "\n",
    "from keras.optimizers import Adam\n",
    "\n",
    "import keras.models\n",
    "from keras.models import Sequential\n",
    "from keras.layers import Dense, Embedding, LSTM, GRU, BatchNormalization, GlobalMaxPooling1D, Dropout\n",
    "from keras.layers.embeddings import Embedding\n",
    "from keras.initializers import Constant\n",
    "\n",
    "import string\n",
    "from nltk.tokenize import word_tokenize\n",
    "from nltk.corpus import stopwords\n",
    "\n",
    "\n",
    "import os\n",
    "for dirname, _, filenames in os.walk('/kaggle/input'):\n",
    "    for filename in filenames:\n",
    "        print(os.path.join(dirname, filename))\n",
    "\n",
    "# You can write up to 5GB to the current directory (/kaggle/working/) that gets preserved as output when you create a version using \"Save & Run All\" \n",
    "# You can also write temporary files to /kaggle/temp/, but they won't be saved outside of the current session"
   ]
  },
  {
   "cell_type": "code",
   "execution_count": 2,
   "metadata": {
    "execution": {
     "iopub.execute_input": "2020-09-19T10:19:28.707795Z",
     "iopub.status.busy": "2020-09-19T10:19:28.705994Z",
     "iopub.status.idle": "2020-09-19T10:19:28.708680Z",
     "shell.execute_reply": "2020-09-19T10:19:28.709212Z"
    },
    "papermill": {
     "duration": 0.049596,
     "end_time": "2020-09-19T10:19:28.709330",
     "exception": false,
     "start_time": "2020-09-19T10:19:28.659734",
     "status": "completed"
    },
    "tags": []
   },
   "outputs": [],
   "source": [
    "import tensorflow as tf"
   ]
  },
  {
   "cell_type": "markdown",
   "metadata": {
    "papermill": {
     "duration": 0.034387,
     "end_time": "2020-09-19T10:19:28.777606",
     "exception": false,
     "start_time": "2020-09-19T10:19:28.743219",
     "status": "completed"
    },
    "tags": []
   },
   "source": [
    "## Carga y preprocesamiento de datos"
   ]
  },
  {
   "cell_type": "code",
   "execution_count": 3,
   "metadata": {
    "_cell_guid": "79c7e3d0-c299-4dcb-8224-4455121ee9b0",
    "_uuid": "d629ff2d2480ee46fbb7e2d37f6b5fab8052498a",
    "execution": {
     "iopub.execute_input": "2020-09-19T10:19:28.856259Z",
     "iopub.status.busy": "2020-09-19T10:19:28.855613Z",
     "iopub.status.idle": "2020-09-19T10:19:30.110163Z",
     "shell.execute_reply": "2020-09-19T10:19:30.113914Z"
    },
    "papermill": {
     "duration": 1.301877,
     "end_time": "2020-09-19T10:19:30.114124",
     "exception": false,
     "start_time": "2020-09-19T10:19:28.812247",
     "status": "completed"
    },
    "tags": []
   },
   "outputs": [
    {
     "data": {
      "text/html": [
       "<div>\n",
       "<style scoped>\n",
       "    .dataframe tbody tr th:only-of-type {\n",
       "        vertical-align: middle;\n",
       "    }\n",
       "\n",
       "    .dataframe tbody tr th {\n",
       "        vertical-align: top;\n",
       "    }\n",
       "\n",
       "    .dataframe thead th {\n",
       "        text-align: right;\n",
       "    }\n",
       "</style>\n",
       "<table border=\"1\" class=\"dataframe\">\n",
       "  <thead>\n",
       "    <tr style=\"text-align: right;\">\n",
       "      <th></th>\n",
       "      <th>data_type</th>\n",
       "      <th>id</th>\n",
       "      <th>rating</th>\n",
       "      <th>text</th>\n",
       "    </tr>\n",
       "  </thead>\n",
       "  <tbody>\n",
       "    <tr>\n",
       "      <th>0</th>\n",
       "      <td>train</td>\n",
       "      <td>pos_0</td>\n",
       "      <td>9</td>\n",
       "      <td>Bromwell High is a cartoon comedy. It ran at t...</td>\n",
       "    </tr>\n",
       "    <tr>\n",
       "      <th>1</th>\n",
       "      <td>train</td>\n",
       "      <td>pos_10000</td>\n",
       "      <td>8</td>\n",
       "      <td>Homelessness (or Houselessness as George Carli...</td>\n",
       "    </tr>\n",
       "    <tr>\n",
       "      <th>2</th>\n",
       "      <td>train</td>\n",
       "      <td>pos_10001</td>\n",
       "      <td>10</td>\n",
       "      <td>Brilliant over-acting by Lesley Ann Warren. Be...</td>\n",
       "    </tr>\n",
       "    <tr>\n",
       "      <th>3</th>\n",
       "      <td>train</td>\n",
       "      <td>pos_10002</td>\n",
       "      <td>7</td>\n",
       "      <td>This is easily the most underrated film inn th...</td>\n",
       "    </tr>\n",
       "    <tr>\n",
       "      <th>4</th>\n",
       "      <td>train</td>\n",
       "      <td>pos_10003</td>\n",
       "      <td>8</td>\n",
       "      <td>This is not the typical Mel Brooks film. It wa...</td>\n",
       "    </tr>\n",
       "  </tbody>\n",
       "</table>\n",
       "</div>"
      ],
      "text/plain": [
       "  data_type         id  rating  \\\n",
       "0     train      pos_0       9   \n",
       "1     train  pos_10000       8   \n",
       "2     train  pos_10001      10   \n",
       "3     train  pos_10002       7   \n",
       "4     train  pos_10003       8   \n",
       "\n",
       "                                                text  \n",
       "0  Bromwell High is a cartoon comedy. It ran at t...  \n",
       "1  Homelessness (or Houselessness as George Carli...  \n",
       "2  Brilliant over-acting by Lesley Ann Warren. Be...  \n",
       "3  This is easily the most underrated film inn th...  \n",
       "4  This is not the typical Mel Brooks film. It wa...  "
      ]
     },
     "execution_count": 3,
     "metadata": {},
     "output_type": "execute_result"
    }
   ],
   "source": [
    "df = pd.read_csv('../input/imdb-reviews-dataset/imdb_reviews_dataset.csv')\n",
    "df.head()"
   ]
  },
  {
   "cell_type": "code",
   "execution_count": 4,
   "metadata": {
    "execution": {
     "iopub.execute_input": "2020-09-19T10:19:30.259964Z",
     "iopub.status.busy": "2020-09-19T10:19:30.258935Z",
     "iopub.status.idle": "2020-09-19T10:19:30.270338Z",
     "shell.execute_reply": "2020-09-19T10:19:30.271486Z"
    },
    "papermill": {
     "duration": 0.075859,
     "end_time": "2020-09-19T10:19:30.271672",
     "exception": false,
     "start_time": "2020-09-19T10:19:30.195813",
     "status": "completed"
    },
    "tags": []
   },
   "outputs": [
    {
     "data": {
      "text/plain": [
       "0     50000\n",
       "1     10122\n",
       "10     9731\n",
       "8      5859\n",
       "4      5331\n",
       "3      4961\n",
       "7      4803\n",
       "9      4607\n",
       "2      4586\n",
       "Name: rating, dtype: int64"
      ]
     },
     "execution_count": 4,
     "metadata": {},
     "output_type": "execute_result"
    }
   ],
   "source": [
    "df.rating.value_counts()"
   ]
  },
  {
   "cell_type": "markdown",
   "metadata": {
    "papermill": {
     "duration": 0.05438,
     "end_time": "2020-09-19T10:19:30.379432",
     "exception": false,
     "start_time": "2020-09-19T10:19:30.325052",
     "status": "completed"
    },
    "tags": []
   },
   "source": [
    "Se remueven los reviews sin rating pues no nos sirven para el analisis"
   ]
  },
  {
   "cell_type": "code",
   "execution_count": 5,
   "metadata": {
    "execution": {
     "iopub.execute_input": "2020-09-19T10:19:30.496588Z",
     "iopub.status.busy": "2020-09-19T10:19:30.494670Z",
     "iopub.status.idle": "2020-09-19T10:19:30.530678Z",
     "shell.execute_reply": "2020-09-19T10:19:30.531915Z"
    },
    "papermill": {
     "duration": 0.098348,
     "end_time": "2020-09-19T10:19:30.532103",
     "exception": false,
     "start_time": "2020-09-19T10:19:30.433755",
     "status": "completed"
    },
    "tags": []
   },
   "outputs": [
    {
     "data": {
      "text/plain": [
       "(50000, 4)"
      ]
     },
     "execution_count": 5,
     "metadata": {},
     "output_type": "execute_result"
    }
   ],
   "source": [
    "df_etiquetado = df[df['rating'] != 0].copy() \n",
    "df_etiquetado.shape"
   ]
  },
  {
   "cell_type": "code",
   "execution_count": 6,
   "metadata": {
    "execution": {
     "iopub.execute_input": "2020-09-19T10:19:30.651915Z",
     "iopub.status.busy": "2020-09-19T10:19:30.651013Z",
     "iopub.status.idle": "2020-09-19T10:19:30.658611Z",
     "shell.execute_reply": "2020-09-19T10:19:30.659546Z"
    },
    "papermill": {
     "duration": 0.07252,
     "end_time": "2020-09-19T10:19:30.659791",
     "exception": false,
     "start_time": "2020-09-19T10:19:30.587271",
     "status": "completed"
    },
    "tags": []
   },
   "outputs": [
    {
     "data": {
      "text/plain": [
       "1     10122\n",
       "10     9731\n",
       "8      5859\n",
       "4      5331\n",
       "3      4961\n",
       "7      4803\n",
       "9      4607\n",
       "2      4586\n",
       "Name: rating, dtype: int64"
      ]
     },
     "execution_count": 6,
     "metadata": {},
     "output_type": "execute_result"
    }
   ],
   "source": [
    "df_etiquetado.rating.value_counts()"
   ]
  },
  {
   "cell_type": "markdown",
   "metadata": {
    "papermill": {
     "duration": 0.03729,
     "end_time": "2020-09-19T10:19:30.742678",
     "exception": false,
     "start_time": "2020-09-19T10:19:30.705388",
     "status": "completed"
    },
    "tags": []
   },
   "source": [
    "Se crea una nueva columna que identifique si el sentimiento es positivo o no usando aquellos comentarios con ranquin mayor o igual a 7 como positivos"
   ]
  },
  {
   "cell_type": "code",
   "execution_count": 7,
   "metadata": {
    "execution": {
     "iopub.execute_input": "2020-09-19T10:19:30.832641Z",
     "iopub.status.busy": "2020-09-19T10:19:30.822110Z",
     "iopub.status.idle": "2020-09-19T10:19:31.716728Z",
     "shell.execute_reply": "2020-09-19T10:19:31.716134Z"
    },
    "papermill": {
     "duration": 0.937164,
     "end_time": "2020-09-19T10:19:31.716866",
     "exception": false,
     "start_time": "2020-09-19T10:19:30.779702",
     "status": "completed"
    },
    "tags": []
   },
   "outputs": [],
   "source": [
    "df_etiquetado['sentimiento'] = df_etiquetado.rating.apply(lambda x: 1 if x >= 7 else 0)\n",
    "df_etiquetado[\"Length\"] = df_etiquetado['text'].apply(lambda x: len(x.split()))"
   ]
  },
  {
   "cell_type": "code",
   "execution_count": 8,
   "metadata": {
    "execution": {
     "iopub.execute_input": "2020-09-19T10:19:31.806381Z",
     "iopub.status.busy": "2020-09-19T10:19:31.805578Z",
     "iopub.status.idle": "2020-09-19T10:19:31.811283Z",
     "shell.execute_reply": "2020-09-19T10:19:31.810655Z"
    },
    "papermill": {
     "duration": 0.055304,
     "end_time": "2020-09-19T10:19:31.811379",
     "exception": false,
     "start_time": "2020-09-19T10:19:31.756075",
     "status": "completed"
    },
    "tags": []
   },
   "outputs": [
    {
     "data": {
      "text/html": [
       "<div>\n",
       "<style scoped>\n",
       "    .dataframe tbody tr th:only-of-type {\n",
       "        vertical-align: middle;\n",
       "    }\n",
       "\n",
       "    .dataframe tbody tr th {\n",
       "        vertical-align: top;\n",
       "    }\n",
       "\n",
       "    .dataframe thead th {\n",
       "        text-align: right;\n",
       "    }\n",
       "</style>\n",
       "<table border=\"1\" class=\"dataframe\">\n",
       "  <thead>\n",
       "    <tr style=\"text-align: right;\">\n",
       "      <th></th>\n",
       "      <th>data_type</th>\n",
       "      <th>id</th>\n",
       "      <th>rating</th>\n",
       "      <th>text</th>\n",
       "      <th>sentimiento</th>\n",
       "      <th>Length</th>\n",
       "    </tr>\n",
       "  </thead>\n",
       "  <tbody>\n",
       "    <tr>\n",
       "      <th>0</th>\n",
       "      <td>train</td>\n",
       "      <td>pos_0</td>\n",
       "      <td>9</td>\n",
       "      <td>Bromwell High is a cartoon comedy. It ran at t...</td>\n",
       "      <td>1</td>\n",
       "      <td>140</td>\n",
       "    </tr>\n",
       "    <tr>\n",
       "      <th>1</th>\n",
       "      <td>train</td>\n",
       "      <td>pos_10000</td>\n",
       "      <td>8</td>\n",
       "      <td>Homelessness (or Houselessness as George Carli...</td>\n",
       "      <td>1</td>\n",
       "      <td>428</td>\n",
       "    </tr>\n",
       "    <tr>\n",
       "      <th>2</th>\n",
       "      <td>train</td>\n",
       "      <td>pos_10001</td>\n",
       "      <td>10</td>\n",
       "      <td>Brilliant over-acting by Lesley Ann Warren. Be...</td>\n",
       "      <td>1</td>\n",
       "      <td>147</td>\n",
       "    </tr>\n",
       "    <tr>\n",
       "      <th>3</th>\n",
       "      <td>train</td>\n",
       "      <td>pos_10002</td>\n",
       "      <td>7</td>\n",
       "      <td>This is easily the most underrated film inn th...</td>\n",
       "      <td>1</td>\n",
       "      <td>124</td>\n",
       "    </tr>\n",
       "    <tr>\n",
       "      <th>4</th>\n",
       "      <td>train</td>\n",
       "      <td>pos_10003</td>\n",
       "      <td>8</td>\n",
       "      <td>This is not the typical Mel Brooks film. It wa...</td>\n",
       "      <td>1</td>\n",
       "      <td>120</td>\n",
       "    </tr>\n",
       "  </tbody>\n",
       "</table>\n",
       "</div>"
      ],
      "text/plain": [
       "  data_type         id  rating  \\\n",
       "0     train      pos_0       9   \n",
       "1     train  pos_10000       8   \n",
       "2     train  pos_10001      10   \n",
       "3     train  pos_10002       7   \n",
       "4     train  pos_10003       8   \n",
       "\n",
       "                                                text  sentimiento  Length  \n",
       "0  Bromwell High is a cartoon comedy. It ran at t...            1     140  \n",
       "1  Homelessness (or Houselessness as George Carli...            1     428  \n",
       "2  Brilliant over-acting by Lesley Ann Warren. Be...            1     147  \n",
       "3  This is easily the most underrated film inn th...            1     124  \n",
       "4  This is not the typical Mel Brooks film. It wa...            1     120  "
      ]
     },
     "execution_count": 8,
     "metadata": {},
     "output_type": "execute_result"
    }
   ],
   "source": [
    "df_etiquetado.head()"
   ]
  },
  {
   "cell_type": "markdown",
   "metadata": {
    "papermill": {
     "duration": 0.037396,
     "end_time": "2020-09-19T10:19:31.886647",
     "exception": false,
     "start_time": "2020-09-19T10:19:31.849251",
     "status": "completed"
    },
    "tags": []
   },
   "source": [
    "Como el dataset ya esta segmentado en train y test, se usara esa misma segmentacion"
   ]
  },
  {
   "cell_type": "code",
   "execution_count": 9,
   "metadata": {
    "execution": {
     "iopub.execute_input": "2020-09-19T10:19:31.967618Z",
     "iopub.status.busy": "2020-09-19T10:19:31.966992Z",
     "iopub.status.idle": "2020-09-19T10:19:31.971260Z",
     "shell.execute_reply": "2020-09-19T10:19:31.970721Z"
    },
    "papermill": {
     "duration": 0.046401,
     "end_time": "2020-09-19T10:19:31.971356",
     "exception": false,
     "start_time": "2020-09-19T10:19:31.924955",
     "status": "completed"
    },
    "tags": []
   },
   "outputs": [],
   "source": [
    "from sklearn.model_selection import train_test_split\n"
   ]
  },
  {
   "cell_type": "markdown",
   "metadata": {
    "papermill": {
     "duration": 0.03945,
     "end_time": "2020-09-19T10:19:32.049012",
     "exception": false,
     "start_time": "2020-09-19T10:19:32.009562",
     "status": "completed"
    },
    "tags": []
   },
   "source": [
    "## Pre-procesamiento del texto\n",
    "Se utiliza word2vec para la tokenizacion de las entradas X"
   ]
  },
  {
   "cell_type": "code",
   "execution_count": 10,
   "metadata": {
    "execution": {
     "iopub.execute_input": "2020-09-19T10:19:32.139444Z",
     "iopub.status.busy": "2020-09-19T10:19:32.138735Z",
     "iopub.status.idle": "2020-09-19T10:25:31.142712Z",
     "shell.execute_reply": "2020-09-19T10:25:31.142132Z"
    },
    "papermill": {
     "duration": 359.053518,
     "end_time": "2020-09-19T10:25:31.142866",
     "exception": false,
     "start_time": "2020-09-19T10:19:32.089348",
     "status": "completed"
    },
    "tags": []
   },
   "outputs": [],
   "source": [
    "review_lines = list()\n",
    "lines = df['text'].values.tolist()\n",
    "\n",
    "stop_words = set(stopwords.words('english'))\n",
    "\n",
    "for line in lines:\n",
    "    tokens = word_tokenize(line)\n",
    "    tokens = [w.lower() for w in tokens]\n",
    "    table = str.maketrans('', '', string.punctuation)\n",
    "    stripped = [w.translate(table) for w in tokens]\n",
    "    words = [word for word in stripped if word.isalpha()]\n",
    "    words = [w for w in words if not w in stop_words]\n",
    "    review_lines.append(words)"
   ]
  },
  {
   "cell_type": "code",
   "execution_count": 11,
   "metadata": {
    "execution": {
     "iopub.execute_input": "2020-09-19T10:25:31.220651Z",
     "iopub.status.busy": "2020-09-19T10:25:31.220054Z",
     "iopub.status.idle": "2020-09-19T10:25:31.225845Z",
     "shell.execute_reply": "2020-09-19T10:25:31.226359Z"
    },
    "papermill": {
     "duration": 0.046373,
     "end_time": "2020-09-19T10:25:31.226484",
     "exception": false,
     "start_time": "2020-09-19T10:25:31.180111",
     "status": "completed"
    },
    "tags": []
   },
   "outputs": [
    {
     "data": {
      "text/plain": [
       "100000"
      ]
     },
     "execution_count": 11,
     "metadata": {},
     "output_type": "execute_result"
    }
   ],
   "source": [
    "len(review_lines)"
   ]
  },
  {
   "cell_type": "code",
   "execution_count": 12,
   "metadata": {
    "execution": {
     "iopub.execute_input": "2020-09-19T10:25:31.304516Z",
     "iopub.status.busy": "2020-09-19T10:25:31.303676Z",
     "iopub.status.idle": "2020-09-19T10:25:31.518411Z",
     "shell.execute_reply": "2020-09-19T10:25:31.517730Z"
    },
    "papermill": {
     "duration": 0.255423,
     "end_time": "2020-09-19T10:25:31.518560",
     "exception": false,
     "start_time": "2020-09-19T10:25:31.263137",
     "status": "completed"
    },
    "tags": []
   },
   "outputs": [],
   "source": [
    "import gensim"
   ]
  },
  {
   "cell_type": "code",
   "execution_count": 13,
   "metadata": {
    "execution": {
     "iopub.execute_input": "2020-09-19T10:25:31.629050Z",
     "iopub.status.busy": "2020-09-19T10:25:31.613672Z",
     "iopub.status.idle": "2020-09-19T10:28:22.619962Z",
     "shell.execute_reply": "2020-09-19T10:28:22.620781Z"
    },
    "papermill": {
     "duration": 171.062125,
     "end_time": "2020-09-19T10:28:22.621029",
     "exception": false,
     "start_time": "2020-09-19T10:25:31.558904",
     "status": "completed"
    },
    "tags": []
   },
   "outputs": [
    {
     "name": "stdout",
     "output_type": "stream",
     "text": [
      "Tamaño del vocabulario: 56449\n",
      "CPU times: user 4min 45s, sys: 1.45 s, total: 4min 47s\n",
      "Wall time: 2min 50s\n"
     ]
    }
   ],
   "source": [
    "%%time\n",
    "EMBEDDING_DIM = 256\n",
    "\n",
    "model = gensim.models.Word2Vec(sentences=review_lines, size=EMBEDDING_DIM, window=5, workers=4, min_count=5)\n",
    "words = list(model.wv.vocab)\n",
    "print('Tamaño del vocabulario: %d' % len(words))"
   ]
  },
  {
   "cell_type": "markdown",
   "metadata": {
    "papermill": {
     "duration": 0.038801,
     "end_time": "2020-09-19T10:28:22.698844",
     "exception": false,
     "start_time": "2020-09-19T10:28:22.660043",
     "status": "completed"
    },
    "tags": []
   },
   "source": [
    "Almacenamos el vocabulario en el formato requerido para su potencial uso posterior"
   ]
  },
  {
   "cell_type": "code",
   "execution_count": 14,
   "metadata": {
    "execution": {
     "iopub.execute_input": "2020-09-19T10:28:22.813320Z",
     "iopub.status.busy": "2020-09-19T10:28:22.779877Z",
     "iopub.status.idle": "2020-09-19T10:28:35.737022Z",
     "shell.execute_reply": "2020-09-19T10:28:35.736228Z"
    },
    "papermill": {
     "duration": 12.999465,
     "end_time": "2020-09-19T10:28:35.737148",
     "exception": false,
     "start_time": "2020-09-19T10:28:22.737683",
     "status": "completed"
    },
    "tags": []
   },
   "outputs": [],
   "source": [
    "filename = 'vocabulario.txt'\n",
    "model.wv.save_word2vec_format(filename, binary=False)"
   ]
  },
  {
   "cell_type": "markdown",
   "metadata": {
    "papermill": {
     "duration": 0.036755,
     "end_time": "2020-09-19T10:28:35.811459",
     "exception": false,
     "start_time": "2020-09-19T10:28:35.774704",
     "status": "completed"
    },
    "tags": []
   },
   "source": [
    "Recuperacion del vocabulario creado usando word2vec"
   ]
  },
  {
   "cell_type": "code",
   "execution_count": 15,
   "metadata": {
    "execution": {
     "iopub.execute_input": "2020-09-19T10:28:35.908094Z",
     "iopub.status.busy": "2020-09-19T10:28:35.907166Z",
     "iopub.status.idle": "2020-09-19T10:28:41.460898Z",
     "shell.execute_reply": "2020-09-19T10:28:41.460318Z"
    },
    "papermill": {
     "duration": 5.612834,
     "end_time": "2020-09-19T10:28:41.461032",
     "exception": false,
     "start_time": "2020-09-19T10:28:35.848198",
     "status": "completed"
    },
    "tags": []
   },
   "outputs": [
    {
     "name": "stdout",
     "output_type": "stream",
     "text": [
      "Num words -  56449\n",
      "EMBEDDING_DIM = 256\n"
     ]
    }
   ],
   "source": [
    "embedding_index = {}\n",
    "with open(os.path.join('./vocabulario.txt')) as fin:\n",
    "    for line in fin:\n",
    "        values = line.split()\n",
    "        if len(values) == 2:\n",
    "            print('Num words - ', values[0])\n",
    "            print('EMBEDDING_DIM =', values[1])\n",
    "            continue\n",
    "        word = values[0]\n",
    "        coefs = np.asarray(values[1:])\n",
    "        embedding_index[word] = coefs"
   ]
  },
  {
   "cell_type": "code",
   "execution_count": 16,
   "metadata": {
    "execution": {
     "iopub.execute_input": "2020-09-19T10:28:41.542228Z",
     "iopub.status.busy": "2020-09-19T10:28:41.541276Z",
     "iopub.status.idle": "2020-09-19T10:28:41.553921Z",
     "shell.execute_reply": "2020-09-19T10:28:41.553317Z"
    },
    "papermill": {
     "duration": 0.054838,
     "end_time": "2020-09-19T10:28:41.554016",
     "exception": false,
     "start_time": "2020-09-19T10:28:41.499178",
     "status": "completed"
    },
    "tags": []
   },
   "outputs": [
    {
     "data": {
      "text/plain": [
       "count    50000.000000\n",
       "mean       231.156940\n",
       "std        171.343997\n",
       "min          4.000000\n",
       "25%        126.000000\n",
       "50%        173.000000\n",
       "75%        280.000000\n",
       "max       2470.000000\n",
       "Name: Length, dtype: float64"
      ]
     },
     "execution_count": 16,
     "metadata": {},
     "output_type": "execute_result"
    }
   ],
   "source": [
    "len_text_info = df_etiquetado['Length'].describe()\n",
    "len_text_info"
   ]
  },
  {
   "cell_type": "code",
   "execution_count": 17,
   "metadata": {
    "execution": {
     "iopub.execute_input": "2020-09-19T10:28:41.648391Z",
     "iopub.status.busy": "2020-09-19T10:28:41.647625Z",
     "iopub.status.idle": "2020-09-19T10:28:41.651336Z",
     "shell.execute_reply": "2020-09-19T10:28:41.651804Z"
    },
    "papermill": {
     "duration": 0.057593,
     "end_time": "2020-09-19T10:28:41.651956",
     "exception": false,
     "start_time": "2020-09-19T10:28:41.594363",
     "status": "completed"
    },
    "tags": []
   },
   "outputs": [
    {
     "name": "stdout",
     "output_type": "stream",
     "text": [
      "573\n"
     ]
    }
   ],
   "source": [
    "# set max len for padding\n",
    "max_length = int(len_text_info['mean'] + 2 * len_text_info['std'])\n",
    "print(max_length) # = 200"
   ]
  },
  {
   "cell_type": "code",
   "execution_count": 18,
   "metadata": {
    "execution": {
     "iopub.execute_input": "2020-09-19T10:28:41.761960Z",
     "iopub.status.busy": "2020-09-19T10:28:41.746511Z",
     "iopub.status.idle": "2020-09-19T10:29:04.483694Z",
     "shell.execute_reply": "2020-09-19T10:29:04.483171Z"
    },
    "papermill": {
     "duration": 22.790473,
     "end_time": "2020-09-19T10:29:04.483797",
     "exception": false,
     "start_time": "2020-09-19T10:28:41.693324",
     "status": "completed"
    },
    "tags": []
   },
   "outputs": [
    {
     "name": "stdout",
     "output_type": "stream",
     "text": [
      "Encontrados 124252 tokens.\n",
      "(50000, 573)\n",
      "(50000,)\n"
     ]
    }
   ],
   "source": [
    "tokenizer_obj = Tokenizer()\n",
    "total_reviews = df_etiquetado['text'].values\n",
    "tokenizer_obj.fit_on_texts(total_reviews)\n",
    "sequences = tokenizer_obj.texts_to_sequences(total_reviews)\n",
    "\n",
    "word_index = tokenizer_obj.word_index\n",
    "print('Encontrados %s tokens.' % len(word_index))\n",
    "\n",
    "review_pad = pad_sequences(sequences, maxlen=max_length, padding='post')\n",
    "sentiment = df_etiquetado['sentimiento'].values\n",
    "print(review_pad.shape)\n",
    "print(sentiment.shape)"
   ]
  },
  {
   "cell_type": "code",
   "execution_count": 19,
   "metadata": {
    "execution": {
     "iopub.execute_input": "2020-09-19T10:29:04.567649Z",
     "iopub.status.busy": "2020-09-19T10:29:04.567067Z",
     "iopub.status.idle": "2020-09-19T10:29:04.573157Z",
     "shell.execute_reply": "2020-09-19T10:29:04.572654Z"
    },
    "papermill": {
     "duration": 0.049715,
     "end_time": "2020-09-19T10:29:04.573246",
     "exception": false,
     "start_time": "2020-09-19T10:29:04.523531",
     "status": "completed"
    },
    "tags": []
   },
   "outputs": [
    {
     "data": {
      "text/plain": [
       "array([1, 1, 1, ..., 0, 0, 0])"
      ]
     },
     "execution_count": 19,
     "metadata": {},
     "output_type": "execute_result"
    }
   ],
   "source": [
    "## Diccionario que contiene las palabras unicas con el token asociado\n",
    "word_index['the']\n",
    "\n",
    "# Contiene los registros de texto tokenizados\n",
    "review_pad\n",
    "\n",
    "#Contiene el arreglo que indica si el sentimiento es positivo (1) o negativo (0)\n",
    "sentiment"
   ]
  },
  {
   "cell_type": "code",
   "execution_count": 20,
   "metadata": {
    "execution": {
     "iopub.execute_input": "2020-09-19T10:29:04.687189Z",
     "iopub.status.busy": "2020-09-19T10:29:04.666360Z",
     "iopub.status.idle": "2020-09-19T10:29:13.878954Z",
     "shell.execute_reply": "2020-09-19T10:29:13.878346Z"
    },
    "papermill": {
     "duration": 9.26472,
     "end_time": "2020-09-19T10:29:13.879074",
     "exception": false,
     "start_time": "2020-09-19T10:29:04.614354",
     "status": "completed"
    },
    "tags": []
   },
   "outputs": [],
   "source": [
    "num_words = len(word_index) + 1\n",
    "embedding_matrix = np.zeros((num_words, EMBEDDING_DIM))\n",
    "\n",
    "words_n = 0\n",
    "finde_n = 0\n",
    "for word, i in word_index.items():\n",
    "    words_n += 1\n",
    "    if i > num_words:\n",
    "        continue\n",
    "    embedding_vector = embedding_index.get(word)\n",
    "    if embedding_vector is not None:\n",
    "        finde_n += 1\n",
    "        embedding_matrix[i] = embedding_vector"
   ]
  },
  {
   "cell_type": "markdown",
   "metadata": {
    "papermill": {
     "duration": 0.039692,
     "end_time": "2020-09-19T10:29:13.959500",
     "exception": false,
     "start_time": "2020-09-19T10:29:13.919808",
     "status": "completed"
    },
    "tags": []
   },
   "source": [
    "## Obteniendo particiones para entrenamiento/validacion/pruebas"
   ]
  },
  {
   "cell_type": "code",
   "execution_count": 21,
   "metadata": {
    "execution": {
     "iopub.execute_input": "2020-09-19T10:29:14.049752Z",
     "iopub.status.busy": "2020-09-19T10:29:14.049174Z",
     "iopub.status.idle": "2020-09-19T10:29:14.055187Z",
     "shell.execute_reply": "2020-09-19T10:29:14.054579Z"
    },
    "papermill": {
     "duration": 0.056083,
     "end_time": "2020-09-19T10:29:14.055300",
     "exception": false,
     "start_time": "2020-09-19T10:29:13.999217",
     "status": "completed"
    },
    "tags": []
   },
   "outputs": [
    {
     "data": {
      "text/plain": [
       "(50000, 573)"
      ]
     },
     "execution_count": 21,
     "metadata": {},
     "output_type": "execute_result"
    }
   ],
   "source": [
    "review_pad.shape"
   ]
  },
  {
   "cell_type": "code",
   "execution_count": 22,
   "metadata": {
    "execution": {
     "iopub.execute_input": "2020-09-19T10:29:14.164699Z",
     "iopub.status.busy": "2020-09-19T10:29:14.163538Z",
     "iopub.status.idle": "2020-09-19T10:29:14.248655Z",
     "shell.execute_reply": "2020-09-19T10:29:14.248096Z"
    },
    "papermill": {
     "duration": 0.142756,
     "end_time": "2020-09-19T10:29:14.248761",
     "exception": false,
     "start_time": "2020-09-19T10:29:14.106005",
     "status": "completed"
    },
    "tags": []
   },
   "outputs": [],
   "source": [
    "X_train, X_test, y_train, y_test = train_test_split(review_pad, sentiment, test_size = 0.02, random_state = 0)\n",
    "X_train, X_val, y_train, y_val = train_test_split(X_train, y_train, test_size = 0.05, random_state = 0)"
   ]
  },
  {
   "cell_type": "code",
   "execution_count": 23,
   "metadata": {
    "execution": {
     "iopub.execute_input": "2020-09-19T10:29:14.338441Z",
     "iopub.status.busy": "2020-09-19T10:29:14.337644Z",
     "iopub.status.idle": "2020-09-19T10:29:14.342210Z",
     "shell.execute_reply": "2020-09-19T10:29:14.342961Z"
    },
    "papermill": {
     "duration": 0.053121,
     "end_time": "2020-09-19T10:29:14.343110",
     "exception": false,
     "start_time": "2020-09-19T10:29:14.289989",
     "status": "completed"
    },
    "tags": []
   },
   "outputs": [
    {
     "name": "stdout",
     "output_type": "stream",
     "text": [
      "(46550, 573)\n",
      "(46550,)\n",
      "(1000, 573)\n",
      "(1000,)\n",
      "(2450, 573)\n",
      "(2450,)\n"
     ]
    }
   ],
   "source": [
    "print(X_train.shape)\n",
    "print(y_train.shape)\n",
    "print(X_test.shape)\n",
    "print(y_test.shape)\n",
    "print(X_val.shape)\n",
    "print(y_val.shape)"
   ]
  },
  {
   "cell_type": "markdown",
   "metadata": {
    "papermill": {
     "duration": 0.041225,
     "end_time": "2020-09-19T10:29:14.426016",
     "exception": false,
     "start_time": "2020-09-19T10:29:14.384791",
     "status": "completed"
    },
    "tags": []
   },
   "source": [
    "## Creacion del modelo RNN usando GRU\n",
    "\n"
   ]
  },
  {
   "cell_type": "code",
   "execution_count": 24,
   "metadata": {
    "execution": {
     "iopub.execute_input": "2020-09-19T10:29:14.516021Z",
     "iopub.status.busy": "2020-09-19T10:29:14.515428Z",
     "iopub.status.idle": "2020-09-19T10:29:17.818140Z",
     "shell.execute_reply": "2020-09-19T10:29:17.817186Z"
    },
    "papermill": {
     "duration": 3.351146,
     "end_time": "2020-09-19T10:29:17.818273",
     "exception": false,
     "start_time": "2020-09-19T10:29:14.467127",
     "status": "completed"
    },
    "tags": []
   },
   "outputs": [],
   "source": [
    "modelo = Sequential()\n",
    "embedding_layer = Embedding(\n",
    "    num_words,\n",
    "    EMBEDDING_DIM,\n",
    "    embeddings_initializer=Constant(embedding_matrix),\n",
    "    input_length=max_length,\n",
    "    trainable=False,\n",
    ")\n",
    "\n",
    "modelo.add(embedding_layer)\n",
    "modelo.add(BatchNormalization())\n",
    "modelo.add(Dropout(0.2))\n",
    "modelo.add(GRU(units=32))\n",
    "modelo.add(BatchNormalization())\n",
    "modelo.add(Dropout(0.2))\n",
    "modelo.add(Dense(1, activation='sigmoid'))\n",
    "\n",
    "optimizer = Adam(lr=0.0005)\n",
    "modelo.compile(loss='binary_crossentropy', optimizer='adam', metrics=['accuracy'])"
   ]
  },
  {
   "cell_type": "code",
   "execution_count": 25,
   "metadata": {
    "execution": {
     "iopub.execute_input": "2020-09-19T10:29:17.910689Z",
     "iopub.status.busy": "2020-09-19T10:29:17.909751Z",
     "iopub.status.idle": "2020-09-19T10:29:17.920342Z",
     "shell.execute_reply": "2020-09-19T10:29:17.919422Z"
    },
    "papermill": {
     "duration": 0.059664,
     "end_time": "2020-09-19T10:29:17.920442",
     "exception": false,
     "start_time": "2020-09-19T10:29:17.860778",
     "status": "completed"
    },
    "tags": []
   },
   "outputs": [
    {
     "name": "stdout",
     "output_type": "stream",
     "text": [
      "Model: \"sequential\"\n",
      "_________________________________________________________________\n",
      "Layer (type)                 Output Shape              Param #   \n",
      "=================================================================\n",
      "embedding (Embedding)        (None, 573, 256)          31808768  \n",
      "_________________________________________________________________\n",
      "batch_normalization (BatchNo (None, 573, 256)          1024      \n",
      "_________________________________________________________________\n",
      "dropout (Dropout)            (None, 573, 256)          0         \n",
      "_________________________________________________________________\n",
      "gru (GRU)                    (None, 32)                27840     \n",
      "_________________________________________________________________\n",
      "batch_normalization_1 (Batch (None, 32)                128       \n",
      "_________________________________________________________________\n",
      "dropout_1 (Dropout)          (None, 32)                0         \n",
      "_________________________________________________________________\n",
      "dense (Dense)                (None, 1)                 33        \n",
      "=================================================================\n",
      "Total params: 31,837,793\n",
      "Trainable params: 28,449\n",
      "Non-trainable params: 31,809,344\n",
      "_________________________________________________________________\n"
     ]
    }
   ],
   "source": [
    "modelo.summary()"
   ]
  },
  {
   "cell_type": "markdown",
   "metadata": {
    "papermill": {
     "duration": 0.042511,
     "end_time": "2020-09-19T10:29:18.005909",
     "exception": false,
     "start_time": "2020-09-19T10:29:17.963398",
     "status": "completed"
    },
    "tags": []
   },
   "source": [
    "## Entrenamiento"
   ]
  },
  {
   "cell_type": "code",
   "execution_count": 26,
   "metadata": {
    "execution": {
     "iopub.execute_input": "2020-09-19T10:29:18.097338Z",
     "iopub.status.busy": "2020-09-19T10:29:18.096593Z",
     "iopub.status.idle": "2020-09-19T10:37:14.456438Z",
     "shell.execute_reply": "2020-09-19T10:37:14.457072Z"
    },
    "papermill": {
     "duration": 476.408863,
     "end_time": "2020-09-19T10:37:14.457244",
     "exception": false,
     "start_time": "2020-09-19T10:29:18.048381",
     "status": "completed"
    },
    "tags": []
   },
   "outputs": [
    {
     "name": "stdout",
     "output_type": "stream",
     "text": [
      "Inicio entrenamiento...\n",
      "Epoch 1/30\n",
      "364/364 - 17s - loss: 0.7442 - accuracy: 0.5018 - val_loss: 0.6881 - val_accuracy: 0.5176\n",
      "Epoch 2/30\n",
      "364/364 - 16s - loss: 0.7067 - accuracy: 0.5078 - val_loss: 0.6913 - val_accuracy: 0.4992\n",
      "Epoch 3/30\n",
      "364/364 - 16s - loss: 0.6958 - accuracy: 0.5085 - val_loss: 0.6913 - val_accuracy: 0.4984\n",
      "Epoch 4/30\n",
      "364/364 - 16s - loss: 0.6909 - accuracy: 0.5080 - val_loss: 0.6909 - val_accuracy: 0.5131\n",
      "Epoch 5/30\n",
      "364/364 - 16s - loss: 0.6887 - accuracy: 0.5092 - val_loss: 0.6945 - val_accuracy: 0.5127\n",
      "Epoch 6/30\n",
      "364/364 - 16s - loss: 0.6868 - accuracy: 0.5128 - val_loss: 0.6924 - val_accuracy: 0.5147\n",
      "Epoch 7/30\n",
      "364/364 - 16s - loss: 0.6847 - accuracy: 0.5172 - val_loss: 0.6910 - val_accuracy: 0.5159\n",
      "Epoch 8/30\n",
      "364/364 - 16s - loss: 0.6830 - accuracy: 0.5153 - val_loss: 0.6951 - val_accuracy: 0.5029\n",
      "Epoch 9/30\n",
      "364/364 - 16s - loss: 0.6837 - accuracy: 0.5167 - val_loss: 0.6913 - val_accuracy: 0.5008\n",
      "Epoch 10/30\n",
      "364/364 - 16s - loss: 0.6806 - accuracy: 0.5181 - val_loss: 0.9430 - val_accuracy: 0.7273\n",
      "Epoch 11/30\n",
      "364/364 - 16s - loss: 0.5959 - accuracy: 0.7054 - val_loss: 0.5986 - val_accuracy: 0.6939\n",
      "Epoch 12/30\n",
      "364/364 - 17s - loss: 0.6124 - accuracy: 0.6609 - val_loss: 0.6000 - val_accuracy: 0.7147\n",
      "Epoch 13/30\n",
      "364/364 - 16s - loss: 0.5941 - accuracy: 0.6685 - val_loss: 0.5355 - val_accuracy: 0.7433\n",
      "Epoch 14/30\n",
      "364/364 - 16s - loss: 0.4929 - accuracy: 0.7724 - val_loss: 0.5890 - val_accuracy: 0.7478\n",
      "Epoch 15/30\n",
      "364/364 - 16s - loss: 0.4934 - accuracy: 0.7732 - val_loss: 0.4917 - val_accuracy: 0.7755\n",
      "Epoch 16/30\n",
      "364/364 - 17s - loss: 0.4714 - accuracy: 0.7862 - val_loss: 0.4328 - val_accuracy: 0.8114\n",
      "Epoch 17/30\n",
      "364/364 - 16s - loss: 0.4413 - accuracy: 0.8051 - val_loss: 0.4700 - val_accuracy: 0.7820\n",
      "Epoch 18/30\n",
      "364/364 - 16s - loss: 0.4439 - accuracy: 0.8005 - val_loss: 0.4452 - val_accuracy: 0.8167\n",
      "Epoch 19/30\n",
      "364/364 - 16s - loss: 0.4410 - accuracy: 0.8020 - val_loss: 0.4310 - val_accuracy: 0.8122\n",
      "Epoch 20/30\n",
      "364/364 - 17s - loss: 0.4432 - accuracy: 0.8012 - val_loss: 0.4549 - val_accuracy: 0.7894\n",
      "Epoch 21/30\n",
      "364/364 - 16s - loss: 0.4679 - accuracy: 0.7850 - val_loss: 0.5685 - val_accuracy: 0.7400\n",
      "Epoch 22/30\n",
      "364/364 - 16s - loss: 0.5108 - accuracy: 0.7650 - val_loss: 0.4926 - val_accuracy: 0.7759\n",
      "Epoch 23/30\n",
      "364/364 - 16s - loss: 0.4973 - accuracy: 0.7726 - val_loss: 0.4665 - val_accuracy: 0.7853\n",
      "Epoch 24/30\n",
      "364/364 - 16s - loss: 0.4712 - accuracy: 0.7838 - val_loss: 0.4462 - val_accuracy: 0.7931\n",
      "Epoch 25/30\n",
      "364/364 - 16s - loss: 0.4578 - accuracy: 0.7921 - val_loss: 0.4376 - val_accuracy: 0.8008\n",
      "Epoch 26/30\n",
      "364/364 - 16s - loss: 0.4555 - accuracy: 0.7915 - val_loss: 0.5663 - val_accuracy: 0.7469\n",
      "Epoch 27/30\n",
      "364/364 - 17s - loss: 0.5183 - accuracy: 0.7610 - val_loss: 0.5084 - val_accuracy: 0.7694\n",
      "Epoch 28/30\n",
      "364/364 - 16s - loss: 0.5192 - accuracy: 0.7612 - val_loss: 0.4974 - val_accuracy: 0.7682\n",
      "Epoch 29/30\n",
      "364/364 - 16s - loss: 0.5123 - accuracy: 0.7648 - val_loss: 0.4899 - val_accuracy: 0.7743\n"
     ]
    }
   ],
   "source": [
    "print('Inicio entrenamiento...')\n",
    "\n",
    "my_callbacks = [\n",
    "    EarlyStopping(patience=10),\n",
    "]\n",
    "bitacora = modelo.fit(X_train, y_train, batch_size=128, epochs=30, validation_data=(X_val, y_val), verbose=2, callbacks=my_callbacks)"
   ]
  },
  {
   "cell_type": "markdown",
   "metadata": {
    "papermill": {
     "duration": 0.068504,
     "end_time": "2020-09-19T10:37:14.588442",
     "exception": false,
     "start_time": "2020-09-19T10:37:14.519938",
     "status": "completed"
    },
    "tags": []
   },
   "source": [
    "## Graficando el error y la precision"
   ]
  },
  {
   "cell_type": "code",
   "execution_count": 27,
   "metadata": {
    "execution": {
     "iopub.execute_input": "2020-09-19T10:37:14.730458Z",
     "iopub.status.busy": "2020-09-19T10:37:14.729808Z",
     "iopub.status.idle": "2020-09-19T10:37:14.733920Z",
     "shell.execute_reply": "2020-09-19T10:37:14.733410Z"
    },
    "papermill": {
     "duration": 0.073875,
     "end_time": "2020-09-19T10:37:14.734025",
     "exception": false,
     "start_time": "2020-09-19T10:37:14.660150",
     "status": "completed"
    },
    "tags": []
   },
   "outputs": [],
   "source": [
    "import matplotlib.pyplot as plt"
   ]
  },
  {
   "cell_type": "code",
   "execution_count": 28,
   "metadata": {
    "execution": {
     "iopub.execute_input": "2020-09-19T10:37:14.868477Z",
     "iopub.status.busy": "2020-09-19T10:37:14.867850Z",
     "iopub.status.idle": "2020-09-19T10:37:15.228786Z",
     "shell.execute_reply": "2020-09-19T10:37:15.228254Z"
    },
    "papermill": {
     "duration": 0.431212,
     "end_time": "2020-09-19T10:37:15.228920",
     "exception": false,
     "start_time": "2020-09-19T10:37:14.797708",
     "status": "completed"
    },
    "tags": []
   },
   "outputs": [
    {
     "data": {
      "image/png": "[encoded data removed]",
      "text/plain": [
       "<Figure size 1440x288 with 2 Axes>"
      ]
     },
     "metadata": {
      "needs_background": "light"
     },
     "output_type": "display_data"
    }
   ],
   "source": [
    "fig, axs = plt.subplots(nrows=1, ncols=2, figsize=(20, 4))\n",
    "\n",
    "axs[0].plot(bitacora.history['loss'], label='loss')\n",
    "axs[0].plot(bitacora.history['val_loss'], label='val_loss')\n",
    "\n",
    "axs[1].plot(bitacora.history['accuracy'], label='acc')\n",
    "axs[1].plot(bitacora.history['val_accuracy'], label='val_acc')\n",
    "\n",
    "plt.legend();\n",
    "plt.show();"
   ]
  },
  {
   "cell_type": "markdown",
   "metadata": {
    "papermill": {
     "duration": 0.066629,
     "end_time": "2020-09-19T10:37:15.363063",
     "exception": false,
     "start_time": "2020-09-19T10:37:15.296434",
     "status": "completed"
    },
    "tags": []
   },
   "source": [
    "## Guardando el modelo / Recuperando el modelo\n",
    "Dado que ya supero el porcentaje minimo de exactitud solicitada, se procedera a almacenar el modelo"
   ]
  },
  {
   "cell_type": "code",
   "execution_count": 29,
   "metadata": {
    "execution": {
     "iopub.execute_input": "2020-09-19T10:37:15.517165Z",
     "iopub.status.busy": "2020-09-19T10:37:15.516533Z",
     "iopub.status.idle": "2020-09-19T10:37:33.578404Z",
     "shell.execute_reply": "2020-09-19T10:37:33.577261Z"
    },
    "papermill": {
     "duration": 18.145861,
     "end_time": "2020-09-19T10:37:33.578541",
     "exception": false,
     "start_time": "2020-09-19T10:37:15.432680",
     "status": "completed"
    },
    "tags": []
   },
   "outputs": [],
   "source": [
    "modelo.save('RNN-GRUModelo.h5')"
   ]
  },
  {
   "cell_type": "code",
   "execution_count": 30,
   "metadata": {
    "execution": {
     "iopub.execute_input": "2020-09-19T10:37:33.712313Z",
     "iopub.status.busy": "2020-09-19T10:37:33.711386Z",
     "iopub.status.idle": "2020-09-19T10:37:33.714004Z",
     "shell.execute_reply": "2020-09-19T10:37:33.713393Z"
    },
    "papermill": {
     "duration": 0.071302,
     "end_time": "2020-09-19T10:37:33.714108",
     "exception": false,
     "start_time": "2020-09-19T10:37:33.642806",
     "status": "completed"
    },
    "tags": []
   },
   "outputs": [],
   "source": [
    "#Cargamos nuevamente el modelo realizado. Activar solo si es necesario\n",
    "#from keras.models import load_model\n",
    "#modelo = load_model('CNN-Modelo.h5')"
   ]
  },
  {
   "cell_type": "markdown",
   "metadata": {
    "papermill": {
     "duration": 0.063772,
     "end_time": "2020-09-19T10:37:33.841176",
     "exception": false,
     "start_time": "2020-09-19T10:37:33.777404",
     "status": "completed"
    },
    "tags": []
   },
   "source": [
    "## Probando con datos de test y validando error/precision"
   ]
  },
  {
   "cell_type": "code",
   "execution_count": 31,
   "metadata": {
    "execution": {
     "iopub.execute_input": "2020-09-19T10:37:33.974355Z",
     "iopub.status.busy": "2020-09-19T10:37:33.973508Z",
     "iopub.status.idle": "2020-09-19T10:37:34.422310Z",
     "shell.execute_reply": "2020-09-19T10:37:34.423482Z"
    },
    "papermill": {
     "duration": 0.518702,
     "end_time": "2020-09-19T10:37:34.423625",
     "exception": false,
     "start_time": "2020-09-19T10:37:33.904923",
     "status": "completed"
    },
    "tags": []
   },
   "outputs": [
    {
     "name": "stdout",
     "output_type": "stream",
     "text": [
      "32/32 [==============================] - 0s 12ms/step - loss: 0.4968 - accuracy: 0.7730\n"
     ]
    }
   ],
   "source": [
    "metricasTest=modelo.evaluate(X_test,y_test)"
   ]
  },
  {
   "cell_type": "markdown",
   "metadata": {
    "papermill": {
     "duration": 0.065873,
     "end_time": "2020-09-19T10:37:34.556124",
     "exception": false,
     "start_time": "2020-09-19T10:37:34.490251",
     "status": "completed"
    },
    "tags": []
   },
   "source": [
    "Tiene un error de 0.24 y una precision de 91%"
   ]
  },
  {
   "cell_type": "markdown",
   "metadata": {
    "papermill": {
     "duration": 0.066132,
     "end_time": "2020-09-19T10:37:34.689151",
     "exception": false,
     "start_time": "2020-09-19T10:37:34.623019",
     "status": "completed"
    },
    "tags": []
   },
   "source": [
    "## Se procedera a realizar otro modelo esta vez usando BERT Model para ver si se obtienen mejores resultados\n",
    "\n",
    "Instalando librerias necesarias"
   ]
  },
  {
   "cell_type": "code",
   "execution_count": 32,
   "metadata": {
    "execution": {
     "iopub.execute_input": "2020-09-19T10:37:34.828449Z",
     "iopub.status.busy": "2020-09-19T10:37:34.827690Z",
     "iopub.status.idle": "2020-09-19T10:38:19.531781Z",
     "shell.execute_reply": "2020-09-19T10:38:19.530492Z"
    },
    "papermill": {
     "duration": 44.775496,
     "end_time": "2020-09-19T10:38:19.531954",
     "exception": false,
     "start_time": "2020-09-19T10:37:34.756458",
     "status": "completed"
    },
    "tags": []
   },
   "outputs": [
    {
     "name": "stdout",
     "output_type": "stream",
     "text": [
      "Collecting ktrain\r\n",
      "  Downloading ktrain-0.21.3.tar.gz (25.3 MB)\r\n",
      "\u001b[K     |████████████████████████████████| 25.3 MB 2.7 MB/s \r\n",
      "\u001b[?25hRequirement already satisfied: scikit-learn>=0.21.3 in /opt/conda/lib/python3.7/site-packages (from ktrain) (0.23.2)\r\n",
      "Requirement already satisfied: matplotlib>=3.0.0 in /opt/conda/lib/python3.7/site-packages (from ktrain) (3.2.1)\r\n",
      "Requirement already satisfied: pandas>=1.0.1 in /opt/conda/lib/python3.7/site-packages (from ktrain) (1.1.1)\r\n",
      "Requirement already satisfied: fastprogress>=0.1.21 in /opt/conda/lib/python3.7/site-packages (from ktrain) (1.0.0)\r\n",
      "Collecting keras_bert>=0.81.0\r\n",
      "  Downloading keras-bert-0.86.0.tar.gz (26 kB)\r\n",
      "Requirement already satisfied: requests in /opt/conda/lib/python3.7/site-packages (from ktrain) (2.23.0)\r\n",
      "Requirement already satisfied: joblib in /opt/conda/lib/python3.7/site-packages (from ktrain) (0.14.1)\r\n",
      "Collecting langdetect\r\n",
      "  Downloading langdetect-1.0.8.tar.gz (981 kB)\r\n",
      "\u001b[K     |████████████████████████████████| 981 kB 49.0 MB/s \r\n",
      "\u001b[?25hRequirement already satisfied: jieba in /opt/conda/lib/python3.7/site-packages (from ktrain) (0.42.1)\r\n",
      "Collecting cchardet\r\n",
      "  Downloading cchardet-2.1.6-cp37-cp37m-manylinux2010_x86_64.whl (242 kB)\r\n",
      "\u001b[K     |████████████████████████████████| 242 kB 54.8 MB/s \r\n",
      "\u001b[?25hRequirement already satisfied: networkx>=2.3 in /opt/conda/lib/python3.7/site-packages (from ktrain) (2.4)\r\n",
      "Requirement already satisfied: bokeh in /opt/conda/lib/python3.7/site-packages (from ktrain) (2.2.1)\r\n",
      "Collecting seqeval\r\n",
      "  Downloading seqeval-0.0.12.tar.gz (21 kB)\r\n",
      "Requirement already satisfied: packaging in /opt/conda/lib/python3.7/site-packages (from ktrain) (20.1)\r\n",
      "Collecting transformers>=3.1.0\r\n",
      "  Downloading transformers-3.1.0-py3-none-any.whl (884 kB)\r\n",
      "\u001b[K     |████████████████████████████████| 884 kB 28.5 MB/s \r\n",
      "\u001b[?25hRequirement already satisfied: ipython in /opt/conda/lib/python3.7/site-packages (from ktrain) (7.13.0)\r\n",
      "Collecting syntok\r\n",
      "  Downloading syntok-1.3.1.tar.gz (23 kB)\r\n",
      "Collecting whoosh\r\n",
      "  Downloading Whoosh-2.7.4-py2.py3-none-any.whl (468 kB)\r\n",
      "\u001b[K     |████████████████████████████████| 468 kB 46.9 MB/s \r\n",
      "\u001b[?25hRequirement already satisfied: scipy>=0.19.1 in /opt/conda/lib/python3.7/site-packages (from scikit-learn>=0.21.3->ktrain) (1.4.1)\r\n",
      "Requirement already satisfied: numpy>=1.13.3 in /opt/conda/lib/python3.7/site-packages (from scikit-learn>=0.21.3->ktrain) (1.18.5)\r\n",
      "Requirement already satisfied: threadpoolctl>=2.0.0 in /opt/conda/lib/python3.7/site-packages (from scikit-learn>=0.21.3->ktrain) (2.1.0)\r\n",
      "Requirement already satisfied: kiwisolver>=1.0.1 in /opt/conda/lib/python3.7/site-packages (from matplotlib>=3.0.0->ktrain) (1.2.0)\r\n",
      "Requirement already satisfied: cycler>=0.10 in /opt/conda/lib/python3.7/site-packages (from matplotlib>=3.0.0->ktrain) (0.10.0)\r\n",
      "Requirement already satisfied: pyparsing!=2.0.4,!=2.1.2,!=2.1.6,>=2.0.1 in /opt/conda/lib/python3.7/site-packages (from matplotlib>=3.0.0->ktrain) (2.4.7)\r\n",
      "Requirement already satisfied: python-dateutil>=2.1 in /opt/conda/lib/python3.7/site-packages (from matplotlib>=3.0.0->ktrain) (2.8.1)\r\n",
      "Requirement already satisfied: pytz>=2017.2 in /opt/conda/lib/python3.7/site-packages (from pandas>=1.0.1->ktrain) (2019.3)\r\n",
      "Requirement already satisfied: Keras>=2.4.3 in /opt/conda/lib/python3.7/site-packages (from keras_bert>=0.81.0->ktrain) (2.4.3)\r\n",
      "Collecting keras-transformer>=0.38.0\r\n",
      "  Downloading keras-transformer-0.38.0.tar.gz (11 kB)\r\n",
      "Requirement already satisfied: urllib3!=1.25.0,!=1.25.1,<1.26,>=1.21.1 in /opt/conda/lib/python3.7/site-packages (from requests->ktrain) (1.24.3)\r\n",
      "Requirement already satisfied: idna<3,>=2.5 in /opt/conda/lib/python3.7/site-packages (from requests->ktrain) (2.9)\r\n",
      "Requirement already satisfied: certifi>=2017.4.17 in /opt/conda/lib/python3.7/site-packages (from requests->ktrain) (2020.6.20)\r\n",
      "Requirement already satisfied: chardet<4,>=3.0.2 in /opt/conda/lib/python3.7/site-packages (from requests->ktrain) (3.0.4)\r\n",
      "Requirement already satisfied: six in /opt/conda/lib/python3.7/site-packages (from langdetect->ktrain) (1.14.0)\r\n",
      "Requirement already satisfied: decorator>=4.3.0 in /opt/conda/lib/python3.7/site-packages (from networkx>=2.3->ktrain) (4.4.2)\r\n",
      "Collecting tornado>=5.1\r\n",
      "  Downloading tornado-6.0.4.tar.gz (496 kB)\r\n",
      "\u001b[K     |████████████████████████████████| 496 kB 41.5 MB/s \r\n",
      "\u001b[?25hRequirement already satisfied: PyYAML>=3.10 in /opt/conda/lib/python3.7/site-packages (from bokeh->ktrain) (5.3.1)\r\n",
      "Requirement already satisfied: Jinja2>=2.7 in /opt/conda/lib/python3.7/site-packages (from bokeh->ktrain) (2.11.2)\r\n",
      "Requirement already satisfied: typing-extensions>=3.7.4 in /opt/conda/lib/python3.7/site-packages (from bokeh->ktrain) (3.7.4.1)\r\n",
      "Requirement already satisfied: pillow>=7.1.0 in /opt/conda/lib/python3.7/site-packages (from bokeh->ktrain) (7.2.0)\r\n",
      "Requirement already satisfied: regex!=2019.12.17 in /opt/conda/lib/python3.7/site-packages (from transformers>=3.1.0->ktrain) (2020.4.4)\r\n",
      "Requirement already satisfied: sacremoses in /opt/conda/lib/python3.7/site-packages (from transformers>=3.1.0->ktrain) (0.0.43)\r\n",
      "Requirement already satisfied: filelock in /opt/conda/lib/python3.7/site-packages (from transformers>=3.1.0->ktrain) (3.0.10)\r\n",
      "Requirement already satisfied: tqdm>=4.27 in /opt/conda/lib/python3.7/site-packages (from transformers>=3.1.0->ktrain) (4.45.0)\r\n",
      "Collecting tokenizers==0.8.1.rc2\r\n",
      "  Downloading tokenizers-0.8.1rc2-cp37-cp37m-manylinux1_x86_64.whl (3.0 MB)\r\n",
      "\u001b[K     |████████████████████████████████| 3.0 MB 27.4 MB/s \r\n",
      "\u001b[?25hRequirement already satisfied: sentencepiece!=0.1.92 in /opt/conda/lib/python3.7/site-packages (from transformers>=3.1.0->ktrain) (0.1.91)\r\n",
      "Requirement already satisfied: pygments in /opt/conda/lib/python3.7/site-packages (from ipython->ktrain) (2.6.1)\r\n",
      "Requirement already satisfied: pexpect; sys_platform != \"win32\" in /opt/conda/lib/python3.7/site-packages (from ipython->ktrain) (4.8.0)\r\n",
      "Requirement already satisfied: traitlets>=4.2 in /opt/conda/lib/python3.7/site-packages (from ipython->ktrain) (4.3.3)\r\n",
      "Requirement already satisfied: prompt-toolkit!=3.0.0,!=3.0.1,<3.1.0,>=2.0.0 in /opt/conda/lib/python3.7/site-packages (from ipython->ktrain) (3.0.5)\r\n",
      "Requirement already satisfied: pickleshare in /opt/conda/lib/python3.7/site-packages (from ipython->ktrain) (0.7.5)\r\n",
      "Requirement already satisfied: jedi>=0.10 in /opt/conda/lib/python3.7/site-packages (from ipython->ktrain) (0.15.2)\r\n",
      "Requirement already satisfied: backcall in /opt/conda/lib/python3.7/site-packages (from ipython->ktrain) (0.1.0)\r\n",
      "Requirement already satisfied: setuptools>=18.5 in /opt/conda/lib/python3.7/site-packages (from ipython->ktrain) (46.1.3.post20200325)\r\n",
      "Requirement already satisfied: h5py in /opt/conda/lib/python3.7/site-packages (from Keras>=2.4.3->keras_bert>=0.81.0->ktrain) (2.10.0)\r\n",
      "Collecting keras-pos-embd>=0.11.0\r\n",
      "  Downloading keras-pos-embd-0.11.0.tar.gz (5.9 kB)\r\n",
      "Collecting keras-multi-head>=0.27.0\r\n",
      "  Downloading keras-multi-head-0.27.0.tar.gz (14 kB)\r\n",
      "Collecting keras-layer-normalization>=0.14.0\r\n",
      "  Downloading keras-layer-normalization-0.14.0.tar.gz (4.3 kB)\r\n",
      "Collecting keras-position-wise-feed-forward>=0.6.0\r\n",
      "  Downloading keras-position-wise-feed-forward-0.6.0.tar.gz (4.4 kB)\r\n",
      "Collecting keras-embed-sim>=0.8.0\r\n",
      "  Downloading keras-embed-sim-0.8.0.tar.gz (4.1 kB)\r\n",
      "Requirement already satisfied: MarkupSafe>=0.23 in /opt/conda/lib/python3.7/site-packages (from Jinja2>=2.7->bokeh->ktrain) (1.1.1)\r\n",
      "Requirement already satisfied: click in /opt/conda/lib/python3.7/site-packages (from sacremoses->transformers>=3.1.0->ktrain) (7.1.1)\r\n",
      "Requirement already satisfied: ptyprocess>=0.5 in /opt/conda/lib/python3.7/site-packages (from pexpect; sys_platform != \"win32\"->ipython->ktrain) (0.6.0)\r\n",
      "Requirement already satisfied: ipython-genutils in /opt/conda/lib/python3.7/site-packages (from traitlets>=4.2->ipython->ktrain) (0.2.0)\r\n",
      "Requirement already satisfied: wcwidth in /opt/conda/lib/python3.7/site-packages (from prompt-toolkit!=3.0.0,!=3.0.1,<3.1.0,>=2.0.0->ipython->ktrain) (0.1.9)\r\n",
      "Requirement already satisfied: parso>=0.5.2 in /opt/conda/lib/python3.7/site-packages (from jedi>=0.10->ipython->ktrain) (0.5.2)\r\n",
      "Collecting keras-self-attention==0.46.0\r\n",
      "  Downloading keras-self-attention-0.46.0.tar.gz (10 kB)\r\n",
      "Building wheels for collected packages: ktrain, keras-bert, langdetect, seqeval, syntok, keras-transformer, tornado, keras-pos-embd, keras-multi-head, keras-layer-normalization, keras-position-wise-feed-forward, keras-embed-sim, keras-self-attention\r\n",
      "  Building wheel for ktrain (setup.py) ... \u001b[?25l-\b \b\\\b \b|\b \b/\b \b-\b \b\\\b \b|\b \bdone\r\n",
      "\u001b[?25h  Created wheel for ktrain: filename=ktrain-0.21.3-py3-none-any.whl size=25270202 sha256=5f8522513bd4a457f8d2c82c841e0b92e695e41b8051058c9c181f4b707fc631\r\n",
      "  Stored in directory: /root/.cache/pip/wheels/0c/98/fc/0738e516f4bdfea4812b28cd7a512104d8c1748a9da4373405\r\n",
      "  Building wheel for keras-bert (setup.py) ... \u001b[?25l-\b \b\\\b \bdone\r\n",
      "\u001b[?25h  Created wheel for keras-bert: filename=keras_bert-0.86.0-py3-none-any.whl size=34147 sha256=0bfb750f3e38c1614180b0ac6c4313edcf34785f169f1ff622bebea0e07ce7ea\r\n",
      "  Stored in directory: /root/.cache/pip/wheels/fc/c1/0a/eb9187261b3f192ac314aefb54fe66f50540c3edb906599633\r\n",
      "  Building wheel for langdetect (setup.py) ... \u001b[?25l-\b \b\\\b \b|\b \b/\b \bdone\r\n",
      "\u001b[?25h  Created wheel for langdetect: filename=langdetect-1.0.8-py3-none-any.whl size=993191 sha256=2cf7fe3e3b8826068a4e3e408a9596ab922c5380b2055a26349e68813a7d4f7c\r\n",
      "  Stored in directory: /root/.cache/pip/wheels/59/f6/9d/85068904dba861c0b9af74e286265a08da438748ee5ae56067\r\n",
      "  Building wheel for seqeval (setup.py) ... \u001b[?25l-\b \bdone\r\n",
      "\u001b[?25h  Created wheel for seqeval: filename=seqeval-0.0.12-py3-none-any.whl size=7423 sha256=bd87df7eddb54f1a97027d3b24366bfb3d32c9471b2c3cc392d0c22173eacfa4\r\n",
      "  Stored in directory: /root/.cache/pip/wheels/dc/cc/62/a3b81f92d35a80e39eb9b2a9d8b31abac54c02b21b2d466edc\r\n",
      "  Building wheel for syntok (setup.py) ... \u001b[?25l-\b \b\\\b \bdone\r\n",
      "\u001b[?25h  Created wheel for syntok: filename=syntok-1.3.1-py3-none-any.whl size=20916 sha256=c37a1528abc09b30aa43f2ac0500fd30333638731610cb402570925f2f048541\r\n",
      "  Stored in directory: /root/.cache/pip/wheels/5e/c2/33/e5d7d8f2f8b0c391d76bf82b844c3151bf23a84d75d02b185f\r\n",
      "  Building wheel for keras-transformer (setup.py) ... \u001b[?25l-\b \b\\\b \bdone\r\n",
      "\u001b[?25h  Created wheel for keras-transformer: filename=keras_transformer-0.38.0-py3-none-any.whl size=12941 sha256=d0061a7d5b7b4a5d689918e3db2c9f7efa90ecfa9c868995b1d850f0f3ef924a\r\n",
      "  Stored in directory: /root/.cache/pip/wheels/b3/67/58/bcfb43b6ab764496a446021a8d05991adffd48c16582381326\r\n",
      "  Building wheel for tornado (setup.py) ... \u001b[?25l-\b \b\\\b \b|\b \bdone\r\n",
      "\u001b[?25h  Created wheel for tornado: filename=tornado-6.0.4-cp37-cp37m-linux_x86_64.whl size=428634 sha256=03ec8eacfa7bba13102efc3af72551ded579e0521762df049581116375833eeb\r\n",
      "  Stored in directory: /root/.cache/pip/wheels/7d/14/fa/d88fb5da77d813ea0ffca38a2ab2a052874e9e1142bad0b348\r\n",
      "  Building wheel for keras-pos-embd (setup.py) ... \u001b[?25l-\b \b\\\b \bdone\r\n",
      "\u001b[?25h  Created wheel for keras-pos-embd: filename=keras_pos_embd-0.11.0-py3-none-any.whl size=7553 sha256=98164031251a7287f53c64a5c8110e64b0d8f4ede85a8324b39bc847c3c29c7f\r\n",
      "  Stored in directory: /root/.cache/pip/wheels/65/66/e9/c7eafddc29b81a98786f12b48a2aee7e3c633f6bf4a62cbc20\r\n",
      "  Building wheel for keras-multi-head (setup.py) ... \u001b[?25l-\b \b\\\b \bdone\r\n",
      "\u001b[?25h  Created wheel for keras-multi-head: filename=keras_multi_head-0.27.0-py3-none-any.whl size=15613 sha256=059fc73df31b3f9134c8d7808a2d36f00c35a949eaf9c1b876e85bd739799994\r\n",
      "  Stored in directory: /root/.cache/pip/wheels/21/38/cc/50e6d62d6d458e8223d3ddaef7c622b67ae57708193918051b\r\n",
      "  Building wheel for keras-layer-normalization (setup.py) ... \u001b[?25l-\b \b\\\b \bdone\r\n",
      "\u001b[?25h  Created wheel for keras-layer-normalization: filename=keras_layer_normalization-0.14.0-py3-none-any.whl size=5267 sha256=d9f2171ee1d2c2db5d6516e9056502c0e202ebc6032b2cbc8e06331daac239d4\r\n",
      "  Stored in directory: /root/.cache/pip/wheels/58/14/24/76b0d99b7d9cc17e110956e0fae825a5da3e70a60273220502\r\n",
      "  Building wheel for keras-position-wise-feed-forward (setup.py) ... \u001b[?25l-\b \b\\\b \bdone\r\n",
      "\u001b[?25h  Created wheel for keras-position-wise-feed-forward: filename=keras_position_wise_feed_forward-0.6.0-py3-none-any.whl size=5623 sha256=80dd5ed4df826ef242b4bc5cd11ef12aecb8f4e1b82da8163764d6fd3fbfee11\r\n",
      "  Stored in directory: /root/.cache/pip/wheels/9e/53/a2/651c985b605e6a6c48688c779808eb1956fabb910b0557d871\r\n",
      "  Building wheel for keras-embed-sim (setup.py) ... \u001b[?25l-\b \b\\\b \bdone\r\n",
      "\u001b[?25h  Created wheel for keras-embed-sim: filename=keras_embed_sim-0.8.0-py3-none-any.whl size=4558 sha256=fc6365fd527706329ce83a6a81ea5d97b0271aefd188195ba537a30b67bf12ca\r\n",
      "  Stored in directory: /root/.cache/pip/wheels/2d/31/2c/2d3fb4442f6112b92cd56bf801ff25421f302c755f935d4a79\r\n",
      "  Building wheel for keras-self-attention (setup.py) ... \u001b[?25l-\b \b\\\b \bdone\r\n",
      "\u001b[?25h  Created wheel for keras-self-attention: filename=keras_self_attention-0.46.0-py3-none-any.whl size=17278 sha256=1cc456e26d3294dd786530fb2e0949b55023771cb27c5daa382f237b9ef0a340\r\n",
      "  Stored in directory: /root/.cache/pip/wheels/ec/f7/48/30de93f8333298bad9202aab9b04db0cfd58dcd379b5a5ef1c\r\n",
      "Successfully built ktrain keras-bert langdetect seqeval syntok keras-transformer tornado keras-pos-embd keras-multi-head keras-layer-normalization keras-position-wise-feed-forward keras-embed-sim keras-self-attention\r\n",
      "Installing collected packages: keras-pos-embd, keras-self-attention, keras-multi-head, keras-layer-normalization, keras-position-wise-feed-forward, keras-embed-sim, keras-transformer, keras-bert, langdetect, cchardet, seqeval, tokenizers, transformers, syntok, whoosh, ktrain, tornado\r\n",
      "  Attempting uninstall: tokenizers\r\n",
      "    Found existing installation: tokenizers 0.7.0\r\n",
      "    Uninstalling tokenizers-0.7.0:\r\n",
      "      Successfully uninstalled tokenizers-0.7.0\r\n",
      "  Attempting uninstall: transformers\r\n",
      "    Found existing installation: transformers 2.11.0\r\n",
      "    Uninstalling transformers-2.11.0:\r\n",
      "      Successfully uninstalled transformers-2.11.0\r\n",
      "  Attempting uninstall: tornado\r\n",
      "    Found existing installation: tornado 5.0.2\r\n",
      "    Uninstalling tornado-5.0.2:\r\n",
      "      Successfully uninstalled tornado-5.0.2\r\n",
      "\u001b[31mERROR: After October 2020 you may experience errors when installing or updating packages. This is because pip will change the way that it resolves dependency conflicts.\r\n",
      "\r\n",
      "We recommend you use --use-feature=2020-resolver to test your packages with the new resolver before it becomes the default.\r\n",
      "\r\n",
      "jupyterlab-git 0.10.0 requires nbdime<2.0.0,>=1.1.0, but you'll have nbdime 2.0.0 which is incompatible.\r\n",
      "dask-xgboost 0.1.11 requires xgboost<=0.90, but you'll have xgboost 1.2.0 which is incompatible.\r\n",
      "allennlp 1.0.0 requires transformers<2.12,>=2.9, but you'll have transformers 3.1.0 which is incompatible.\u001b[0m\r\n",
      "Successfully installed cchardet-2.1.6 keras-bert-0.86.0 keras-embed-sim-0.8.0 keras-layer-normalization-0.14.0 keras-multi-head-0.27.0 keras-pos-embd-0.11.0 keras-position-wise-feed-forward-0.6.0 keras-self-attention-0.46.0 keras-transformer-0.38.0 ktrain-0.21.3 langdetect-1.0.8 seqeval-0.0.12 syntok-1.3.1 tokenizers-0.8.1rc2 tornado-6.0.4 transformers-3.1.0 whoosh-2.7.4\r\n",
      "\u001b[33mWARNING: You are using pip version 20.2.2; however, version 20.2.3 is available.\r\n",
      "You should consider upgrading via the '/opt/conda/bin/python3.7 -m pip install --upgrade pip' command.\u001b[0m\r\n"
     ]
    }
   ],
   "source": [
    "!pip3 install ktrain"
   ]
  },
  {
   "cell_type": "code",
   "execution_count": 33,
   "metadata": {
    "execution": {
     "iopub.execute_input": "2020-09-19T10:38:19.889617Z",
     "iopub.status.busy": "2020-09-19T10:38:19.888747Z",
     "iopub.status.idle": "2020-09-19T10:38:25.054022Z",
     "shell.execute_reply": "2020-09-19T10:38:25.052887Z"
    },
    "papermill": {
     "duration": 5.323995,
     "end_time": "2020-09-19T10:38:25.054155",
     "exception": false,
     "start_time": "2020-09-19T10:38:19.730160",
     "status": "completed"
    },
    "tags": []
   },
   "outputs": [
    {
     "name": "stderr",
     "output_type": "stream",
     "text": [
      "\u001b[34m\u001b[1mwandb\u001b[0m: \u001b[33mWARNING\u001b[0m W&B installed but not logged in.  Run `wandb login` or set the WANDB_API_KEY env variable.\n"
     ]
    }
   ],
   "source": [
    "import os.path\n",
    "import numpy as np\n",
    "import tensorflow as tf\n",
    "import ktrain\n",
    "from ktrain import text"
   ]
  },
  {
   "cell_type": "markdown",
   "metadata": {
    "papermill": {
     "duration": 0.116908,
     "end_time": "2020-09-19T10:38:25.324447",
     "exception": false,
     "start_time": "2020-09-19T10:38:25.207539",
     "status": "completed"
    },
    "tags": []
   },
   "source": [
    "## Creando datasets de training y de test"
   ]
  },
  {
   "cell_type": "code",
   "execution_count": 34,
   "metadata": {
    "execution": {
     "iopub.execute_input": "2020-09-19T10:38:25.568296Z",
     "iopub.status.busy": "2020-09-19T10:38:25.567298Z",
     "iopub.status.idle": "2020-09-19T10:38:25.571983Z",
     "shell.execute_reply": "2020-09-19T10:38:25.571473Z"
    },
    "papermill": {
     "duration": 0.133043,
     "end_time": "2020-09-19T10:38:25.572080",
     "exception": false,
     "start_time": "2020-09-19T10:38:25.439037",
     "status": "completed"
    },
    "tags": []
   },
   "outputs": [
    {
     "data": {
      "text/html": [
       "<div>\n",
       "<style scoped>\n",
       "    .dataframe tbody tr th:only-of-type {\n",
       "        vertical-align: middle;\n",
       "    }\n",
       "\n",
       "    .dataframe tbody tr th {\n",
       "        vertical-align: top;\n",
       "    }\n",
       "\n",
       "    .dataframe thead th {\n",
       "        text-align: right;\n",
       "    }\n",
       "</style>\n",
       "<table border=\"1\" class=\"dataframe\">\n",
       "  <thead>\n",
       "    <tr style=\"text-align: right;\">\n",
       "      <th></th>\n",
       "      <th>data_type</th>\n",
       "      <th>id</th>\n",
       "      <th>rating</th>\n",
       "      <th>text</th>\n",
       "      <th>sentimiento</th>\n",
       "      <th>Length</th>\n",
       "    </tr>\n",
       "  </thead>\n",
       "  <tbody>\n",
       "    <tr>\n",
       "      <th>0</th>\n",
       "      <td>train</td>\n",
       "      <td>pos_0</td>\n",
       "      <td>9</td>\n",
       "      <td>Bromwell High is a cartoon comedy. It ran at t...</td>\n",
       "      <td>1</td>\n",
       "      <td>140</td>\n",
       "    </tr>\n",
       "    <tr>\n",
       "      <th>1</th>\n",
       "      <td>train</td>\n",
       "      <td>pos_10000</td>\n",
       "      <td>8</td>\n",
       "      <td>Homelessness (or Houselessness as George Carli...</td>\n",
       "      <td>1</td>\n",
       "      <td>428</td>\n",
       "    </tr>\n",
       "    <tr>\n",
       "      <th>2</th>\n",
       "      <td>train</td>\n",
       "      <td>pos_10001</td>\n",
       "      <td>10</td>\n",
       "      <td>Brilliant over-acting by Lesley Ann Warren. Be...</td>\n",
       "      <td>1</td>\n",
       "      <td>147</td>\n",
       "    </tr>\n",
       "    <tr>\n",
       "      <th>3</th>\n",
       "      <td>train</td>\n",
       "      <td>pos_10002</td>\n",
       "      <td>7</td>\n",
       "      <td>This is easily the most underrated film inn th...</td>\n",
       "      <td>1</td>\n",
       "      <td>124</td>\n",
       "    </tr>\n",
       "    <tr>\n",
       "      <th>4</th>\n",
       "      <td>train</td>\n",
       "      <td>pos_10003</td>\n",
       "      <td>8</td>\n",
       "      <td>This is not the typical Mel Brooks film. It wa...</td>\n",
       "      <td>1</td>\n",
       "      <td>120</td>\n",
       "    </tr>\n",
       "  </tbody>\n",
       "</table>\n",
       "</div>"
      ],
      "text/plain": [
       "  data_type         id  rating  \\\n",
       "0     train      pos_0       9   \n",
       "1     train  pos_10000       8   \n",
       "2     train  pos_10001      10   \n",
       "3     train  pos_10002       7   \n",
       "4     train  pos_10003       8   \n",
       "\n",
       "                                                text  sentimiento  Length  \n",
       "0  Bromwell High is a cartoon comedy. It ran at t...            1     140  \n",
       "1  Homelessness (or Houselessness as George Carli...            1     428  \n",
       "2  Brilliant over-acting by Lesley Ann Warren. Be...            1     147  \n",
       "3  This is easily the most underrated film inn th...            1     124  \n",
       "4  This is not the typical Mel Brooks film. It wa...            1     120  "
      ]
     },
     "execution_count": 34,
     "metadata": {},
     "output_type": "execute_result"
    }
   ],
   "source": [
    "df_etiquetado.head()"
   ]
  },
  {
   "cell_type": "code",
   "execution_count": 35,
   "metadata": {
    "execution": {
     "iopub.execute_input": "2020-09-19T10:38:25.809262Z",
     "iopub.status.busy": "2020-09-19T10:38:25.808477Z",
     "iopub.status.idle": "2020-09-19T10:42:37.882508Z",
     "shell.execute_reply": "2020-09-19T10:42:37.881936Z"
    },
    "papermill": {
     "duration": 252.195571,
     "end_time": "2020-09-19T10:42:37.882628",
     "exception": false,
     "start_time": "2020-09-19T10:38:25.687057",
     "status": "completed"
    },
    "tags": []
   },
   "outputs": [
    {
     "name": "stdout",
     "output_type": "stream",
     "text": [
      "downloading pretrained BERT model (uncased_L-12_H-768_A-12.zip)...\n",
      "[██████████████████████████████████████████████████]\n",
      "extracting pretrained BERT model...\n",
      "done.\n",
      "\n",
      "cleanup downloaded zip...\n",
      "done.\n",
      "\n",
      "preprocessing train...\n",
      "language: en\n"
     ]
    },
    {
     "data": {
      "text/html": [
       "done."
      ],
      "text/plain": [
       "<IPython.core.display.HTML object>"
      ]
     },
     "metadata": {},
     "output_type": "display_data"
    },
    {
     "name": "stdout",
     "output_type": "stream",
     "text": [
      "Is Multi-Label? False\n",
      "preprocessing test...\n",
      "language: en\n"
     ]
    },
    {
     "data": {
      "text/html": [
       "done."
      ],
      "text/plain": [
       "<IPython.core.display.HTML object>"
      ]
     },
     "metadata": {},
     "output_type": "display_data"
    }
   ],
   "source": [
    "(X_train_bert,  y_train_bert), (X_val_bert, y_val_bert), preproc = text.texts_from_df(df_etiquetado,\n",
    "                                                                                     'text',\n",
    "                                                                                     label_columns = ['sentimiento'],\n",
    "                                                                                     preprocess_mode = 'bert',\n",
    "                                                                                     maxlen = 500)"
   ]
  },
  {
   "cell_type": "markdown",
   "metadata": {
    "papermill": {
     "duration": 0.250894,
     "end_time": "2020-09-19T10:42:38.385056",
     "exception": false,
     "start_time": "2020-09-19T10:42:38.134162",
     "status": "completed"
    },
    "tags": []
   },
   "source": [
    "## Construyendo el modelo BERT"
   ]
  },
  {
   "cell_type": "code",
   "execution_count": 36,
   "metadata": {
    "execution": {
     "iopub.execute_input": "2020-09-19T10:42:38.894642Z",
     "iopub.status.busy": "2020-09-19T10:42:38.893797Z",
     "iopub.status.idle": "2020-09-19T10:42:50.474494Z",
     "shell.execute_reply": "2020-09-19T10:42:50.475067Z"
    },
    "papermill": {
     "duration": 11.839263,
     "end_time": "2020-09-19T10:42:50.475220",
     "exception": false,
     "start_time": "2020-09-19T10:42:38.635957",
     "status": "completed"
    },
    "tags": []
   },
   "outputs": [
    {
     "name": "stdout",
     "output_type": "stream",
     "text": [
      "Is Multi-Label? False\n",
      "maxlen is 500\n",
      "done.\n"
     ]
    }
   ],
   "source": [
    "modeloBert = text.text_classifier(name='bert',\n",
    "                             train_data=(X_train_bert, y_train_bert),\n",
    "                             preproc=preproc)"
   ]
  },
  {
   "cell_type": "markdown",
   "metadata": {
    "papermill": {
     "duration": 0.258509,
     "end_time": "2020-09-19T10:42:50.995352",
     "exception": false,
     "start_time": "2020-09-19T10:42:50.736843",
     "status": "completed"
    },
    "tags": []
   },
   "source": [
    "## Entrenando el modelo BERT"
   ]
  },
  {
   "cell_type": "code",
   "execution_count": 37,
   "metadata": {
    "execution": {
     "iopub.execute_input": "2020-09-19T10:42:51.520642Z",
     "iopub.status.busy": "2020-09-19T10:42:51.519807Z",
     "iopub.status.idle": "2020-09-19T10:42:52.418109Z",
     "shell.execute_reply": "2020-09-19T10:42:52.416914Z"
    },
    "papermill": {
     "duration": 1.163822,
     "end_time": "2020-09-19T10:42:52.418245",
     "exception": false,
     "start_time": "2020-09-19T10:42:51.254423",
     "status": "completed"
    },
    "tags": []
   },
   "outputs": [
    {
     "name": "stderr",
     "output_type": "stream",
     "text": [
      "/opt/conda/lib/python3.7/site-packages/ktrain/__init__.py:94: UserWarning: For a GPU with 12GB of RAM, the following maxima apply:\n",
      "        sequence len=64, max_batch_size=64\n",
      "        sequence len=128, max_batch_size=32\n",
      "        sequence len=256, max_batch_size=16\n",
      "        sequence len=320, max_batch_size=14\n",
      "        sequence len=384, max_batch_size=12\n",
      "        sequence len=512, max_batch_size=6\n",
      "        \n",
      "        You've exceeded these limits.\n",
      "        If using a GPU with <=12GB of memory, you may run out of memory during training.\n",
      "        If necessary, adjust sequence length or batch size based on above.\n",
      "  if wrn: I.warnings.warn(msg)\n"
     ]
    }
   ],
   "source": [
    "learner = ktrain.get_learner(model=modeloBert,\n",
    "                             train_data=(X_train_bert, y_train_bert),\n",
    "                             val_data=(X_val_bert, y_val_bert),\n",
    "                             batch_size=32)"
   ]
  },
  {
   "cell_type": "code",
   "execution_count": 38,
   "metadata": {
    "execution": {
     "iopub.execute_input": "2020-09-19T10:42:52.942062Z",
     "iopub.status.busy": "2020-09-19T10:42:52.940844Z",
     "iopub.status.idle": "2020-09-19T10:43:25.048210Z",
     "shell.execute_reply": "2020-09-19T10:43:25.048953Z"
    },
    "papermill": {
     "duration": 32.370972,
     "end_time": "2020-09-19T10:43:25.049117",
     "exception": false,
     "start_time": "2020-09-19T10:42:52.678145",
     "status": "completed"
    },
    "tags": []
   },
   "outputs": [
    {
     "name": "stdout",
     "output_type": "stream",
     "text": [
      "\n",
      "\n",
      "begin training using onecycle policy with max lr of 2e-05...\n"
     ]
    },
    {
     "ename": "ResourceExhaustedError",
     "evalue": "2 root error(s) found.\n  (0) Resource exhausted:  OOM when allocating tensor with shape[32,500,3072] and type float on /job:localhost/replica:0/task:0/device:GPU:0 by allocator GPU_0_bfc\n\t [[node functional_3/Encoder-4-FeedForward/mul_5 (defined at /opt/conda/lib/python3.7/site-packages/keras_transformer/gelu.py:10) ]]\nHint: If you want to see a list of allocated tensors when OOM happens, add report_tensor_allocations_upon_oom to RunOptions for current allocation info.\n\n\t [[gradient_tape/functional_3/Embedding-Token/embedding_lookup/Reshape/_172]]\nHint: If you want to see a list of allocated tensors when OOM happens, add report_tensor_allocations_upon_oom to RunOptions for current allocation info.\n\n  (1) Resource exhausted:  OOM when allocating tensor with shape[32,500,3072] and type float on /job:localhost/replica:0/task:0/device:GPU:0 by allocator GPU_0_bfc\n\t [[node functional_3/Encoder-4-FeedForward/mul_5 (defined at /opt/conda/lib/python3.7/site-packages/keras_transformer/gelu.py:10) ]]\nHint: If you want to see a list of allocated tensors when OOM happens, add report_tensor_allocations_upon_oom to RunOptions for current allocation info.\n\n0 successful operations.\n0 derived errors ignored. [Op:__inference_train_function_62936]\n\nFunction call stack:\ntrain_function -> train_function\n",
     "output_type": "error",
     "traceback": [
      "\u001b[0;31m---------------------------------------------------------------------------\u001b[0m",
      "\u001b[0;31mResourceExhaustedError\u001b[0m                    Traceback (most recent call last)",
      "\u001b[0;32m<ipython-input-38-cadaa7f8c60f>\u001b[0m in \u001b[0;36m<module>\u001b[0;34m\u001b[0m\n\u001b[1;32m      1\u001b[0m learner.fit_onecycle(lr=2e-5,\n\u001b[0;32m----> 2\u001b[0;31m                      epochs=1)\n\u001b[0m",
      "\u001b[0;32m/opt/conda/lib/python3.7/site-packages/ktrain/core.py\u001b[0m in \u001b[0;36mfit_onecycle\u001b[0;34m(self, lr, epochs, checkpoint_folder, cycle_momentum, max_momentum, min_momentum, verbose, class_weight, callbacks)\u001b[0m\n\u001b[1;32m    860\u001b[0m         hist = self.fit(lr, epochs, early_stopping=None,\n\u001b[1;32m    861\u001b[0m                         \u001b[0mcheckpoint_folder\u001b[0m\u001b[0;34m=\u001b[0m\u001b[0mcheckpoint_folder\u001b[0m\u001b[0;34m,\u001b[0m\u001b[0;34m\u001b[0m\u001b[0;34m\u001b[0m\u001b[0m\n\u001b[0;32m--> 862\u001b[0;31m                         verbose=verbose, class_weight=class_weight, callbacks=kcallbacks)\n\u001b[0m\u001b[1;32m    863\u001b[0m         \u001b[0mhist\u001b[0m\u001b[0;34m.\u001b[0m\u001b[0mhistory\u001b[0m\u001b[0;34m[\u001b[0m\u001b[0;34m'lr'\u001b[0m\u001b[0;34m]\u001b[0m \u001b[0;34m=\u001b[0m \u001b[0mclr\u001b[0m\u001b[0;34m.\u001b[0m\u001b[0mhistory\u001b[0m\u001b[0;34m[\u001b[0m\u001b[0;34m'lr'\u001b[0m\u001b[0;34m]\u001b[0m\u001b[0;34m\u001b[0m\u001b[0;34m\u001b[0m\u001b[0m\n\u001b[1;32m    864\u001b[0m         \u001b[0mhist\u001b[0m\u001b[0;34m.\u001b[0m\u001b[0mhistory\u001b[0m\u001b[0;34m[\u001b[0m\u001b[0;34m'iterations'\u001b[0m\u001b[0;34m]\u001b[0m \u001b[0;34m=\u001b[0m \u001b[0mclr\u001b[0m\u001b[0;34m.\u001b[0m\u001b[0mhistory\u001b[0m\u001b[0;34m[\u001b[0m\u001b[0;34m'iterations'\u001b[0m\u001b[0;34m]\u001b[0m\u001b[0;34m\u001b[0m\u001b[0;34m\u001b[0m\u001b[0m\n",
      "\u001b[0;32m/opt/conda/lib/python3.7/site-packages/ktrain/core.py\u001b[0m in \u001b[0;36mfit\u001b[0;34m(self, lr, n_cycles, cycle_len, cycle_mult, lr_decay, checkpoint_folder, early_stopping, verbose, class_weight, callbacks)\u001b[0m\n\u001b[1;32m   1127\u001b[0m                                   \u001b[0mshuffle\u001b[0m\u001b[0;34m=\u001b[0m\u001b[0;32mTrue\u001b[0m\u001b[0;34m,\u001b[0m\u001b[0;34m\u001b[0m\u001b[0;34m\u001b[0m\u001b[0m\n\u001b[1;32m   1128\u001b[0m                                   \u001b[0mclass_weight\u001b[0m\u001b[0;34m=\u001b[0m\u001b[0mclass_weight\u001b[0m\u001b[0;34m,\u001b[0m\u001b[0;34m\u001b[0m\u001b[0;34m\u001b[0m\u001b[0m\n\u001b[0;32m-> 1129\u001b[0;31m                                   callbacks=kcallbacks)\n\u001b[0m\u001b[1;32m   1130\u001b[0m \u001b[0;34m\u001b[0m\u001b[0m\n\u001b[1;32m   1131\u001b[0m         \u001b[0;32mif\u001b[0m \u001b[0msgdr\u001b[0m \u001b[0;32mis\u001b[0m \u001b[0;32mnot\u001b[0m \u001b[0;32mNone\u001b[0m\u001b[0;34m:\u001b[0m \u001b[0mhist\u001b[0m\u001b[0;34m.\u001b[0m\u001b[0mhistory\u001b[0m\u001b[0;34m[\u001b[0m\u001b[0;34m'lr'\u001b[0m\u001b[0;34m]\u001b[0m \u001b[0;34m=\u001b[0m \u001b[0msgdr\u001b[0m\u001b[0;34m.\u001b[0m\u001b[0mhistory\u001b[0m\u001b[0;34m[\u001b[0m\u001b[0;34m'lr'\u001b[0m\u001b[0;34m]\u001b[0m\u001b[0;34m\u001b[0m\u001b[0;34m\u001b[0m\u001b[0m\n",
      "\u001b[0;32m/opt/conda/lib/python3.7/site-packages/tensorflow/python/keras/engine/training.py\u001b[0m in \u001b[0;36m_method_wrapper\u001b[0;34m(self, *args, **kwargs)\u001b[0m\n\u001b[1;32m    106\u001b[0m   \u001b[0;32mdef\u001b[0m \u001b[0m_method_wrapper\u001b[0m\u001b[0;34m(\u001b[0m\u001b[0mself\u001b[0m\u001b[0;34m,\u001b[0m \u001b[0;34m*\u001b[0m\u001b[0margs\u001b[0m\u001b[0;34m,\u001b[0m \u001b[0;34m**\u001b[0m\u001b[0mkwargs\u001b[0m\u001b[0;34m)\u001b[0m\u001b[0;34m:\u001b[0m\u001b[0;34m\u001b[0m\u001b[0;34m\u001b[0m\u001b[0m\n\u001b[1;32m    107\u001b[0m     \u001b[0;32mif\u001b[0m \u001b[0;32mnot\u001b[0m \u001b[0mself\u001b[0m\u001b[0;34m.\u001b[0m\u001b[0m_in_multi_worker_mode\u001b[0m\u001b[0;34m(\u001b[0m\u001b[0;34m)\u001b[0m\u001b[0;34m:\u001b[0m  \u001b[0;31m# pylint: disable=protected-access\u001b[0m\u001b[0;34m\u001b[0m\u001b[0;34m\u001b[0m\u001b[0m\n\u001b[0;32m--> 108\u001b[0;31m       \u001b[0;32mreturn\u001b[0m \u001b[0mmethod\u001b[0m\u001b[0;34m(\u001b[0m\u001b[0mself\u001b[0m\u001b[0;34m,\u001b[0m \u001b[0;34m*\u001b[0m\u001b[0margs\u001b[0m\u001b[0;34m,\u001b[0m \u001b[0;34m**\u001b[0m\u001b[0mkwargs\u001b[0m\u001b[0;34m)\u001b[0m\u001b[0;34m\u001b[0m\u001b[0;34m\u001b[0m\u001b[0m\n\u001b[0m\u001b[1;32m    109\u001b[0m \u001b[0;34m\u001b[0m\u001b[0m\n\u001b[1;32m    110\u001b[0m     \u001b[0;31m# Running inside `run_distribute_coordinator` already.\u001b[0m\u001b[0;34m\u001b[0m\u001b[0;34m\u001b[0m\u001b[0;34m\u001b[0m\u001b[0m\n",
      "\u001b[0;32m/opt/conda/lib/python3.7/site-packages/tensorflow/python/keras/engine/training.py\u001b[0m in \u001b[0;36mfit\u001b[0;34m(self, x, y, batch_size, epochs, verbose, callbacks, validation_split, validation_data, shuffle, class_weight, sample_weight, initial_epoch, steps_per_epoch, validation_steps, validation_batch_size, validation_freq, max_queue_size, workers, use_multiprocessing)\u001b[0m\n\u001b[1;32m   1096\u001b[0m                 batch_size=batch_size):\n\u001b[1;32m   1097\u001b[0m               \u001b[0mcallbacks\u001b[0m\u001b[0;34m.\u001b[0m\u001b[0mon_train_batch_begin\u001b[0m\u001b[0;34m(\u001b[0m\u001b[0mstep\u001b[0m\u001b[0;34m)\u001b[0m\u001b[0;34m\u001b[0m\u001b[0;34m\u001b[0m\u001b[0m\n\u001b[0;32m-> 1098\u001b[0;31m               \u001b[0mtmp_logs\u001b[0m \u001b[0;34m=\u001b[0m \u001b[0mtrain_function\u001b[0m\u001b[0;34m(\u001b[0m\u001b[0miterator\u001b[0m\u001b[0;34m)\u001b[0m\u001b[0;34m\u001b[0m\u001b[0;34m\u001b[0m\u001b[0m\n\u001b[0m\u001b[1;32m   1099\u001b[0m               \u001b[0;32mif\u001b[0m \u001b[0mdata_handler\u001b[0m\u001b[0;34m.\u001b[0m\u001b[0mshould_sync\u001b[0m\u001b[0;34m:\u001b[0m\u001b[0;34m\u001b[0m\u001b[0;34m\u001b[0m\u001b[0m\n\u001b[1;32m   1100\u001b[0m                 \u001b[0mcontext\u001b[0m\u001b[0;34m.\u001b[0m\u001b[0masync_wait\u001b[0m\u001b[0;34m(\u001b[0m\u001b[0;34m)\u001b[0m\u001b[0;34m\u001b[0m\u001b[0;34m\u001b[0m\u001b[0m\n",
      "\u001b[0;32m/opt/conda/lib/python3.7/site-packages/tensorflow/python/eager/def_function.py\u001b[0m in \u001b[0;36m__call__\u001b[0;34m(self, *args, **kwds)\u001b[0m\n\u001b[1;32m    778\u001b[0m       \u001b[0;32melse\u001b[0m\u001b[0;34m:\u001b[0m\u001b[0;34m\u001b[0m\u001b[0;34m\u001b[0m\u001b[0m\n\u001b[1;32m    779\u001b[0m         \u001b[0mcompiler\u001b[0m \u001b[0;34m=\u001b[0m \u001b[0;34m\"nonXla\"\u001b[0m\u001b[0;34m\u001b[0m\u001b[0;34m\u001b[0m\u001b[0m\n\u001b[0;32m--> 780\u001b[0;31m         \u001b[0mresult\u001b[0m \u001b[0;34m=\u001b[0m \u001b[0mself\u001b[0m\u001b[0;34m.\u001b[0m\u001b[0m_call\u001b[0m\u001b[0;34m(\u001b[0m\u001b[0;34m*\u001b[0m\u001b[0margs\u001b[0m\u001b[0;34m,\u001b[0m \u001b[0;34m**\u001b[0m\u001b[0mkwds\u001b[0m\u001b[0;34m)\u001b[0m\u001b[0;34m\u001b[0m\u001b[0;34m\u001b[0m\u001b[0m\n\u001b[0m\u001b[1;32m    781\u001b[0m \u001b[0;34m\u001b[0m\u001b[0m\n\u001b[1;32m    782\u001b[0m       \u001b[0mnew_tracing_count\u001b[0m \u001b[0;34m=\u001b[0m \u001b[0mself\u001b[0m\u001b[0;34m.\u001b[0m\u001b[0m_get_tracing_count\u001b[0m\u001b[0;34m(\u001b[0m\u001b[0;34m)\u001b[0m\u001b[0;34m\u001b[0m\u001b[0;34m\u001b[0m\u001b[0m\n",
      "\u001b[0;32m/opt/conda/lib/python3.7/site-packages/tensorflow/python/eager/def_function.py\u001b[0m in \u001b[0;36m_call\u001b[0;34m(self, *args, **kwds)\u001b[0m\n\u001b[1;32m    838\u001b[0m         \u001b[0;31m# Lifting succeeded, so variables are initialized and we can run the\u001b[0m\u001b[0;34m\u001b[0m\u001b[0;34m\u001b[0m\u001b[0;34m\u001b[0m\u001b[0m\n\u001b[1;32m    839\u001b[0m         \u001b[0;31m# stateless function.\u001b[0m\u001b[0;34m\u001b[0m\u001b[0;34m\u001b[0m\u001b[0;34m\u001b[0m\u001b[0m\n\u001b[0;32m--> 840\u001b[0;31m         \u001b[0;32mreturn\u001b[0m \u001b[0mself\u001b[0m\u001b[0;34m.\u001b[0m\u001b[0m_stateless_fn\u001b[0m\u001b[0;34m(\u001b[0m\u001b[0;34m*\u001b[0m\u001b[0margs\u001b[0m\u001b[0;34m,\u001b[0m \u001b[0;34m**\u001b[0m\u001b[0mkwds\u001b[0m\u001b[0;34m)\u001b[0m\u001b[0;34m\u001b[0m\u001b[0;34m\u001b[0m\u001b[0m\n\u001b[0m\u001b[1;32m    841\u001b[0m     \u001b[0;32melse\u001b[0m\u001b[0;34m:\u001b[0m\u001b[0;34m\u001b[0m\u001b[0;34m\u001b[0m\u001b[0m\n\u001b[1;32m    842\u001b[0m       \u001b[0mcanon_args\u001b[0m\u001b[0;34m,\u001b[0m \u001b[0mcanon_kwds\u001b[0m \u001b[0;34m=\u001b[0m\u001b[0;31m \u001b[0m\u001b[0;31m\\\u001b[0m\u001b[0;34m\u001b[0m\u001b[0;34m\u001b[0m\u001b[0m\n",
      "\u001b[0;32m/opt/conda/lib/python3.7/site-packages/tensorflow/python/eager/function.py\u001b[0m in \u001b[0;36m__call__\u001b[0;34m(self, *args, **kwargs)\u001b[0m\n\u001b[1;32m   2827\u001b[0m     \u001b[0;32mwith\u001b[0m \u001b[0mself\u001b[0m\u001b[0;34m.\u001b[0m\u001b[0m_lock\u001b[0m\u001b[0;34m:\u001b[0m\u001b[0;34m\u001b[0m\u001b[0;34m\u001b[0m\u001b[0m\n\u001b[1;32m   2828\u001b[0m       \u001b[0mgraph_function\u001b[0m\u001b[0;34m,\u001b[0m \u001b[0margs\u001b[0m\u001b[0;34m,\u001b[0m \u001b[0mkwargs\u001b[0m \u001b[0;34m=\u001b[0m \u001b[0mself\u001b[0m\u001b[0;34m.\u001b[0m\u001b[0m_maybe_define_function\u001b[0m\u001b[0;34m(\u001b[0m\u001b[0margs\u001b[0m\u001b[0;34m,\u001b[0m \u001b[0mkwargs\u001b[0m\u001b[0;34m)\u001b[0m\u001b[0;34m\u001b[0m\u001b[0;34m\u001b[0m\u001b[0m\n\u001b[0;32m-> 2829\u001b[0;31m     \u001b[0;32mreturn\u001b[0m \u001b[0mgraph_function\u001b[0m\u001b[0;34m.\u001b[0m\u001b[0m_filtered_call\u001b[0m\u001b[0;34m(\u001b[0m\u001b[0margs\u001b[0m\u001b[0;34m,\u001b[0m \u001b[0mkwargs\u001b[0m\u001b[0;34m)\u001b[0m  \u001b[0;31m# pylint: disable=protected-access\u001b[0m\u001b[0;34m\u001b[0m\u001b[0;34m\u001b[0m\u001b[0m\n\u001b[0m\u001b[1;32m   2830\u001b[0m \u001b[0;34m\u001b[0m\u001b[0m\n\u001b[1;32m   2831\u001b[0m   \u001b[0;34m@\u001b[0m\u001b[0mproperty\u001b[0m\u001b[0;34m\u001b[0m\u001b[0;34m\u001b[0m\u001b[0m\n",
      "\u001b[0;32m/opt/conda/lib/python3.7/site-packages/tensorflow/python/eager/function.py\u001b[0m in \u001b[0;36m_filtered_call\u001b[0;34m(self, args, kwargs, cancellation_manager)\u001b[0m\n\u001b[1;32m   1846\u001b[0m                            resource_variable_ops.BaseResourceVariable))],\n\u001b[1;32m   1847\u001b[0m         \u001b[0mcaptured_inputs\u001b[0m\u001b[0;34m=\u001b[0m\u001b[0mself\u001b[0m\u001b[0;34m.\u001b[0m\u001b[0mcaptured_inputs\u001b[0m\u001b[0;34m,\u001b[0m\u001b[0;34m\u001b[0m\u001b[0;34m\u001b[0m\u001b[0m\n\u001b[0;32m-> 1848\u001b[0;31m         cancellation_manager=cancellation_manager)\n\u001b[0m\u001b[1;32m   1849\u001b[0m \u001b[0;34m\u001b[0m\u001b[0m\n\u001b[1;32m   1850\u001b[0m   \u001b[0;32mdef\u001b[0m \u001b[0m_call_flat\u001b[0m\u001b[0;34m(\u001b[0m\u001b[0mself\u001b[0m\u001b[0;34m,\u001b[0m \u001b[0margs\u001b[0m\u001b[0;34m,\u001b[0m \u001b[0mcaptured_inputs\u001b[0m\u001b[0;34m,\u001b[0m \u001b[0mcancellation_manager\u001b[0m\u001b[0;34m=\u001b[0m\u001b[0;32mNone\u001b[0m\u001b[0;34m)\u001b[0m\u001b[0;34m:\u001b[0m\u001b[0;34m\u001b[0m\u001b[0;34m\u001b[0m\u001b[0m\n",
      "\u001b[0;32m/opt/conda/lib/python3.7/site-packages/tensorflow/python/eager/function.py\u001b[0m in \u001b[0;36m_call_flat\u001b[0;34m(self, args, captured_inputs, cancellation_manager)\u001b[0m\n\u001b[1;32m   1922\u001b[0m       \u001b[0;31m# No tape is watching; skip to running the function.\u001b[0m\u001b[0;34m\u001b[0m\u001b[0;34m\u001b[0m\u001b[0;34m\u001b[0m\u001b[0m\n\u001b[1;32m   1923\u001b[0m       return self._build_call_outputs(self._inference_function.call(\n\u001b[0;32m-> 1924\u001b[0;31m           ctx, args, cancellation_manager=cancellation_manager))\n\u001b[0m\u001b[1;32m   1925\u001b[0m     forward_backward = self._select_forward_and_backward_functions(\n\u001b[1;32m   1926\u001b[0m         \u001b[0margs\u001b[0m\u001b[0;34m,\u001b[0m\u001b[0;34m\u001b[0m\u001b[0;34m\u001b[0m\u001b[0m\n",
      "\u001b[0;32m/opt/conda/lib/python3.7/site-packages/tensorflow/python/eager/function.py\u001b[0m in \u001b[0;36mcall\u001b[0;34m(self, ctx, args, cancellation_manager)\u001b[0m\n\u001b[1;32m    548\u001b[0m               \u001b[0minputs\u001b[0m\u001b[0;34m=\u001b[0m\u001b[0margs\u001b[0m\u001b[0;34m,\u001b[0m\u001b[0;34m\u001b[0m\u001b[0;34m\u001b[0m\u001b[0m\n\u001b[1;32m    549\u001b[0m               \u001b[0mattrs\u001b[0m\u001b[0;34m=\u001b[0m\u001b[0mattrs\u001b[0m\u001b[0;34m,\u001b[0m\u001b[0;34m\u001b[0m\u001b[0;34m\u001b[0m\u001b[0m\n\u001b[0;32m--> 550\u001b[0;31m               ctx=ctx)\n\u001b[0m\u001b[1;32m    551\u001b[0m         \u001b[0;32melse\u001b[0m\u001b[0;34m:\u001b[0m\u001b[0;34m\u001b[0m\u001b[0;34m\u001b[0m\u001b[0m\n\u001b[1;32m    552\u001b[0m           outputs = execute.execute_with_cancellation(\n",
      "\u001b[0;32m/opt/conda/lib/python3.7/site-packages/tensorflow/python/eager/execute.py\u001b[0m in \u001b[0;36mquick_execute\u001b[0;34m(op_name, num_outputs, inputs, attrs, ctx, name)\u001b[0m\n\u001b[1;32m     58\u001b[0m     \u001b[0mctx\u001b[0m\u001b[0;34m.\u001b[0m\u001b[0mensure_initialized\u001b[0m\u001b[0;34m(\u001b[0m\u001b[0;34m)\u001b[0m\u001b[0;34m\u001b[0m\u001b[0;34m\u001b[0m\u001b[0m\n\u001b[1;32m     59\u001b[0m     tensors = pywrap_tfe.TFE_Py_Execute(ctx._handle, device_name, op_name,\n\u001b[0;32m---> 60\u001b[0;31m                                         inputs, attrs, num_outputs)\n\u001b[0m\u001b[1;32m     61\u001b[0m   \u001b[0;32mexcept\u001b[0m \u001b[0mcore\u001b[0m\u001b[0;34m.\u001b[0m\u001b[0m_NotOkStatusException\u001b[0m \u001b[0;32mas\u001b[0m \u001b[0me\u001b[0m\u001b[0;34m:\u001b[0m\u001b[0;34m\u001b[0m\u001b[0;34m\u001b[0m\u001b[0m\n\u001b[1;32m     62\u001b[0m     \u001b[0;32mif\u001b[0m \u001b[0mname\u001b[0m \u001b[0;32mis\u001b[0m \u001b[0;32mnot\u001b[0m \u001b[0;32mNone\u001b[0m\u001b[0;34m:\u001b[0m\u001b[0;34m\u001b[0m\u001b[0;34m\u001b[0m\u001b[0m\n",
      "\u001b[0;31mResourceExhaustedError\u001b[0m: 2 root error(s) found.\n  (0) Resource exhausted:  OOM when allocating tensor with shape[32,500,3072] and type float on /job:localhost/replica:0/task:0/device:GPU:0 by allocator GPU_0_bfc\n\t [[node functional_3/Encoder-4-FeedForward/mul_5 (defined at /opt/conda/lib/python3.7/site-packages/keras_transformer/gelu.py:10) ]]\nHint: If you want to see a list of allocated tensors when OOM happens, add report_tensor_allocations_upon_oom to RunOptions for current allocation info.\n\n\t [[gradient_tape/functional_3/Embedding-Token/embedding_lookup/Reshape/_172]]\nHint: If you want to see a list of allocated tensors when OOM happens, add report_tensor_allocations_upon_oom to RunOptions for current allocation info.\n\n  (1) Resource exhausted:  OOM when allocating tensor with shape[32,500,3072] and type float on /job:localhost/replica:0/task:0/device:GPU:0 by allocator GPU_0_bfc\n\t [[node functional_3/Encoder-4-FeedForward/mul_5 (defined at /opt/conda/lib/python3.7/site-packages/keras_transformer/gelu.py:10) ]]\nHint: If you want to see a list of allocated tensors when OOM happens, add report_tensor_allocations_upon_oom to RunOptions for current allocation info.\n\n0 successful operations.\n0 derived errors ignored. [Op:__inference_train_function_62936]\n\nFunction call stack:\ntrain_function -> train_function\n"
     ]
    }
   ],
   "source": [
    "learner.fit_onecycle(lr=2e-5,\n",
    "                     epochs=1)"
   ]
  }
 ],
 "metadata": {
  "kernelspec": {
   "display_name": "Python 3",
   "language": "python",
   "name": "python3"
  },
  "language_info": {
   "codemirror_mode": {
    "name": "ipython",
    "version": 3
   },
   "file_extension": ".py",
   "mimetype": "text/x-python",
   "name": "python",
   "nbconvert_exporter": "python",
   "pygments_lexer": "ipython3",
   "version": "3.7.6"
  },
  "papermill": {
   "duration": 1449.929015,
   "end_time": "2020-09-19T10:43:27.286904",
   "environment_variables": {},
   "exception": null,
   "input_path": "__notebook__.ipynb",
   "output_path": "__notebook__.ipynb",
   "parameters": {},
   "start_time": "2020-09-19T10:19:17.357889",
   "version": "2.1.0"
  }
 },
 "nbformat": 4,
 "nbformat_minor": 4
}
