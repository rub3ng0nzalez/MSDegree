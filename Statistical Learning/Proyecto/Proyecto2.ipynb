{
 "cells": [
  {
   "cell_type": "markdown",
   "metadata": {},
   "source": [
    "## Proyecto Titanic\n",
    "### Parte 2\n",
    "Ruben Gonzalez\n",
    "Statistical Learning I"
   ]
  },
  {
   "cell_type": "code",
   "execution_count": 1,
   "metadata": {},
   "outputs": [],
   "source": [
    "import numpy as np \n",
    "import tensorflow as tf \n",
    "import matplotlib.pyplot as plt \n",
    "import pandas as pd \n",
    "from sklearn.model_selection import train_test_split"
   ]
  },
  {
   "cell_type": "markdown",
   "metadata": {},
   "source": [
    "Primero se procedera a hacer Feature engineering de la data, ahora se usara todo el dataset y los datos a usar seran nuevos:\n",
    "\n",
    "### Feature engineering"
   ]
  },
  {
   "cell_type": "code",
   "execution_count": 2,
   "metadata": {},
   "outputs": [],
   "source": [
    "dataInicial = pd.read_csv('data_titanic_proyecto.csv')\n",
    "data=dataInicial.copy()\n",
    "data=data.loc[:, data.columns != 'PassengerId']\n",
    "data=data.loc[:, data.columns != 'Name']"
   ]
  },
  {
   "cell_type": "markdown",
   "metadata": {},
   "source": [
    "Ahora se buscaran las columnas que presentan valores nulos"
   ]
  },
  {
   "cell_type": "code",
   "execution_count": 3,
   "metadata": {},
   "outputs": [
    {
     "data": {
      "text/plain": [
       "['Age', 'Cabin', 'Embarked']"
      ]
     },
     "execution_count": 3,
     "metadata": {},
     "output_type": "execute_result"
    }
   ],
   "source": [
    "data.columns[data.isna().any()].tolist()"
   ]
  },
  {
   "cell_type": "markdown",
   "metadata": {},
   "source": [
    "Se crea una funcion que valide que tantos valores NAN hay en cada columna, esto para posterior analisis"
   ]
  },
  {
   "cell_type": "code",
   "execution_count": 4,
   "metadata": {},
   "outputs": [],
   "source": [
    "def PorcentajeNan(ColumnaNombre):\n",
    "    return data[ColumnaNombre].isnull().sum()/len(data)"
   ]
  },
  {
   "cell_type": "code",
   "execution_count": 5,
   "metadata": {},
   "outputs": [
    {
     "data": {
      "text/plain": [
       "0.19865319865319866"
      ]
     },
     "execution_count": 5,
     "metadata": {},
     "output_type": "execute_result"
    }
   ],
   "source": [
    "PorAge=PorcentajeNan('Age')\n",
    "PorAge"
   ]
  },
  {
   "cell_type": "code",
   "execution_count": 6,
   "metadata": {},
   "outputs": [
    {
     "data": {
      "text/plain": [
       "0.7710437710437711"
      ]
     },
     "execution_count": 6,
     "metadata": {},
     "output_type": "execute_result"
    }
   ],
   "source": [
    "PorCab=PorcentajeNan('Cabin')\n",
    "PorCab"
   ]
  },
  {
   "cell_type": "code",
   "execution_count": 7,
   "metadata": {},
   "outputs": [
    {
     "data": {
      "text/plain": [
       "0.002244668911335578"
      ]
     },
     "execution_count": 7,
     "metadata": {},
     "output_type": "execute_result"
    }
   ],
   "source": [
    "PorEmbarked=PorcentajeNan('Embarked')\n",
    "PorEmbarked"
   ]
  },
  {
   "cell_type": "markdown",
   "metadata": {},
   "source": [
    "Se realiza un analisis de la distribucion que presenta Age para llenar los datos nulos"
   ]
  },
  {
   "cell_type": "code",
   "execution_count": 8,
   "metadata": {},
   "outputs": [],
   "source": [
    "data=data.fillna({'Age':int(np.random.normal(data[\"Age\"].mean(), data[\"Age\"].std()))})"
   ]
  },
  {
   "cell_type": "markdown",
   "metadata": {},
   "source": [
    "El porcetaje de valores nulos en Cabin es demasiado alto por lo que llenarlo con valores podria traer imprecision a los modelos a realizar por lo que se descarta esa columna."
   ]
  },
  {
   "cell_type": "code",
   "execution_count": 9,
   "metadata": {},
   "outputs": [
    {
     "name": "stderr",
     "output_type": "stream",
     "text": [
      "C:\\Users\\ruben\\AppData\\Local\\Continuum\\anaconda3\\envs\\Galileo-Python\\lib\\site-packages\\numpy\\core\\fromnumeric.py:61: FutureWarning: \n",
      "The current behaviour of 'Series.argmax' is deprecated, use 'idxmax'\n",
      "instead.\n",
      "The behavior of 'argmax' will be corrected to return the positional\n",
      "maximum in the future. For now, use 'series.values.argmax' or\n",
      "'np.argmax(np.array(values))' to get the position of the maximum\n",
      "row.\n",
      "  return bound(*args, **kwds)\n"
     ]
    },
    {
     "data": {
      "text/plain": [
       "[]"
      ]
     },
     "execution_count": 9,
     "metadata": {},
     "output_type": "execute_result"
    }
   ],
   "source": [
    "data=data.loc[:, data.columns != 'Cabin']\n",
    "r= data[\"Embarked\"].value_counts()\n",
    "e=np.argmax(r)\n",
    "data=data.fillna({'Embarked':e})\n",
    "data.columns[data.isna().any()].tolist()"
   ]
  },
  {
   "cell_type": "markdown",
   "metadata": {},
   "source": [
    "Ahora se remueven todas aquellas columnas categoricas para colocarles valores numericos, esto para poder ser procesados por los algoritmos predictivos. Las columnas categoricas son Embarked, passenger_class, passenger_sex y passenger_survived"
   ]
  },
  {
   "cell_type": "code",
   "execution_count": 10,
   "metadata": {},
   "outputs": [],
   "source": [
    "data = pd.get_dummies(data, columns=[\"Embarked\"])\n",
    "data = pd.get_dummies(data, columns=[\"passenger_class\"])\n",
    "data[\"passenger_sex\"]=data[\"passenger_sex\"].astype(\"category\").cat.codes\n",
    "data[\"passenger_survived\"]=data[\"passenger_survived\"].astype(\"category\").cat.codes\n",
    "data[\"Ticket\"]=data[\"Ticket\"].astype(\"category\").cat.codes"
   ]
  },
  {
   "cell_type": "code",
   "execution_count": 11,
   "metadata": {},
   "outputs": [],
   "source": [
    "X_train = data.loc[:, data.columns != 'passenger_survived']\n",
    "Y_train = data['passenger_survived']"
   ]
  },
  {
   "cell_type": "code",
   "execution_count": 12,
   "metadata": {
    "scrolled": true
   },
   "outputs": [
    {
     "data": {
      "text/html": [
       "<div>\n",
       "<style scoped>\n",
       "    .dataframe tbody tr th:only-of-type {\n",
       "        vertical-align: middle;\n",
       "    }\n",
       "\n",
       "    .dataframe tbody tr th {\n",
       "        vertical-align: top;\n",
       "    }\n",
       "\n",
       "    .dataframe thead th {\n",
       "        text-align: right;\n",
       "    }\n",
       "</style>\n",
       "<table border=\"1\" class=\"dataframe\">\n",
       "  <thead>\n",
       "    <tr style=\"text-align: right;\">\n",
       "      <th></th>\n",
       "      <th>Age</th>\n",
       "      <th>SibSp</th>\n",
       "      <th>Parch</th>\n",
       "      <th>Ticket</th>\n",
       "      <th>Fare</th>\n",
       "      <th>passenger_sex</th>\n",
       "      <th>Embarked_C</th>\n",
       "      <th>Embarked_Q</th>\n",
       "      <th>Embarked_S</th>\n",
       "      <th>passenger_class_Lower</th>\n",
       "      <th>passenger_class_Middle</th>\n",
       "      <th>passenger_class_Upper</th>\n",
       "    </tr>\n",
       "  </thead>\n",
       "  <tbody>\n",
       "    <tr>\n",
       "      <th>0</th>\n",
       "      <td>22.0</td>\n",
       "      <td>1</td>\n",
       "      <td>0</td>\n",
       "      <td>523</td>\n",
       "      <td>7.2500</td>\n",
       "      <td>1</td>\n",
       "      <td>0</td>\n",
       "      <td>0</td>\n",
       "      <td>1</td>\n",
       "      <td>1</td>\n",
       "      <td>0</td>\n",
       "      <td>0</td>\n",
       "    </tr>\n",
       "    <tr>\n",
       "      <th>1</th>\n",
       "      <td>38.0</td>\n",
       "      <td>1</td>\n",
       "      <td>0</td>\n",
       "      <td>596</td>\n",
       "      <td>71.2833</td>\n",
       "      <td>0</td>\n",
       "      <td>1</td>\n",
       "      <td>0</td>\n",
       "      <td>0</td>\n",
       "      <td>0</td>\n",
       "      <td>0</td>\n",
       "      <td>1</td>\n",
       "    </tr>\n",
       "    <tr>\n",
       "      <th>2</th>\n",
       "      <td>26.0</td>\n",
       "      <td>0</td>\n",
       "      <td>0</td>\n",
       "      <td>669</td>\n",
       "      <td>7.9250</td>\n",
       "      <td>0</td>\n",
       "      <td>0</td>\n",
       "      <td>0</td>\n",
       "      <td>1</td>\n",
       "      <td>1</td>\n",
       "      <td>0</td>\n",
       "      <td>0</td>\n",
       "    </tr>\n",
       "    <tr>\n",
       "      <th>3</th>\n",
       "      <td>35.0</td>\n",
       "      <td>1</td>\n",
       "      <td>0</td>\n",
       "      <td>49</td>\n",
       "      <td>53.1000</td>\n",
       "      <td>0</td>\n",
       "      <td>0</td>\n",
       "      <td>0</td>\n",
       "      <td>1</td>\n",
       "      <td>0</td>\n",
       "      <td>0</td>\n",
       "      <td>1</td>\n",
       "    </tr>\n",
       "    <tr>\n",
       "      <th>4</th>\n",
       "      <td>35.0</td>\n",
       "      <td>0</td>\n",
       "      <td>0</td>\n",
       "      <td>472</td>\n",
       "      <td>8.0500</td>\n",
       "      <td>1</td>\n",
       "      <td>0</td>\n",
       "      <td>0</td>\n",
       "      <td>1</td>\n",
       "      <td>1</td>\n",
       "      <td>0</td>\n",
       "      <td>0</td>\n",
       "    </tr>\n",
       "    <tr>\n",
       "      <th>...</th>\n",
       "      <td>...</td>\n",
       "      <td>...</td>\n",
       "      <td>...</td>\n",
       "      <td>...</td>\n",
       "      <td>...</td>\n",
       "      <td>...</td>\n",
       "      <td>...</td>\n",
       "      <td>...</td>\n",
       "      <td>...</td>\n",
       "      <td>...</td>\n",
       "      <td>...</td>\n",
       "      <td>...</td>\n",
       "    </tr>\n",
       "    <tr>\n",
       "      <th>886</th>\n",
       "      <td>27.0</td>\n",
       "      <td>0</td>\n",
       "      <td>0</td>\n",
       "      <td>101</td>\n",
       "      <td>13.0000</td>\n",
       "      <td>1</td>\n",
       "      <td>0</td>\n",
       "      <td>0</td>\n",
       "      <td>1</td>\n",
       "      <td>0</td>\n",
       "      <td>1</td>\n",
       "      <td>0</td>\n",
       "    </tr>\n",
       "    <tr>\n",
       "      <th>887</th>\n",
       "      <td>19.0</td>\n",
       "      <td>0</td>\n",
       "      <td>0</td>\n",
       "      <td>14</td>\n",
       "      <td>30.0000</td>\n",
       "      <td>0</td>\n",
       "      <td>0</td>\n",
       "      <td>0</td>\n",
       "      <td>1</td>\n",
       "      <td>0</td>\n",
       "      <td>0</td>\n",
       "      <td>1</td>\n",
       "    </tr>\n",
       "    <tr>\n",
       "      <th>888</th>\n",
       "      <td>26.0</td>\n",
       "      <td>1</td>\n",
       "      <td>2</td>\n",
       "      <td>675</td>\n",
       "      <td>23.4500</td>\n",
       "      <td>0</td>\n",
       "      <td>0</td>\n",
       "      <td>0</td>\n",
       "      <td>1</td>\n",
       "      <td>1</td>\n",
       "      <td>0</td>\n",
       "      <td>0</td>\n",
       "    </tr>\n",
       "    <tr>\n",
       "      <th>889</th>\n",
       "      <td>26.0</td>\n",
       "      <td>0</td>\n",
       "      <td>0</td>\n",
       "      <td>8</td>\n",
       "      <td>30.0000</td>\n",
       "      <td>1</td>\n",
       "      <td>1</td>\n",
       "      <td>0</td>\n",
       "      <td>0</td>\n",
       "      <td>0</td>\n",
       "      <td>0</td>\n",
       "      <td>1</td>\n",
       "    </tr>\n",
       "    <tr>\n",
       "      <th>890</th>\n",
       "      <td>32.0</td>\n",
       "      <td>0</td>\n",
       "      <td>0</td>\n",
       "      <td>466</td>\n",
       "      <td>7.7500</td>\n",
       "      <td>1</td>\n",
       "      <td>0</td>\n",
       "      <td>1</td>\n",
       "      <td>0</td>\n",
       "      <td>1</td>\n",
       "      <td>0</td>\n",
       "      <td>0</td>\n",
       "    </tr>\n",
       "  </tbody>\n",
       "</table>\n",
       "<p>891 rows × 12 columns</p>\n",
       "</div>"
      ],
      "text/plain": [
       "      Age  SibSp  Parch  Ticket     Fare  passenger_sex  Embarked_C  \\\n",
       "0    22.0      1      0     523   7.2500              1           0   \n",
       "1    38.0      1      0     596  71.2833              0           1   \n",
       "2    26.0      0      0     669   7.9250              0           0   \n",
       "3    35.0      1      0      49  53.1000              0           0   \n",
       "4    35.0      0      0     472   8.0500              1           0   \n",
       "..    ...    ...    ...     ...      ...            ...         ...   \n",
       "886  27.0      0      0     101  13.0000              1           0   \n",
       "887  19.0      0      0      14  30.0000              0           0   \n",
       "888  26.0      1      2     675  23.4500              0           0   \n",
       "889  26.0      0      0       8  30.0000              1           1   \n",
       "890  32.0      0      0     466   7.7500              1           0   \n",
       "\n",
       "     Embarked_Q  Embarked_S  passenger_class_Lower  passenger_class_Middle  \\\n",
       "0             0           1                      1                       0   \n",
       "1             0           0                      0                       0   \n",
       "2             0           1                      1                       0   \n",
       "3             0           1                      0                       0   \n",
       "4             0           1                      1                       0   \n",
       "..          ...         ...                    ...                     ...   \n",
       "886           0           1                      0                       1   \n",
       "887           0           1                      0                       0   \n",
       "888           0           1                      1                       0   \n",
       "889           0           0                      0                       0   \n",
       "890           1           0                      1                       0   \n",
       "\n",
       "     passenger_class_Upper  \n",
       "0                        0  \n",
       "1                        1  \n",
       "2                        0  \n",
       "3                        1  \n",
       "4                        0  \n",
       "..                     ...  \n",
       "886                      0  \n",
       "887                      1  \n",
       "888                      0  \n",
       "889                      1  \n",
       "890                      0  \n",
       "\n",
       "[891 rows x 12 columns]"
      ]
     },
     "execution_count": 12,
     "metadata": {},
     "output_type": "execute_result"
    }
   ],
   "source": [
    "X_train"
   ]
  },
  {
   "cell_type": "markdown",
   "metadata": {},
   "source": [
    "Se genera data nueva de prueba"
   ]
  },
  {
   "cell_type": "code",
   "execution_count": 13,
   "metadata": {},
   "outputs": [
    {
     "data": {
      "text/html": [
       "<div>\n",
       "<style scoped>\n",
       "    .dataframe tbody tr th:only-of-type {\n",
       "        vertical-align: middle;\n",
       "    }\n",
       "\n",
       "    .dataframe tbody tr th {\n",
       "        vertical-align: top;\n",
       "    }\n",
       "\n",
       "    .dataframe thead th {\n",
       "        text-align: right;\n",
       "    }\n",
       "</style>\n",
       "<table border=\"1\" class=\"dataframe\">\n",
       "  <thead>\n",
       "    <tr style=\"text-align: right;\">\n",
       "      <th></th>\n",
       "      <th>Age</th>\n",
       "      <th>SibSp</th>\n",
       "      <th>Parch</th>\n",
       "      <th>Ticket</th>\n",
       "      <th>Fare</th>\n",
       "      <th>passenger_sex</th>\n",
       "      <th>Embarked_C</th>\n",
       "      <th>Embarked_Q</th>\n",
       "      <th>Embarked_S</th>\n",
       "      <th>passenger_class_Lower</th>\n",
       "      <th>passenger_class_Middle</th>\n",
       "      <th>passenger_class_Upper</th>\n",
       "    </tr>\n",
       "  </thead>\n",
       "  <tbody>\n",
       "    <tr>\n",
       "      <th>0</th>\n",
       "      <td>27</td>\n",
       "      <td>0</td>\n",
       "      <td>0</td>\n",
       "      <td>338</td>\n",
       "      <td>24.5</td>\n",
       "      <td>1</td>\n",
       "      <td>0</td>\n",
       "      <td>0</td>\n",
       "      <td>1</td>\n",
       "      <td>0</td>\n",
       "      <td>1</td>\n",
       "      <td>0</td>\n",
       "    </tr>\n",
       "  </tbody>\n",
       "</table>\n",
       "</div>"
      ],
      "text/plain": [
       "   Age  SibSp  Parch  Ticket  Fare  passenger_sex  Embarked_C  Embarked_Q  \\\n",
       "0   27      0      0     338  24.5              1           0           0   \n",
       "\n",
       "   Embarked_S  passenger_class_Lower  passenger_class_Middle  \\\n",
       "0           1                      0                       1   \n",
       "\n",
       "   passenger_class_Upper  \n",
       "0                      0  "
      ]
     },
     "execution_count": 13,
     "metadata": {},
     "output_type": "execute_result"
    }
   ],
   "source": [
    "xdata = {'Age':[27],'SibSp':[0], 'Parch':[0], 'Ticket':[338], 'Fare':[24.50000], 'passenger_sex':[1], \n",
    "        'Embarked_C':[0], 'Embarked_Q':[0], 'Embarked_S':[1], 'passenger_class_Lower':[0], 'passenger_class_Middle':[1],\n",
    "        'passenger_class_Upper':[0]}\n",
    "X_test = pd.DataFrame(xdata)\n",
    "X_test"
   ]
  },
  {
   "cell_type": "markdown",
   "metadata": {},
   "source": [
    "### Parte 2(Deployment , inferencia y predicción) :\n",
    "\n",
    "En un notebook distinto e independiente del usado \"simular\" como el modelo (resultado de combinar los mejores 4) puede ser usado para realizar predicciones en nuevos datos.\n"
   ]
  },
  {
   "cell_type": "markdown",
   "metadata": {},
   "source": [
    "#### SVM con SkitLearn"
   ]
  },
  {
   "cell_type": "code",
   "execution_count": 14,
   "metadata": {},
   "outputs": [],
   "source": [
    "from sklearn import svm"
   ]
  },
  {
   "cell_type": "code",
   "execution_count": 15,
   "metadata": {},
   "outputs": [],
   "source": [
    "def EntrenaSVM(X_Entrena, Y_Entrena, X_Valida, Y_Valida, Regularization, InKernel, Testing=False):\n",
    "    modelo = svm.SVC(kernel=InKernel,C=Regularization)\n",
    "    modelo.fit(X_Entrena, Y_Entrena)\n",
    "    Y_hat = modelo.predict(X_Valida)\n",
    "    if Testing == False:\n",
    "        cadenaConfig=\"kernel=\"+InKernel+\"_reg=\"+str(Regularization)\n",
    "        guardaExperimento(cadenaConfig,\"SVM\",Y_Valida,Y_hat)\n",
    "        return modelo\n",
    "    else:\n",
    "        return Y_hat"
   ]
  },
  {
   "cell_type": "markdown",
   "metadata": {},
   "source": [
    "#### Arbol de decision con skitlearn"
   ]
  },
  {
   "cell_type": "code",
   "execution_count": 16,
   "metadata": {},
   "outputs": [],
   "source": [
    "from sklearn import tree\n",
    "from sklearn.datasets import load_iris"
   ]
  },
  {
   "cell_type": "code",
   "execution_count": 17,
   "metadata": {},
   "outputs": [],
   "source": [
    "def EntrenaArbol(X_Entrena, Y_Entrena, X_Valida, Y_Valida,Incriterio,Testing=False, MaxDepth=None, MaxFeatures=None, MaxLeafNodes=None):\n",
    "    treeClassifier = tree.DecisionTreeClassifier(criterion=Incriterio,max_depth=MaxDepth, max_features=MaxFeatures,max_leaf_nodes=MaxLeafNodes)\n",
    "    treeClassifier.fit(X_Entrena, Y_Entrena)\n",
    "    Y_hat = treeClassifier.predict(X_Valida)\n",
    "    \n",
    "    #-----Lineas agregadas para generar el grafico\n",
    "    X_Entrena, Y_Entrena= load_iris(return_X_y=True)\n",
    "    treeClassifier = tree.DecisionTreeClassifier()\n",
    "    treeClassifier.fit(X_Entrena, Y_Entrena)\n",
    "    tree.plot_tree(treeClassifier, filled=True, proportion=True)\n",
    "    \n",
    "    \n",
    "    if Testing == False:\n",
    "        #Por la naturaleza del modelo, esta cadena siempre tendra la misma configuracion\n",
    "        cadenaConfig=\"criterio=\"+Incriterio+\"_maxDepth=\"+str(MaxDepth)+\"_maxFeatures=\"+str(MaxFeatures)+\"_maxLeafNodes=\"+str(MaxLeafNodes)\n",
    "    \n",
    "        #Se almacena el experimento\n",
    "        guardaExperimento(cadenaConfig,\"DecisionTree\", Y_Valida, Y_hat)\n",
    "        return treeClassifier\n",
    "    else:\n",
    "        return Y_hat"
   ]
  },
  {
   "cell_type": "markdown",
   "metadata": {},
   "source": [
    "#### Naive Bayes"
   ]
  },
  {
   "cell_type": "code",
   "execution_count": 18,
   "metadata": {},
   "outputs": [],
   "source": [
    "from sklearn.preprocessing import StandardScaler\n",
    "from sklearn.naive_bayes import GaussianNB"
   ]
  },
  {
   "cell_type": "code",
   "execution_count": 19,
   "metadata": {},
   "outputs": [],
   "source": [
    "def EntrenaNB(X_Entrena, Y_Entrena, X_Valida, Y_Valida, Testing=False):\n",
    "    sc = StandardScaler()\n",
    "    Xa = sc.fit_transform(X_Entrena)\n",
    "    Xt = sc.transform(X_Valida)\n",
    "    classifier = GaussianNB()\n",
    "    classifier.fit(Xa, Y_Entrena)\n",
    "    Y_hat = classifier.predict(Xt)\n",
    "    \n",
    "    if Testing== False:\n",
    "        cadenaConfig=\"Naive_Bayes\"\n",
    "        guardaExperimento(cadenaConfig,\"NaiveBayes\",Y_Valida,Y_hat)\n",
    "        return classifier\n",
    "    else:\n",
    "        return Y_hat"
   ]
  },
  {
   "cell_type": "markdown",
   "metadata": {},
   "source": [
    "#### Regresion logistica con sigmoid"
   ]
  },
  {
   "cell_type": "code",
   "execution_count": 20,
   "metadata": {},
   "outputs": [
    {
     "name": "stdout",
     "output_type": "stream",
     "text": [
      "WARNING:tensorflow:From C:\\Users\\ruben\\AppData\\Local\\Continuum\\anaconda3\\envs\\Galileo-Python\\lib\\site-packages\\tensorflow_core\\python\\compat\\v2_compat.py:88: disable_resource_variables (from tensorflow.python.ops.variable_scope) is deprecated and will be removed in a future version.\n",
      "Instructions for updating:\n",
      "non-resource variables are not supported in the long term\n",
      "Enabled compatitility to tf1.x\n"
     ]
    }
   ],
   "source": [
    "import tensorflow.compat.v1 as tf\n",
    "if tf.__version__.startswith(\"2.\"):\n",
    "    import tensorflow.compat.v1 as tf\n",
    "    tf.compat.v1.disable_v2_behavior()\n",
    "    tf.compat.v1.disable_eager_execution()\n",
    "    print(\"Enabled compatitility to tf1.x\")"
   ]
  },
  {
   "cell_type": "code",
   "execution_count": 21,
   "metadata": {},
   "outputs": [],
   "source": [
    "#---Aqui se codificara lo de tensorflow de regresion logistica\n",
    "class ModeloClasificacionSigmoid:\n",
    "    def __init__(self,shapeV):\n",
    "        self.parametros=tf.Variable(np.zeros(shapeV),\"ParamInit\")\n",
    "\n",
    "    def __call__(self,x):\n",
    "        return tf.tensordot(x,self.parametros,1,name=\"ProductoPunto\")\n",
    "\n",
    "    def actualizar(self,x,y,lr):\n",
    "        \n",
    "        #Calculo de logits\n",
    "        logits = self(x)\n",
    "\n",
    "        #Calculo de la probabilidad con funcion sigmoid\n",
    "        y_hat_sigmoid = tf.math.sigmoid(logits,name=\"y_hat\")\n",
    "        \n",
    "        #Calculo del error\n",
    "        with tf.name_scope(\"Error\"):\n",
    "            derror=tf.nn.sigmoid_cross_entropy_with_logits(labels=y, logits=y_hat_sigmoid)\n",
    "            \n",
    "            #CambioError\n",
    "            #cambio_error=tf.summary.scalar(\"Error\", derror)\n",
    "        \n",
    "        #Calculo de gradientes\n",
    "        with tf.name_scope(\"Gradiente\"):\n",
    "            #gradiente = tf.train.GradientDescentOptimizer(lr).minimize(derror)\n",
    "            gradiente = tf.gradients(derror, self.parametros)\n",
    "        # gradient = tf.gradients(train_error, [self.theta])    \n",
    "        \n",
    "        #theta_new = tf.assign(self.theta, self.theta - learning_rate * gradient[0])\n",
    "        \n",
    "        \n",
    "        #Cálculo de Accuracy\n",
    "        #with tf.name_scope(\"Accuracy\"):\n",
    "         #   prediccion_final=tf.equal(tf.argmax(y_hat_softmax,1), tf.argmax(y,1))\n",
    "          #  accuracy = tf.reduce_mean(tf.cast(prediccion_final, tf.float32))\n",
    "           # cambio_accuracy = tf.summary.scalar('Accuracy', accuracy)\n",
    "\n",
    "        #Actualizar parametros\n",
    "        with tf.name_scope(\"Parametros\"):\n",
    "            lrgrad=tf.math.multiply(gradiente,lr,\"lrgrad\")\n",
    "            nuevaAsig=tf.math.subtract(self.parametros,lrgrad,\"nuevaAsig\")\n",
    "            retorna=tf.assign(self.parametros, nuevaAsig[0])\n",
    "            \n",
    "        return y, y_hat_sigmoid, derror, gradiente, retorna\n",
    "    \n",
    "    def Y_hat_Umbral(self,x):\n",
    "        \n",
    "        \n",
    "        #Calculo de logits\n",
    "        logits = self(x)\n",
    "\n",
    "        #Calculo de la probabilidad con funcion sigmoid\n",
    "        y_hat_sigmoid = tf.math.sigmoid(logits,name=\"y_hat\")\n",
    "        \n",
    "        #Creacion del vector de umbal\n",
    "        Umbral=tf.cast(tf.fill(dims=tf.shape(y_hat_sigmoid),value=5e-1,name=\"Umbral\"),tf.float64)\n",
    "        #Umbral=tf.Variable(np.full_like(y_hat_sigmoid ,0.5),\"Umbral\")\n",
    "        \n",
    "        Salida = tf.cast(tf.math.greater(y_hat_sigmoid, Umbral),tf.int32)\n",
    "        return Salida"
   ]
  },
  {
   "cell_type": "code",
   "execution_count": 22,
   "metadata": {},
   "outputs": [],
   "source": [
    "#------------Inicio del grafo\n",
    "def AplicarModeloLogistico(matrizX,vectorY,learning_rate,epochs, batch_size, Testing=False):\n",
    "    number_batches = int(len(vectorY)/batch_size)\n",
    "    g=tf.Graph()\n",
    "    with g.as_default():\n",
    "        modelo = ModeloClasificacionSigmoid(matrizX.shape[1])\n",
    "        tensor_x=tf.placeholder(tf.float64,[None, None],\"tensor_x\")\n",
    "        tensor_y=tf.placeholder(tf.float64,[None],\"tensor_y\")\n",
    "        lr=tf.placeholder(tf.float64,[],\"lr\")\n",
    "\n",
    "        prediccion = modelo(tensor_x)\n",
    "        actualizacion_parametros = modelo.actualizar(tensor_x,tensor_y,lr)\n",
    "        Y_salida=modelo.Y_hat_Umbral(tensor_x)\n",
    "        #nombreArchivo = './polinomial/Model' + datetime.datetime.now().strftime(\"%Y%m%d-%H%M%S\")\n",
    "        #nombreArchivo = nombreArchivo + '_lr=' + str(learning_rate) + '_epochs=' + str(epochs)\n",
    "        #writer = tf.summary.FileWriter(nombreArchivo, g)\n",
    "#------------Fin del grafo\n",
    "        with tf.train.MonitoredSession() as session:\n",
    "            for i in range(epochs):\n",
    "                for batch in range(number_batches):\n",
    "                    init_value = batch*(batch_size)\n",
    "                    \n",
    "                    Xa=matrizX[init_value:init_value+batch_size-1]\n",
    "                    Ya = vectorY[init_value:init_value+batch_size-1]\n",
    "                    \n",
    "                    feed_dict = {tensor_x:Xa, tensor_y:Ya, lr:learning_rate}\n",
    "                    #Actualiza parametros\n",
    "                    salida=session.run(actualizacion_parametros,feed_dict=feed_dict)\n",
    "                    \n",
    "                #Actualiza la prediccion\n",
    "                feed_dict = {tensor_x:matrizX, tensor_y:vectorY, lr:learning_rate}\n",
    "                predicciones = session.run(prediccion,feed_dict=feed_dict)\n",
    "                    #writer.add_summary(salida[0],i)\n",
    "                    #if (i % imprimir_error_cada == 0 and i!=0):\n",
    "                     #   print(\"Epoch: \",i,\" Y: \",salida[0],\" Yhat: \",salida[1], \" Error: \",salida[2], \n",
    "                      #        \" Gradiente: \",salida[3], \" Retorna: \",salida[4])\n",
    "                    #if (i==epochs-1):\n",
    "                     #   Prueba = salida[1]\n",
    "            Y_Estimada=session.run(Y_salida, feed_dict=feed_dict)\n",
    "            if Testing== False:\n",
    "                cadenaConfig=\"lr=\"+str(learning_rate)+\"_epochs=\"+str(epochs)+\"_batchSize=\"+str(batch_size)\n",
    "                #return Y_Estimada\n",
    "                guardaExperimento(cadenaConfig,\"Logistica\",vectorY,Y_Estimada)\n",
    "            else:\n",
    "                return Y_Estimada"
   ]
  },
  {
   "cell_type": "code",
   "execution_count": null,
   "metadata": {},
   "outputs": [],
   "source": []
  },
  {
   "cell_type": "code",
   "execution_count": null,
   "metadata": {},
   "outputs": [],
   "source": []
  },
  {
   "cell_type": "code",
   "execution_count": 23,
   "metadata": {},
   "outputs": [],
   "source": [
    "#---Metodo para calcular la moda\n",
    "def mode(x):\n",
    "    ## tu codigo aqui (~ 3 lineas de codigo):\n",
    "    (unicos,veces) = np.unique(x, return_counts=True)\n",
    "    posmaxrepetido=np.argmax(veces)\n",
    "    return unicos[posmaxrepetido]"
   ]
  },
  {
   "cell_type": "code",
   "execution_count": 24,
   "metadata": {},
   "outputs": [],
   "source": [
    "def MejorModelo(tipoModelo,dataset):\n",
    "    output=dataset[dataset[\"Modelo\"]==tipoModelo]\n",
    "    return dataset.iloc[np.argmax(output.Accuracy),]"
   ]
  },
  {
   "cell_type": "code",
   "execution_count": 31,
   "metadata": {},
   "outputs": [],
   "source": [
    "#---Metodo que devuelve la tabla de predicciones\n",
    "def Ensamble(X_train, Y_train, X_test):\n",
    "    dataModelos=pd.read_csv(\"modelos.csv\")\n",
    "    M_SVM=MejorModelo(\"SVM\",dataModelos)\n",
    "    M_DecisionTree=MejorModelo(\"DecisionTree\",dataModelos)\n",
    "    #M_NaiveBayes=MejorModelo(\"NaiveBayes\",dataModelos) Este no tiene parametros para ingresarle\n",
    "    M_Logistic=MejorModelo(\"Logistica\",dataModelos)\n",
    "    \n",
    "    #----Se procesan uno a uno los modelos\n",
    "    #SVM\n",
    "    params=M_SVM[\"Config\"].split(\"_\")\n",
    "    reg=float(params[1].split(\"=\")[1])\n",
    "    Y_hat_SVM=EntrenaSVM(X_train, Y_train, X_test,_,reg,params[0].split(\"=\")[1],True)\n",
    "    \n",
    "    #DecisionTree\n",
    "    params=M_DecisionTree[\"Config\"].split(\"_\")\n",
    "    maxDepth=params[1].split(\"=\")[1]\n",
    "    maxFeatures=params[2].split(\"=\")[1]\n",
    "    maxLeafNodes=params[3].split(\"=\")[1]\n",
    "    if maxDepth==\"None\":\n",
    "        maxDepth=None\n",
    "    if maxFeatures==\"None\":\n",
    "        maxFeatures=None\n",
    "    if maxLeafNodes==\"None\":\n",
    "        maxLeafNodes=None\n",
    "    Y_hat_DT=EntrenaArbol(X_train, Y_train, X_test, _ ,params[0].split(\"=\")[1], maxDepth, maxFeatures, maxLeafNodes)\n",
    "    \n",
    "    #NaiveBayes (Este no utiliza parametros)\n",
    "    Y_hat_NB=EntrenaNB(X_train, Y_train, X_test, _, True)\n",
    "    \n",
    "    #Espacio para llamar la mejor estimacion de regresion Logistica\n",
    "    params=M_Logistic[\"Config\"].split(\"_\")\n",
    "    lr=float(params[0].split(\"=\")[1])\n",
    "    epochs=int(params[1].split(\"=\")[1])\n",
    "    batchSize=int(params[2].split(\"=\")[1])\n",
    "    \n",
    "    #Se escala X_train\n",
    "    sc = StandardScaler()\n",
    "    Xa = sc.fit_transform(X_train)\n",
    "    \n",
    "    \n",
    "    Y_hat_Log=AplicarModeloLogistico(Xa,Y_train,lr,epochs,batchSize,True)\n",
    "    \n",
    "    #Calculo de la moda de los 4 modelos\n",
    "    ensambleModelos=np.empty_like(Y_hat_SVM)\n",
    "    for i in range(0,len(ensambleModelos)):\n",
    "        ensambleModelos[i]=mode([Y_hat_SVM[i], Y_hat_DT[i], Y_hat_NB[i], Y_hat_Log[i]])\n",
    "    \n",
    "    #Crear tabla de resultados\n",
    "    SalOut=pd.DataFrame(data=Y_hat_SVM, columns=[\"Y_hat_SVM\"])\n",
    "    SalOut[\"Y_hat_DecisionTree\"]=pd.Series(Y_hat_DT)\n",
    "    SalOut[\"Y_hat_NaiveBayes\"]=pd.Series(Y_hat_NB)\n",
    "    SalOut[\"Y_hat_Log\"]=pd.Series(Y_hat_Log)\n",
    "    SalOut[\"Y_hat_Final\"]=pd.Series(ensambleModelos)\n",
    "    return SalOut"
   ]
  },
  {
   "cell_type": "markdown",
   "metadata": {},
   "source": [
    "Crear una función que prediga para cierta observación (una sola) x la predicción y_hat combinada y además:\n",
    "Muestre en el notebook el árbol de decisión y como este llega a una conclusión usando sklearn(ya lo hace) https://scikit-learn.org/stable/modules/tree.html\n"
   ]
  },
  {
   "cell_type": "code",
   "execution_count": 32,
   "metadata": {
    "scrolled": true
   },
   "outputs": [
    {
     "name": "stderr",
     "output_type": "stream",
     "text": [
      "C:\\Users\\ruben\\AppData\\Local\\Continuum\\anaconda3\\envs\\Galileo-Python\\lib\\site-packages\\numpy\\core\\fromnumeric.py:61: FutureWarning: \n",
      "The current behaviour of 'Series.argmax' is deprecated, use 'idxmax'\n",
      "instead.\n",
      "The behavior of 'argmax' will be corrected to return the positional\n",
      "maximum in the future. For now, use 'series.values.argmax' or\n",
      "'np.argmax(np.array(values))' to get the position of the maximum\n",
      "row.\n",
      "  return bound(*args, **kwds)\n"
     ]
    },
    {
     "name": "stdout",
     "output_type": "stream",
     "text": [
      "INFO:tensorflow:Graph was finalized.\n",
      "INFO:tensorflow:Running local_init_op.\n",
      "INFO:tensorflow:Done running local_init_op.\n"
     ]
    },
    {
     "data": {
      "image/png": "[encoded data removed]",
      "text/plain": [
       "<Figure size 432x288 with 1 Axes>"
      ]
     },
     "metadata": {
      "needs_background": "light"
     },
     "output_type": "display_data"
    }
   ],
   "source": [
    "Mejores=Ensamble(X_train, Y_train, X_test)"
   ]
  },
  {
   "cell_type": "markdown",
   "metadata": {},
   "source": [
    "○\tMuestre la predicción probabilística de los modelos de bayes y regresión logística."
   ]
  },
  {
   "cell_type": "code",
   "execution_count": 33,
   "metadata": {},
   "outputs": [
    {
     "data": {
      "text/html": [
       "<div>\n",
       "<style scoped>\n",
       "    .dataframe tbody tr th:only-of-type {\n",
       "        vertical-align: middle;\n",
       "    }\n",
       "\n",
       "    .dataframe tbody tr th {\n",
       "        vertical-align: top;\n",
       "    }\n",
       "\n",
       "    .dataframe thead th {\n",
       "        text-align: right;\n",
       "    }\n",
       "</style>\n",
       "<table border=\"1\" class=\"dataframe\">\n",
       "  <thead>\n",
       "    <tr style=\"text-align: right;\">\n",
       "      <th></th>\n",
       "      <th>Y_hat_SVM</th>\n",
       "      <th>Y_hat_DecisionTree</th>\n",
       "      <th>Y_hat_NaiveBayes</th>\n",
       "      <th>Y_hat_Log</th>\n",
       "      <th>Y_hat_Final</th>\n",
       "    </tr>\n",
       "  </thead>\n",
       "  <tbody>\n",
       "    <tr>\n",
       "      <th>0</th>\n",
       "      <td>0</td>\n",
       "      <td>0</td>\n",
       "      <td>0</td>\n",
       "      <td>0</td>\n",
       "      <td>0</td>\n",
       "    </tr>\n",
       "  </tbody>\n",
       "</table>\n",
       "</div>"
      ],
      "text/plain": [
       "   Y_hat_SVM  Y_hat_DecisionTree  Y_hat_NaiveBayes  Y_hat_Log  Y_hat_Final\n",
       "0          0                   0                 0          0            0"
      ]
     },
     "execution_count": 33,
     "metadata": {},
     "output_type": "execute_result"
    }
   ],
   "source": [
    "Mejores"
   ]
  },
  {
   "cell_type": "markdown",
   "metadata": {},
   "source": [
    "●Probar la función anterior para 10 observaciones x distintas(pueden ser del dataset original o inventadas.), de una en una  "
   ]
  },
  {
   "cell_type": "code",
   "execution_count": 34,
   "metadata": {},
   "outputs": [
    {
     "data": {
      "text/html": [
       "<div>\n",
       "<style scoped>\n",
       "    .dataframe tbody tr th:only-of-type {\n",
       "        vertical-align: middle;\n",
       "    }\n",
       "\n",
       "    .dataframe tbody tr th {\n",
       "        vertical-align: top;\n",
       "    }\n",
       "\n",
       "    .dataframe thead th {\n",
       "        text-align: right;\n",
       "    }\n",
       "</style>\n",
       "<table border=\"1\" class=\"dataframe\">\n",
       "  <thead>\n",
       "    <tr style=\"text-align: right;\">\n",
       "      <th></th>\n",
       "      <th>Age</th>\n",
       "      <th>SibSp</th>\n",
       "      <th>Parch</th>\n",
       "      <th>Ticket</th>\n",
       "      <th>Fare</th>\n",
       "      <th>passenger_sex</th>\n",
       "      <th>Embarked_C</th>\n",
       "      <th>Embarked_Q</th>\n",
       "      <th>Embarked_S</th>\n",
       "      <th>passenger_class_Lower</th>\n",
       "      <th>passenger_class_Middle</th>\n",
       "      <th>passenger_class_Upper</th>\n",
       "    </tr>\n",
       "  </thead>\n",
       "  <tbody>\n",
       "    <tr>\n",
       "      <th>616</th>\n",
       "      <td>34.0</td>\n",
       "      <td>1</td>\n",
       "      <td>1</td>\n",
       "      <td>331</td>\n",
       "      <td>14.4000</td>\n",
       "      <td>1</td>\n",
       "      <td>0</td>\n",
       "      <td>0</td>\n",
       "      <td>1</td>\n",
       "      <td>1</td>\n",
       "      <td>0</td>\n",
       "      <td>0</td>\n",
       "    </tr>\n",
       "    <tr>\n",
       "      <th>589</th>\n",
       "      <td>26.0</td>\n",
       "      <td>0</td>\n",
       "      <td>0</td>\n",
       "      <td>515</td>\n",
       "      <td>8.0500</td>\n",
       "      <td>1</td>\n",
       "      <td>0</td>\n",
       "      <td>0</td>\n",
       "      <td>1</td>\n",
       "      <td>1</td>\n",
       "      <td>0</td>\n",
       "      <td>0</td>\n",
       "    </tr>\n",
       "    <tr>\n",
       "      <th>268</th>\n",
       "      <td>58.0</td>\n",
       "      <td>0</td>\n",
       "      <td>1</td>\n",
       "      <td>588</td>\n",
       "      <td>153.4625</td>\n",
       "      <td>0</td>\n",
       "      <td>0</td>\n",
       "      <td>0</td>\n",
       "      <td>1</td>\n",
       "      <td>0</td>\n",
       "      <td>0</td>\n",
       "      <td>1</td>\n",
       "    </tr>\n",
       "    <tr>\n",
       "      <th>507</th>\n",
       "      <td>26.0</td>\n",
       "      <td>0</td>\n",
       "      <td>0</td>\n",
       "      <td>10</td>\n",
       "      <td>26.5500</td>\n",
       "      <td>1</td>\n",
       "      <td>0</td>\n",
       "      <td>0</td>\n",
       "      <td>1</td>\n",
       "      <td>0</td>\n",
       "      <td>0</td>\n",
       "      <td>1</td>\n",
       "    </tr>\n",
       "    <tr>\n",
       "      <th>645</th>\n",
       "      <td>48.0</td>\n",
       "      <td>1</td>\n",
       "      <td>0</td>\n",
       "      <td>587</td>\n",
       "      <td>76.7292</td>\n",
       "      <td>1</td>\n",
       "      <td>1</td>\n",
       "      <td>0</td>\n",
       "      <td>0</td>\n",
       "      <td>0</td>\n",
       "      <td>0</td>\n",
       "      <td>1</td>\n",
       "    </tr>\n",
       "    <tr>\n",
       "      <th>453</th>\n",
       "      <td>49.0</td>\n",
       "      <td>1</td>\n",
       "      <td>0</td>\n",
       "      <td>84</td>\n",
       "      <td>89.1042</td>\n",
       "      <td>1</td>\n",
       "      <td>1</td>\n",
       "      <td>0</td>\n",
       "      <td>0</td>\n",
       "      <td>0</td>\n",
       "      <td>0</td>\n",
       "      <td>1</td>\n",
       "    </tr>\n",
       "    <tr>\n",
       "      <th>0</th>\n",
       "      <td>22.0</td>\n",
       "      <td>1</td>\n",
       "      <td>0</td>\n",
       "      <td>523</td>\n",
       "      <td>7.2500</td>\n",
       "      <td>1</td>\n",
       "      <td>0</td>\n",
       "      <td>0</td>\n",
       "      <td>1</td>\n",
       "      <td>1</td>\n",
       "      <td>0</td>\n",
       "      <td>0</td>\n",
       "    </tr>\n",
       "    <tr>\n",
       "      <th>585</th>\n",
       "      <td>18.0</td>\n",
       "      <td>0</td>\n",
       "      <td>2</td>\n",
       "      <td>1</td>\n",
       "      <td>79.6500</td>\n",
       "      <td>0</td>\n",
       "      <td>0</td>\n",
       "      <td>0</td>\n",
       "      <td>1</td>\n",
       "      <td>0</td>\n",
       "      <td>0</td>\n",
       "      <td>1</td>\n",
       "    </tr>\n",
       "    <tr>\n",
       "      <th>441</th>\n",
       "      <td>20.0</td>\n",
       "      <td>0</td>\n",
       "      <td>0</td>\n",
       "      <td>305</td>\n",
       "      <td>9.5000</td>\n",
       "      <td>1</td>\n",
       "      <td>0</td>\n",
       "      <td>0</td>\n",
       "      <td>1</td>\n",
       "      <td>1</td>\n",
       "      <td>0</td>\n",
       "      <td>0</td>\n",
       "    </tr>\n",
       "    <tr>\n",
       "      <th>595</th>\n",
       "      <td>36.0</td>\n",
       "      <td>1</td>\n",
       "      <td>1</td>\n",
       "      <td>307</td>\n",
       "      <td>24.1500</td>\n",
       "      <td>1</td>\n",
       "      <td>0</td>\n",
       "      <td>0</td>\n",
       "      <td>1</td>\n",
       "      <td>1</td>\n",
       "      <td>0</td>\n",
       "      <td>0</td>\n",
       "    </tr>\n",
       "  </tbody>\n",
       "</table>\n",
       "</div>"
      ],
      "text/plain": [
       "      Age  SibSp  Parch  Ticket      Fare  passenger_sex  Embarked_C  \\\n",
       "616  34.0      1      1     331   14.4000              1           0   \n",
       "589  26.0      0      0     515    8.0500              1           0   \n",
       "268  58.0      0      1     588  153.4625              0           0   \n",
       "507  26.0      0      0      10   26.5500              1           0   \n",
       "645  48.0      1      0     587   76.7292              1           1   \n",
       "453  49.0      1      0      84   89.1042              1           1   \n",
       "0    22.0      1      0     523    7.2500              1           0   \n",
       "585  18.0      0      2       1   79.6500              0           0   \n",
       "441  20.0      0      0     305    9.5000              1           0   \n",
       "595  36.0      1      1     307   24.1500              1           0   \n",
       "\n",
       "     Embarked_Q  Embarked_S  passenger_class_Lower  passenger_class_Middle  \\\n",
       "616           0           1                      1                       0   \n",
       "589           0           1                      1                       0   \n",
       "268           0           1                      0                       0   \n",
       "507           0           1                      0                       0   \n",
       "645           0           0                      0                       0   \n",
       "453           0           0                      0                       0   \n",
       "0             0           1                      1                       0   \n",
       "585           0           1                      0                       0   \n",
       "441           0           1                      1                       0   \n",
       "595           0           1                      1                       0   \n",
       "\n",
       "     passenger_class_Upper  \n",
       "616                      0  \n",
       "589                      0  \n",
       "268                      1  \n",
       "507                      1  \n",
       "645                      1  \n",
       "453                      1  \n",
       "0                        0  \n",
       "585                      1  \n",
       "441                      0  \n",
       "595                      0  "
      ]
     },
     "execution_count": 34,
     "metadata": {},
     "output_type": "execute_result"
    }
   ],
   "source": [
    "XObservaciones=X_train.sample(10)\n",
    "XObservaciones"
   ]
  },
  {
   "cell_type": "code",
   "execution_count": 35,
   "metadata": {},
   "outputs": [
    {
     "name": "stderr",
     "output_type": "stream",
     "text": [
      "C:\\Users\\ruben\\AppData\\Local\\Continuum\\anaconda3\\envs\\Galileo-Python\\lib\\site-packages\\numpy\\core\\fromnumeric.py:61: FutureWarning: \n",
      "The current behaviour of 'Series.argmax' is deprecated, use 'idxmax'\n",
      "instead.\n",
      "The behavior of 'argmax' will be corrected to return the positional\n",
      "maximum in the future. For now, use 'series.values.argmax' or\n",
      "'np.argmax(np.array(values))' to get the position of the maximum\n",
      "row.\n",
      "  return bound(*args, **kwds)\n"
     ]
    },
    {
     "name": "stdout",
     "output_type": "stream",
     "text": [
      "INFO:tensorflow:Graph was finalized.\n",
      "INFO:tensorflow:Running local_init_op.\n",
      "INFO:tensorflow:Done running local_init_op.\n"
     ]
    },
    {
     "data": {
      "image/png": "[encoded data removed]",
      "text/plain": [
       "<Figure size 432x288 with 1 Axes>"
      ]
     },
     "metadata": {
      "needs_background": "light"
     },
     "output_type": "display_data"
    }
   ],
   "source": [
    "Prueba10=Ensamble(X_train, Y_train, XObservaciones)"
   ]
  },
  {
   "cell_type": "markdown",
   "metadata": {},
   "source": [
    "○\tMuestre la predicción probabilística de los modelos de bayes y regresión logística."
   ]
  },
  {
   "cell_type": "code",
   "execution_count": 36,
   "metadata": {},
   "outputs": [
    {
     "data": {
      "text/html": [
       "<div>\n",
       "<style scoped>\n",
       "    .dataframe tbody tr th:only-of-type {\n",
       "        vertical-align: middle;\n",
       "    }\n",
       "\n",
       "    .dataframe tbody tr th {\n",
       "        vertical-align: top;\n",
       "    }\n",
       "\n",
       "    .dataframe thead th {\n",
       "        text-align: right;\n",
       "    }\n",
       "</style>\n",
       "<table border=\"1\" class=\"dataframe\">\n",
       "  <thead>\n",
       "    <tr style=\"text-align: right;\">\n",
       "      <th></th>\n",
       "      <th>Y_hat_SVM</th>\n",
       "      <th>Y_hat_DecisionTree</th>\n",
       "      <th>Y_hat_NaiveBayes</th>\n",
       "      <th>Y_hat_Log</th>\n",
       "      <th>Y_hat_Final</th>\n",
       "    </tr>\n",
       "  </thead>\n",
       "  <tbody>\n",
       "    <tr>\n",
       "      <th>0</th>\n",
       "      <td>0</td>\n",
       "      <td>0</td>\n",
       "      <td>0</td>\n",
       "      <td>0</td>\n",
       "      <td>0</td>\n",
       "    </tr>\n",
       "    <tr>\n",
       "      <th>1</th>\n",
       "      <td>0</td>\n",
       "      <td>0</td>\n",
       "      <td>0</td>\n",
       "      <td>1</td>\n",
       "      <td>0</td>\n",
       "    </tr>\n",
       "    <tr>\n",
       "      <th>2</th>\n",
       "      <td>1</td>\n",
       "      <td>1</td>\n",
       "      <td>1</td>\n",
       "      <td>1</td>\n",
       "      <td>1</td>\n",
       "    </tr>\n",
       "    <tr>\n",
       "      <th>3</th>\n",
       "      <td>0</td>\n",
       "      <td>1</td>\n",
       "      <td>1</td>\n",
       "      <td>1</td>\n",
       "      <td>1</td>\n",
       "    </tr>\n",
       "    <tr>\n",
       "      <th>4</th>\n",
       "      <td>0</td>\n",
       "      <td>1</td>\n",
       "      <td>1</td>\n",
       "      <td>0</td>\n",
       "      <td>0</td>\n",
       "    </tr>\n",
       "    <tr>\n",
       "      <th>5</th>\n",
       "      <td>0</td>\n",
       "      <td>1</td>\n",
       "      <td>1</td>\n",
       "      <td>0</td>\n",
       "      <td>0</td>\n",
       "    </tr>\n",
       "    <tr>\n",
       "      <th>6</th>\n",
       "      <td>0</td>\n",
       "      <td>0</td>\n",
       "      <td>0</td>\n",
       "      <td>0</td>\n",
       "      <td>0</td>\n",
       "    </tr>\n",
       "    <tr>\n",
       "      <th>7</th>\n",
       "      <td>1</td>\n",
       "      <td>1</td>\n",
       "      <td>1</td>\n",
       "      <td>0</td>\n",
       "      <td>1</td>\n",
       "    </tr>\n",
       "    <tr>\n",
       "      <th>8</th>\n",
       "      <td>0</td>\n",
       "      <td>0</td>\n",
       "      <td>0</td>\n",
       "      <td>1</td>\n",
       "      <td>0</td>\n",
       "    </tr>\n",
       "    <tr>\n",
       "      <th>9</th>\n",
       "      <td>0</td>\n",
       "      <td>0</td>\n",
       "      <td>0</td>\n",
       "      <td>1</td>\n",
       "      <td>0</td>\n",
       "    </tr>\n",
       "  </tbody>\n",
       "</table>\n",
       "</div>"
      ],
      "text/plain": [
       "   Y_hat_SVM  Y_hat_DecisionTree  Y_hat_NaiveBayes  Y_hat_Log  Y_hat_Final\n",
       "0          0                   0                 0          0            0\n",
       "1          0                   0                 0          1            0\n",
       "2          1                   1                 1          1            1\n",
       "3          0                   1                 1          1            1\n",
       "4          0                   1                 1          0            0\n",
       "5          0                   1                 1          0            0\n",
       "6          0                   0                 0          0            0\n",
       "7          1                   1                 1          0            1\n",
       "8          0                   0                 0          1            0\n",
       "9          0                   0                 0          1            0"
      ]
     },
     "execution_count": 36,
     "metadata": {},
     "output_type": "execute_result"
    }
   ],
   "source": [
    "Prueba10"
   ]
  },
  {
   "cell_type": "markdown",
   "metadata": {},
   "source": [
    "En la columna Y_hat_final se muestra la respuesta del modelo"
   ]
  }
 ],
 "metadata": {
  "kernelspec": {
   "display_name": "Python 3",
   "language": "python",
   "name": "python3"
  },
  "language_info": {
   "codemirror_mode": {
    "name": "ipython",
    "version": 3
   },
   "file_extension": ".py",
   "mimetype": "text/x-python",
   "name": "python",
   "nbconvert_exporter": "python",
   "pygments_lexer": "ipython3",
   "version": "3.7.6"
  }
 },
 "nbformat": 4,
 "nbformat_minor": 2
}
