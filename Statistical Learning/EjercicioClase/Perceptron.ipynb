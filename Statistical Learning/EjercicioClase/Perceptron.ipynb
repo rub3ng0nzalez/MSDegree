{
 "cells": [
  {
   "cell_type": "markdown",
   "metadata": {},
   "source": [
    "## XOR con composición y perceptrones\n",
    "Rubén González 20003314"
   ]
  },
  {
   "cell_type": "code",
   "execution_count": 1,
   "metadata": {},
   "outputs": [],
   "source": [
    "import numpy as np"
   ]
  },
  {
   "cell_type": "markdown",
   "metadata": {},
   "source": [
    "## Parte 1: \n",
    "ejercicio de composición de funciones para XOR92\n",
    "\n",
    "### Operacion NOT"
   ]
  },
  {
   "cell_type": "code",
   "execution_count": 2,
   "metadata": {},
   "outputs": [],
   "source": [
    "def operacion_not(x1):\n",
    "    parametros = [-1,1]\n",
    "    return np.dot(x1,parametros)"
   ]
  },
  {
   "cell_type": "code",
   "execution_count": 3,
   "metadata": {},
   "outputs": [
    {
     "data": {
      "text/plain": [
       "0"
      ]
     },
     "execution_count": 3,
     "metadata": {},
     "output_type": "execute_result"
    }
   ],
   "source": [
    "testx = 1\n",
    "operacion_not([testx,1])"
   ]
  },
  {
   "cell_type": "code",
   "execution_count": 4,
   "metadata": {},
   "outputs": [
    {
     "data": {
      "text/plain": [
       "1"
      ]
     },
     "execution_count": 4,
     "metadata": {},
     "output_type": "execute_result"
    }
   ],
   "source": [
    "testx = 0\n",
    "operacion_not([testx,1])"
   ]
  },
  {
   "cell_type": "markdown",
   "metadata": {},
   "source": [
    "### Operacion OR"
   ]
  },
  {
   "cell_type": "code",
   "execution_count": 5,
   "metadata": {},
   "outputs": [],
   "source": [
    "def operacion_or(entradas):\n",
    "    parametros = [1,1,0]\n",
    "    \n",
    "    return int(np.dot(entradas,parametros) > 0)"
   ]
  },
  {
   "cell_type": "code",
   "execution_count": 6,
   "metadata": {},
   "outputs": [
    {
     "data": {
      "text/plain": [
       "0"
      ]
     },
     "execution_count": 6,
     "metadata": {},
     "output_type": "execute_result"
    }
   ],
   "source": [
    "testx1 = 0\n",
    "testx2 = 0\n",
    "operacion_or([testx1, testx2,1])"
   ]
  },
  {
   "cell_type": "markdown",
   "metadata": {},
   "source": [
    "### Operacion AND"
   ]
  },
  {
   "cell_type": "code",
   "execution_count": 7,
   "metadata": {},
   "outputs": [],
   "source": [
    "def operacion_and(entradas):\n",
    "    parametros = [1,1,-1]\n",
    "    \n",
    "    return int(np.dot(entradas,parametros) > 0)"
   ]
  },
  {
   "cell_type": "code",
   "execution_count": 8,
   "metadata": {},
   "outputs": [
    {
     "data": {
      "text/plain": [
       "1"
      ]
     },
     "execution_count": 8,
     "metadata": {},
     "output_type": "execute_result"
    }
   ],
   "source": [
    "testx1 = 1\n",
    "testx2 = 1\n",
    "operacion_and([testx1, testx2,1])"
   ]
  },
  {
   "cell_type": "markdown",
   "metadata": {},
   "source": [
    "### Operacion XOR"
   ]
  },
  {
   "cell_type": "code",
   "execution_count": 9,
   "metadata": {},
   "outputs": [],
   "source": [
    "def operacion_xor(entradas):\n",
    "    temp1= operacion_and(entradas)\n",
    "    temp2 = operacion_or(entradas)\n",
    "    \n",
    "    nand_temp = operacion_not([temp1,1])\n",
    "    \n",
    "    temp_3 = operacion_and([nand_temp, temp2,1])\n",
    "    return temp_3"
   ]
  },
  {
   "cell_type": "code",
   "execution_count": 10,
   "metadata": {},
   "outputs": [
    {
     "data": {
      "text/plain": [
       "0"
      ]
     },
     "execution_count": 10,
     "metadata": {},
     "output_type": "execute_result"
    }
   ],
   "source": [
    "testx1 = 1\n",
    "testx2 = 1\n",
    "operacion_xor([testx1, testx2,1])"
   ]
  },
  {
   "cell_type": "code",
   "execution_count": 11,
   "metadata": {},
   "outputs": [
    {
     "data": {
      "text/plain": [
       "0"
      ]
     },
     "execution_count": 11,
     "metadata": {},
     "output_type": "execute_result"
    }
   ],
   "source": [
    "testx1 = 0\n",
    "testx2 = 0\n",
    "operacion_xor([testx1, testx2,1])"
   ]
  },
  {
   "cell_type": "code",
   "execution_count": 12,
   "metadata": {},
   "outputs": [
    {
     "data": {
      "text/plain": [
       "1"
      ]
     },
     "execution_count": 12,
     "metadata": {},
     "output_type": "execute_result"
    }
   ],
   "source": [
    "testx1 = 1\n",
    "testx2 = 0\n",
    "operacion_xor([testx1, testx2,1])"
   ]
  },
  {
   "cell_type": "code",
   "execution_count": 13,
   "metadata": {},
   "outputs": [
    {
     "data": {
      "text/plain": [
       "1"
      ]
     },
     "execution_count": 13,
     "metadata": {},
     "output_type": "execute_result"
    }
   ],
   "source": [
    "testx1 = 0\n",
    "testx2 = 1\n",
    "operacion_xor([testx1, testx2,1])"
   ]
  },
  {
   "cell_type": "markdown",
   "metadata": {},
   "source": [
    "## Parte 2: \n",
    "Usando activación \"step\" y el algoritmo de entrenamiento de perceptrones visto en clase, entrenar:\n",
    "- 1 perceptrón para la operación \"and\"\n",
    "- 1 perceptrón para la operación \"or\"\n",
    "Remplazar las funciones de la parte 1 con los perceptrones entrenados."
   ]
  },
  {
   "cell_type": "code",
   "execution_count": 14,
   "metadata": {},
   "outputs": [],
   "source": [
    "def entrenar_perceptron(tablaIn, lr=0.007, epocas = 50):\n",
    "    \n",
    "    pesos = np.random.normal(0, 0.1, 3)\n",
    "    pesos[2] = 0\n",
    "    \n",
    "    #Segmentar tabla en entradas y resultados\n",
    "    entradas = tablaIn[:, 0:2]\n",
    "    resultados = tablaIn[:, 2]\n",
    "    \n",
    "    #Se crea una columna de 1's para usarla como entrada del peso del sesgo\n",
    "    entradas = np.insert(entradas, 2, np.ones(len(entradas)), axis=1).astype(np.float32)\n",
    "    \n",
    "    #Inicializando busqueda de parametros para tabla de verdad\n",
    "    tabla_verdad = np.dot(entradas, pesos) >= 0\n",
    "    tabla_verdad = tabla_verdad.astype(int)\n",
    "    comparacion = resultados == tabla_verdad\n",
    "    \n",
    "    epoch = 0\n",
    "    while comparacion.all() == False and epoch < epocas:\n",
    "        for fila in range(0, len(resultados)):\n",
    "            signo = np.sign(np.dot(entradas[fila], pesos))\n",
    "            if resultados[fila] == 1 and signo < 0:\n",
    "                pesos = pesos + (lr * entradas[fila])\n",
    "            elif resultados[fila] == 0 and signo >= 0:\n",
    "                pesos = pesos - (lr * entradas[fila])\n",
    "        \n",
    "        tabla_verdad = np.dot(entradas, pesos) >= 0\n",
    "        tabla_verdad = tabla_verdad.astype(int)\n",
    "        comparacion = resultados == tabla_verdad\n",
    "        epoch = epoch + 1 \n",
    "            \n",
    "    return pesos"
   ]
  },
  {
   "cell_type": "code",
   "execution_count": 15,
   "metadata": {},
   "outputs": [],
   "source": [
    "#Definicion de tablas de verdad\n",
    "tablaAnd = np.array([[1,1,1],\n",
    "                   [0,1,0],\n",
    "                   [1,0,0],\n",
    "                   [0,0,0]])\n",
    "tablaOr = np.array([[1,1,1],\n",
    "                  [0,1,1],\n",
    "                  [1,0,1],\n",
    "                  [0,0,0]])"
   ]
  },
  {
   "cell_type": "markdown",
   "metadata": {},
   "source": [
    "Obtener pesos para las funciones And y OR"
   ]
  },
  {
   "cell_type": "code",
   "execution_count": 16,
   "metadata": {},
   "outputs": [],
   "source": [
    "w_and = entrenar_perceptron(tablaAnd)\n",
    "w_or = entrenar_perceptron(tablaOr)"
   ]
  },
  {
   "cell_type": "code",
   "execution_count": 17,
   "metadata": {},
   "outputs": [
    {
     "data": {
      "text/plain": [
       "array([ 0.0181301,  0.0071943, -0.021    ])"
      ]
     },
     "execution_count": 17,
     "metadata": {},
     "output_type": "execute_result"
    }
   ],
   "source": [
    "w_and"
   ]
  },
  {
   "cell_type": "code",
   "execution_count": 18,
   "metadata": {},
   "outputs": [
    {
     "data": {
      "text/plain": [
       "array([ 0.01504687,  0.01186694, -0.007     ])"
      ]
     },
     "execution_count": 18,
     "metadata": {},
     "output_type": "execute_result"
    }
   ],
   "source": [
    "w_or"
   ]
  },
  {
   "cell_type": "markdown",
   "metadata": {},
   "source": [
    "Función que acepta los nuevos pesos para realizar su operación"
   ]
  },
  {
   "cell_type": "code",
   "execution_count": 19,
   "metadata": {},
   "outputs": [],
   "source": [
    "def Perceptron(entradas, parametros):\n",
    "    return int(np.dot(entradas,parametros) > 0)"
   ]
  },
  {
   "cell_type": "code",
   "execution_count": 20,
   "metadata": {},
   "outputs": [],
   "source": [
    "def PerceptronXOR(entradas, parametros):\n",
    "    tempAnd= Perceptron(entradas, parametros[0])\n",
    "    tempOr = Perceptron(entradas, parametros[1])\n",
    "    \n",
    "    nand_temp = operacion_not([tempAnd,1])\n",
    "    \n",
    "    temp_3 = Perceptron([tempOr,nand_temp,1],parametros[0])\n",
    "    return temp_3"
   ]
  },
  {
   "cell_type": "markdown",
   "metadata": {},
   "source": [
    "#### Obteniendo tabla de verdad de XOR"
   ]
  },
  {
   "cell_type": "code",
   "execution_count": 21,
   "metadata": {},
   "outputs": [
    {
     "data": {
      "text/plain": [
       "0"
      ]
     },
     "execution_count": 21,
     "metadata": {},
     "output_type": "execute_result"
    }
   ],
   "source": [
    "PerceptronXOR([0, 0, 1], [w_and, w_or])"
   ]
  },
  {
   "cell_type": "code",
   "execution_count": 22,
   "metadata": {},
   "outputs": [
    {
     "data": {
      "text/plain": [
       "1"
      ]
     },
     "execution_count": 22,
     "metadata": {},
     "output_type": "execute_result"
    }
   ],
   "source": [
    "PerceptronXOR([0, 1, 1], [w_and, w_or])"
   ]
  },
  {
   "cell_type": "code",
   "execution_count": 23,
   "metadata": {},
   "outputs": [
    {
     "data": {
      "text/plain": [
       "1"
      ]
     },
     "execution_count": 23,
     "metadata": {},
     "output_type": "execute_result"
    }
   ],
   "source": [
    "PerceptronXOR([1, 0, 1], [w_and, w_or])"
   ]
  },
  {
   "cell_type": "code",
   "execution_count": 24,
   "metadata": {},
   "outputs": [
    {
     "data": {
      "text/plain": [
       "0"
      ]
     },
     "execution_count": 24,
     "metadata": {},
     "output_type": "execute_result"
    }
   ],
   "source": [
    "PerceptronXOR([1, 1, 1], [w_and, w_or])"
   ]
  }
 ],
 "metadata": {
  "kernelspec": {
   "display_name": "Python 3",
   "language": "python",
   "name": "python3"
  },
  "language_info": {
   "codemirror_mode": {
    "name": "ipython",
    "version": 3
   },
   "file_extension": ".py",
   "mimetype": "text/x-python",
   "name": "python",
   "nbconvert_exporter": "python",
   "pygments_lexer": "ipython3",
   "version": "3.7.6"
  }
 },
 "nbformat": 4,
 "nbformat_minor": 2
}
