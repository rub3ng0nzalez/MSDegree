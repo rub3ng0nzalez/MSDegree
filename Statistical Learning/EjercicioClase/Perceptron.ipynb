{
 "cells": [
  {
   "cell_type": "code",
   "execution_count": 1,
   "metadata": {},
   "outputs": [],
   "source": [
    "def operacion_not(x1):\n",
    "    parametros = [-1,1]\n",
    "    \n",
    "    return int(x1*parametros[0] + parametros[1])"
   ]
  },
  {
   "cell_type": "code",
   "execution_count": 3,
   "metadata": {},
   "outputs": [
    {
     "data": {
      "text/plain": [
       "0"
      ]
     },
     "execution_count": 3,
     "metadata": {},
     "output_type": "execute_result"
    }
   ],
   "source": [
    "testx = 1\n",
    "operacion_not(testx)"
   ]
  },
  {
   "cell_type": "code",
   "execution_count": 7,
   "metadata": {},
   "outputs": [],
   "source": [
    "def operacion_or(x1, x2):\n",
    "    parametros = [1,1,0]\n",
    "    \n",
    "    return int(x1*parametros[0] + x2*parametros[1] + parametros[2] > 0)"
   ]
  },
  {
   "cell_type": "code",
   "execution_count": 16,
   "metadata": {},
   "outputs": [
    {
     "data": {
      "text/plain": [
       "1"
      ]
     },
     "execution_count": 16,
     "metadata": {},
     "output_type": "execute_result"
    }
   ],
   "source": [
    "testx1 = 1\n",
    "testx2 = 1\n",
    "operacion_or(testx1, testx2)"
   ]
  },
  {
   "cell_type": "code",
   "execution_count": 10,
   "metadata": {},
   "outputs": [],
   "source": [
    "def operacion_and(x1, x2):\n",
    "    parametros = [1,1,-1]\n",
    "    \n",
    "    return int(x1*parametros[0] + x2*parametros[1] + parametros[2] > 0)"
   ]
  },
  {
   "cell_type": "code",
   "execution_count": 17,
   "metadata": {},
   "outputs": [
    {
     "data": {
      "text/plain": [
       "1"
      ]
     },
     "execution_count": 17,
     "metadata": {},
     "output_type": "execute_result"
    }
   ],
   "source": [
    "operacion_and(testx1, testx2)"
   ]
  },
  {
   "cell_type": "code",
   "execution_count": 20,
   "metadata": {},
   "outputs": [],
   "source": [
    "def xor(x1,x2):\n",
    "    temp1= operacion_and(x1,x2)\n",
    "    temp2 = operacion_or(x1,x2)\n",
    "    \n",
    "    nand_temp = operacion_not(temp1)\n",
    "    \n",
    "    temp_3 = operacion_and(nand_temp, temp2)\n",
    "    return temp_3"
   ]
  },
  {
   "cell_type": "code",
   "execution_count": 26,
   "metadata": {},
   "outputs": [
    {
     "data": {
      "text/plain": [
       "1"
      ]
     },
     "execution_count": 26,
     "metadata": {},
     "output_type": "execute_result"
    }
   ],
   "source": [
    "testx1 = 1\n",
    "testx2 = 0\n",
    "xor(testx1, testx2)"
   ]
  }
 ],
 "metadata": {
  "kernelspec": {
   "display_name": "Python 3",
   "language": "python",
   "name": "python3"
  },
  "language_info": {
   "codemirror_mode": {
    "name": "ipython",
    "version": 3
   },
   "file_extension": ".py",
   "mimetype": "text/x-python",
   "name": "python",
   "nbconvert_exporter": "python",
   "pygments_lexer": "ipython3",
   "version": "3.7.6"
  }
 },
 "nbformat": 4,
 "nbformat_minor": 2
}
