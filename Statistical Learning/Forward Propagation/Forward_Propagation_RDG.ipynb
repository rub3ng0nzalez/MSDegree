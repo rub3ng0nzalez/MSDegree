{
 "cells": [
  {
   "cell_type": "markdown",
   "metadata": {},
   "source": [
    "## Forward Propagation y análisis de representaciones intermedias\n",
    "Rubén Gonzalez 20003314"
   ]
  },
  {
   "cell_type": "code",
   "execution_count": 35,
   "metadata": {},
   "outputs": [],
   "source": [
    "import numpy as np\n",
    "import matplotlib.pyplot as plt"
   ]
  },
  {
   "cell_type": "markdown",
   "metadata": {},
   "source": [
    "### Parte 0: Ejercicio en clase\n",
    "Implementando red neuronal de la siguiente imagen:\n",
    "<img src=\"https://gadictos.com/wp-content/uploads/2019/05/bp1.png\">"
   ]
  },
  {
   "cell_type": "code",
   "execution_count": 2,
   "metadata": {},
   "outputs": [],
   "source": [
    "def sigmoid(X):\n",
    "    return 1/(1+np.exp(-X))"
   ]
  },
  {
   "cell_type": "code",
   "execution_count": 3,
   "metadata": {},
   "outputs": [
    {
     "data": {
      "text/plain": [
       "array([0.88079708, 0.95257413, 0.98201379])"
      ]
     },
     "execution_count": 3,
     "metadata": {},
     "output_type": "execute_result"
    }
   ],
   "source": [
    "#Prueba funcion sigmoide\n",
    "sigmoid(np.array([2,3,4]))"
   ]
  },
  {
   "cell_type": "code",
   "execution_count": 4,
   "metadata": {},
   "outputs": [],
   "source": [
    "#Parametros entrenables\n",
    "Wc1 = np.array([\n",
    "  [0.9,0.8,0.1],\n",
    "  [0.3,0.5,0.6],\n",
    "  [0.2,0.4,0.7]    \n",
    "])"
   ]
  },
  {
   "cell_type": "code",
   "execution_count": 5,
   "metadata": {},
   "outputs": [],
   "source": [
    "Wc2 = np.array([0.3,0.5,0.9])"
   ]
  },
  {
   "cell_type": "code",
   "execution_count": 6,
   "metadata": {},
   "outputs": [],
   "source": [
    "# 4 observaciones, 3 variables\n",
    "X = np.array([\n",
    "      [1,0,1],\n",
    "      [1,2,3],\n",
    "      [4,5,6],\n",
    "      [6,7,8],\n",
    "])"
   ]
  },
  {
   "cell_type": "markdown",
   "metadata": {},
   "source": [
    "#### Forward Propagation (inferencia, prediccion o estimacion)"
   ]
  },
  {
   "cell_type": "code",
   "execution_count": 7,
   "metadata": {},
   "outputs": [],
   "source": [
    "H = np.matmul(X,Wc1)"
   ]
  },
  {
   "cell_type": "code",
   "execution_count": 8,
   "metadata": {},
   "outputs": [],
   "source": [
    "A = sigmoid(H)"
   ]
  },
  {
   "cell_type": "code",
   "execution_count": 9,
   "metadata": {},
   "outputs": [
    {
     "data": {
      "text/plain": [
       "array([[0.75026011, 0.76852478, 0.68997448],\n",
       "       [0.89090318, 0.95257413, 0.96770454],\n",
       "       [0.99816706, 0.99969655, 0.9994998 ],\n",
       "       [0.99988835, 0.99998987, 0.99996957]])"
      ]
     },
     "execution_count": 9,
     "metadata": {},
     "output_type": "execute_result"
    }
   ],
   "source": [
    "A"
   ]
  },
  {
   "cell_type": "code",
   "execution_count": 10,
   "metadata": {},
   "outputs": [],
   "source": [
    "y_aprox = sigmoid(np.matmul(\n",
    "    A,Wc2\n",
    "))"
   ]
  },
  {
   "cell_type": "code",
   "execution_count": 11,
   "metadata": {},
   "outputs": [
    {
     "data": {
      "text/plain": [
       "array([0.77387413, 0.83403412, 0.84538425, 0.84552612])"
      ]
     },
     "execution_count": 11,
     "metadata": {},
     "output_type": "execute_result"
    }
   ],
   "source": [
    "y_aprox"
   ]
  },
  {
   "cell_type": "markdown",
   "metadata": {},
   "source": [
    "##### Cambiando la estructura como una composicion de funciones"
   ]
  },
  {
   "cell_type": "code",
   "execution_count": 12,
   "metadata": {},
   "outputs": [],
   "source": [
    "def g(X):\n",
    "    return sigmoid(np.matmul(X,Wc1))"
   ]
  },
  {
   "cell_type": "code",
   "execution_count": 13,
   "metadata": {},
   "outputs": [],
   "source": [
    "def f(g):\n",
    "    return sigmoid(np.matmul(g,Wc2))"
   ]
  },
  {
   "cell_type": "code",
   "execution_count": 14,
   "metadata": {},
   "outputs": [],
   "source": [
    "y_aprox_compFunciones = f(g(X))"
   ]
  },
  {
   "cell_type": "code",
   "execution_count": 15,
   "metadata": {},
   "outputs": [
    {
     "data": {
      "text/plain": [
       "array([0.77387413, 0.83403412, 0.84538425, 0.84552612])"
      ]
     },
     "execution_count": 15,
     "metadata": {},
     "output_type": "execute_result"
    }
   ],
   "source": [
    "y_aprox_compFunciones"
   ]
  },
  {
   "cell_type": "markdown",
   "metadata": {},
   "source": [
    "##### Orientado a objetos"
   ]
  },
  {
   "cell_type": "code",
   "execution_count": 16,
   "metadata": {},
   "outputs": [],
   "source": [
    "class RedNeuronalEjemplo:\n",
    "    def __init__(self):\n",
    "        self.Wc1 = np.array([\n",
    "            [0.9,0.8,0.1],\n",
    "            [0.3,0.5,0.6],\n",
    "            [0.2,0.4,0.7]    \n",
    "        ])\n",
    "\n",
    "        self. Wc2  = np.array([0.3,0.5,0.9])\n",
    "\n",
    "    def forward_propagation(self,X):\n",
    "        A = sigmoid(np.matmul(X,self.Wc1))\n",
    "        y_aprox = sigmoid(np.matmul(A,self.Wc2))\n",
    "\n",
    "        return y_aprox"
   ]
  },
  {
   "cell_type": "code",
   "execution_count": 17,
   "metadata": {},
   "outputs": [
    {
     "data": {
      "text/plain": [
       "array([0.77387413, 0.83403412, 0.84538425, 0.84552612])"
      ]
     },
     "execution_count": 17,
     "metadata": {},
     "output_type": "execute_result"
    }
   ],
   "source": [
    "red = RedNeuronalEjemplo()\n",
    "red.forward_propagation(X)"
   ]
  },
  {
   "cell_type": "markdown",
   "metadata": {},
   "source": [
    "### Parte 1: Calculando la salida de un MLP\n",
    "* Utilizando Numpy definir una función para calcular la salida de los siguientes modelos \n",
    "* Dado que cada sub-modelo “detecta” una característica intermedia h(variable latente) determinar  para cada entrada la característica intermedia con mayor presencia.\n",
    "\n",
    "#### Diagrama 1:\n",
    "<img src = \"https://github.com/rub3ng0nzalez/MSDegree/blob/master/Statistical%20Learning/Forward%20Propagation/Diagrama2.jpg\">"
   ]
  },
  {
   "cell_type": "code",
   "execution_count": 38,
   "metadata": {},
   "outputs": [],
   "source": [
    "class RedNeuronal:\n",
    "    def __init__(self, Wc1, Wc2):\n",
    "        # 1 fila por neurona , 1 columna por variable de entrada\n",
    "        self.Wc1 = Wc1\n",
    "\n",
    "        # 1 elemento para cada neurona intermedia\n",
    "        self.Wc2  = Wc2\n",
    "\n",
    "    def forward_propagation(self,X, bias = False):\n",
    "        print(\"Shape de X: \"+str(X.shape))\n",
    "        print(\"Shape de pesos capa 1 transpuesto: \"+ str(self.Wc1.T.shape))\n",
    "        A = sigmoid(np.matmul(X,self.Wc1.T)) # 1 fila por observacion, 1 columna por representacion intermedia\n",
    "        #Se crea una columna de 1's para usarla como entrada del peso del sesgo\n",
    "        if bias:\n",
    "            A = np.insert(A, 2, np.ones(len(A)), axis=1).astype(np.float32)\n",
    "        print(\"Shape de A: \" + str(A.shape))\n",
    "        print(A)\n",
    "        y_aprox = sigmoid(np.matmul(A,self.Wc2)) # 1 fila por observacion,  1 unica salida\n",
    "        print(\"Shape de y hat: \" + str(y_aprox.shape))\n",
    "        return y_aprox, A"
   ]
  },
  {
   "cell_type": "code",
   "execution_count": 19,
   "metadata": {},
   "outputs": [],
   "source": [
    "# 1 observacion, 2 variables\n",
    "X1 = np.array([\n",
    "      [1,1]\n",
    "])"
   ]
  },
  {
   "cell_type": "code",
   "execution_count": 20,
   "metadata": {},
   "outputs": [],
   "source": [
    "PesosCapa1_Diag1 = np.array([\n",
    "    [0.8,0.2],\n",
    "    [0.4,0.9],\n",
    "    [0.3,0.5]])"
   ]
  },
  {
   "cell_type": "code",
   "execution_count": 21,
   "metadata": {},
   "outputs": [],
   "source": [
    "PesosCapa2_Diag1 = np.array([0.3,0.5,0.9])"
   ]
  },
  {
   "cell_type": "code",
   "execution_count": 40,
   "metadata": {},
   "outputs": [
    {
     "name": "stdout",
     "output_type": "stream",
     "text": [
      "Shape de X: (1, 2)\n",
      "Shape de pesos capa 1 transpuesto: (2, 3)\n",
      "Shape de A: (1, 3)\n",
      "[[0.73105858 0.78583498 0.68997448]]\n",
      "Shape de y hat: (1,)\n"
     ]
    }
   ],
   "source": [
    "red1 = RedNeuronal(PesosCapa1_Diag1, PesosCapa2_Diag1)\n",
    "y_aprox1, _ = red1.forward_propagation(X1)"
   ]
  },
  {
   "cell_type": "code",
   "execution_count": 23,
   "metadata": {},
   "outputs": [
    {
     "data": {
      "text/plain": [
       "array([0.77438027])"
      ]
     },
     "execution_count": 23,
     "metadata": {},
     "output_type": "execute_result"
    }
   ],
   "source": [
    "y_aprox1"
   ]
  },
  {
   "cell_type": "markdown",
   "metadata": {},
   "source": [
    "Dados los valores obtenidos en la capa oculta de los valores, la caracteristica con con mayor presencia es la de en medio. Tiene valores mas altos. Es la que mas se parece a los datos de entrada. En el caso de la entrada x1 =1 y x2 = 1 su valor es de 0.78"
   ]
  },
  {
   "cell_type": "markdown",
   "metadata": {},
   "source": [
    "##### Diagrama 2:\n",
    "<img src = \"Diagrama1.jpg\">"
   ]
  },
  {
   "cell_type": "code",
   "execution_count": 24,
   "metadata": {},
   "outputs": [],
   "source": [
    "# 1 observacion, 2 variables y se incluye el sesgo con un uno al final.\n",
    "X2 = np.array([\n",
    "      [1,1,1]\n",
    "])"
   ]
  },
  {
   "cell_type": "code",
   "execution_count": 25,
   "metadata": {},
   "outputs": [],
   "source": [
    "PesosCapa1_Diag2 = np.array([\n",
    "    [5,-2,-8],\n",
    "    [7,-3,1]])"
   ]
  },
  {
   "cell_type": "code",
   "execution_count": 26,
   "metadata": {},
   "outputs": [],
   "source": [
    "PesosCapa2_Diag2 = np.array([7,5,-6])"
   ]
  },
  {
   "cell_type": "code",
   "execution_count": 41,
   "metadata": {},
   "outputs": [
    {
     "name": "stdout",
     "output_type": "stream",
     "text": [
      "Shape de X: (1, 3)\n",
      "Shape de pesos capa 1 transpuesto: (3, 2)\n",
      "Shape de A: (1, 3)\n",
      "[[0.00669285 0.9933072  1.        ]]\n",
      "Shape de y hat: (1,)\n"
     ]
    }
   ],
   "source": [
    "red2 = RedNeuronal(PesosCapa1_Diag2, PesosCapa2_Diag2)\n",
    "y_aprox2, _ = red2.forward_propagation(X2, True)"
   ]
  },
  {
   "cell_type": "code",
   "execution_count": 28,
   "metadata": {},
   "outputs": [
    {
     "data": {
      "text/plain": [
       "array([0.27158136])"
      ]
     },
     "execution_count": 28,
     "metadata": {},
     "output_type": "execute_result"
    }
   ],
   "source": [
    "y_aprox2"
   ]
  },
  {
   "cell_type": "markdown",
   "metadata": {},
   "source": [
    "Dados los valores obtenidos en la capa oculta de los valores, la caracteristica con con mayor presencia es la segunda neurona de arriba hacia abajo. Tiene valores mas altos. Es la que mas se parece a los datos de entrada. En el caso de la entrada x1 =1 y x2 = 1 su valor es de 0.27"
   ]
  },
  {
   "cell_type": "markdown",
   "metadata": {},
   "source": [
    "### Parte 2: Revisitando la función Xor\n",
    "Por su simplicidad y dominio pequeño, seguiremos usando Xor como ejemplo. Asumamos que bajo un proceso de entrenamiento(aún por definir) ya se han encontrado los pesos de una red neuronal como se ve en la siguiente imagen:\n",
    "\n",
    "<img src =\"Diagrama3.jpg\">\n",
    "\n",
    "* Calcular para cada posible punto en el dominio de xor la salida intermedia H = [h1,h2]\n",
    "* Mostrar la matriz resultante H en el notebook.\n",
    "* Graficar cada punto de la representación intermedia(scatter) ,usar diferente color y/o marker según su etiqueta Y.(puesto que y tiene 2 posibles valores, la gráfica debe tener 2 colores o markers)\n",
    "* Analizar el resultado intermedio ,concluir y comentar opiniones.\n",
    "\n",
    "Nota: usar solo código vectorizado (producto punto, multiplicación matricial ,ufuncs)"
   ]
  },
  {
   "cell_type": "code",
   "execution_count": 30,
   "metadata": {},
   "outputs": [],
   "source": [
    "# 4 observaciones, 2 variables y se incluye el sesgo con un uno al final.\n",
    "X3 = np.array([\n",
    "    [1,1,1],\n",
    "    [1,0,1],\n",
    "    [0,1,1],\n",
    "    [0,0,1]\n",
    "])"
   ]
  },
  {
   "cell_type": "code",
   "execution_count": 31,
   "metadata": {},
   "outputs": [],
   "source": [
    "PesosCapa1_Diag3 = np.array([\n",
    "    [20,20,-10],\n",
    "    [-20,-20,30]])"
   ]
  },
  {
   "cell_type": "code",
   "execution_count": 32,
   "metadata": {},
   "outputs": [],
   "source": [
    "PesosCapa2_Diag3 = np.array([20,20,-30])"
   ]
  },
  {
   "cell_type": "code",
   "execution_count": 42,
   "metadata": {},
   "outputs": [
    {
     "name": "stdout",
     "output_type": "stream",
     "text": [
      "Shape de X: (4, 3)\n",
      "Shape de pesos capa 1 transpuesto: (3, 2)\n",
      "Shape de A: (4, 3)\n",
      "[[1.000000e+00 4.539787e-05 1.000000e+00]\n",
      " [9.999546e-01 9.999546e-01 1.000000e+00]\n",
      " [9.999546e-01 9.999546e-01 1.000000e+00]\n",
      " [4.539787e-05 1.000000e+00 1.000000e+00]]\n",
      "Shape de y hat: (4,)\n"
     ]
    }
   ],
   "source": [
    "red3 = RedNeuronal(PesosCapa1_Diag3, PesosCapa2_Diag3)\n",
    "y_aprox3, Hvalues = red3.forward_propagation(X3, True)"
   ]
  },
  {
   "cell_type": "code",
   "execution_count": 43,
   "metadata": {},
   "outputs": [
    {
     "data": {
      "text/plain": [
       "array([4.54391049e-05, 9.99954520e-01, 9.99954520e-01, 4.54391049e-05])"
      ]
     },
     "execution_count": 43,
     "metadata": {},
     "output_type": "execute_result"
    }
   ],
   "source": [
    "y_aprox3"
   ]
  },
  {
   "cell_type": "code",
   "execution_count": 44,
   "metadata": {},
   "outputs": [
    {
     "data": {
      "text/plain": [
       "array([1.000000e+00, 9.999546e-01, 9.999546e-01, 4.539787e-05],\n",
       "      dtype=float32)"
      ]
     },
     "execution_count": 44,
     "metadata": {},
     "output_type": "execute_result"
    }
   ],
   "source": [
    "Hvalues[:,0]"
   ]
  },
  {
   "cell_type": "code",
   "execution_count": 56,
   "metadata": {},
   "outputs": [
    {
     "data": {
      "image/png": "[encoded data removed]",
      "text/plain": [
       "<Figure size 432x288 with 1 Axes>"
      ]
     },
     "metadata": {
      "needs_background": "light"
     },
     "output_type": "display_data"
    }
   ],
   "source": [
    "#-- Mostrar representacion en 2d, agrupados por valores obtenidos en \"y\" aproximado\n",
    "plt.scatter(Hvalues[:,0],Hvalues[:,1], c=y_aprox3, cmap='Dark2')\n",
    "plt.xlabel(\"H1\")\n",
    "plt.ylabel(\"H2\")\n",
    "plt.show()"
   ]
  },
  {
   "cell_type": "markdown",
   "metadata": {},
   "source": [
    "### Conclusiones\n",
    "El resultado intermedio no es mas que una representacion mejor manipulable de los datos, muy parecido a lo visto en reduccion de la dimensionalidad. En este caso particular es lo mismo dada la naturaleza del XOR. Vemos que la red busca encontrar features para poder predecir de mejor forma las salidas.\n",
    "\n",
    "Como opinión personal se debe tener especial cuidado al manejar las multiplicaciones matriciales. Para la realización de este ejercicio se uso paralelo una representación a mano para llevar un mejor control de lo codificado. "
   ]
  }
 ],
 "metadata": {
  "kernelspec": {
   "display_name": "Python 3",
   "language": "python",
   "name": "python3"
  },
  "language_info": {
   "codemirror_mode": {
    "name": "ipython",
    "version": 3
   },
   "file_extension": ".py",
   "mimetype": "text/x-python",
   "name": "python",
   "nbconvert_exporter": "python",
   "pygments_lexer": "ipython3",
   "version": "3.7.6"
  }
 },
 "nbformat": 4,
 "nbformat_minor": 2
}
