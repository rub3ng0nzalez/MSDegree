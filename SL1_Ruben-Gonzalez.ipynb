{
 "cells": [
  {
   "cell_type": "markdown",
   "metadata": {},
   "source": [
    "## Tarea Práctica 1: Gradient descent con TensorFlow\n",
    "#### Statistical Learning I\n",
    "##### Ruben Gonzalez 20003314"
   ]
  },
  {
   "cell_type": "code",
   "execution_count": 28,
   "metadata": {},
   "outputs": [],
   "source": [
    "import numpy as np\n",
    "import matplotlib.pyplot as plt\n",
    "import datetime"
   ]
  },
  {
   "cell_type": "code",
   "execution_count": 2,
   "metadata": {},
   "outputs": [],
   "source": [
    "data = np.load(\"proyecto_training_data.npy\")"
   ]
  },
  {
   "cell_type": "code",
   "execution_count": 3,
   "metadata": {},
   "outputs": [],
   "source": [
    "import pandas as pd"
   ]
  },
  {
   "cell_type": "code",
   "execution_count": 4,
   "metadata": {},
   "outputs": [],
   "source": [
    "pandas_dataframe = pd.DataFrame(data,columns=['SalePrice','OverallQual','1stFlrSF','TotRmsAbvGrd','YearBuilt','LotFrontage'])"
   ]
  },
  {
   "cell_type": "code",
   "execution_count": 5,
   "metadata": {},
   "outputs": [
    {
     "data": {
      "text/html": [
       "<div>\n",
       "<style scoped>\n",
       "    .dataframe tbody tr th:only-of-type {\n",
       "        vertical-align: middle;\n",
       "    }\n",
       "\n",
       "    .dataframe tbody tr th {\n",
       "        vertical-align: top;\n",
       "    }\n",
       "\n",
       "    .dataframe thead th {\n",
       "        text-align: right;\n",
       "    }\n",
       "</style>\n",
       "<table border=\"1\" class=\"dataframe\">\n",
       "  <thead>\n",
       "    <tr style=\"text-align: right;\">\n",
       "      <th></th>\n",
       "      <th>SalePrice</th>\n",
       "      <th>OverallQual</th>\n",
       "      <th>1stFlrSF</th>\n",
       "      <th>TotRmsAbvGrd</th>\n",
       "      <th>YearBuilt</th>\n",
       "      <th>LotFrontage</th>\n",
       "    </tr>\n",
       "  </thead>\n",
       "  <tbody>\n",
       "    <tr>\n",
       "      <th>count</th>\n",
       "      <td>1460.000000</td>\n",
       "      <td>1460.000000</td>\n",
       "      <td>1460.000000</td>\n",
       "      <td>1460.000000</td>\n",
       "      <td>1460.000000</td>\n",
       "      <td>1201.000000</td>\n",
       "    </tr>\n",
       "    <tr>\n",
       "      <th>mean</th>\n",
       "      <td>180921.195890</td>\n",
       "      <td>6.099315</td>\n",
       "      <td>1162.626712</td>\n",
       "      <td>6.517808</td>\n",
       "      <td>1971.267808</td>\n",
       "      <td>70.049958</td>\n",
       "    </tr>\n",
       "    <tr>\n",
       "      <th>std</th>\n",
       "      <td>79442.502883</td>\n",
       "      <td>1.382997</td>\n",
       "      <td>386.587738</td>\n",
       "      <td>1.625393</td>\n",
       "      <td>30.202904</td>\n",
       "      <td>24.284752</td>\n",
       "    </tr>\n",
       "    <tr>\n",
       "      <th>min</th>\n",
       "      <td>34900.000000</td>\n",
       "      <td>1.000000</td>\n",
       "      <td>334.000000</td>\n",
       "      <td>2.000000</td>\n",
       "      <td>1872.000000</td>\n",
       "      <td>21.000000</td>\n",
       "    </tr>\n",
       "    <tr>\n",
       "      <th>25%</th>\n",
       "      <td>129975.000000</td>\n",
       "      <td>5.000000</td>\n",
       "      <td>882.000000</td>\n",
       "      <td>5.000000</td>\n",
       "      <td>1954.000000</td>\n",
       "      <td>59.000000</td>\n",
       "    </tr>\n",
       "    <tr>\n",
       "      <th>50%</th>\n",
       "      <td>163000.000000</td>\n",
       "      <td>6.000000</td>\n",
       "      <td>1087.000000</td>\n",
       "      <td>6.000000</td>\n",
       "      <td>1973.000000</td>\n",
       "      <td>69.000000</td>\n",
       "    </tr>\n",
       "    <tr>\n",
       "      <th>75%</th>\n",
       "      <td>214000.000000</td>\n",
       "      <td>7.000000</td>\n",
       "      <td>1391.250000</td>\n",
       "      <td>7.000000</td>\n",
       "      <td>2000.000000</td>\n",
       "      <td>80.000000</td>\n",
       "    </tr>\n",
       "    <tr>\n",
       "      <th>max</th>\n",
       "      <td>755000.000000</td>\n",
       "      <td>10.000000</td>\n",
       "      <td>4692.000000</td>\n",
       "      <td>14.000000</td>\n",
       "      <td>2010.000000</td>\n",
       "      <td>313.000000</td>\n",
       "    </tr>\n",
       "  </tbody>\n",
       "</table>\n",
       "</div>"
      ],
      "text/plain": [
       "           SalePrice  OverallQual     1stFlrSF  TotRmsAbvGrd    YearBuilt  \\\n",
       "count    1460.000000  1460.000000  1460.000000   1460.000000  1460.000000   \n",
       "mean   180921.195890     6.099315  1162.626712      6.517808  1971.267808   \n",
       "std     79442.502883     1.382997   386.587738      1.625393    30.202904   \n",
       "min     34900.000000     1.000000   334.000000      2.000000  1872.000000   \n",
       "25%    129975.000000     5.000000   882.000000      5.000000  1954.000000   \n",
       "50%    163000.000000     6.000000  1087.000000      6.000000  1973.000000   \n",
       "75%    214000.000000     7.000000  1391.250000      7.000000  2000.000000   \n",
       "max    755000.000000    10.000000  4692.000000     14.000000  2010.000000   \n",
       "\n",
       "       LotFrontage  \n",
       "count  1201.000000  \n",
       "mean     70.049958  \n",
       "std      24.284752  \n",
       "min      21.000000  \n",
       "25%      59.000000  \n",
       "50%      69.000000  \n",
       "75%      80.000000  \n",
       "max     313.000000  "
      ]
     },
     "execution_count": 5,
     "metadata": {},
     "output_type": "execute_result"
    }
   ],
   "source": [
    "pandas_dataframe.describe()"
   ]
  },
  {
   "cell_type": "code",
   "execution_count": 6,
   "metadata": {},
   "outputs": [
    {
     "data": {
      "text/html": [
       "<div>\n",
       "<style scoped>\n",
       "    .dataframe tbody tr th:only-of-type {\n",
       "        vertical-align: middle;\n",
       "    }\n",
       "\n",
       "    .dataframe tbody tr th {\n",
       "        vertical-align: top;\n",
       "    }\n",
       "\n",
       "    .dataframe thead th {\n",
       "        text-align: right;\n",
       "    }\n",
       "</style>\n",
       "<table border=\"1\" class=\"dataframe\">\n",
       "  <thead>\n",
       "    <tr style=\"text-align: right;\">\n",
       "      <th></th>\n",
       "      <th>SalePrice</th>\n",
       "      <th>OverallQual</th>\n",
       "      <th>1stFlrSF</th>\n",
       "      <th>TotRmsAbvGrd</th>\n",
       "      <th>YearBuilt</th>\n",
       "      <th>LotFrontage</th>\n",
       "    </tr>\n",
       "  </thead>\n",
       "  <tbody>\n",
       "    <tr>\n",
       "      <th>SalePrice</th>\n",
       "      <td>1.000000</td>\n",
       "      <td>0.790982</td>\n",
       "      <td>0.605852</td>\n",
       "      <td>0.533723</td>\n",
       "      <td>0.522897</td>\n",
       "      <td>0.351799</td>\n",
       "    </tr>\n",
       "    <tr>\n",
       "      <th>OverallQual</th>\n",
       "      <td>0.790982</td>\n",
       "      <td>1.000000</td>\n",
       "      <td>0.476224</td>\n",
       "      <td>0.427452</td>\n",
       "      <td>0.572323</td>\n",
       "      <td>0.251646</td>\n",
       "    </tr>\n",
       "    <tr>\n",
       "      <th>1stFlrSF</th>\n",
       "      <td>0.605852</td>\n",
       "      <td>0.476224</td>\n",
       "      <td>1.000000</td>\n",
       "      <td>0.409516</td>\n",
       "      <td>0.281986</td>\n",
       "      <td>0.457181</td>\n",
       "    </tr>\n",
       "    <tr>\n",
       "      <th>TotRmsAbvGrd</th>\n",
       "      <td>0.533723</td>\n",
       "      <td>0.427452</td>\n",
       "      <td>0.409516</td>\n",
       "      <td>1.000000</td>\n",
       "      <td>0.095589</td>\n",
       "      <td>0.352096</td>\n",
       "    </tr>\n",
       "    <tr>\n",
       "      <th>YearBuilt</th>\n",
       "      <td>0.522897</td>\n",
       "      <td>0.572323</td>\n",
       "      <td>0.281986</td>\n",
       "      <td>0.095589</td>\n",
       "      <td>1.000000</td>\n",
       "      <td>0.123349</td>\n",
       "    </tr>\n",
       "    <tr>\n",
       "      <th>LotFrontage</th>\n",
       "      <td>0.351799</td>\n",
       "      <td>0.251646</td>\n",
       "      <td>0.457181</td>\n",
       "      <td>0.352096</td>\n",
       "      <td>0.123349</td>\n",
       "      <td>1.000000</td>\n",
       "    </tr>\n",
       "  </tbody>\n",
       "</table>\n",
       "</div>"
      ],
      "text/plain": [
       "              SalePrice  OverallQual  1stFlrSF  TotRmsAbvGrd  YearBuilt  \\\n",
       "SalePrice      1.000000     0.790982  0.605852      0.533723   0.522897   \n",
       "OverallQual    0.790982     1.000000  0.476224      0.427452   0.572323   \n",
       "1stFlrSF       0.605852     0.476224  1.000000      0.409516   0.281986   \n",
       "TotRmsAbvGrd   0.533723     0.427452  0.409516      1.000000   0.095589   \n",
       "YearBuilt      0.522897     0.572323  0.281986      0.095589   1.000000   \n",
       "LotFrontage    0.351799     0.251646  0.457181      0.352096   0.123349   \n",
       "\n",
       "              LotFrontage  \n",
       "SalePrice        0.351799  \n",
       "OverallQual      0.251646  \n",
       "1stFlrSF         0.457181  \n",
       "TotRmsAbvGrd     0.352096  \n",
       "YearBuilt        0.123349  \n",
       "LotFrontage      1.000000  "
      ]
     },
     "execution_count": 6,
     "metadata": {},
     "output_type": "execute_result"
    }
   ],
   "source": [
    "pandas_dataframe.corr()"
   ]
  },
  {
   "cell_type": "code",
   "execution_count": 7,
   "metadata": {},
   "outputs": [
    {
     "name": "stdout",
     "output_type": "stream",
     "text": [
      "WARNING:tensorflow:From C:\\Users\\ruben\\AppData\\Local\\Continuum\\anaconda3\\envs\\Galileo-Python\\lib\\site-packages\\tensorflow_core\\python\\compat\\v2_compat.py:88: disable_resource_variables (from tensorflow.python.ops.variable_scope) is deprecated and will be removed in a future version.\n",
      "Instructions for updating:\n",
      "non-resource variables are not supported in the long term\n",
      "Enabled compatitility to tf1.x\n"
     ]
    }
   ],
   "source": [
    "import tensorflow.compat.v1 as tf\n",
    "if tf.__version__.startswith(\"2.\"):\n",
    "    import tensorflow.compat.v1 as tf\n",
    "    tf.compat.v1.disable_v2_behavior()\n",
    "    tf.compat.v1.disable_eager_execution()\n",
    "    print(\"Enabled compatitility to tf1.x\")"
   ]
  },
  {
   "cell_type": "markdown",
   "metadata": {},
   "source": [
    "#### Feature engineering a la data:\n",
    "Creamos la matriz con columna de unos y los valores de x para el producto punto de la hipotesis junto con el arreglo de y"
   ]
  },
  {
   "cell_type": "code",
   "execution_count": 8,
   "metadata": {},
   "outputs": [],
   "source": [
    "def matrizPreTensorflow(x,y):\n",
    "    unos=np.ones(x.size)\n",
    "    matrizx=pd.DataFrame()\n",
    "    matrizx['x']=pd.Series(x)\n",
    "    matrizx['unos']=pd.Series(unos)\n",
    "    xfinal=np.array(matrizx)\n",
    "    yfinal=np.array(y)\n",
    "    return xfinal, yfinal"
   ]
  },
  {
   "cell_type": "code",
   "execution_count": 9,
   "metadata": {},
   "outputs": [],
   "source": [
    "xparaTF,yparaTF=matrizPreTensorflow(pandas_dataframe['OverallQual'],pandas_dataframe['SalePrice'] )"
   ]
  },
  {
   "cell_type": "markdown",
   "metadata": {},
   "source": [
    "Usando los datos obtenidos, los aplicaremos como entradas a nuestro grafo"
   ]
  },
  {
   "cell_type": "code",
   "execution_count": 16,
   "metadata": {},
   "outputs": [],
   "source": [
    "class ModeloLineal:\n",
    "    def __init__(self):\n",
    "        self.parametros=tf.Variable([1., 1.])\n",
    "\n",
    "    def __call__(self,x):\n",
    "        return tf.tensordot(x,self.parametros,1)\n",
    "\n",
    "    def actualizar(self,x,y,lr):\n",
    "        #Calculo de yhat\n",
    "        yhat = self(x)\n",
    "\n",
    "        #Calculo del error\n",
    "        with tf.name_scope(\"Error\"):\n",
    "            derror=tf.reduce_mean(tf.math.square(y-yhat))*0.5\n",
    "            derror_summary = tf.summary.scalar(\"ErrorSummary\", derror)\n",
    "        \n",
    "        #Calculo de gradientes\n",
    "        with tf.name_scope(\"Gradiente\"):\n",
    "            gradiente = tf.gradients(derror,self.parametros)\n",
    "\n",
    "        #Actualizar mb\n",
    "        with tf.name_scope(\"Parametros\"):\n",
    "            lrgrad=tf.math.multiply(gradiente,lr)\n",
    "            nuevaAsig=tf.math.subtract(self.parametros,lrgrad)\n",
    "            retorna=tf.assign(self.parametros, nuevaAsig[0])\n",
    "\n",
    "        return derror_summary, derror, retorna"
   ]
  },
  {
   "cell_type": "code",
   "execution_count": 30,
   "metadata": {},
   "outputs": [],
   "source": [
    "#------------Inicio del grafo\n",
    "def AplicarModeloLineal(matrizX,vectorY,learning_rate,epochs,imprimir_error_cada):\n",
    "    g=tf.Graph()\n",
    "    with g.as_default():\n",
    "        modelo = ModeloLineal()\n",
    "        tensor_x=tf.placeholder(tf.float32,[1460,2],\"tensor_x\")\n",
    "        tensor_y=tf.placeholder(tf.float32,[1460],\"tensor_y\")\n",
    "        lr=tf.placeholder(tf.float32,[],\"lr\")\n",
    "\n",
    "        prediccion = modelo(tensor_x)\n",
    "        actualizacion_parametros = modelo.actualizar(tensor_x,tensor_y,lr)\n",
    "    #------------Fin del grafo\n",
    "        nombreArchivo = './gradiente/Model' + datetime.datetime.now().strftime(\"%Y%m%d-%H%M%S\") + '_lr=' + str(learning_rate) + '_epochs=' + str(epochs)\n",
    "        writer = tf.summary.FileWriter(nombreArchivo, g)\n",
    "\n",
    "        with tf.train.MonitoredSession() as session:\n",
    "            feed_dict = {tensor_x:matrizX, tensor_y:vectorY, lr:learning_rate}\n",
    "\n",
    "            for i in range(epochs):\n",
    "                salida=session.run(actualizacion_parametros,feed_dict=feed_dict)\n",
    "                predicciones = session.run(prediccion,feed_dict=feed_dict)\n",
    "                writer.add_summary(salida[0],i)\n",
    "                if (i % imprimir_error_cada == 0 and i!=0):\n",
    "                    print(\"Epoch: \",i,\" Error: \",salida[1],\" Parametros: \",salida[2])\n",
    "            writer.close()"
   ]
  },
  {
   "cell_type": "markdown",
   "metadata": {},
   "source": [
    "### Hipotesis:\n",
    "La funcion de hipotesis a utilizar sera un modelo lineal de tipo Y=mx+b donde en nuestro modelo buscaremos calcular los parametros m y b optimos para modelar de la mejor forma el comportamiento dados los valores proporcionados por el dataset. Como hiper parametros de la funcion utilizamos el learning-rate y la cantidad de iteraciones que realizara el algoritmo hasta llegar a un resultado final.\n",
    "\n",
    "\n",
    "Aplicando la funcion a 10 modelos distintos variando epochs y learning rate:"
   ]
  },
  {
   "cell_type": "code",
   "execution_count": 44,
   "metadata": {},
   "outputs": [
    {
     "name": "stdout",
     "output_type": "stream",
     "text": [
      "INFO:tensorflow:Graph was finalized.\n",
      "INFO:tensorflow:Running local_init_op.\n",
      "INFO:tensorflow:Done running local_init_op.\n",
      "Epoch:  500  Error:  1439826800.0  Parametros:  [28968.426   4080.2605]\n",
      "Epoch:  1000  Error:  1424727300.0  Parametros:  [29804.678   3770.1453]\n",
      "Epoch:  1500  Error:  1422629000.0  Parametros:  [29892.184  3345.019]\n",
      "Epoch:  2000  Error:  1420558800.0  Parametros:  [29959.22    2918.6084]\n",
      "Epoch:  2500  Error:  1418506100.0  Parametros:  [30025.627   2493.9685]\n",
      "Epoch:  3000  Error:  1416470900.0  Parametros:  [30091.654  2071.089]\n",
      "Epoch:  3500  Error:  1414452500.0  Parametros:  [30157.312   1650.0598]\n",
      "Epoch:  4000  Error:  1412452400.0  Parametros:  [30222.754   1230.8673]\n",
      "Epoch:  4500  Error:  1410469000.0  Parametros:  [30288.055    813.4163]\n",
      "Epoch:  5000  Error:  1408502000.0  Parametros:  [30352.875     397.75394]\n",
      "Epoch:  5500  Error:  1406553000.0  Parametros:  [ 3.0417418e+04 -1.6085299e+01]\n",
      "Epoch:  6000  Error:  1404620000.0  Parametros:  [30481.871    -428.15363]\n",
      "Epoch:  6500  Error:  1402703600.0  Parametros:  [30545.938   -838.5149]\n"
     ]
    }
   ],
   "source": [
    "AplicarModeloLineal(xparaTF,yparaTF,0.00018,7000,500)"
   ]
  },
  {
   "cell_type": "code",
   "execution_count": 32,
   "metadata": {
    "scrolled": true
   },
   "outputs": [
    {
     "name": "stdout",
     "output_type": "stream",
     "text": [
      "INFO:tensorflow:Graph was finalized.\n",
      "INFO:tensorflow:Running local_init_op.\n",
      "INFO:tensorflow:Done running local_init_op.\n",
      "Epoch:  500  Error:  1419643900.0  Parametros:  [29989.295   2726.6572]\n",
      "Epoch:  1000  Error:  1410687500.0  Parametros:  [30281.26      856.65875]\n",
      "Epoch:  1500  Error:  1402067000.0  Parametros:  [30567.725   -977.9922]\n",
      "Epoch:  2000  Error:  1393768700.0  Parametros:  [30848.736  -2777.9646]\n",
      "Epoch:  2500  Error:  1385781600.0  Parametros:  [31124.467 -4543.912]\n",
      "Epoch:  3000  Error:  1378093600.0  Parametros:  [31394.975 -6276.48 ]\n",
      "Epoch:  3500  Error:  1370693000.0  Parametros:  [31660.361 -7976.3  ]\n",
      "Epoch:  4000  Error:  1363569800.0  Parametros:  [31920.736 -9643.987]\n",
      "Epoch:  4500  Error:  1356713500.0  Parametros:  [ 32176.193 -11280.153]\n",
      "Epoch:  5000  Error:  1350113800.0  Parametros:  [ 32426.824 -12885.394]\n",
      "Epoch:  5500  Error:  1343761400.0  Parametros:  [ 32672.727 -14460.297]\n",
      "Epoch:  6000  Error:  1337646500.0  Parametros:  [ 32913.957 -16005.417]\n",
      "Epoch:  6500  Error:  1331760800.0  Parametros:  [ 33150.6   -17521.309]\n"
     ]
    }
   ],
   "source": [
    "AplicarModeloLineal(xparaTF,yparaTF,0.0008,7000,500)"
   ]
  },
  {
   "cell_type": "code",
   "execution_count": 33,
   "metadata": {},
   "outputs": [
    {
     "name": "stdout",
     "output_type": "stream",
     "text": [
      "INFO:tensorflow:Graph was finalized.\n",
      "INFO:tensorflow:Running local_init_op.\n",
      "INFO:tensorflow:Done running local_init_op.\n",
      "Epoch:  500  Error:  1395811700.0  Parametros:  [30780.602  -2341.4622]\n",
      "Epoch:  1000  Error:  1367093800.0  Parametros:  [31792.748 -8824.115]\n",
      "Epoch:  1500  Error:  1342205800.0  Parametros:  [ 32734.988 -14859.049]\n",
      "Epoch:  2000  Error:  1320636800.0  Parametros:  [ 33612.145 -20477.156]\n",
      "Epoch:  2500  Error:  1301944000.0  Parametros:  [ 34428.73  -25707.258]\n",
      "Epoch:  3000  Error:  1285744400.0  Parametros:  [ 35188.918 -30576.15 ]\n",
      "Epoch:  3500  Error:  1271705100.0  Parametros:  [ 35896.6  -35108.76]\n",
      "Epoch:  4000  Error:  1259538000.0  Parametros:  [ 36555.41 -39328.34]\n",
      "Epoch:  4500  Error:  1248993400.0  Parametros:  [ 37168.71 -43256.49]\n"
     ]
    }
   ],
   "source": [
    "AplicarModeloLineal(xparaTF,yparaTF,0.003,5000,500)"
   ]
  },
  {
   "cell_type": "code",
   "execution_count": 34,
   "metadata": {},
   "outputs": [
    {
     "name": "stdout",
     "output_type": "stream",
     "text": [
      "INFO:tensorflow:Graph was finalized.\n",
      "INFO:tensorflow:Running local_init_op.\n",
      "INFO:tensorflow:Done running local_init_op.\n",
      "Epoch:  700  Error:  1383829500.0  Parametros:  [31194.172  -4990.3203]\n",
      "Epoch:  1400  Error:  1346902700.0  Parametros:  [ 32551.895 -13686.365]\n",
      "Epoch:  2100  Error:  1316681500.0  Parametros:  [ 33780.168 -21553.33 ]\n",
      "Epoch:  2800  Error:  1291947600.0  Parametros:  [ 34891.355 -28670.3  ]\n",
      "Epoch:  3500  Error:  1271705100.0  Parametros:  [ 35896.6  -35108.76]\n",
      "Epoch:  4200  Error:  1255137800.0  Parametros:  [ 36806.008 -40933.42 ]\n",
      "Epoch:  4900  Error:  1241579500.0  Parametros:  [ 37628.715 -46202.77 ]\n",
      "Epoch:  5600  Error:  1230483200.0  Parametros:  [ 38372.996 -50969.777]\n",
      "Epoch:  6300  Error:  1221401100.0  Parametros:  [ 39046.312 -55282.312]\n",
      "Epoch:  7000  Error:  1213968500.0  Parametros:  [ 39655.445 -59183.71 ]\n",
      "Epoch:  7700  Error:  1207884800.0  Parametros:  [ 40206.516 -62713.184]\n",
      "Epoch:  8400  Error:  1202906600.0  Parametros:  [ 40705.035 -65906.16 ]\n"
     ]
    }
   ],
   "source": [
    "AplicarModeloLineal(xparaTF,yparaTF,0.003,9000,700)"
   ]
  },
  {
   "cell_type": "code",
   "execution_count": 35,
   "metadata": {},
   "outputs": [
    {
     "name": "stdout",
     "output_type": "stream",
     "text": [
      "INFO:tensorflow:Graph was finalized.\n",
      "INFO:tensorflow:Running local_init_op.\n",
      "INFO:tensorflow:Done running local_init_op.\n",
      "Epoch:  700  Error:  1424020100.0  Parametros:  [29842.111  3628.916]\n",
      "Epoch:  1400  Error:  1419188500.0  Parametros:  [30003.605   2634.6943]\n",
      "Epoch:  2100  Error:  1414452900.0  Parametros:  [30157.43    1649.4574]\n",
      "Epoch:  2800  Error:  1409811200.0  Parametros:  [30309.738    674.0403]\n",
      "Epoch:  3500  Error:  1405261800.0  Parametros:  [30460.543   -291.6567]\n",
      "Epoch:  4200  Error:  1400802600.0  Parametros:  [30609.852  -1247.7302]\n",
      "Epoch:  4900  Error:  1396431900.0  Parametros:  [30757.63  -2194.275]\n",
      "Epoch:  5600  Error:  1392148200.0  Parametros:  [30903.932  -3131.3828]\n",
      "Epoch:  6300  Error:  1387949400.0  Parametros:  [31048.775  -4059.1492]\n",
      "Epoch:  7000  Error:  1383833600.0  Parametros:  [31192.176  -4977.6665]\n",
      "Epoch:  7700  Error:  1379799300.0  Parametros:  [31334.15   -5887.0273]\n",
      "Epoch:  8400  Error:  1375845400.0  Parametros:  [31474.709  -6787.3223]\n"
     ]
    }
   ],
   "source": [
    "AplicarModeloLineal(xparaTF,yparaTF,0.0003,9000,700)"
   ]
  },
  {
   "cell_type": "code",
   "execution_count": 36,
   "metadata": {},
   "outputs": [
    {
     "name": "stdout",
     "output_type": "stream",
     "text": [
      "INFO:tensorflow:Graph was finalized.\n",
      "INFO:tensorflow:Running local_init_op.\n",
      "INFO:tensorflow:Done running local_init_op.\n",
      "Epoch:  800  Error:  1427291300.0  Parametros:  [29543.596   4023.1067]\n",
      "Epoch:  1600  Error:  1423323400.0  Parametros:  [29868.553  3487.527]\n",
      "Epoch:  2400  Error:  1420558300.0  Parametros:  [29959.3     2918.7444]\n",
      "Epoch:  3200  Error:  1417825900.0  Parametros:  [30047.629   2352.8926]\n",
      "Epoch:  4000  Error:  1415123700.0  Parametros:  [30135.355   1790.3431]\n",
      "Epoch:  4800  Error:  1412452700.0  Parametros:  [30222.855   1231.0101]\n",
      "Epoch:  5600  Error:  1409811500.0  Parametros:  [30309.648    674.7805]\n",
      "Epoch:  6400  Error:  1407201400.0  Parametros:  [30395.88       121.800644]\n",
      "Epoch:  7200  Error:  1404620000.0  Parametros:  [30481.82     -427.99298]\n",
      "Epoch:  8000  Error:  1402068000.0  Parametros:  [30567.21    -974.7549]\n",
      "Epoch:  8800  Error:  1399546100.0  Parametros:  [30651.977  -1518.3326]\n",
      "Epoch:  9600  Error:  1397052300.0  Parametros:  [30736.373  -2058.7532]\n"
     ]
    }
   ],
   "source": [
    "AplicarModeloLineal(xparaTF,yparaTF,0.00015,10000,800)"
   ]
  },
  {
   "cell_type": "code",
   "execution_count": 37,
   "metadata": {},
   "outputs": [
    {
     "name": "stdout",
     "output_type": "stream",
     "text": [
      "INFO:tensorflow:Graph was finalized.\n",
      "INFO:tensorflow:Running local_init_op.\n",
      "INFO:tensorflow:Done running local_init_op.\n",
      "Epoch:  1000  Error:  1397877600.0  Parametros:  [30709.35   -1885.1035]\n",
      "Epoch:  2000  Error:  1370691700.0  Parametros:  [31660.807 -7979.095]\n",
      "Epoch:  3000  Error:  1346905200.0  Parametros:  [ 32550.799 -13679.351]\n",
      "Epoch:  4000  Error:  1326093400.0  Parametros:  [ 33383.258 -19011.264]\n",
      "Epoch:  5000  Error:  1307884300.0  Parametros:  [ 34161.953 -23998.658]\n",
      "Epoch:  6000  Error:  1291951700.0  Parametros:  [ 34890.336 -28663.838]\n",
      "Epoch:  7000  Error:  1278011400.0  Parametros:  [ 35571.664 -33027.598]\n",
      "Epoch:  8000  Error:  1265814800.0  Parametros:  [ 36208.95  -37109.402]\n",
      "Epoch:  9000  Error:  1255142500.0  Parametros:  [ 36805.094 -40927.49 ]\n"
     ]
    }
   ],
   "source": [
    "AplicarModeloLineal(xparaTF,yparaTF,0.0014,10000,1000)"
   ]
  },
  {
   "cell_type": "code",
   "execution_count": 38,
   "metadata": {},
   "outputs": [
    {
     "name": "stdout",
     "output_type": "stream",
     "text": [
      "INFO:tensorflow:Graph was finalized.\n",
      "INFO:tensorflow:Running local_init_op.\n",
      "INFO:tensorflow:Done running local_init_op.\n",
      "Epoch:  500  Error:  1424253700.0  Parametros:  [29831.857  3675.633]\n",
      "Epoch:  1000  Error:  1419643600.0  Parametros:  [29988.967   2728.5688]\n",
      "Epoch:  1500  Error:  1415123700.0  Parametros:  [30135.69    1789.1145]\n",
      "Epoch:  2000  Error:  1410688000.0  Parametros:  [30280.93     858.5842]\n",
      "Epoch:  2500  Error:  1406336900.0  Parametros:  [30424.873     -63.10621]\n",
      "Epoch:  3000  Error:  1402067300.0  Parametros:  [30567.393   -976.0549]\n",
      "Epoch:  3500  Error:  1397878800.0  Parametros:  [30708.562  -1880.3218]\n",
      "Epoch:  4000  Error:  1393769900.0  Parametros:  [30848.453  -2776.0107]\n",
      "Epoch:  4500  Error:  1389738200.0  Parametros:  [30986.926  -3663.1926]\n",
      "Epoch:  5000  Error:  1385782700.0  Parametros:  [31124.129 -4541.941]\n",
      "Epoch:  5500  Error:  1381901800.0  Parametros:  [31260.066  -5412.3564]\n",
      "Epoch:  6000  Error:  1378095000.0  Parametros:  [31394.637  -6274.5044]\n",
      "Epoch:  6500  Error:  1374358700.0  Parametros:  [31527.959 -7128.456]\n",
      "Epoch:  7000  Error:  1370694300.0  Parametros:  [31660.078 -7974.308]\n",
      "Epoch:  7500  Error:  1367099000.0  Parametros:  [31790.855 -8812.131]\n",
      "Epoch:  8000  Error:  1363571500.0  Parametros:  [31920.395 -9641.988]\n",
      "Epoch:  8500  Error:  1360110200.0  Parametros:  [ 32048.748 -10463.965]\n"
     ]
    }
   ],
   "source": [
    "AplicarModeloLineal(xparaTF,yparaTF,0.0004,9000,500)"
   ]
  },
  {
   "cell_type": "code",
   "execution_count": 39,
   "metadata": {},
   "outputs": [
    {
     "name": "stdout",
     "output_type": "stream",
     "text": [
      "INFO:tensorflow:Graph was finalized.\n",
      "INFO:tensorflow:Running local_init_op.\n",
      "INFO:tensorflow:Done running local_init_op.\n",
      "Epoch:  800  Error:  1434783600.0  Parametros:  [29137.867   4077.5718]\n",
      "Epoch:  1600  Error:  1424441600.0  Parametros:  [29821.53    3714.4568]\n",
      "Epoch:  2400  Error:  1422214100.0  Parametros:  [29905.73    3259.8943]\n",
      "Epoch:  3200  Error:  1420009600.0  Parametros:  [29976.932   2805.4556]\n",
      "Epoch:  4000  Error:  1417826300.0  Parametros:  [30047.47    2353.1082]\n",
      "Epoch:  4800  Error:  1415662100.0  Parametros:  [30117.79  1902.86]\n",
      "Epoch:  5600  Error:  1413518000.0  Parametros:  [30188.002   1454.5746]\n",
      "Epoch:  6400  Error:  1411392600.0  Parametros:  [30257.596   1008.3076]\n",
      "Epoch:  7200  Error:  1409287400.0  Parametros:  [30326.861     564.12787]\n"
     ]
    }
   ],
   "source": [
    "AplicarModeloLineal(xparaTF,yparaTF,0.00012,8000,800)"
   ]
  },
  {
   "cell_type": "code",
   "execution_count": 40,
   "metadata": {},
   "outputs": [
    {
     "name": "stdout",
     "output_type": "stream",
     "text": [
      "INFO:tensorflow:Graph was finalized.\n",
      "INFO:tensorflow:Running local_init_op.\n",
      "INFO:tensorflow:Done running local_init_op.\n",
      "Epoch:  800  Error:  1629866000.0  Parametros:  [26602.66    3878.3977]\n",
      "Epoch:  1600  Error:  1428568800.0  Parametros:  [29444.057   4047.1616]\n",
      "Epoch:  2400  Error:  1425022700.0  Parametros:  [29781.86    3825.7625]\n",
      "Epoch:  3200  Error:  1423695000.0  Parametros:  [29854.814  3563.748]\n",
      "Epoch:  4000  Error:  1422398300.0  Parametros:  [29899.607  3298.07 ]\n",
      "Epoch:  4800  Error:  1421109400.0  Parametros:  [29941.531   3032.6448]\n",
      "Epoch:  5600  Error:  1419826600.0  Parametros:  [29982.818  2767.889]\n",
      "Epoch:  6400  Error:  1418551400.0  Parametros:  [30023.99    2503.8567]\n",
      "Epoch:  7200  Error:  1417282800.0  Parametros:  [30065.053   2240.5408]\n",
      "Epoch:  8000  Error:  1416021100.0  Parametros:  [30106.002   1977.9464]\n",
      "Epoch:  8800  Error:  1414766300.0  Parametros:  [30146.84    1716.0709]\n",
      "Epoch:  9600  Error:  1413517800.0  Parametros:  [30187.566   1454.9097]\n"
     ]
    }
   ],
   "source": [
    "AplicarModeloLineal(xparaTF,yparaTF,0.00007,10000,800)"
   ]
  },
  {
   "cell_type": "code",
   "execution_count": 12,
   "metadata": {},
   "outputs": [],
   "source": [
    "%load_ext tensorboard"
   ]
  },
  {
   "cell_type": "code",
   "execution_count": 14,
   "metadata": {},
   "outputs": [
    {
     "data": {
      "text/plain": [
       "Reusing TensorBoard on port 6006 (pid 15592), started 0:01:02 ago. (Use '!kill 15592' to kill it.)"
      ]
     },
     "metadata": {},
     "output_type": "display_data"
    },
    {
     "data": {
      "text/html": [
       "\n",
       "      <iframe id=\"tensorboard-frame-5b32d7eb30cf32ab\" width=\"100%\" height=\"800\" frameborder=\"0\">\n",
       "      </iframe>\n",
       "      <script>\n",
       "        (function() {\n",
       "          const frame = document.getElementById(\"tensorboard-frame-5b32d7eb30cf32ab\");\n",
       "          const url = new URL(\"/\", window.location);\n",
       "          url.port = 6006;\n",
       "          frame.src = url;\n",
       "        })();\n",
       "      </script>\n",
       "  "
      ],
      "text/plain": [
       "<IPython.core.display.HTML object>"
      ]
     },
     "metadata": {},
     "output_type": "display_data"
    }
   ],
   "source": [
    "%tensorboard --logdir ./gradiente"
   ]
  },
  {
   "cell_type": "markdown",
   "metadata": {},
   "source": [
    "## Grafo generado"
   ]
  },
  {
   "attachments": {
    "image.png": {
     "image/png": "[encoded data removed]"
    }
   },
   "cell_type": "markdown",
   "metadata": {},
   "source": [
    "![image.png](attachment:image.png)"
   ]
  },
  {
   "cell_type": "markdown",
   "metadata": {},
   "source": [
    "### Experimentos realizados:\n",
    "A continuacion se muestran los resultados graficos de los experimentos realizados arriba"
   ]
  },
  {
   "cell_type": "markdown",
   "metadata": {},
   "source": [
    "<img src='Error_ErrorSummary.svg'>"
   ]
  },
  {
   "cell_type": "markdown",
   "metadata": {},
   "source": [
    "<img src='Error_ErrorSummary2.svg'>"
   ]
  },
  {
   "cell_type": "markdown",
   "metadata": {},
   "source": [
    "### Conclusion:\n",
    "El grafico que llega antes a la convergencia es el naranja por lo tanto es el mejor modelo de prediccion. Este modelo utilizo el learning rate de 0.0003 y un epoch de 9000."
   ]
  }
 ],
 "metadata": {
  "kernelspec": {
   "display_name": "Python 3",
   "language": "python",
   "name": "python3"
  },
  "language_info": {
   "codemirror_mode": {
    "name": "ipython",
    "version": 3
   },
   "file_extension": ".py",
   "mimetype": "text/x-python",
   "name": "python",
   "nbconvert_exporter": "python",
   "pygments_lexer": "ipython3",
   "version": "3.7.6"
  }
 },
 "nbformat": 4,
 "nbformat_minor": 2
}
