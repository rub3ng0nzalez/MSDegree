{
 "cells": [
  {
   "cell_type": "markdown",
   "metadata": {},
   "source": [
    "# Fase 0"
   ]
  },
  {
   "cell_type": "code",
   "execution_count": 114,
   "metadata": {},
   "outputs": [],
   "source": [
    "import pandas\n",
    "import re\n",
    "import sympy\n",
    "from sympy import diff\n",
    "from sympy.abc import x,y\n",
    "from sympy.parsing.sympy_parser import parse_expr\n",
    "import numpy as np\n",
    "\n",
    "#Evaluación REGREX\n",
    "def evaluate_Fx(str_equ, valX):\n",
    "    strOut = str_equ.replace(\"x\", '*(x)')\n",
    "    strOut = strOut.replace(\"^\", \"**\")\n",
    "    out = parse_expr(strOut, evaluate = False)\n",
    "    return out.subs(x,valX)\n",
    "\n",
    "#Resolverdor de Newton\n",
    "def newtonSolverX(x0, f_x, eps):\n",
    "    x0 = float(x0)\n",
    "    eps = float(eps)\n",
    "    xn = x0\n",
    "    error = 1\n",
    "    arrayIters = []\n",
    "    arrayF_x = []\n",
    "    arrayf_x = []\n",
    "    arrayXn = []\n",
    "    arrayErr = []\n",
    "\n",
    "    i = 0\n",
    "    h = 0.000001\n",
    "    while(error > eps):\n",
    "        print(\"...\")\n",
    "    x_n1 = xn - (evaluate_Fx(f_x, xn)/evaluate_derivate_fx(f_x, xn, h))\n",
    "    error = abs(x_n1 - xn)\n",
    "    i = i + 1\n",
    "    xn = x_n1\n",
    "    arrayIters.append(i)\n",
    "    arrayXn.append(xn)\n",
    "    arrayErr.append(error)\n",
    "    solution = [i, xn, error]\n",
    "\n",
    "    print(\"Finalizo...\")\n",
    "    TableOut = pandas.DataFrame({'Iter':arrayIters, 'Xn':arrayXn, 'Error': arrayErr})\n",
    "    return TableOut"
   ]
  },
  {
   "cell_type": "code",
   "execution_count": 115,
   "metadata": {},
   "outputs": [],
   "source": [
    "#Diferencias finitas Centradas\n",
    "def evaluate_derivate_centrada1(str_equ, x0, h, metodo):\n",
    "    metodo = int(metodo)\n",
    "    x0 = float(x0)\n",
    "    h = float(h)\n",
    "    if metodo == 1:\n",
    "        valMax=evaluate_Fx(str_equ,x0+h)\n",
    "        valMin=evaluate_Fx(str_equ,x0-h)\n",
    "        return (valMax-valMin)/(2*h)\n",
    "    elif metodo == 2:\n",
    "        valMin = evaluate_Fx(str_equ,x0)\n",
    "        valMedio = evaluate_Fx(str_equ,x0+h)\n",
    "        valMax = evaluate_Fx(str_equ,x0+(2*h))\n",
    "        parametros=[-3,4,-1]\n",
    "        valores = [valMin,valMedio,valMax]\n",
    "        fPrima = (np.dot(valores,parametros)/(2*h))\n",
    "        return fPrima\n",
    "    elif metodo == 3:\n",
    "        valMax1=evaluate_Fx(str_equ,x0+h)\n",
    "        valMin1=evaluate_Fx(str_equ,x0-h)\n",
    "        valMax2=evaluate_Fx(str_equ,x0+(2*h))\n",
    "        valMin2=evaluate_Fx(str_equ,x0-(2*h))\n",
    "        parametros=[1,-8,8,-1]\n",
    "        valores = [valMin2,valMin1,valMax1,valMax2]\n",
    "        fPrima = (np.dot(valores,parametros)/(12*h))\n",
    "        return fPrima"
   ]
  },
  {
   "cell_type": "code",
   "execution_count": 118,
   "metadata": {},
   "outputs": [],
   "source": [
    "#Evaluación Derivada\n",
    "def derivate(str_equ, valX):\n",
    "    strOut = str_equ.replace(\"x\", '*(x)')\n",
    "    strOut = strOut.replace(\"^\", \"**\")\n",
    "    out = parse_expr(strOut, evaluate = False)\n",
    "    der = diff(out, x)\n",
    "    return der.subs(x,valX)"
   ]
  },
  {
   "cell_type": "code",
   "execution_count": 113,
   "metadata": {},
   "outputs": [
    {
     "data": {
      "text/latex": [
       "$\\displaystyle 16.0$"
      ],
      "text/plain": [
       "16.0000000000000"
      ]
     },
     "execution_count": 113,
     "metadata": {},
     "output_type": "execute_result"
    }
   ],
   "source": [
    "evaluate_derivate_centrada1(\"2x^2 + 1\",4,1,2)"
   ]
  },
  {
   "cell_type": "code",
   "execution_count": 119,
   "metadata": {},
   "outputs": [
    {
     "data": {
      "text/latex": [
       "$\\displaystyle 16$"
      ],
      "text/plain": [
       "16"
      ]
     },
     "execution_count": 119,
     "metadata": {},
     "output_type": "execute_result"
    }
   ],
   "source": [
    "derivate(\"2x^2 + 1\",4)"
   ]
  },
  {
   "cell_type": "code",
   "execution_count": 100,
   "metadata": {},
   "outputs": [],
   "source": []
  },
  {
   "cell_type": "code",
   "execution_count": 105,
   "metadata": {},
   "outputs": [
    {
     "data": {
      "text/latex": [
       "$\\displaystyle 2 x^{2}$"
      ],
      "text/plain": [
       "2*x**2"
      ]
     },
     "execution_count": 105,
     "metadata": {},
     "output_type": "execute_result"
    }
   ],
   "source": [
    "exp = parse_expr(\"2*(x)**2\", evaluate = False)\n",
    "exp"
   ]
  },
  {
   "cell_type": "code",
   "execution_count": 109,
   "metadata": {},
   "outputs": [
    {
     "data": {
      "text/latex": [
       "$\\displaystyle 18$"
      ],
      "text/plain": [
       "18"
      ]
     },
     "execution_count": 109,
     "metadata": {},
     "output_type": "execute_result"
    }
   ],
   "source": [
    "salida = exp.subs(x,3)\n",
    "salida"
   ]
  },
  {
   "cell_type": "code",
   "execution_count": 106,
   "metadata": {},
   "outputs": [
    {
     "data": {
      "text/latex": [
       "$\\displaystyle 16$"
      ],
      "text/plain": [
       "16"
      ]
     },
     "execution_count": 106,
     "metadata": {},
     "output_type": "execute_result"
    }
   ],
   "source": [
    "r = diff(exp,x)\n",
    "r.subs(x,4)"
   ]
  },
  {
   "cell_type": "code",
   "execution_count": 95,
   "metadata": {},
   "outputs": [
    {
     "data": {
      "text/plain": [
       "'4*x'"
      ]
     },
     "execution_count": 95,
     "metadata": {},
     "output_type": "execute_result"
    }
   ],
   "source": [
    "salida"
   ]
  }
 ],
 "metadata": {
  "kernelspec": {
   "display_name": "Python 3",
   "language": "python",
   "name": "python3"
  },
  "language_info": {
   "codemirror_mode": {
    "name": "ipython",
    "version": 3
   },
   "file_extension": ".py",
   "mimetype": "text/x-python",
   "name": "python",
   "nbconvert_exporter": "python",
   "pygments_lexer": "ipython3",
   "version": "3.7.6"
  }
 },
 "nbformat": 4,
 "nbformat_minor": 2
}
